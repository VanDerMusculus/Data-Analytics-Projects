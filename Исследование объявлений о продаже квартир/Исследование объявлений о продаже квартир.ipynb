{
 "cells": [
  {
   "cell_type": "markdown",
   "metadata": {},
   "source": [
    "# Исследование объявлений о продаже квартир\n",
    "\n",
    "В нашем распоряжении архив объявлений о продаже квартир в Санкт-Петербурге и соседних населённых пунктах за несколько лет. Определять параметры, влияющие на рыночную стоимость объектов недвижимости. \n",
    "\n",
    "По каждой квартире на продажу доступны два вида данных. Первые вписаны пользователем, вторые получены автоматически на основе картографических данных. Например, расстояние до центра, аэропорта, ближайшего парка и водоёма."
   ]
  },
  {
   "cell_type": "markdown",
   "metadata": {
    "toc": true
   },
   "source": [
    "<h1>Содержание<span class=\"tocSkip\"></span></h1>\n",
    "<div class=\"toc\"><ul class=\"toc-item\"><li><span><a href=\"#Изучение-данных-из-файла\" data-toc-modified-id=\"Изучение-данных-из-файла-1\"><span class=\"toc-item-num\">1&nbsp;&nbsp;</span>Изучение данных из файла</a></span><ul class=\"toc-item\"><li><span><a href=\"#Вывод\" data-toc-modified-id=\"Вывод-1.1\"><span class=\"toc-item-num\">1.1&nbsp;&nbsp;</span>Вывод</a></span></li></ul></li><li><span><a href=\"#Предобработка-данных\" data-toc-modified-id=\"Предобработка-данных-2\"><span class=\"toc-item-num\">2&nbsp;&nbsp;</span>Предобработка данных</a></span></li><li><span><a href=\"#Расчёты-и-добавление-результатов-в-таблицу\" data-toc-modified-id=\"Расчёты-и-добавление-результатов-в-таблицу-3\"><span class=\"toc-item-num\">3&nbsp;&nbsp;</span>Расчёты и добавление результатов в таблицу</a></span></li><li><span><a href=\"#Исследовательский-анализ-данных\" data-toc-modified-id=\"Исследовательский-анализ-данных-4\"><span class=\"toc-item-num\">4&nbsp;&nbsp;</span>Исследовательский анализ данных</a></span></li><li><span><a href=\"#Общий-вывод\" data-toc-modified-id=\"Общий-вывод-5\"><span class=\"toc-item-num\">5&nbsp;&nbsp;</span>Общий вывод</a>"
   ]
  },
  {
   "cell_type": "markdown",
   "metadata": {},
   "source": [
    "## Изучение данных из файла"
   ]
  },
  {
   "cell_type": "code",
   "execution_count": 1,
   "metadata": {
    "scrolled": false
   },
   "outputs": [
    {
     "name": "stdout",
     "output_type": "stream",
     "text": [
      "<class 'pandas.core.frame.DataFrame'>\n",
      "RangeIndex: 23699 entries, 0 to 23698\n",
      "Data columns (total 22 columns):\n",
      "total_images            23699 non-null int64\n",
      "last_price              23699 non-null float64\n",
      "total_area              23699 non-null float64\n",
      "first_day_exposition    23699 non-null object\n",
      "rooms                   23699 non-null int64\n",
      "ceiling_height          14504 non-null float64\n",
      "floors_total            23613 non-null float64\n",
      "living_area             21796 non-null float64\n",
      "floor                   23699 non-null int64\n",
      "is_apartment            2775 non-null object\n",
      "studio                  23699 non-null bool\n",
      "open_plan               23699 non-null bool\n",
      "kitchen_area            21421 non-null float64\n",
      "balcony                 12180 non-null float64\n",
      "locality_name           23650 non-null object\n",
      "airports_nearest        18157 non-null float64\n",
      "cityCenters_nearest     18180 non-null float64\n",
      "parks_around3000        18181 non-null float64\n",
      "parks_nearest           8079 non-null float64\n",
      "ponds_around3000        18181 non-null float64\n",
      "ponds_nearest           9110 non-null float64\n",
      "days_exposition         20518 non-null float64\n",
      "dtypes: bool(2), float64(14), int64(3), object(3)\n",
      "memory usage: 3.7+ MB\n"
     ]
    },
    {
     "data": {
      "text/html": [
       "<div>\n",
       "<style scoped>\n",
       "    .dataframe tbody tr th:only-of-type {\n",
       "        vertical-align: middle;\n",
       "    }\n",
       "\n",
       "    .dataframe tbody tr th {\n",
       "        vertical-align: top;\n",
       "    }\n",
       "\n",
       "    .dataframe thead th {\n",
       "        text-align: right;\n",
       "    }\n",
       "</style>\n",
       "<table border=\"1\" class=\"dataframe\">\n",
       "  <thead>\n",
       "    <tr style=\"text-align: right;\">\n",
       "      <th></th>\n",
       "      <th>total_images</th>\n",
       "      <th>last_price</th>\n",
       "      <th>total_area</th>\n",
       "      <th>first_day_exposition</th>\n",
       "      <th>rooms</th>\n",
       "      <th>ceiling_height</th>\n",
       "      <th>floors_total</th>\n",
       "      <th>living_area</th>\n",
       "      <th>floor</th>\n",
       "      <th>is_apartment</th>\n",
       "      <th>...</th>\n",
       "      <th>kitchen_area</th>\n",
       "      <th>balcony</th>\n",
       "      <th>locality_name</th>\n",
       "      <th>airports_nearest</th>\n",
       "      <th>cityCenters_nearest</th>\n",
       "      <th>parks_around3000</th>\n",
       "      <th>parks_nearest</th>\n",
       "      <th>ponds_around3000</th>\n",
       "      <th>ponds_nearest</th>\n",
       "      <th>days_exposition</th>\n",
       "    </tr>\n",
       "  </thead>\n",
       "  <tbody>\n",
       "    <tr>\n",
       "      <td>0</td>\n",
       "      <td>20</td>\n",
       "      <td>13000000.0</td>\n",
       "      <td>108.0</td>\n",
       "      <td>2019-03-07T00:00:00</td>\n",
       "      <td>3</td>\n",
       "      <td>2.70</td>\n",
       "      <td>16.0</td>\n",
       "      <td>51.0</td>\n",
       "      <td>8</td>\n",
       "      <td>NaN</td>\n",
       "      <td>...</td>\n",
       "      <td>25.0</td>\n",
       "      <td>NaN</td>\n",
       "      <td>Санкт-Петербург</td>\n",
       "      <td>18863.0</td>\n",
       "      <td>16028.0</td>\n",
       "      <td>1.0</td>\n",
       "      <td>482.0</td>\n",
       "      <td>2.0</td>\n",
       "      <td>755.0</td>\n",
       "      <td>NaN</td>\n",
       "    </tr>\n",
       "    <tr>\n",
       "      <td>1</td>\n",
       "      <td>7</td>\n",
       "      <td>3350000.0</td>\n",
       "      <td>40.4</td>\n",
       "      <td>2018-12-04T00:00:00</td>\n",
       "      <td>1</td>\n",
       "      <td>NaN</td>\n",
       "      <td>11.0</td>\n",
       "      <td>18.6</td>\n",
       "      <td>1</td>\n",
       "      <td>NaN</td>\n",
       "      <td>...</td>\n",
       "      <td>11.0</td>\n",
       "      <td>2.0</td>\n",
       "      <td>посёлок Шушары</td>\n",
       "      <td>12817.0</td>\n",
       "      <td>18603.0</td>\n",
       "      <td>0.0</td>\n",
       "      <td>NaN</td>\n",
       "      <td>0.0</td>\n",
       "      <td>NaN</td>\n",
       "      <td>81.0</td>\n",
       "    </tr>\n",
       "    <tr>\n",
       "      <td>2</td>\n",
       "      <td>10</td>\n",
       "      <td>5196000.0</td>\n",
       "      <td>56.0</td>\n",
       "      <td>2015-08-20T00:00:00</td>\n",
       "      <td>2</td>\n",
       "      <td>NaN</td>\n",
       "      <td>5.0</td>\n",
       "      <td>34.3</td>\n",
       "      <td>4</td>\n",
       "      <td>NaN</td>\n",
       "      <td>...</td>\n",
       "      <td>8.3</td>\n",
       "      <td>0.0</td>\n",
       "      <td>Санкт-Петербург</td>\n",
       "      <td>21741.0</td>\n",
       "      <td>13933.0</td>\n",
       "      <td>1.0</td>\n",
       "      <td>90.0</td>\n",
       "      <td>2.0</td>\n",
       "      <td>574.0</td>\n",
       "      <td>558.0</td>\n",
       "    </tr>\n",
       "    <tr>\n",
       "      <td>3</td>\n",
       "      <td>0</td>\n",
       "      <td>64900000.0</td>\n",
       "      <td>159.0</td>\n",
       "      <td>2015-07-24T00:00:00</td>\n",
       "      <td>3</td>\n",
       "      <td>NaN</td>\n",
       "      <td>14.0</td>\n",
       "      <td>NaN</td>\n",
       "      <td>9</td>\n",
       "      <td>NaN</td>\n",
       "      <td>...</td>\n",
       "      <td>NaN</td>\n",
       "      <td>0.0</td>\n",
       "      <td>Санкт-Петербург</td>\n",
       "      <td>28098.0</td>\n",
       "      <td>6800.0</td>\n",
       "      <td>2.0</td>\n",
       "      <td>84.0</td>\n",
       "      <td>3.0</td>\n",
       "      <td>234.0</td>\n",
       "      <td>424.0</td>\n",
       "    </tr>\n",
       "    <tr>\n",
       "      <td>4</td>\n",
       "      <td>2</td>\n",
       "      <td>10000000.0</td>\n",
       "      <td>100.0</td>\n",
       "      <td>2018-06-19T00:00:00</td>\n",
       "      <td>2</td>\n",
       "      <td>3.03</td>\n",
       "      <td>14.0</td>\n",
       "      <td>32.0</td>\n",
       "      <td>13</td>\n",
       "      <td>NaN</td>\n",
       "      <td>...</td>\n",
       "      <td>41.0</td>\n",
       "      <td>NaN</td>\n",
       "      <td>Санкт-Петербург</td>\n",
       "      <td>31856.0</td>\n",
       "      <td>8098.0</td>\n",
       "      <td>2.0</td>\n",
       "      <td>112.0</td>\n",
       "      <td>1.0</td>\n",
       "      <td>48.0</td>\n",
       "      <td>121.0</td>\n",
       "    </tr>\n",
       "  </tbody>\n",
       "</table>\n",
       "<p>5 rows × 22 columns</p>\n",
       "</div>"
      ],
      "text/plain": [
       "   total_images  last_price  total_area first_day_exposition  rooms  \\\n",
       "0            20  13000000.0       108.0  2019-03-07T00:00:00      3   \n",
       "1             7   3350000.0        40.4  2018-12-04T00:00:00      1   \n",
       "2            10   5196000.0        56.0  2015-08-20T00:00:00      2   \n",
       "3             0  64900000.0       159.0  2015-07-24T00:00:00      3   \n",
       "4             2  10000000.0       100.0  2018-06-19T00:00:00      2   \n",
       "\n",
       "   ceiling_height  floors_total  living_area  floor is_apartment  ...  \\\n",
       "0            2.70          16.0         51.0      8          NaN  ...   \n",
       "1             NaN          11.0         18.6      1          NaN  ...   \n",
       "2             NaN           5.0         34.3      4          NaN  ...   \n",
       "3             NaN          14.0          NaN      9          NaN  ...   \n",
       "4            3.03          14.0         32.0     13          NaN  ...   \n",
       "\n",
       "   kitchen_area  balcony    locality_name  airports_nearest  \\\n",
       "0          25.0      NaN  Санкт-Петербург           18863.0   \n",
       "1          11.0      2.0   посёлок Шушары           12817.0   \n",
       "2           8.3      0.0  Санкт-Петербург           21741.0   \n",
       "3           NaN      0.0  Санкт-Петербург           28098.0   \n",
       "4          41.0      NaN  Санкт-Петербург           31856.0   \n",
       "\n",
       "  cityCenters_nearest  parks_around3000  parks_nearest  ponds_around3000  \\\n",
       "0             16028.0               1.0          482.0               2.0   \n",
       "1             18603.0               0.0            NaN               0.0   \n",
       "2             13933.0               1.0           90.0               2.0   \n",
       "3              6800.0               2.0           84.0               3.0   \n",
       "4              8098.0               2.0          112.0               1.0   \n",
       "\n",
       "   ponds_nearest  days_exposition  \n",
       "0          755.0              NaN  \n",
       "1            NaN             81.0  \n",
       "2          574.0            558.0  \n",
       "3          234.0            424.0  \n",
       "4           48.0            121.0  \n",
       "\n",
       "[5 rows x 22 columns]"
      ]
     },
     "execution_count": 1,
     "metadata": {},
     "output_type": "execute_result"
    }
   ],
   "source": [
    "import pandas as pd\n",
    "data = pd.read_csv('/datasets/real_estate_data.csv', sep='\\t')\n",
    "data.info()\n",
    "data.head()"
   ]
  },
  {
   "cell_type": "markdown",
   "metadata": {},
   "source": [
    "### Вывод"
   ]
  },
  {
   "cell_type": "markdown",
   "metadata": {},
   "source": [
    "Открыл датафрейм. Данные склеены в одну строку, распределены не по колонкам. Данные разделеные через \\t. Данные можно раздедить через параметр sep. Во всём датафрейме лучше перевести в формат целого числа колонки со стоимостью, количество балконов, колонки с ближайшими аэропортами, паркими и озерами, а также их количеством и количество дней выставления на продажу. Следует также обработать формат даты публикации объявления о продаже недвижимости. В датафрэйме нет отрицательных значений (просмотрел через функцию query каждый столбец кроме тех, что bool). В колонке locality_name встречаются дубликаты (напр, поселок, посёлок), необходимо убрать вид населенного пункта, оставить только его название."
   ]
  },
  {
   "cell_type": "markdown",
   "metadata": {},
   "source": [
    "## Предобработка данных"
   ]
  },
  {
   "cell_type": "code",
   "execution_count": 2,
   "metadata": {},
   "outputs": [
    {
     "name": "stdout",
     "output_type": "stream",
     "text": [
      "<class 'pandas.core.frame.DataFrame'>\n",
      "RangeIndex: 23699 entries, 0 to 23698\n",
      "Data columns (total 22 columns):\n",
      "total_images            23699 non-null int64\n",
      "last_price              23699 non-null float64\n",
      "total_area              23699 non-null float64\n",
      "first_day_exposition    23699 non-null object\n",
      "rooms                   23699 non-null int64\n",
      "ceiling_height          14504 non-null float64\n",
      "floors_total            23613 non-null float64\n",
      "living_area             21796 non-null float64\n",
      "floor                   23699 non-null int64\n",
      "is_apartment            2775 non-null object\n",
      "studio                  23699 non-null bool\n",
      "open_plan               23699 non-null bool\n",
      "kitchen_area            21421 non-null float64\n",
      "balcony                 12180 non-null float64\n",
      "locality_name           23650 non-null object\n",
      "airports_nearest        18157 non-null float64\n",
      "city_centres_nearest    18180 non-null float64\n",
      "parks_around_3000       18181 non-null float64\n",
      "parks_nearest           8079 non-null float64\n",
      "ponds_around_3000       18181 non-null float64\n",
      "ponds_nearest           9110 non-null float64\n",
      "days_exposition         20518 non-null float64\n",
      "dtypes: bool(2), float64(14), int64(3), object(3)\n",
      "memory usage: 3.7+ MB\n"
     ]
    }
   ],
   "source": [
    "data = data.rename(columns={'cityCenters_nearest':'city_centres_nearest', 'parks_around3000':'parks_around_3000', 'ponds_around3000':'ponds_around_3000'})\n",
    "data.info()"
   ]
  },
  {
   "cell_type": "markdown",
   "metadata": {},
   "source": [
    "Следует переименовать некоторые колонки"
   ]
  },
  {
   "cell_type": "code",
   "execution_count": 3,
   "metadata": {},
   "outputs": [
    {
     "name": "stdout",
     "output_type": "stream",
     "text": [
      "<class 'pandas.core.frame.DataFrame'>\n",
      "RangeIndex: 23699 entries, 0 to 23698\n",
      "Data columns (total 22 columns):\n",
      "total_images            23699 non-null int64\n",
      "last_price              23699 non-null float64\n",
      "total_area              23699 non-null float64\n",
      "first_day_exposition    23699 non-null object\n",
      "rooms                   23699 non-null int64\n",
      "ceiling_height          14504 non-null float64\n",
      "floors_total            23699 non-null float64\n",
      "living_area             21796 non-null float64\n",
      "floor                   23699 non-null int64\n",
      "is_apartment            2775 non-null object\n",
      "studio                  23699 non-null bool\n",
      "open_plan               23699 non-null bool\n",
      "kitchen_area            21421 non-null float64\n",
      "balcony                 12180 non-null float64\n",
      "locality_name           23650 non-null object\n",
      "airports_nearest        18157 non-null float64\n",
      "city_centres_nearest    18180 non-null float64\n",
      "parks_around_3000       18181 non-null float64\n",
      "parks_nearest           8079 non-null float64\n",
      "ponds_around_3000       18181 non-null float64\n",
      "ponds_nearest           9110 non-null float64\n",
      "days_exposition         20518 non-null float64\n",
      "dtypes: bool(2), float64(14), int64(3), object(3)\n",
      "memory usage: 3.7+ MB\n"
     ]
    }
   ],
   "source": [
    "floors_nan = data[data['floors_total'].isna()]\n",
    "floor = floors_nan['floor'].unique()\n",
    "def floors(set):\n",
    "    for value in floor:\n",
    "        data.loc[(data['floors_total'].isna()) & (data['floor'] == value), 'floors_total'] = value\n",
    "    return data\n",
    "\n",
    "floors(data)\n",
    "data.info()"
   ]
  },
  {
   "cell_type": "markdown",
   "metadata": {},
   "source": [
    "По колонкам заполняем пропущенные значения. Сначала заполним пропуски в floors_total. Выведем на экран пропуски в floors_total, затем отберем уникальные значения из колонки floor и присвоим к пропуску в floors_total значение из floor. Напишем для этого функцию."
   ]
  },
  {
   "cell_type": "code",
   "execution_count": 4,
   "metadata": {},
   "outputs": [
    {
     "name": "stdout",
     "output_type": "stream",
     "text": [
      "<class 'pandas.core.frame.DataFrame'>\n",
      "RangeIndex: 23699 entries, 0 to 23698\n",
      "Data columns (total 22 columns):\n",
      "total_images            23699 non-null int64\n",
      "last_price              23699 non-null float64\n",
      "total_area              23699 non-null float64\n",
      "first_day_exposition    23699 non-null object\n",
      "rooms                   23699 non-null int64\n",
      "ceiling_height          23699 non-null float64\n",
      "floors_total            23699 non-null float64\n",
      "living_area             21796 non-null float64\n",
      "floor                   23699 non-null int64\n",
      "is_apartment            2775 non-null object\n",
      "studio                  23699 non-null bool\n",
      "open_plan               23699 non-null bool\n",
      "kitchen_area            21421 non-null float64\n",
      "balcony                 12180 non-null float64\n",
      "locality_name           23650 non-null object\n",
      "airports_nearest        18157 non-null float64\n",
      "city_centres_nearest    18180 non-null float64\n",
      "parks_around_3000       18181 non-null float64\n",
      "parks_nearest           8079 non-null float64\n",
      "ponds_around_3000       18181 non-null float64\n",
      "ponds_nearest           9110 non-null float64\n",
      "days_exposition         20518 non-null float64\n",
      "dtypes: bool(2), float64(14), int64(3), object(3)\n",
      "memory usage: 3.7+ MB\n"
     ]
    }
   ],
   "source": [
    "data['ceiling_height'] = data['ceiling_height'].fillna(data.groupby('floors_total')['ceiling_height'].transform('median'))\n",
    "data.loc[data['ceiling_height'].isna(), 'ceiling_height'] = data['ceiling_height'].median()\n",
    "filter = (data['ceiling_height'] > 20) & (data['ceiling_height'] <= 35)\n",
    "data.loc[filter, 'ceiling_height'] = data.loc[filter, 'ceiling_height']/10\n",
    "data.info()"
   ]
  },
  {
   "cell_type": "markdown",
   "metadata": {},
   "source": [
    "С группировкой по floors_total заполняем пропуски в колонке ceiling_height медианным значением. Оставшиеся пропуски заполняем медианным значением по колонке ceiling_height"
   ]
  },
  {
   "cell_type": "code",
   "execution_count": 5,
   "metadata": {},
   "outputs": [
    {
     "name": "stdout",
     "output_type": "stream",
     "text": [
      "<class 'pandas.core.frame.DataFrame'>\n",
      "RangeIndex: 23699 entries, 0 to 23698\n",
      "Data columns (total 22 columns):\n",
      "total_images            23699 non-null int64\n",
      "last_price              23699 non-null float64\n",
      "total_area              23699 non-null float64\n",
      "first_day_exposition    23699 non-null object\n",
      "rooms                   23699 non-null int64\n",
      "ceiling_height          23699 non-null float64\n",
      "floors_total            23699 non-null float64\n",
      "living_area             21796 non-null float64\n",
      "floor                   23699 non-null int64\n",
      "is_apartment            23699 non-null bool\n",
      "studio                  23699 non-null bool\n",
      "open_plan               23699 non-null bool\n",
      "kitchen_area            21421 non-null float64\n",
      "balcony                 12180 non-null float64\n",
      "locality_name           23650 non-null object\n",
      "airports_nearest        18157 non-null float64\n",
      "city_centres_nearest    18180 non-null float64\n",
      "parks_around_3000       18181 non-null float64\n",
      "parks_nearest           8079 non-null float64\n",
      "ponds_around_3000       18181 non-null float64\n",
      "ponds_nearest           9110 non-null float64\n",
      "days_exposition         20518 non-null float64\n",
      "dtypes: bool(3), float64(14), int64(3), object(2)\n",
      "memory usage: 3.5+ MB\n"
     ]
    }
   ],
   "source": [
    "data.loc[data['is_apartment'].isna(), 'is_apartment'] = False\n",
    "data.info()"
   ]
  },
  {
   "cell_type": "markdown",
   "metadata": {},
   "source": [
    "В колонке is_apartment проще всего заменить все пропуски на FALSE, так как это не самая часто встречающаяся недвижимость и те, кто обладают апартаментами, обычно знают о нюансах этого вида недвижимости."
   ]
  },
  {
   "cell_type": "code",
   "execution_count": 6,
   "metadata": {},
   "outputs": [
    {
     "name": "stdout",
     "output_type": "stream",
     "text": [
      "<class 'pandas.core.frame.DataFrame'>\n",
      "RangeIndex: 23699 entries, 0 to 23698\n",
      "Data columns (total 22 columns):\n",
      "total_images            23699 non-null int64\n",
      "last_price              23699 non-null float64\n",
      "total_area              23699 non-null float64\n",
      "first_day_exposition    23699 non-null object\n",
      "rooms                   23699 non-null int64\n",
      "ceiling_height          23699 non-null float64\n",
      "floors_total            23699 non-null float64\n",
      "living_area             21796 non-null float64\n",
      "floor                   23699 non-null int64\n",
      "is_apartment            23699 non-null bool\n",
      "studio                  23699 non-null bool\n",
      "open_plan               23699 non-null bool\n",
      "kitchen_area            21421 non-null float64\n",
      "balcony                 23699 non-null float64\n",
      "locality_name           23650 non-null object\n",
      "airports_nearest        18157 non-null float64\n",
      "city_centres_nearest    18180 non-null float64\n",
      "parks_around_3000       18181 non-null float64\n",
      "parks_nearest           8079 non-null float64\n",
      "ponds_around_3000       18181 non-null float64\n",
      "ponds_nearest           9110 non-null float64\n",
      "days_exposition         20518 non-null float64\n",
      "dtypes: bool(3), float64(14), int64(3), object(2)\n",
      "memory usage: 3.5+ MB\n"
     ]
    }
   ],
   "source": [
    "data.loc[data['balcony'].isna(), 'balcony'] = 0\n",
    "data.info()"
   ]
  },
  {
   "cell_type": "markdown",
   "metadata": {},
   "source": [
    "В колонке balcony пропуски будем заполнять \"0\", так как владельцы могли банально не указать их количество"
   ]
  },
  {
   "cell_type": "code",
   "execution_count": 7,
   "metadata": {},
   "outputs": [
    {
     "name": "stdout",
     "output_type": "stream",
     "text": [
      "<class 'pandas.core.frame.DataFrame'>\n",
      "RangeIndex: 23650 entries, 0 to 23649\n",
      "Data columns (total 22 columns):\n",
      "total_images            23650 non-null int64\n",
      "last_price              23650 non-null float64\n",
      "total_area              23650 non-null float64\n",
      "first_day_exposition    23650 non-null object\n",
      "rooms                   23650 non-null int64\n",
      "ceiling_height          23650 non-null float64\n",
      "floors_total            23650 non-null float64\n",
      "living_area             21752 non-null float64\n",
      "floor                   23650 non-null int64\n",
      "is_apartment            23650 non-null bool\n",
      "studio                  23650 non-null bool\n",
      "open_plan               23650 non-null bool\n",
      "kitchen_area            21381 non-null float64\n",
      "balcony                 23650 non-null float64\n",
      "locality_name           23650 non-null object\n",
      "airports_nearest        18116 non-null float64\n",
      "city_centres_nearest    18139 non-null float64\n",
      "parks_around_3000       18140 non-null float64\n",
      "parks_nearest           8064 non-null float64\n",
      "ponds_around_3000       18140 non-null float64\n",
      "ponds_nearest           9085 non-null float64\n",
      "days_exposition         20470 non-null float64\n",
      "dtypes: bool(3), float64(14), int64(3), object(2)\n",
      "memory usage: 3.5+ MB\n"
     ]
    }
   ],
   "source": [
    "data = data.dropna(subset=['locality_name']).reset_index(drop=True)\n",
    "data.info()"
   ]
  },
  {
   "cell_type": "code",
   "execution_count": 8,
   "metadata": {},
   "outputs": [
    {
     "data": {
      "text/plain": [
       "array(['Санкт-Петербург', 'Шушары', 'Янино-1', 'Парголово', 'Мурино',\n",
       "       'Ломоносов', 'Сертолово', 'Петергоф', 'Пушкин', 'Кудрово',\n",
       "       'Коммунар', 'Колпино', 'городского типа Красный Бор', 'Гатчина',\n",
       "       'Фёдоровское', 'Выборг', 'Кронштадт', 'Кировск', 'Новое Девяткино',\n",
       "       'Металлострой', 'городского типа Лебяжье',\n",
       "       'городского типа Сиверский', 'Молодцово',\n",
       "       'городского типа Кузьмоловский', 'Новая Ропша', 'Павловск',\n",
       "       'Пикколово', 'Всеволожск', 'Волхов', 'Кингисепп', 'Приозерск',\n",
       "       'Сестрорецк', 'Куттузи', 'Аннино', 'городского типа Ефимовский',\n",
       "       'Плодовое', 'Заклинье', 'Торковичи', 'Первомайское',\n",
       "       'Красное Село', 'Понтонный', 'Сясьстрой', 'Старая', 'Лесколово',\n",
       "       'Новый Свет', 'Сланцы', 'Путилово', 'Ивангород', 'Шлиссельбург',\n",
       "       'Никольское', 'Зеленогорск', 'Сосновый Бор', 'Оржицы', 'Кальтино',\n",
       "       'Романовка', 'Бугры', 'городского типа Рощино', 'Кириши', 'Луга',\n",
       "       'Волосово', 'Отрадное', 'Павлово', 'Оредеж', 'Копорье',\n",
       "       'Молодёжное', 'Тихвин', 'Победа', 'Нурма',\n",
       "       'городского типа Синявино', 'Тосно', 'Стрельна', 'Бокситогорск',\n",
       "       'Александровская', 'Лопухинка', 'Пикалёво', 'Терволово',\n",
       "       'городского типа Советский', 'Подпорожье', 'Петровское',\n",
       "       'городского типа Токсово', 'Сельцо', 'городского типа Вырица',\n",
       "       'Кипень', 'Келози', 'Вартемяги', 'Тельмана', 'Севастьяново',\n",
       "       'Большая Ижора', 'Агалатово', 'Новогорелово', 'Лесогорский',\n",
       "       'Лаголово', 'Цвелодубово', 'городского типа Рахья', 'Белогорка',\n",
       "       'Заводской', 'Новоселье', 'Большие Колпаны', 'Горбунки', 'Батово',\n",
       "       'Заневка', 'Иссад', 'Приморск', 'Мистолово', 'Новая Ладога',\n",
       "       'Зимитицы', 'Барышево', 'Разметелево', 'городского типа Свердлова',\n",
       "       'Пеники', 'Рябово', 'Пудомяги', 'станции Корнево', 'Низино',\n",
       "       'Бегуницы', 'Поляны', 'Мга', 'Елизаветино',\n",
       "       'городского типа Кузнечное', 'Колтуши', 'Запорожское', 'Гостилицы',\n",
       "       'Малое Карлино', 'Мичуринское', 'городского типа Морозова',\n",
       "       'Песочный', 'Сосново', 'Аро', 'Ильичёво', 'городского типа Тайцы',\n",
       "       'Малое Верево', 'Извара', 'станции Вещево', 'Паша', 'Калитино',\n",
       "       'городского типа Ульяновка', 'Чудской Бор',\n",
       "       'городского типа Дубровка', 'Мины', 'Войсковицы', 'Коркино',\n",
       "       'Ропша', 'городского типа Приладожский', 'Щеглово', 'Гаврилово',\n",
       "       'Лодейное Поле', 'Рабитицы', 'городского типа Никольский',\n",
       "       'Кузьмолово', 'Малые Колпаны', 'Петро-Славянка', 'Назия', 'Репино',\n",
       "       'Углово', 'Старая Малукса', 'Рахья', 'Меньково', 'Старые Бегуницы',\n",
       "       'Сапёрный', 'Семрино', 'Глажево', 'Кобринское', 'Гарболово',\n",
       "       'Юкки', 'станции Приветнинское', 'Мануйлово', 'Пчева', 'Цвылёво',\n",
       "       'Мельниково', 'Пудость', 'Усть-Луга', 'Светогорск', 'Любань',\n",
       "       'Селезнёво', 'городского типа Рябово', 'Каменногорск', 'Кривко',\n",
       "       'Глебычево', 'Парицы', 'Жилпосёлок', 'городского типа Мга',\n",
       "       'Войскорово', 'Стеклянный', 'городского типа Важины',\n",
       "       'Мыза-Ивановка', 'Русско-Высоцкое', 'городского типа Форносово',\n",
       "       'Старая Ладога', 'Житково', 'Виллози', 'Лампово', 'Шпаньково',\n",
       "       'Лаврики', 'Сумино', 'Возрождение', 'Старосиверская', 'Кикерино',\n",
       "       'Старое Хинколово', 'Пригородный', 'Торфяное', 'Будогощь',\n",
       "       'Суходолье', 'Красная Долина', 'Хапо-Ое',\n",
       "       'городского типа Дружная Горка', 'Лисий Нос', 'Яльгелево',\n",
       "       'Рождествено', 'Старополье', 'Левашово', 'Сяськелево', 'Камышовка',\n",
       "       'Лесная Поляна', 'Хязельки', 'Жилгородок',\n",
       "       'городского типа Павлово', 'Ялгино', 'Новый Учхоз', 'Рощино',\n",
       "       'Гончарово', 'Почап', 'Сапёрное', 'Платформа 69-й километр',\n",
       "       'Каложицы', 'Фалилеево', 'Пельгора', 'городского типа Лесогорский',\n",
       "       'Торошковичи', 'Белоостров', 'Алексеевка', 'Серебрянский',\n",
       "       'Лукаши', 'Тарасово', 'Кингисеппский',\n",
       "       'при железнодорожной станции Вещево', 'Ушаки', 'Котлы', 'Сижно',\n",
       "       'Торосово', 'Форт Красная Горка', 'Новолисино', 'станции Громово',\n",
       "       'Глинка', 'городского типа Назия', 'Старая Пустошь', 'Коммунары',\n",
       "       'Починок', 'городского типа Вознесенье', 'Разбегаево', 'Гладкое',\n",
       "       'при железнодорожной станции Приветнинское', 'Тёсово-4', 'Бор',\n",
       "       'Коробицыно', 'Большая Вруда', 'Курковицы', 'Советский',\n",
       "       'Кобралово', 'Суоранда', 'городского типа Кондратьево',\n",
       "       'коттеджный Счастье', 'Реброво', 'Тойворово', 'Семиозерье',\n",
       "       'Лесное', 'Совхозный', 'Ленинское', 'Суйда', 'Нижние Осельки',\n",
       "       'станции Свирь', 'Перово', 'Высоцк', 'Шум', 'Котельский',\n",
       "       'станции Лужайка', 'Большая Пустомержа', 'Красносельское',\n",
       "       'Вахнова Кара', 'Пижма', 'коттеджный Кивеннапа Север', 'Ромашки',\n",
       "       'Каськово', 'Куровицы', 'Плоское', 'городского типа Большая Ижора',\n",
       "       'Кирпичное', 'Ям-Тесово', 'Раздолье', 'Терпилицы', 'Шугозеро',\n",
       "       'Ваганово', 'Пушное', 'Садко', 'Усть-Ижора', 'Выскатка',\n",
       "       'Свирьстрой', 'Громово', 'Кисельня', 'Трубников Бор',\n",
       "       'Высокоключевой', 'Приладожский', 'Пансионат Зелёный Бор',\n",
       "       'Ненимяки', 'Снегирёвка', 'Рапполово', 'Пустынка', 'Большой Сабск',\n",
       "       'Русско', 'Лупполово', 'Большое Рейзино', 'Малая Романовка',\n",
       "       'Дружноселье', 'Пчевжа', 'Володарское', 'Нижняя',\n",
       "       'коттеджный Лесное', 'Тихковицы', 'Борисова Грива', 'Дзержинского'],\n",
       "      dtype=object)"
      ]
     },
     "execution_count": 8,
     "metadata": {},
     "output_type": "execute_result"
    }
   ],
   "source": [
    "data['locality_name'].unique()\n",
    "def loc (set):\n",
    "    for name in ['поселок ',\n",
    "                'посёлок ',\n",
    "                'городской посёлок ',\n",
    "                'городской поселок ',\n",
    "                'деревня ',\n",
    "                'поселок городского типа ',\n",
    "                'посёлок городского типа ',\n",
    "                'садовое товарищество ',\n",
    "                'садоводское некоммерческое товарищество ',\n",
    "                'садоводческое некоммерческое товарищество ',\n",
    "                'посёлок при железнодорожной станции ',\n",
    "                'поселок при железнодорожной станции ',\n",
    "                'коттеджный поселок ',\n",
    "                'коттеджный посёлок ',\n",
    "                'село ',\n",
    "                ' городского типа',\n",
    "                'городской ',\n",
    "                ' имени',\n",
    "                ' при железнодорожной станции ',\n",
    "                'коттеджный  ']:\n",
    "        data['locality_name'] = data['locality_name'].str.replace(name, '')\n",
    "    return data\n",
    "\n",
    "loc(data)\n",
    "data['locality_name'].unique()\n"
   ]
  },
  {
   "cell_type": "markdown",
   "metadata": {},
   "source": [
    "В колонке locality_name убираем строки, где нет названия населенного пункта. Также встречаются неявные дубликаты (напр, поселок, посёлок), необходимо убрать вид населенного пункта, оставить только его название. Для начала необходимо понять, какие виды населенных пунктов у нас представлены. При написании функции столкнулся с проблемой, что не всегда убирался вид населённого пункта полность, приходилось дорабатывать функцию"
   ]
  },
  {
   "cell_type": "code",
   "execution_count": 9,
   "metadata": {},
   "outputs": [
    {
     "name": "stdout",
     "output_type": "stream",
     "text": [
      "<class 'pandas.core.frame.DataFrame'>\n",
      "RangeIndex: 23650 entries, 0 to 23649\n",
      "Data columns (total 22 columns):\n",
      "total_images            23650 non-null int64\n",
      "last_price              23650 non-null float64\n",
      "total_area              23650 non-null float64\n",
      "first_day_exposition    23650 non-null object\n",
      "rooms                   23650 non-null int64\n",
      "ceiling_height          23650 non-null float64\n",
      "floors_total            23650 non-null float64\n",
      "living_area             21752 non-null float64\n",
      "floor                   23650 non-null int64\n",
      "is_apartment            23650 non-null bool\n",
      "studio                  23650 non-null bool\n",
      "open_plan               23650 non-null bool\n",
      "kitchen_area            21381 non-null float64\n",
      "balcony                 23650 non-null float64\n",
      "locality_name           23650 non-null object\n",
      "airports_nearest        23650 non-null float64\n",
      "city_centres_nearest    18139 non-null float64\n",
      "parks_around_3000       18140 non-null float64\n",
      "parks_nearest           8064 non-null float64\n",
      "ponds_around_3000       18140 non-null float64\n",
      "ponds_nearest           9085 non-null float64\n",
      "days_exposition         20470 non-null float64\n",
      "dtypes: bool(3), float64(14), int64(3), object(2)\n",
      "memory usage: 3.5+ MB\n"
     ]
    }
   ],
   "source": [
    "data['airports_nearest'] = data['airports_nearest'].fillna(data.groupby('locality_name')['airports_nearest'].transform('median'))\n",
    "data.loc[data['airports_nearest'].isna(), 'airports_nearest'] = data['airports_nearest'].median()\n",
    "data.info()\n"
   ]
  },
  {
   "cell_type": "markdown",
   "metadata": {},
   "source": [
    "Далее беремся за обработку колонки airports_nearest. Заполняем пропуски медианой с группировкой по locality_name, а те данные, что нельзя заполнить с группировкой по населнному пункту, заполняем глобальной медианой"
   ]
  },
  {
   "cell_type": "code",
   "execution_count": 10,
   "metadata": {},
   "outputs": [
    {
     "name": "stdout",
     "output_type": "stream",
     "text": [
      "<class 'pandas.core.frame.DataFrame'>\n",
      "RangeIndex: 23650 entries, 0 to 23649\n",
      "Data columns (total 22 columns):\n",
      "total_images            23650 non-null int64\n",
      "last_price              23650 non-null float64\n",
      "total_area              23650 non-null float64\n",
      "first_day_exposition    23650 non-null object\n",
      "rooms                   23650 non-null int64\n",
      "ceiling_height          23650 non-null float64\n",
      "floors_total            23650 non-null float64\n",
      "living_area             21752 non-null float64\n",
      "floor                   23650 non-null int64\n",
      "is_apartment            23650 non-null bool\n",
      "studio                  23650 non-null bool\n",
      "open_plan               23650 non-null bool\n",
      "kitchen_area            21381 non-null float64\n",
      "balcony                 23650 non-null float64\n",
      "locality_name           23650 non-null object\n",
      "airports_nearest        23650 non-null float64\n",
      "city_centres_nearest    23650 non-null float64\n",
      "parks_around_3000       18140 non-null float64\n",
      "parks_nearest           8064 non-null float64\n",
      "ponds_around_3000       18140 non-null float64\n",
      "ponds_nearest           9085 non-null float64\n",
      "days_exposition         20470 non-null float64\n",
      "dtypes: bool(3), float64(14), int64(3), object(2)\n",
      "memory usage: 3.5+ MB\n"
     ]
    }
   ],
   "source": [
    "data['city_centres_nearest'] = data['city_centres_nearest'].fillna(data.groupby('locality_name')['city_centres_nearest'].transform('median'))\n",
    "data.loc[data['city_centres_nearest'].isna(), 'city_centres_nearest'] = data['city_centres_nearest'].median()\n",
    "data.info()"
   ]
  },
  {
   "cell_type": "markdown",
   "metadata": {},
   "source": [
    "Далее беремся за обработку колонку city_centres_nearest. Прицип действия такой же, как и с airports_nearest"
   ]
  },
  {
   "cell_type": "code",
   "execution_count": 11,
   "metadata": {},
   "outputs": [
    {
     "name": "stdout",
     "output_type": "stream",
     "text": [
      "<class 'pandas.core.frame.DataFrame'>\n",
      "RangeIndex: 23650 entries, 0 to 23649\n",
      "Data columns (total 22 columns):\n",
      "total_images            23650 non-null int64\n",
      "last_price              23650 non-null float64\n",
      "total_area              23650 non-null float64\n",
      "first_day_exposition    23650 non-null object\n",
      "rooms                   23650 non-null int64\n",
      "ceiling_height          23650 non-null float64\n",
      "floors_total            23650 non-null float64\n",
      "living_area             21752 non-null float64\n",
      "floor                   23650 non-null int64\n",
      "is_apartment            23650 non-null bool\n",
      "studio                  23650 non-null bool\n",
      "open_plan               23650 non-null bool\n",
      "kitchen_area            21381 non-null float64\n",
      "balcony                 23650 non-null float64\n",
      "locality_name           23650 non-null object\n",
      "airports_nearest        23650 non-null float64\n",
      "city_centres_nearest    23650 non-null float64\n",
      "parks_around_3000       18140 non-null float64\n",
      "parks_nearest           23650 non-null float64\n",
      "ponds_around_3000       18140 non-null float64\n",
      "ponds_nearest           9085 non-null float64\n",
      "days_exposition         20470 non-null float64\n",
      "dtypes: bool(3), float64(14), int64(3), object(2)\n",
      "memory usage: 3.5+ MB\n"
     ]
    }
   ],
   "source": [
    "data['parks_nearest'] = data['parks_nearest'].fillna(data.groupby('locality_name')['parks_nearest'].transform('median'))\n",
    "data.loc[data['parks_nearest'].isna(), 'parks_nearest'] = data['parks_nearest'].median()\n",
    "data.info()"
   ]
  },
  {
   "cell_type": "markdown",
   "metadata": {},
   "source": [
    "Далее беремся за обработку колонку parks_nearest. Прицип действия такой же, как и с airports_nearest"
   ]
  },
  {
   "cell_type": "code",
   "execution_count": 12,
   "metadata": {},
   "outputs": [
    {
     "name": "stdout",
     "output_type": "stream",
     "text": [
      "<class 'pandas.core.frame.DataFrame'>\n",
      "RangeIndex: 23650 entries, 0 to 23649\n",
      "Data columns (total 22 columns):\n",
      "total_images            23650 non-null int64\n",
      "last_price              23650 non-null float64\n",
      "total_area              23650 non-null float64\n",
      "first_day_exposition    23650 non-null object\n",
      "rooms                   23650 non-null int64\n",
      "ceiling_height          23650 non-null float64\n",
      "floors_total            23650 non-null float64\n",
      "living_area             21752 non-null float64\n",
      "floor                   23650 non-null int64\n",
      "is_apartment            23650 non-null bool\n",
      "studio                  23650 non-null bool\n",
      "open_plan               23650 non-null bool\n",
      "kitchen_area            21381 non-null float64\n",
      "balcony                 23650 non-null float64\n",
      "locality_name           23650 non-null object\n",
      "airports_nearest        23650 non-null float64\n",
      "city_centres_nearest    23650 non-null float64\n",
      "parks_around_3000       18140 non-null float64\n",
      "parks_nearest           23650 non-null float64\n",
      "ponds_around_3000       18140 non-null float64\n",
      "ponds_nearest           23650 non-null float64\n",
      "days_exposition         20470 non-null float64\n",
      "dtypes: bool(3), float64(14), int64(3), object(2)\n",
      "memory usage: 3.5+ MB\n"
     ]
    }
   ],
   "source": [
    "data['ponds_nearest'] = data['ponds_nearest'].fillna(data.groupby('locality_name')['ponds_nearest'].transform('median'))\n",
    "data.loc[data['ponds_nearest'].isna(), 'ponds_nearest'] = data['ponds_nearest'].median()\n",
    "data.info()"
   ]
  },
  {
   "cell_type": "markdown",
   "metadata": {},
   "source": [
    "Далее беремся за обработку колонку ponds_nearest. Прицип действия такой же, как и с airports_nearest"
   ]
  },
  {
   "cell_type": "code",
   "execution_count": 13,
   "metadata": {},
   "outputs": [
    {
     "name": "stdout",
     "output_type": "stream",
     "text": [
      "<class 'pandas.core.frame.DataFrame'>\n",
      "RangeIndex: 23650 entries, 0 to 23649\n",
      "Data columns (total 22 columns):\n",
      "total_images            23650 non-null int64\n",
      "last_price              23650 non-null float64\n",
      "total_area              23650 non-null float64\n",
      "first_day_exposition    23650 non-null object\n",
      "rooms                   23650 non-null int64\n",
      "ceiling_height          23650 non-null float64\n",
      "floors_total            23650 non-null float64\n",
      "living_area             21752 non-null float64\n",
      "floor                   23650 non-null int64\n",
      "is_apartment            23650 non-null bool\n",
      "studio                  23650 non-null bool\n",
      "open_plan               23650 non-null bool\n",
      "kitchen_area            21381 non-null float64\n",
      "balcony                 23650 non-null float64\n",
      "locality_name           23650 non-null object\n",
      "airports_nearest        23650 non-null float64\n",
      "city_centres_nearest    23650 non-null float64\n",
      "parks_around_3000       23650 non-null float64\n",
      "parks_nearest           23650 non-null float64\n",
      "ponds_around_3000       18140 non-null float64\n",
      "ponds_nearest           23650 non-null float64\n",
      "days_exposition         20470 non-null float64\n",
      "dtypes: bool(3), float64(14), int64(3), object(2)\n",
      "memory usage: 3.5+ MB\n"
     ]
    }
   ],
   "source": [
    "data['parks_around_3000'] = data['parks_around_3000'].fillna(data.groupby('locality_name')['parks_around_3000'].transform('median'))\n",
    "data.loc[data['parks_around_3000'].isna(), 'parks_around_3000'] = data['parks_around_3000'].median()\n",
    "data.info()"
   ]
  },
  {
   "cell_type": "markdown",
   "metadata": {},
   "source": [
    "Далее беремся за обработку колонку parks_around_3000. Прицип действия такой же, как и с airports_nearest"
   ]
  },
  {
   "cell_type": "code",
   "execution_count": 14,
   "metadata": {},
   "outputs": [
    {
     "name": "stdout",
     "output_type": "stream",
     "text": [
      "<class 'pandas.core.frame.DataFrame'>\n",
      "RangeIndex: 23650 entries, 0 to 23649\n",
      "Data columns (total 22 columns):\n",
      "total_images            23650 non-null int64\n",
      "last_price              23650 non-null float64\n",
      "total_area              23650 non-null float64\n",
      "first_day_exposition    23650 non-null object\n",
      "rooms                   23650 non-null int64\n",
      "ceiling_height          23650 non-null float64\n",
      "floors_total            23650 non-null float64\n",
      "living_area             21752 non-null float64\n",
      "floor                   23650 non-null int64\n",
      "is_apartment            23650 non-null bool\n",
      "studio                  23650 non-null bool\n",
      "open_plan               23650 non-null bool\n",
      "kitchen_area            21381 non-null float64\n",
      "balcony                 23650 non-null float64\n",
      "locality_name           23650 non-null object\n",
      "airports_nearest        23650 non-null float64\n",
      "city_centres_nearest    23650 non-null float64\n",
      "parks_around_3000       23650 non-null float64\n",
      "parks_nearest           23650 non-null float64\n",
      "ponds_around_3000       23650 non-null float64\n",
      "ponds_nearest           23650 non-null float64\n",
      "days_exposition         20470 non-null float64\n",
      "dtypes: bool(3), float64(14), int64(3), object(2)\n",
      "memory usage: 3.5+ MB\n"
     ]
    }
   ],
   "source": [
    "data['ponds_around_3000'] = data['ponds_around_3000'].fillna(data.groupby('locality_name')['ponds_around_3000'].transform('median'))\n",
    "data.loc[data['ponds_around_3000'].isna(), 'ponds_around_3000'] = data['ponds_around_3000'].median()\n",
    "data.info()"
   ]
  },
  {
   "cell_type": "markdown",
   "metadata": {},
   "source": [
    "Далее беремся за обработку колонку ponds_around_3000. Прицип действия такой же, как и с airports_nearest"
   ]
  },
  {
   "cell_type": "code",
   "execution_count": 15,
   "metadata": {},
   "outputs": [
    {
     "data": {
      "text/html": [
       "<div>\n",
       "<style scoped>\n",
       "    .dataframe tbody tr th:only-of-type {\n",
       "        vertical-align: middle;\n",
       "    }\n",
       "\n",
       "    .dataframe tbody tr th {\n",
       "        vertical-align: top;\n",
       "    }\n",
       "\n",
       "    .dataframe thead th {\n",
       "        text-align: right;\n",
       "    }\n",
       "</style>\n",
       "<table border=\"1\" class=\"dataframe\">\n",
       "  <thead>\n",
       "    <tr style=\"text-align: right;\">\n",
       "      <th></th>\n",
       "      <th>total_images</th>\n",
       "      <th>last_price</th>\n",
       "      <th>total_area</th>\n",
       "      <th>first_day_exposition</th>\n",
       "      <th>rooms</th>\n",
       "      <th>ceiling_height</th>\n",
       "      <th>floors_total</th>\n",
       "      <th>living_area</th>\n",
       "      <th>floor</th>\n",
       "      <th>is_apartment</th>\n",
       "      <th>...</th>\n",
       "      <th>kitchen_area</th>\n",
       "      <th>balcony</th>\n",
       "      <th>locality_name</th>\n",
       "      <th>airports_nearest</th>\n",
       "      <th>city_centres_nearest</th>\n",
       "      <th>parks_around_3000</th>\n",
       "      <th>parks_nearest</th>\n",
       "      <th>ponds_around_3000</th>\n",
       "      <th>ponds_nearest</th>\n",
       "      <th>days_exposition</th>\n",
       "    </tr>\n",
       "  </thead>\n",
       "  <tbody>\n",
       "    <tr>\n",
       "      <td>0</td>\n",
       "      <td>20</td>\n",
       "      <td>13000000.0</td>\n",
       "      <td>108.0</td>\n",
       "      <td>2019-03-07</td>\n",
       "      <td>3</td>\n",
       "      <td>2.70</td>\n",
       "      <td>16.0</td>\n",
       "      <td>51.0</td>\n",
       "      <td>8</td>\n",
       "      <td>False</td>\n",
       "      <td>...</td>\n",
       "      <td>25.0</td>\n",
       "      <td>0.0</td>\n",
       "      <td>Санкт-Петербург</td>\n",
       "      <td>18863.0</td>\n",
       "      <td>16028.0</td>\n",
       "      <td>1.0</td>\n",
       "      <td>482.0</td>\n",
       "      <td>2.0</td>\n",
       "      <td>755.0</td>\n",
       "      <td>NaN</td>\n",
       "    </tr>\n",
       "    <tr>\n",
       "      <td>1</td>\n",
       "      <td>7</td>\n",
       "      <td>3350000.0</td>\n",
       "      <td>40.4</td>\n",
       "      <td>2018-12-04</td>\n",
       "      <td>1</td>\n",
       "      <td>2.75</td>\n",
       "      <td>11.0</td>\n",
       "      <td>18.6</td>\n",
       "      <td>1</td>\n",
       "      <td>False</td>\n",
       "      <td>...</td>\n",
       "      <td>11.0</td>\n",
       "      <td>2.0</td>\n",
       "      <td>Шушары</td>\n",
       "      <td>12817.0</td>\n",
       "      <td>18603.0</td>\n",
       "      <td>0.0</td>\n",
       "      <td>460.0</td>\n",
       "      <td>0.0</td>\n",
       "      <td>584.5</td>\n",
       "      <td>81.0</td>\n",
       "    </tr>\n",
       "    <tr>\n",
       "      <td>2</td>\n",
       "      <td>10</td>\n",
       "      <td>5196000.0</td>\n",
       "      <td>56.0</td>\n",
       "      <td>2015-08-20</td>\n",
       "      <td>2</td>\n",
       "      <td>2.55</td>\n",
       "      <td>5.0</td>\n",
       "      <td>34.3</td>\n",
       "      <td>4</td>\n",
       "      <td>False</td>\n",
       "      <td>...</td>\n",
       "      <td>8.3</td>\n",
       "      <td>0.0</td>\n",
       "      <td>Санкт-Петербург</td>\n",
       "      <td>21741.0</td>\n",
       "      <td>13933.0</td>\n",
       "      <td>1.0</td>\n",
       "      <td>90.0</td>\n",
       "      <td>2.0</td>\n",
       "      <td>574.0</td>\n",
       "      <td>558.0</td>\n",
       "    </tr>\n",
       "    <tr>\n",
       "      <td>3</td>\n",
       "      <td>0</td>\n",
       "      <td>64900000.0</td>\n",
       "      <td>159.0</td>\n",
       "      <td>2015-07-24</td>\n",
       "      <td>3</td>\n",
       "      <td>2.60</td>\n",
       "      <td>14.0</td>\n",
       "      <td>NaN</td>\n",
       "      <td>9</td>\n",
       "      <td>False</td>\n",
       "      <td>...</td>\n",
       "      <td>NaN</td>\n",
       "      <td>0.0</td>\n",
       "      <td>Санкт-Петербург</td>\n",
       "      <td>28098.0</td>\n",
       "      <td>6800.0</td>\n",
       "      <td>2.0</td>\n",
       "      <td>84.0</td>\n",
       "      <td>3.0</td>\n",
       "      <td>234.0</td>\n",
       "      <td>424.0</td>\n",
       "    </tr>\n",
       "    <tr>\n",
       "      <td>4</td>\n",
       "      <td>2</td>\n",
       "      <td>10000000.0</td>\n",
       "      <td>100.0</td>\n",
       "      <td>2018-06-19</td>\n",
       "      <td>2</td>\n",
       "      <td>3.03</td>\n",
       "      <td>14.0</td>\n",
       "      <td>32.0</td>\n",
       "      <td>13</td>\n",
       "      <td>False</td>\n",
       "      <td>...</td>\n",
       "      <td>41.0</td>\n",
       "      <td>0.0</td>\n",
       "      <td>Санкт-Петербург</td>\n",
       "      <td>31856.0</td>\n",
       "      <td>8098.0</td>\n",
       "      <td>2.0</td>\n",
       "      <td>112.0</td>\n",
       "      <td>1.0</td>\n",
       "      <td>48.0</td>\n",
       "      <td>121.0</td>\n",
       "    </tr>\n",
       "  </tbody>\n",
       "</table>\n",
       "<p>5 rows × 22 columns</p>\n",
       "</div>"
      ],
      "text/plain": [
       "   total_images  last_price  total_area first_day_exposition  rooms  \\\n",
       "0            20  13000000.0       108.0           2019-03-07      3   \n",
       "1             7   3350000.0        40.4           2018-12-04      1   \n",
       "2            10   5196000.0        56.0           2015-08-20      2   \n",
       "3             0  64900000.0       159.0           2015-07-24      3   \n",
       "4             2  10000000.0       100.0           2018-06-19      2   \n",
       "\n",
       "   ceiling_height  floors_total  living_area  floor  is_apartment  ...  \\\n",
       "0            2.70          16.0         51.0      8         False  ...   \n",
       "1            2.75          11.0         18.6      1         False  ...   \n",
       "2            2.55           5.0         34.3      4         False  ...   \n",
       "3            2.60          14.0          NaN      9         False  ...   \n",
       "4            3.03          14.0         32.0     13         False  ...   \n",
       "\n",
       "   kitchen_area  balcony    locality_name  airports_nearest  \\\n",
       "0          25.0      0.0  Санкт-Петербург           18863.0   \n",
       "1          11.0      2.0           Шушары           12817.0   \n",
       "2           8.3      0.0  Санкт-Петербург           21741.0   \n",
       "3           NaN      0.0  Санкт-Петербург           28098.0   \n",
       "4          41.0      0.0  Санкт-Петербург           31856.0   \n",
       "\n",
       "  city_centres_nearest  parks_around_3000  parks_nearest  ponds_around_3000  \\\n",
       "0              16028.0                1.0          482.0                2.0   \n",
       "1              18603.0                0.0          460.0                0.0   \n",
       "2              13933.0                1.0           90.0                2.0   \n",
       "3               6800.0                2.0           84.0                3.0   \n",
       "4               8098.0                2.0          112.0                1.0   \n",
       "\n",
       "   ponds_nearest  days_exposition  \n",
       "0          755.0              NaN  \n",
       "1          584.5             81.0  \n",
       "2          574.0            558.0  \n",
       "3          234.0            424.0  \n",
       "4           48.0            121.0  \n",
       "\n",
       "[5 rows x 22 columns]"
      ]
     },
     "execution_count": 15,
     "metadata": {},
     "output_type": "execute_result"
    }
   ],
   "source": [
    "data['first_day_exposition'] = pd.to_datetime(data['first_day_exposition'], format='%Y.%m.%dT%H:%M:%S')\n",
    "data.head()"
   ]
  },
  {
   "cell_type": "markdown",
   "metadata": {},
   "source": [
    "Меняем формат числа и даты на привычный нам"
   ]
  },
  {
   "cell_type": "code",
   "execution_count": 16,
   "metadata": {},
   "outputs": [
    {
     "name": "stdout",
     "output_type": "stream",
     "text": [
      "<class 'pandas.core.frame.DataFrame'>\n",
      "RangeIndex: 23650 entries, 0 to 23649\n",
      "Data columns (total 22 columns):\n",
      "total_images            23650 non-null int64\n",
      "last_price              23650 non-null int64\n",
      "total_area              23650 non-null float64\n",
      "first_day_exposition    23650 non-null datetime64[ns]\n",
      "rooms                   23650 non-null int64\n",
      "ceiling_height          23650 non-null float64\n",
      "floors_total            23650 non-null int64\n",
      "living_area             21752 non-null float64\n",
      "floor                   23650 non-null int64\n",
      "is_apartment            23650 non-null bool\n",
      "studio                  23650 non-null bool\n",
      "open_plan               23650 non-null bool\n",
      "kitchen_area            21381 non-null float64\n",
      "balcony                 23650 non-null int64\n",
      "locality_name           23650 non-null object\n",
      "airports_nearest        23650 non-null float64\n",
      "city_centres_nearest    23650 non-null float64\n",
      "parks_around_3000       23650 non-null int64\n",
      "parks_nearest           23650 non-null float64\n",
      "ponds_around_3000       23650 non-null int64\n",
      "ponds_nearest           23650 non-null float64\n",
      "days_exposition         20470 non-null float64\n",
      "dtypes: bool(3), datetime64[ns](1), float64(9), int64(8), object(1)\n",
      "memory usage: 3.5+ MB\n"
     ]
    }
   ],
   "source": [
    "data['floors_total'] = data['floors_total'].astype('int')\n",
    "data['balcony'] = data['balcony'].astype('int')\n",
    "data['parks_around_3000'] = data['parks_around_3000'].astype('int')\n",
    "data['ponds_around_3000'] = data['ponds_around_3000'].astype('int')\n",
    "data['last_price'] = data['last_price'].astype('int')\n",
    "data.info()"
   ]
  },
  {
   "cell_type": "markdown",
   "metadata": {},
   "source": [
    "Меняем формат данных в колонках floors_total, balcony, parks_around_3000, ponds_around_3000, last_price на int"
   ]
  },
  {
   "cell_type": "markdown",
   "metadata": {},
   "source": [
    "## Расчёты и добавление результатов в таблицу"
   ]
  },
  {
   "cell_type": "code",
   "execution_count": 17,
   "metadata": {},
   "outputs": [
    {
     "data": {
      "text/html": [
       "<div>\n",
       "<style scoped>\n",
       "    .dataframe tbody tr th:only-of-type {\n",
       "        vertical-align: middle;\n",
       "    }\n",
       "\n",
       "    .dataframe tbody tr th {\n",
       "        vertical-align: top;\n",
       "    }\n",
       "\n",
       "    .dataframe thead th {\n",
       "        text-align: right;\n",
       "    }\n",
       "</style>\n",
       "<table border=\"1\" class=\"dataframe\">\n",
       "  <thead>\n",
       "    <tr style=\"text-align: right;\">\n",
       "      <th></th>\n",
       "      <th>total_images</th>\n",
       "      <th>last_price</th>\n",
       "      <th>total_area</th>\n",
       "      <th>first_day_exposition</th>\n",
       "      <th>rooms</th>\n",
       "      <th>ceiling_height</th>\n",
       "      <th>floors_total</th>\n",
       "      <th>living_area</th>\n",
       "      <th>floor</th>\n",
       "      <th>is_apartment</th>\n",
       "      <th>...</th>\n",
       "      <th>balcony</th>\n",
       "      <th>locality_name</th>\n",
       "      <th>airports_nearest</th>\n",
       "      <th>city_centres_nearest</th>\n",
       "      <th>parks_around_3000</th>\n",
       "      <th>parks_nearest</th>\n",
       "      <th>ponds_around_3000</th>\n",
       "      <th>ponds_nearest</th>\n",
       "      <th>days_exposition</th>\n",
       "      <th>price_m3</th>\n",
       "    </tr>\n",
       "  </thead>\n",
       "  <tbody>\n",
       "    <tr>\n",
       "      <td>0</td>\n",
       "      <td>20</td>\n",
       "      <td>13000000</td>\n",
       "      <td>108.0</td>\n",
       "      <td>2019-03-07</td>\n",
       "      <td>3</td>\n",
       "      <td>2.70</td>\n",
       "      <td>16</td>\n",
       "      <td>51.0</td>\n",
       "      <td>8</td>\n",
       "      <td>False</td>\n",
       "      <td>...</td>\n",
       "      <td>0</td>\n",
       "      <td>Санкт-Петербург</td>\n",
       "      <td>18863.0</td>\n",
       "      <td>16028.0</td>\n",
       "      <td>1</td>\n",
       "      <td>482.0</td>\n",
       "      <td>2</td>\n",
       "      <td>755.0</td>\n",
       "      <td>NaN</td>\n",
       "      <td>120370</td>\n",
       "    </tr>\n",
       "    <tr>\n",
       "      <td>1</td>\n",
       "      <td>7</td>\n",
       "      <td>3350000</td>\n",
       "      <td>40.4</td>\n",
       "      <td>2018-12-04</td>\n",
       "      <td>1</td>\n",
       "      <td>2.75</td>\n",
       "      <td>11</td>\n",
       "      <td>18.6</td>\n",
       "      <td>1</td>\n",
       "      <td>False</td>\n",
       "      <td>...</td>\n",
       "      <td>2</td>\n",
       "      <td>Шушары</td>\n",
       "      <td>12817.0</td>\n",
       "      <td>18603.0</td>\n",
       "      <td>0</td>\n",
       "      <td>460.0</td>\n",
       "      <td>0</td>\n",
       "      <td>584.5</td>\n",
       "      <td>81.0</td>\n",
       "      <td>82920</td>\n",
       "    </tr>\n",
       "    <tr>\n",
       "      <td>2</td>\n",
       "      <td>10</td>\n",
       "      <td>5196000</td>\n",
       "      <td>56.0</td>\n",
       "      <td>2015-08-20</td>\n",
       "      <td>2</td>\n",
       "      <td>2.55</td>\n",
       "      <td>5</td>\n",
       "      <td>34.3</td>\n",
       "      <td>4</td>\n",
       "      <td>False</td>\n",
       "      <td>...</td>\n",
       "      <td>0</td>\n",
       "      <td>Санкт-Петербург</td>\n",
       "      <td>21741.0</td>\n",
       "      <td>13933.0</td>\n",
       "      <td>1</td>\n",
       "      <td>90.0</td>\n",
       "      <td>2</td>\n",
       "      <td>574.0</td>\n",
       "      <td>558.0</td>\n",
       "      <td>92785</td>\n",
       "    </tr>\n",
       "    <tr>\n",
       "      <td>3</td>\n",
       "      <td>0</td>\n",
       "      <td>64900000</td>\n",
       "      <td>159.0</td>\n",
       "      <td>2015-07-24</td>\n",
       "      <td>3</td>\n",
       "      <td>2.60</td>\n",
       "      <td>14</td>\n",
       "      <td>NaN</td>\n",
       "      <td>9</td>\n",
       "      <td>False</td>\n",
       "      <td>...</td>\n",
       "      <td>0</td>\n",
       "      <td>Санкт-Петербург</td>\n",
       "      <td>28098.0</td>\n",
       "      <td>6800.0</td>\n",
       "      <td>2</td>\n",
       "      <td>84.0</td>\n",
       "      <td>3</td>\n",
       "      <td>234.0</td>\n",
       "      <td>424.0</td>\n",
       "      <td>408176</td>\n",
       "    </tr>\n",
       "    <tr>\n",
       "      <td>4</td>\n",
       "      <td>2</td>\n",
       "      <td>10000000</td>\n",
       "      <td>100.0</td>\n",
       "      <td>2018-06-19</td>\n",
       "      <td>2</td>\n",
       "      <td>3.03</td>\n",
       "      <td>14</td>\n",
       "      <td>32.0</td>\n",
       "      <td>13</td>\n",
       "      <td>False</td>\n",
       "      <td>...</td>\n",
       "      <td>0</td>\n",
       "      <td>Санкт-Петербург</td>\n",
       "      <td>31856.0</td>\n",
       "      <td>8098.0</td>\n",
       "      <td>2</td>\n",
       "      <td>112.0</td>\n",
       "      <td>1</td>\n",
       "      <td>48.0</td>\n",
       "      <td>121.0</td>\n",
       "      <td>100000</td>\n",
       "    </tr>\n",
       "  </tbody>\n",
       "</table>\n",
       "<p>5 rows × 23 columns</p>\n",
       "</div>"
      ],
      "text/plain": [
       "   total_images  last_price  total_area first_day_exposition  rooms  \\\n",
       "0            20    13000000       108.0           2019-03-07      3   \n",
       "1             7     3350000        40.4           2018-12-04      1   \n",
       "2            10     5196000        56.0           2015-08-20      2   \n",
       "3             0    64900000       159.0           2015-07-24      3   \n",
       "4             2    10000000       100.0           2018-06-19      2   \n",
       "\n",
       "   ceiling_height  floors_total  living_area  floor  is_apartment  ...  \\\n",
       "0            2.70            16         51.0      8         False  ...   \n",
       "1            2.75            11         18.6      1         False  ...   \n",
       "2            2.55             5         34.3      4         False  ...   \n",
       "3            2.60            14          NaN      9         False  ...   \n",
       "4            3.03            14         32.0     13         False  ...   \n",
       "\n",
       "   balcony    locality_name  airports_nearest  city_centres_nearest  \\\n",
       "0        0  Санкт-Петербург           18863.0               16028.0   \n",
       "1        2           Шушары           12817.0               18603.0   \n",
       "2        0  Санкт-Петербург           21741.0               13933.0   \n",
       "3        0  Санкт-Петербург           28098.0                6800.0   \n",
       "4        0  Санкт-Петербург           31856.0                8098.0   \n",
       "\n",
       "  parks_around_3000  parks_nearest  ponds_around_3000  ponds_nearest  \\\n",
       "0                 1          482.0                  2          755.0   \n",
       "1                 0          460.0                  0          584.5   \n",
       "2                 1           90.0                  2          574.0   \n",
       "3                 2           84.0                  3          234.0   \n",
       "4                 2          112.0                  1           48.0   \n",
       "\n",
       "   days_exposition  price_m3  \n",
       "0              NaN    120370  \n",
       "1             81.0     82920  \n",
       "2            558.0     92785  \n",
       "3            424.0    408176  \n",
       "4            121.0    100000  \n",
       "\n",
       "[5 rows x 23 columns]"
      ]
     },
     "execution_count": 17,
     "metadata": {},
     "output_type": "execute_result"
    }
   ],
   "source": [
    "data['price_m3'] = data['last_price']/data['total_area']\n",
    "data['price_m3'] = data['price_m3'].astype('int64')\n",
    "data.head()"
   ]
  },
  {
   "cell_type": "markdown",
   "metadata": {},
   "source": [
    "Добавляем стоимость квадратного метра"
   ]
  },
  {
   "cell_type": "code",
   "execution_count": 18,
   "metadata": {},
   "outputs": [
    {
     "data": {
      "text/html": [
       "<div>\n",
       "<style scoped>\n",
       "    .dataframe tbody tr th:only-of-type {\n",
       "        vertical-align: middle;\n",
       "    }\n",
       "\n",
       "    .dataframe tbody tr th {\n",
       "        vertical-align: top;\n",
       "    }\n",
       "\n",
       "    .dataframe thead th {\n",
       "        text-align: right;\n",
       "    }\n",
       "</style>\n",
       "<table border=\"1\" class=\"dataframe\">\n",
       "  <thead>\n",
       "    <tr style=\"text-align: right;\">\n",
       "      <th></th>\n",
       "      <th>total_images</th>\n",
       "      <th>last_price</th>\n",
       "      <th>total_area</th>\n",
       "      <th>first_day_exposition</th>\n",
       "      <th>rooms</th>\n",
       "      <th>ceiling_height</th>\n",
       "      <th>floors_total</th>\n",
       "      <th>living_area</th>\n",
       "      <th>floor</th>\n",
       "      <th>is_apartment</th>\n",
       "      <th>...</th>\n",
       "      <th>airports_nearest</th>\n",
       "      <th>city_centres_nearest</th>\n",
       "      <th>parks_around_3000</th>\n",
       "      <th>parks_nearest</th>\n",
       "      <th>ponds_around_3000</th>\n",
       "      <th>ponds_nearest</th>\n",
       "      <th>days_exposition</th>\n",
       "      <th>price_m3</th>\n",
       "      <th>week_d</th>\n",
       "      <th>weekday_name</th>\n",
       "    </tr>\n",
       "  </thead>\n",
       "  <tbody>\n",
       "    <tr>\n",
       "      <td>0</td>\n",
       "      <td>20</td>\n",
       "      <td>13000000</td>\n",
       "      <td>108.00</td>\n",
       "      <td>2019-03-07</td>\n",
       "      <td>3</td>\n",
       "      <td>2.70</td>\n",
       "      <td>16</td>\n",
       "      <td>51.00</td>\n",
       "      <td>8</td>\n",
       "      <td>False</td>\n",
       "      <td>...</td>\n",
       "      <td>18863.0</td>\n",
       "      <td>16028.0</td>\n",
       "      <td>1</td>\n",
       "      <td>482.0</td>\n",
       "      <td>2</td>\n",
       "      <td>755.0</td>\n",
       "      <td>NaN</td>\n",
       "      <td>120370</td>\n",
       "      <td>3</td>\n",
       "      <td>Четверг</td>\n",
       "    </tr>\n",
       "    <tr>\n",
       "      <td>1</td>\n",
       "      <td>7</td>\n",
       "      <td>3350000</td>\n",
       "      <td>40.40</td>\n",
       "      <td>2018-12-04</td>\n",
       "      <td>1</td>\n",
       "      <td>2.75</td>\n",
       "      <td>11</td>\n",
       "      <td>18.60</td>\n",
       "      <td>1</td>\n",
       "      <td>False</td>\n",
       "      <td>...</td>\n",
       "      <td>12817.0</td>\n",
       "      <td>18603.0</td>\n",
       "      <td>0</td>\n",
       "      <td>460.0</td>\n",
       "      <td>0</td>\n",
       "      <td>584.5</td>\n",
       "      <td>81.0</td>\n",
       "      <td>82920</td>\n",
       "      <td>1</td>\n",
       "      <td>Вторник</td>\n",
       "    </tr>\n",
       "    <tr>\n",
       "      <td>2</td>\n",
       "      <td>10</td>\n",
       "      <td>5196000</td>\n",
       "      <td>56.00</td>\n",
       "      <td>2015-08-20</td>\n",
       "      <td>2</td>\n",
       "      <td>2.55</td>\n",
       "      <td>5</td>\n",
       "      <td>34.30</td>\n",
       "      <td>4</td>\n",
       "      <td>False</td>\n",
       "      <td>...</td>\n",
       "      <td>21741.0</td>\n",
       "      <td>13933.0</td>\n",
       "      <td>1</td>\n",
       "      <td>90.0</td>\n",
       "      <td>2</td>\n",
       "      <td>574.0</td>\n",
       "      <td>558.0</td>\n",
       "      <td>92785</td>\n",
       "      <td>3</td>\n",
       "      <td>Четверг</td>\n",
       "    </tr>\n",
       "    <tr>\n",
       "      <td>3</td>\n",
       "      <td>0</td>\n",
       "      <td>64900000</td>\n",
       "      <td>159.00</td>\n",
       "      <td>2015-07-24</td>\n",
       "      <td>3</td>\n",
       "      <td>2.60</td>\n",
       "      <td>14</td>\n",
       "      <td>NaN</td>\n",
       "      <td>9</td>\n",
       "      <td>False</td>\n",
       "      <td>...</td>\n",
       "      <td>28098.0</td>\n",
       "      <td>6800.0</td>\n",
       "      <td>2</td>\n",
       "      <td>84.0</td>\n",
       "      <td>3</td>\n",
       "      <td>234.0</td>\n",
       "      <td>424.0</td>\n",
       "      <td>408176</td>\n",
       "      <td>4</td>\n",
       "      <td>Пятница</td>\n",
       "    </tr>\n",
       "    <tr>\n",
       "      <td>4</td>\n",
       "      <td>2</td>\n",
       "      <td>10000000</td>\n",
       "      <td>100.00</td>\n",
       "      <td>2018-06-19</td>\n",
       "      <td>2</td>\n",
       "      <td>3.03</td>\n",
       "      <td>14</td>\n",
       "      <td>32.00</td>\n",
       "      <td>13</td>\n",
       "      <td>False</td>\n",
       "      <td>...</td>\n",
       "      <td>31856.0</td>\n",
       "      <td>8098.0</td>\n",
       "      <td>2</td>\n",
       "      <td>112.0</td>\n",
       "      <td>1</td>\n",
       "      <td>48.0</td>\n",
       "      <td>121.0</td>\n",
       "      <td>100000</td>\n",
       "      <td>1</td>\n",
       "      <td>Вторник</td>\n",
       "    </tr>\n",
       "    <tr>\n",
       "      <td>5</td>\n",
       "      <td>10</td>\n",
       "      <td>2890000</td>\n",
       "      <td>30.40</td>\n",
       "      <td>2018-09-10</td>\n",
       "      <td>1</td>\n",
       "      <td>2.65</td>\n",
       "      <td>12</td>\n",
       "      <td>14.40</td>\n",
       "      <td>5</td>\n",
       "      <td>False</td>\n",
       "      <td>...</td>\n",
       "      <td>27223.0</td>\n",
       "      <td>13270.0</td>\n",
       "      <td>0</td>\n",
       "      <td>460.0</td>\n",
       "      <td>1</td>\n",
       "      <td>503.0</td>\n",
       "      <td>55.0</td>\n",
       "      <td>95065</td>\n",
       "      <td>0</td>\n",
       "      <td>Понедельник</td>\n",
       "    </tr>\n",
       "    <tr>\n",
       "      <td>6</td>\n",
       "      <td>6</td>\n",
       "      <td>3700000</td>\n",
       "      <td>37.30</td>\n",
       "      <td>2017-11-02</td>\n",
       "      <td>1</td>\n",
       "      <td>2.66</td>\n",
       "      <td>26</td>\n",
       "      <td>10.60</td>\n",
       "      <td>6</td>\n",
       "      <td>False</td>\n",
       "      <td>...</td>\n",
       "      <td>52996.0</td>\n",
       "      <td>19143.0</td>\n",
       "      <td>0</td>\n",
       "      <td>733.0</td>\n",
       "      <td>0</td>\n",
       "      <td>593.0</td>\n",
       "      <td>155.0</td>\n",
       "      <td>99195</td>\n",
       "      <td>3</td>\n",
       "      <td>Четверг</td>\n",
       "    </tr>\n",
       "    <tr>\n",
       "      <td>7</td>\n",
       "      <td>5</td>\n",
       "      <td>7915000</td>\n",
       "      <td>71.60</td>\n",
       "      <td>2019-04-18</td>\n",
       "      <td>2</td>\n",
       "      <td>2.75</td>\n",
       "      <td>24</td>\n",
       "      <td>NaN</td>\n",
       "      <td>22</td>\n",
       "      <td>False</td>\n",
       "      <td>...</td>\n",
       "      <td>23982.0</td>\n",
       "      <td>11634.0</td>\n",
       "      <td>0</td>\n",
       "      <td>460.0</td>\n",
       "      <td>0</td>\n",
       "      <td>503.0</td>\n",
       "      <td>NaN</td>\n",
       "      <td>110544</td>\n",
       "      <td>3</td>\n",
       "      <td>Четверг</td>\n",
       "    </tr>\n",
       "    <tr>\n",
       "      <td>8</td>\n",
       "      <td>20</td>\n",
       "      <td>2900000</td>\n",
       "      <td>33.16</td>\n",
       "      <td>2018-05-23</td>\n",
       "      <td>1</td>\n",
       "      <td>2.70</td>\n",
       "      <td>27</td>\n",
       "      <td>15.43</td>\n",
       "      <td>26</td>\n",
       "      <td>False</td>\n",
       "      <td>...</td>\n",
       "      <td>51553.0</td>\n",
       "      <td>21888.0</td>\n",
       "      <td>0</td>\n",
       "      <td>460.0</td>\n",
       "      <td>2</td>\n",
       "      <td>133.0</td>\n",
       "      <td>189.0</td>\n",
       "      <td>87454</td>\n",
       "      <td>2</td>\n",
       "      <td>Среда</td>\n",
       "    </tr>\n",
       "    <tr>\n",
       "      <td>9</td>\n",
       "      <td>18</td>\n",
       "      <td>5400000</td>\n",
       "      <td>61.00</td>\n",
       "      <td>2017-02-26</td>\n",
       "      <td>3</td>\n",
       "      <td>2.50</td>\n",
       "      <td>9</td>\n",
       "      <td>43.60</td>\n",
       "      <td>7</td>\n",
       "      <td>False</td>\n",
       "      <td>...</td>\n",
       "      <td>50898.0</td>\n",
       "      <td>15008.0</td>\n",
       "      <td>0</td>\n",
       "      <td>460.0</td>\n",
       "      <td>0</td>\n",
       "      <td>503.0</td>\n",
       "      <td>289.0</td>\n",
       "      <td>88524</td>\n",
       "      <td>6</td>\n",
       "      <td>Воскресенье</td>\n",
       "    </tr>\n",
       "  </tbody>\n",
       "</table>\n",
       "<p>10 rows × 25 columns</p>\n",
       "</div>"
      ],
      "text/plain": [
       "   total_images  last_price  total_area first_day_exposition  rooms  \\\n",
       "0            20    13000000      108.00           2019-03-07      3   \n",
       "1             7     3350000       40.40           2018-12-04      1   \n",
       "2            10     5196000       56.00           2015-08-20      2   \n",
       "3             0    64900000      159.00           2015-07-24      3   \n",
       "4             2    10000000      100.00           2018-06-19      2   \n",
       "5            10     2890000       30.40           2018-09-10      1   \n",
       "6             6     3700000       37.30           2017-11-02      1   \n",
       "7             5     7915000       71.60           2019-04-18      2   \n",
       "8            20     2900000       33.16           2018-05-23      1   \n",
       "9            18     5400000       61.00           2017-02-26      3   \n",
       "\n",
       "   ceiling_height  floors_total  living_area  floor  is_apartment  ...  \\\n",
       "0            2.70            16        51.00      8         False  ...   \n",
       "1            2.75            11        18.60      1         False  ...   \n",
       "2            2.55             5        34.30      4         False  ...   \n",
       "3            2.60            14          NaN      9         False  ...   \n",
       "4            3.03            14        32.00     13         False  ...   \n",
       "5            2.65            12        14.40      5         False  ...   \n",
       "6            2.66            26        10.60      6         False  ...   \n",
       "7            2.75            24          NaN     22         False  ...   \n",
       "8            2.70            27        15.43     26         False  ...   \n",
       "9            2.50             9        43.60      7         False  ...   \n",
       "\n",
       "   airports_nearest  city_centres_nearest  parks_around_3000  parks_nearest  \\\n",
       "0           18863.0               16028.0                  1          482.0   \n",
       "1           12817.0               18603.0                  0          460.0   \n",
       "2           21741.0               13933.0                  1           90.0   \n",
       "3           28098.0                6800.0                  2           84.0   \n",
       "4           31856.0                8098.0                  2          112.0   \n",
       "5           27223.0               13270.0                  0          460.0   \n",
       "6           52996.0               19143.0                  0          733.0   \n",
       "7           23982.0               11634.0                  0          460.0   \n",
       "8           51553.0               21888.0                  0          460.0   \n",
       "9           50898.0               15008.0                  0          460.0   \n",
       "\n",
       "  ponds_around_3000  ponds_nearest  days_exposition  price_m3  week_d  \\\n",
       "0                 2          755.0              NaN    120370       3   \n",
       "1                 0          584.5             81.0     82920       1   \n",
       "2                 2          574.0            558.0     92785       3   \n",
       "3                 3          234.0            424.0    408176       4   \n",
       "4                 1           48.0            121.0    100000       1   \n",
       "5                 1          503.0             55.0     95065       0   \n",
       "6                 0          593.0            155.0     99195       3   \n",
       "7                 0          503.0              NaN    110544       3   \n",
       "8                 2          133.0            189.0     87454       2   \n",
       "9                 0          503.0            289.0     88524       6   \n",
       "\n",
       "   weekday_name  \n",
       "0       Четверг  \n",
       "1       Вторник  \n",
       "2       Четверг  \n",
       "3       Пятница  \n",
       "4       Вторник  \n",
       "5   Понедельник  \n",
       "6       Четверг  \n",
       "7       Четверг  \n",
       "8         Среда  \n",
       "9   Воскресенье  \n",
       "\n",
       "[10 rows x 25 columns]"
      ]
     },
     "execution_count": 18,
     "metadata": {},
     "output_type": "execute_result"
    }
   ],
   "source": [
    "data['week_d'] = data['first_day_exposition'].dt.weekday\n",
    "def weekday (value):\n",
    "    if value == 0:\n",
    "        return 'Понедельник'\n",
    "    elif value == 1:\n",
    "        return 'Вторник'\n",
    "    elif value == 2:\n",
    "        return 'Среда'\n",
    "    elif value == 3:\n",
    "        return 'Четверг'\n",
    "    elif value == 4:\n",
    "        return 'Пятница'\n",
    "    elif value == 5:\n",
    "        return 'Суббота'\n",
    "    else:\n",
    "        return 'Воскресенье'\n",
    "    \n",
    "data['weekday_name'] = data['week_d'].apply(weekday)\n",
    "data.head(10)"
   ]
  },
  {
   "cell_type": "code",
   "execution_count": 19,
   "metadata": {},
   "outputs": [
    {
     "data": {
      "text/html": [
       "<div>\n",
       "<style scoped>\n",
       "    .dataframe tbody tr th:only-of-type {\n",
       "        vertical-align: middle;\n",
       "    }\n",
       "\n",
       "    .dataframe tbody tr th {\n",
       "        vertical-align: top;\n",
       "    }\n",
       "\n",
       "    .dataframe thead th {\n",
       "        text-align: right;\n",
       "    }\n",
       "</style>\n",
       "<table border=\"1\" class=\"dataframe\">\n",
       "  <thead>\n",
       "    <tr style=\"text-align: right;\">\n",
       "      <th></th>\n",
       "      <th>total_images</th>\n",
       "      <th>last_price</th>\n",
       "      <th>total_area</th>\n",
       "      <th>first_day_exposition</th>\n",
       "      <th>rooms</th>\n",
       "      <th>ceiling_height</th>\n",
       "      <th>floors_total</th>\n",
       "      <th>living_area</th>\n",
       "      <th>floor</th>\n",
       "      <th>is_apartment</th>\n",
       "      <th>...</th>\n",
       "      <th>parks_around_3000</th>\n",
       "      <th>parks_nearest</th>\n",
       "      <th>ponds_around_3000</th>\n",
       "      <th>ponds_nearest</th>\n",
       "      <th>days_exposition</th>\n",
       "      <th>price_m3</th>\n",
       "      <th>week_d</th>\n",
       "      <th>weekday_name</th>\n",
       "      <th>month</th>\n",
       "      <th>month_name</th>\n",
       "    </tr>\n",
       "  </thead>\n",
       "  <tbody>\n",
       "    <tr>\n",
       "      <td>0</td>\n",
       "      <td>20</td>\n",
       "      <td>13000000</td>\n",
       "      <td>108.0</td>\n",
       "      <td>2019-03-07</td>\n",
       "      <td>3</td>\n",
       "      <td>2.70</td>\n",
       "      <td>16</td>\n",
       "      <td>51.0</td>\n",
       "      <td>8</td>\n",
       "      <td>False</td>\n",
       "      <td>...</td>\n",
       "      <td>1</td>\n",
       "      <td>482.0</td>\n",
       "      <td>2</td>\n",
       "      <td>755.0</td>\n",
       "      <td>NaN</td>\n",
       "      <td>120370</td>\n",
       "      <td>3</td>\n",
       "      <td>Четверг</td>\n",
       "      <td>3</td>\n",
       "      <td>Март</td>\n",
       "    </tr>\n",
       "    <tr>\n",
       "      <td>1</td>\n",
       "      <td>7</td>\n",
       "      <td>3350000</td>\n",
       "      <td>40.4</td>\n",
       "      <td>2018-12-04</td>\n",
       "      <td>1</td>\n",
       "      <td>2.75</td>\n",
       "      <td>11</td>\n",
       "      <td>18.6</td>\n",
       "      <td>1</td>\n",
       "      <td>False</td>\n",
       "      <td>...</td>\n",
       "      <td>0</td>\n",
       "      <td>460.0</td>\n",
       "      <td>0</td>\n",
       "      <td>584.5</td>\n",
       "      <td>81.0</td>\n",
       "      <td>82920</td>\n",
       "      <td>1</td>\n",
       "      <td>Вторник</td>\n",
       "      <td>12</td>\n",
       "      <td>Декабрь</td>\n",
       "    </tr>\n",
       "    <tr>\n",
       "      <td>2</td>\n",
       "      <td>10</td>\n",
       "      <td>5196000</td>\n",
       "      <td>56.0</td>\n",
       "      <td>2015-08-20</td>\n",
       "      <td>2</td>\n",
       "      <td>2.55</td>\n",
       "      <td>5</td>\n",
       "      <td>34.3</td>\n",
       "      <td>4</td>\n",
       "      <td>False</td>\n",
       "      <td>...</td>\n",
       "      <td>1</td>\n",
       "      <td>90.0</td>\n",
       "      <td>2</td>\n",
       "      <td>574.0</td>\n",
       "      <td>558.0</td>\n",
       "      <td>92785</td>\n",
       "      <td>3</td>\n",
       "      <td>Четверг</td>\n",
       "      <td>8</td>\n",
       "      <td>Август</td>\n",
       "    </tr>\n",
       "    <tr>\n",
       "      <td>3</td>\n",
       "      <td>0</td>\n",
       "      <td>64900000</td>\n",
       "      <td>159.0</td>\n",
       "      <td>2015-07-24</td>\n",
       "      <td>3</td>\n",
       "      <td>2.60</td>\n",
       "      <td>14</td>\n",
       "      <td>NaN</td>\n",
       "      <td>9</td>\n",
       "      <td>False</td>\n",
       "      <td>...</td>\n",
       "      <td>2</td>\n",
       "      <td>84.0</td>\n",
       "      <td>3</td>\n",
       "      <td>234.0</td>\n",
       "      <td>424.0</td>\n",
       "      <td>408176</td>\n",
       "      <td>4</td>\n",
       "      <td>Пятница</td>\n",
       "      <td>7</td>\n",
       "      <td>Июль</td>\n",
       "    </tr>\n",
       "    <tr>\n",
       "      <td>4</td>\n",
       "      <td>2</td>\n",
       "      <td>10000000</td>\n",
       "      <td>100.0</td>\n",
       "      <td>2018-06-19</td>\n",
       "      <td>2</td>\n",
       "      <td>3.03</td>\n",
       "      <td>14</td>\n",
       "      <td>32.0</td>\n",
       "      <td>13</td>\n",
       "      <td>False</td>\n",
       "      <td>...</td>\n",
       "      <td>2</td>\n",
       "      <td>112.0</td>\n",
       "      <td>1</td>\n",
       "      <td>48.0</td>\n",
       "      <td>121.0</td>\n",
       "      <td>100000</td>\n",
       "      <td>1</td>\n",
       "      <td>Вторник</td>\n",
       "      <td>6</td>\n",
       "      <td>Июнь</td>\n",
       "    </tr>\n",
       "  </tbody>\n",
       "</table>\n",
       "<p>5 rows × 27 columns</p>\n",
       "</div>"
      ],
      "text/plain": [
       "   total_images  last_price  total_area first_day_exposition  rooms  \\\n",
       "0            20    13000000       108.0           2019-03-07      3   \n",
       "1             7     3350000        40.4           2018-12-04      1   \n",
       "2            10     5196000        56.0           2015-08-20      2   \n",
       "3             0    64900000       159.0           2015-07-24      3   \n",
       "4             2    10000000       100.0           2018-06-19      2   \n",
       "\n",
       "   ceiling_height  floors_total  living_area  floor  is_apartment  ...  \\\n",
       "0            2.70            16         51.0      8         False  ...   \n",
       "1            2.75            11         18.6      1         False  ...   \n",
       "2            2.55             5         34.3      4         False  ...   \n",
       "3            2.60            14          NaN      9         False  ...   \n",
       "4            3.03            14         32.0     13         False  ...   \n",
       "\n",
       "   parks_around_3000  parks_nearest  ponds_around_3000  ponds_nearest  \\\n",
       "0                  1          482.0                  2          755.0   \n",
       "1                  0          460.0                  0          584.5   \n",
       "2                  1           90.0                  2          574.0   \n",
       "3                  2           84.0                  3          234.0   \n",
       "4                  2          112.0                  1           48.0   \n",
       "\n",
       "  days_exposition  price_m3  week_d  weekday_name  month  month_name  \n",
       "0             NaN    120370       3       Четверг      3        Март  \n",
       "1            81.0     82920       1       Вторник     12     Декабрь  \n",
       "2           558.0     92785       3       Четверг      8      Август  \n",
       "3           424.0    408176       4       Пятница      7        Июль  \n",
       "4           121.0    100000       1       Вторник      6        Июнь  \n",
       "\n",
       "[5 rows x 27 columns]"
      ]
     },
     "execution_count": 19,
     "metadata": {},
     "output_type": "execute_result"
    }
   ],
   "source": [
    "data['month'] = data['first_day_exposition'].dt.month\n",
    "def month_n (value):\n",
    "    if value == 1:\n",
    "        return 'Январь'\n",
    "    elif value == 2:\n",
    "        return 'Февраль'\n",
    "    elif value == 3:\n",
    "        return 'Март'\n",
    "    elif value == 4:\n",
    "        return 'Апрель'\n",
    "    elif value == 5:\n",
    "        return 'Май'\n",
    "    elif value == 6:\n",
    "        return 'Июнь'\n",
    "    elif value == 7:\n",
    "        return 'Июль'\n",
    "    elif value == 8:\n",
    "        return 'Август'\n",
    "    elif value == 9:\n",
    "        return 'Сентябрь'\n",
    "    elif value == 10:\n",
    "        return 'Октябрь'\n",
    "    elif value == 11:\n",
    "        return 'Ноябрь'\n",
    "    else:\n",
    "        return 'Декабрь'\n",
    "    \n",
    "data['month_name'] = data['month'].apply(month_n)\n",
    "data.head()\n"
   ]
  },
  {
   "cell_type": "code",
   "execution_count": 20,
   "metadata": {},
   "outputs": [
    {
     "data": {
      "text/html": [
       "<div>\n",
       "<style scoped>\n",
       "    .dataframe tbody tr th:only-of-type {\n",
       "        vertical-align: middle;\n",
       "    }\n",
       "\n",
       "    .dataframe tbody tr th {\n",
       "        vertical-align: top;\n",
       "    }\n",
       "\n",
       "    .dataframe thead th {\n",
       "        text-align: right;\n",
       "    }\n",
       "</style>\n",
       "<table border=\"1\" class=\"dataframe\">\n",
       "  <thead>\n",
       "    <tr style=\"text-align: right;\">\n",
       "      <th></th>\n",
       "      <th>total_images</th>\n",
       "      <th>last_price</th>\n",
       "      <th>total_area</th>\n",
       "      <th>first_day_exposition</th>\n",
       "      <th>rooms</th>\n",
       "      <th>ceiling_height</th>\n",
       "      <th>floors_total</th>\n",
       "      <th>living_area</th>\n",
       "      <th>floor</th>\n",
       "      <th>is_apartment</th>\n",
       "      <th>...</th>\n",
       "      <th>parks_nearest</th>\n",
       "      <th>ponds_around_3000</th>\n",
       "      <th>ponds_nearest</th>\n",
       "      <th>days_exposition</th>\n",
       "      <th>price_m3</th>\n",
       "      <th>week_d</th>\n",
       "      <th>weekday_name</th>\n",
       "      <th>month</th>\n",
       "      <th>month_name</th>\n",
       "      <th>year</th>\n",
       "    </tr>\n",
       "  </thead>\n",
       "  <tbody>\n",
       "    <tr>\n",
       "      <td>0</td>\n",
       "      <td>20</td>\n",
       "      <td>13000000</td>\n",
       "      <td>108.0</td>\n",
       "      <td>2019-03-07</td>\n",
       "      <td>3</td>\n",
       "      <td>2.70</td>\n",
       "      <td>16</td>\n",
       "      <td>51.0</td>\n",
       "      <td>8</td>\n",
       "      <td>False</td>\n",
       "      <td>...</td>\n",
       "      <td>482.0</td>\n",
       "      <td>2</td>\n",
       "      <td>755.0</td>\n",
       "      <td>NaN</td>\n",
       "      <td>120370</td>\n",
       "      <td>3</td>\n",
       "      <td>Четверг</td>\n",
       "      <td>3</td>\n",
       "      <td>Март</td>\n",
       "      <td>2019</td>\n",
       "    </tr>\n",
       "    <tr>\n",
       "      <td>1</td>\n",
       "      <td>7</td>\n",
       "      <td>3350000</td>\n",
       "      <td>40.4</td>\n",
       "      <td>2018-12-04</td>\n",
       "      <td>1</td>\n",
       "      <td>2.75</td>\n",
       "      <td>11</td>\n",
       "      <td>18.6</td>\n",
       "      <td>1</td>\n",
       "      <td>False</td>\n",
       "      <td>...</td>\n",
       "      <td>460.0</td>\n",
       "      <td>0</td>\n",
       "      <td>584.5</td>\n",
       "      <td>81.0</td>\n",
       "      <td>82920</td>\n",
       "      <td>1</td>\n",
       "      <td>Вторник</td>\n",
       "      <td>12</td>\n",
       "      <td>Декабрь</td>\n",
       "      <td>2018</td>\n",
       "    </tr>\n",
       "    <tr>\n",
       "      <td>2</td>\n",
       "      <td>10</td>\n",
       "      <td>5196000</td>\n",
       "      <td>56.0</td>\n",
       "      <td>2015-08-20</td>\n",
       "      <td>2</td>\n",
       "      <td>2.55</td>\n",
       "      <td>5</td>\n",
       "      <td>34.3</td>\n",
       "      <td>4</td>\n",
       "      <td>False</td>\n",
       "      <td>...</td>\n",
       "      <td>90.0</td>\n",
       "      <td>2</td>\n",
       "      <td>574.0</td>\n",
       "      <td>558.0</td>\n",
       "      <td>92785</td>\n",
       "      <td>3</td>\n",
       "      <td>Четверг</td>\n",
       "      <td>8</td>\n",
       "      <td>Август</td>\n",
       "      <td>2015</td>\n",
       "    </tr>\n",
       "    <tr>\n",
       "      <td>3</td>\n",
       "      <td>0</td>\n",
       "      <td>64900000</td>\n",
       "      <td>159.0</td>\n",
       "      <td>2015-07-24</td>\n",
       "      <td>3</td>\n",
       "      <td>2.60</td>\n",
       "      <td>14</td>\n",
       "      <td>NaN</td>\n",
       "      <td>9</td>\n",
       "      <td>False</td>\n",
       "      <td>...</td>\n",
       "      <td>84.0</td>\n",
       "      <td>3</td>\n",
       "      <td>234.0</td>\n",
       "      <td>424.0</td>\n",
       "      <td>408176</td>\n",
       "      <td>4</td>\n",
       "      <td>Пятница</td>\n",
       "      <td>7</td>\n",
       "      <td>Июль</td>\n",
       "      <td>2015</td>\n",
       "    </tr>\n",
       "    <tr>\n",
       "      <td>4</td>\n",
       "      <td>2</td>\n",
       "      <td>10000000</td>\n",
       "      <td>100.0</td>\n",
       "      <td>2018-06-19</td>\n",
       "      <td>2</td>\n",
       "      <td>3.03</td>\n",
       "      <td>14</td>\n",
       "      <td>32.0</td>\n",
       "      <td>13</td>\n",
       "      <td>False</td>\n",
       "      <td>...</td>\n",
       "      <td>112.0</td>\n",
       "      <td>1</td>\n",
       "      <td>48.0</td>\n",
       "      <td>121.0</td>\n",
       "      <td>100000</td>\n",
       "      <td>1</td>\n",
       "      <td>Вторник</td>\n",
       "      <td>6</td>\n",
       "      <td>Июнь</td>\n",
       "      <td>2018</td>\n",
       "    </tr>\n",
       "  </tbody>\n",
       "</table>\n",
       "<p>5 rows × 28 columns</p>\n",
       "</div>"
      ],
      "text/plain": [
       "   total_images  last_price  total_area first_day_exposition  rooms  \\\n",
       "0            20    13000000       108.0           2019-03-07      3   \n",
       "1             7     3350000        40.4           2018-12-04      1   \n",
       "2            10     5196000        56.0           2015-08-20      2   \n",
       "3             0    64900000       159.0           2015-07-24      3   \n",
       "4             2    10000000       100.0           2018-06-19      2   \n",
       "\n",
       "   ceiling_height  floors_total  living_area  floor  is_apartment  ...  \\\n",
       "0            2.70            16         51.0      8         False  ...   \n",
       "1            2.75            11         18.6      1         False  ...   \n",
       "2            2.55             5         34.3      4         False  ...   \n",
       "3            2.60            14          NaN      9         False  ...   \n",
       "4            3.03            14         32.0     13         False  ...   \n",
       "\n",
       "   parks_nearest  ponds_around_3000  ponds_nearest  days_exposition price_m3  \\\n",
       "0          482.0                  2          755.0              NaN   120370   \n",
       "1          460.0                  0          584.5             81.0    82920   \n",
       "2           90.0                  2          574.0            558.0    92785   \n",
       "3           84.0                  3          234.0            424.0   408176   \n",
       "4          112.0                  1           48.0            121.0   100000   \n",
       "\n",
       "   week_d  weekday_name  month  month_name  year  \n",
       "0       3       Четверг      3        Март  2019  \n",
       "1       1       Вторник     12     Декабрь  2018  \n",
       "2       3       Четверг      8      Август  2015  \n",
       "3       4       Пятница      7        Июль  2015  \n",
       "4       1       Вторник      6        Июнь  2018  \n",
       "\n",
       "[5 rows x 28 columns]"
      ]
     },
     "execution_count": 20,
     "metadata": {},
     "output_type": "execute_result"
    }
   ],
   "source": [
    "data['year'] = data['first_day_exposition'].dt.year\n",
    "data.head()"
   ]
  },
  {
   "cell_type": "markdown",
   "metadata": {},
   "source": [
    "Добавляем день недели, месяц и год"
   ]
  },
  {
   "cell_type": "code",
   "execution_count": 21,
   "metadata": {},
   "outputs": [
    {
     "data": {
      "text/html": [
       "<div>\n",
       "<style scoped>\n",
       "    .dataframe tbody tr th:only-of-type {\n",
       "        vertical-align: middle;\n",
       "    }\n",
       "\n",
       "    .dataframe tbody tr th {\n",
       "        vertical-align: top;\n",
       "    }\n",
       "\n",
       "    .dataframe thead th {\n",
       "        text-align: right;\n",
       "    }\n",
       "</style>\n",
       "<table border=\"1\" class=\"dataframe\">\n",
       "  <thead>\n",
       "    <tr style=\"text-align: right;\">\n",
       "      <th></th>\n",
       "      <th>total_images</th>\n",
       "      <th>last_price</th>\n",
       "      <th>total_area</th>\n",
       "      <th>first_day_exposition</th>\n",
       "      <th>rooms</th>\n",
       "      <th>ceiling_height</th>\n",
       "      <th>floors_total</th>\n",
       "      <th>living_area</th>\n",
       "      <th>floor</th>\n",
       "      <th>is_apartment</th>\n",
       "      <th>...</th>\n",
       "      <th>ponds_around_3000</th>\n",
       "      <th>ponds_nearest</th>\n",
       "      <th>days_exposition</th>\n",
       "      <th>price_m3</th>\n",
       "      <th>week_d</th>\n",
       "      <th>weekday_name</th>\n",
       "      <th>month</th>\n",
       "      <th>month_name</th>\n",
       "      <th>year</th>\n",
       "      <th>floor_cat</th>\n",
       "    </tr>\n",
       "  </thead>\n",
       "  <tbody>\n",
       "    <tr>\n",
       "      <td>0</td>\n",
       "      <td>20</td>\n",
       "      <td>13000000</td>\n",
       "      <td>108.0</td>\n",
       "      <td>2019-03-07</td>\n",
       "      <td>3</td>\n",
       "      <td>2.70</td>\n",
       "      <td>16</td>\n",
       "      <td>51.0</td>\n",
       "      <td>8</td>\n",
       "      <td>False</td>\n",
       "      <td>...</td>\n",
       "      <td>2</td>\n",
       "      <td>755.0</td>\n",
       "      <td>NaN</td>\n",
       "      <td>120370</td>\n",
       "      <td>3</td>\n",
       "      <td>Четверг</td>\n",
       "      <td>3</td>\n",
       "      <td>Март</td>\n",
       "      <td>2019</td>\n",
       "      <td>Другой</td>\n",
       "    </tr>\n",
       "    <tr>\n",
       "      <td>1</td>\n",
       "      <td>7</td>\n",
       "      <td>3350000</td>\n",
       "      <td>40.4</td>\n",
       "      <td>2018-12-04</td>\n",
       "      <td>1</td>\n",
       "      <td>2.75</td>\n",
       "      <td>11</td>\n",
       "      <td>18.6</td>\n",
       "      <td>1</td>\n",
       "      <td>False</td>\n",
       "      <td>...</td>\n",
       "      <td>0</td>\n",
       "      <td>584.5</td>\n",
       "      <td>81.0</td>\n",
       "      <td>82920</td>\n",
       "      <td>1</td>\n",
       "      <td>Вторник</td>\n",
       "      <td>12</td>\n",
       "      <td>Декабрь</td>\n",
       "      <td>2018</td>\n",
       "      <td>Первый</td>\n",
       "    </tr>\n",
       "    <tr>\n",
       "      <td>2</td>\n",
       "      <td>10</td>\n",
       "      <td>5196000</td>\n",
       "      <td>56.0</td>\n",
       "      <td>2015-08-20</td>\n",
       "      <td>2</td>\n",
       "      <td>2.55</td>\n",
       "      <td>5</td>\n",
       "      <td>34.3</td>\n",
       "      <td>4</td>\n",
       "      <td>False</td>\n",
       "      <td>...</td>\n",
       "      <td>2</td>\n",
       "      <td>574.0</td>\n",
       "      <td>558.0</td>\n",
       "      <td>92785</td>\n",
       "      <td>3</td>\n",
       "      <td>Четверг</td>\n",
       "      <td>8</td>\n",
       "      <td>Август</td>\n",
       "      <td>2015</td>\n",
       "      <td>Другой</td>\n",
       "    </tr>\n",
       "    <tr>\n",
       "      <td>3</td>\n",
       "      <td>0</td>\n",
       "      <td>64900000</td>\n",
       "      <td>159.0</td>\n",
       "      <td>2015-07-24</td>\n",
       "      <td>3</td>\n",
       "      <td>2.60</td>\n",
       "      <td>14</td>\n",
       "      <td>NaN</td>\n",
       "      <td>9</td>\n",
       "      <td>False</td>\n",
       "      <td>...</td>\n",
       "      <td>3</td>\n",
       "      <td>234.0</td>\n",
       "      <td>424.0</td>\n",
       "      <td>408176</td>\n",
       "      <td>4</td>\n",
       "      <td>Пятница</td>\n",
       "      <td>7</td>\n",
       "      <td>Июль</td>\n",
       "      <td>2015</td>\n",
       "      <td>Другой</td>\n",
       "    </tr>\n",
       "    <tr>\n",
       "      <td>4</td>\n",
       "      <td>2</td>\n",
       "      <td>10000000</td>\n",
       "      <td>100.0</td>\n",
       "      <td>2018-06-19</td>\n",
       "      <td>2</td>\n",
       "      <td>3.03</td>\n",
       "      <td>14</td>\n",
       "      <td>32.0</td>\n",
       "      <td>13</td>\n",
       "      <td>False</td>\n",
       "      <td>...</td>\n",
       "      <td>1</td>\n",
       "      <td>48.0</td>\n",
       "      <td>121.0</td>\n",
       "      <td>100000</td>\n",
       "      <td>1</td>\n",
       "      <td>Вторник</td>\n",
       "      <td>6</td>\n",
       "      <td>Июнь</td>\n",
       "      <td>2018</td>\n",
       "      <td>Другой</td>\n",
       "    </tr>\n",
       "  </tbody>\n",
       "</table>\n",
       "<p>5 rows × 29 columns</p>\n",
       "</div>"
      ],
      "text/plain": [
       "   total_images  last_price  total_area first_day_exposition  rooms  \\\n",
       "0            20    13000000       108.0           2019-03-07      3   \n",
       "1             7     3350000        40.4           2018-12-04      1   \n",
       "2            10     5196000        56.0           2015-08-20      2   \n",
       "3             0    64900000       159.0           2015-07-24      3   \n",
       "4             2    10000000       100.0           2018-06-19      2   \n",
       "\n",
       "   ceiling_height  floors_total  living_area  floor  is_apartment  ...  \\\n",
       "0            2.70            16         51.0      8         False  ...   \n",
       "1            2.75            11         18.6      1         False  ...   \n",
       "2            2.55             5         34.3      4         False  ...   \n",
       "3            2.60            14          NaN      9         False  ...   \n",
       "4            3.03            14         32.0     13         False  ...   \n",
       "\n",
       "   ponds_around_3000  ponds_nearest  days_exposition  price_m3 week_d  \\\n",
       "0                  2          755.0              NaN    120370      3   \n",
       "1                  0          584.5             81.0     82920      1   \n",
       "2                  2          574.0            558.0     92785      3   \n",
       "3                  3          234.0            424.0    408176      4   \n",
       "4                  1           48.0            121.0    100000      1   \n",
       "\n",
       "   weekday_name  month  month_name  year  floor_cat  \n",
       "0       Четверг      3        Март  2019     Другой  \n",
       "1       Вторник     12     Декабрь  2018     Первый  \n",
       "2       Четверг      8      Август  2015     Другой  \n",
       "3       Пятница      7        Июль  2015     Другой  \n",
       "4       Вторник      6        Июнь  2018     Другой  \n",
       "\n",
       "[5 rows x 29 columns]"
      ]
     },
     "execution_count": 21,
     "metadata": {},
     "output_type": "execute_result"
    }
   ],
   "source": [
    "def floor_category (value):\n",
    "    if value['floor'] == 1:\n",
    "        return 'Первый'\n",
    "    elif value['floor'] == value['floors_total']:\n",
    "        return 'Последний'\n",
    "    else:\n",
    "        return 'Другой'\n",
    "        \n",
    "data['floor_cat'] = data.apply(floor_category, axis = 1)\n",
    "data.head()"
   ]
  },
  {
   "cell_type": "code",
   "execution_count": 22,
   "metadata": {},
   "outputs": [
    {
     "data": {
      "text/html": [
       "<div>\n",
       "<style scoped>\n",
       "    .dataframe tbody tr th:only-of-type {\n",
       "        vertical-align: middle;\n",
       "    }\n",
       "\n",
       "    .dataframe tbody tr th {\n",
       "        vertical-align: top;\n",
       "    }\n",
       "\n",
       "    .dataframe thead th {\n",
       "        text-align: right;\n",
       "    }\n",
       "</style>\n",
       "<table border=\"1\" class=\"dataframe\">\n",
       "  <thead>\n",
       "    <tr style=\"text-align: right;\">\n",
       "      <th></th>\n",
       "      <th>rooms</th>\n",
       "    </tr>\n",
       "    <tr>\n",
       "      <th>total_area</th>\n",
       "      <th></th>\n",
       "    </tr>\n",
       "  </thead>\n",
       "  <tbody>\n",
       "    <tr>\n",
       "      <td>371.0</td>\n",
       "      <td>0</td>\n",
       "    </tr>\n",
       "    <tr>\n",
       "      <td>98.4</td>\n",
       "      <td>0</td>\n",
       "    </tr>\n",
       "    <tr>\n",
       "      <td>73.6</td>\n",
       "      <td>0</td>\n",
       "    </tr>\n",
       "    <tr>\n",
       "      <td>71.0</td>\n",
       "      <td>0</td>\n",
       "    </tr>\n",
       "    <tr>\n",
       "      <td>58.4</td>\n",
       "      <td>0</td>\n",
       "    </tr>\n",
       "    <tr>\n",
       "      <td>...</td>\n",
       "      <td>...</td>\n",
       "    </tr>\n",
       "    <tr>\n",
       "      <td>18.8</td>\n",
       "      <td>0</td>\n",
       "    </tr>\n",
       "    <tr>\n",
       "      <td>18.0</td>\n",
       "      <td>0</td>\n",
       "    </tr>\n",
       "    <tr>\n",
       "      <td>17.0</td>\n",
       "      <td>0</td>\n",
       "    </tr>\n",
       "    <tr>\n",
       "      <td>16.0</td>\n",
       "      <td>0</td>\n",
       "    </tr>\n",
       "    <tr>\n",
       "      <td>15.5</td>\n",
       "      <td>0</td>\n",
       "    </tr>\n",
       "  </tbody>\n",
       "</table>\n",
       "<p>103 rows × 1 columns</p>\n",
       "</div>"
      ],
      "text/plain": [
       "            rooms\n",
       "total_area       \n",
       "371.0           0\n",
       "98.4            0\n",
       "73.6            0\n",
       "71.0            0\n",
       "58.4            0\n",
       "...           ...\n",
       "18.8            0\n",
       "18.0            0\n",
       "17.0            0\n",
       "16.0            0\n",
       "15.5            0\n",
       "\n",
       "[103 rows x 1 columns]"
      ]
     },
     "execution_count": 22,
     "metadata": {},
     "output_type": "execute_result"
    }
   ],
   "source": [
    "(\n",
    "    data.query('rooms == 0').\n",
    "    pivot_table(index='total_area', values='rooms').\n",
    "    sort_values(by='total_area', ascending=False)\n",
    ")"
   ]
  },
  {
   "cell_type": "code",
   "execution_count": 23,
   "metadata": {},
   "outputs": [
    {
     "data": {
      "text/plain": [
       "array([ 3,  1,  2,  4,  5,  6,  7, 11,  8, 14, 10, 15,  9, 19, 16, 12])"
      ]
     },
     "execution_count": 23,
     "metadata": {},
     "output_type": "execute_result"
    }
   ],
   "source": [
    "data.loc[(data['rooms'] == 0) & (data['total_area'] < 35.0), 'rooms'] = 1\n",
    "data.loc[(data['rooms'] == 0) & (data['total_area'] < 55.0), 'rooms'] = 2\n",
    "data.loc[(data['rooms'] == 0) & (data['total_area'] < 70.0), 'rooms'] = 3\n",
    "data.loc[(data['rooms'] == 0) & (data['total_area'] > 35.0), 'rooms'] = 4\n",
    "data['rooms'].unique()"
   ]
  },
  {
   "cell_type": "markdown",
   "metadata": {},
   "source": [
    "Обрабатываем колонку rooms, необходимо избавиться от 0 в rooms. Заменить на 1 буде некорректно, так как невозможны ситуации, когда квартира 371 кв метр 1 комнатой. Возьмем нормативные показатели по площади для квартир с разным количеством комнат: 1-комнатная - до 35кв.м, 2-комнатная - до 55кв.м, 3-комнатная - до 70кв.м, 4-комнатная от 70кв.м и выше"
   ]
  },
  {
   "cell_type": "markdown",
   "metadata": {},
   "source": [
    "Добавляем колонку с группировкой этажей (первый, последний, другой)"
   ]
  },
  {
   "cell_type": "code",
   "execution_count": 24,
   "metadata": {},
   "outputs": [
    {
     "data": {
      "text/html": [
       "<div>\n",
       "<style scoped>\n",
       "    .dataframe tbody tr th:only-of-type {\n",
       "        vertical-align: middle;\n",
       "    }\n",
       "\n",
       "    .dataframe tbody tr th {\n",
       "        vertical-align: top;\n",
       "    }\n",
       "\n",
       "    .dataframe thead th {\n",
       "        text-align: right;\n",
       "    }\n",
       "</style>\n",
       "<table border=\"1\" class=\"dataframe\">\n",
       "  <thead>\n",
       "    <tr style=\"text-align: right;\">\n",
       "      <th></th>\n",
       "      <th>ratio_kitchen</th>\n",
       "      <th>ratio_living</th>\n",
       "    </tr>\n",
       "    <tr>\n",
       "      <th>rooms</th>\n",
       "      <th></th>\n",
       "      <th></th>\n",
       "    </tr>\n",
       "  </thead>\n",
       "  <tbody>\n",
       "    <tr>\n",
       "      <td>1</td>\n",
       "      <td>0.249899</td>\n",
       "      <td>0.490546</td>\n",
       "    </tr>\n",
       "    <tr>\n",
       "      <td>2</td>\n",
       "      <td>0.174138</td>\n",
       "      <td>0.579409</td>\n",
       "    </tr>\n",
       "    <tr>\n",
       "      <td>3</td>\n",
       "      <td>0.140924</td>\n",
       "      <td>0.625268</td>\n",
       "    </tr>\n",
       "    <tr>\n",
       "      <td>4</td>\n",
       "      <td>0.124006</td>\n",
       "      <td>0.646954</td>\n",
       "    </tr>\n",
       "    <tr>\n",
       "      <td>5</td>\n",
       "      <td>0.113455</td>\n",
       "      <td>0.641377</td>\n",
       "    </tr>\n",
       "    <tr>\n",
       "      <td>6</td>\n",
       "      <td>0.104150</td>\n",
       "      <td>0.668819</td>\n",
       "    </tr>\n",
       "    <tr>\n",
       "      <td>7</td>\n",
       "      <td>0.091932</td>\n",
       "      <td>0.657981</td>\n",
       "    </tr>\n",
       "    <tr>\n",
       "      <td>8</td>\n",
       "      <td>0.091708</td>\n",
       "      <td>0.667001</td>\n",
       "    </tr>\n",
       "    <tr>\n",
       "      <td>9</td>\n",
       "      <td>0.075054</td>\n",
       "      <td>0.612299</td>\n",
       "    </tr>\n",
       "    <tr>\n",
       "      <td>10</td>\n",
       "      <td>0.088013</td>\n",
       "      <td>0.645065</td>\n",
       "    </tr>\n",
       "    <tr>\n",
       "      <td>11</td>\n",
       "      <td>0.066855</td>\n",
       "      <td>0.710093</td>\n",
       "    </tr>\n",
       "    <tr>\n",
       "      <td>12</td>\n",
       "      <td>0.124444</td>\n",
       "      <td>0.455222</td>\n",
       "    </tr>\n",
       "    <tr>\n",
       "      <td>14</td>\n",
       "      <td>0.075636</td>\n",
       "      <td>0.648695</td>\n",
       "    </tr>\n",
       "    <tr>\n",
       "      <td>15</td>\n",
       "      <td>0.169492</td>\n",
       "      <td>0.693220</td>\n",
       "    </tr>\n",
       "    <tr>\n",
       "      <td>16</td>\n",
       "      <td>0.048148</td>\n",
       "      <td>0.666667</td>\n",
       "    </tr>\n",
       "    <tr>\n",
       "      <td>19</td>\n",
       "      <td>0.073679</td>\n",
       "      <td>0.706086</td>\n",
       "    </tr>\n",
       "  </tbody>\n",
       "</table>\n",
       "</div>"
      ],
      "text/plain": [
       "       ratio_kitchen  ratio_living\n",
       "rooms                             \n",
       "1           0.249899      0.490546\n",
       "2           0.174138      0.579409\n",
       "3           0.140924      0.625268\n",
       "4           0.124006      0.646954\n",
       "5           0.113455      0.641377\n",
       "6           0.104150      0.668819\n",
       "7           0.091932      0.657981\n",
       "8           0.091708      0.667001\n",
       "9           0.075054      0.612299\n",
       "10          0.088013      0.645065\n",
       "11          0.066855      0.710093\n",
       "12          0.124444      0.455222\n",
       "14          0.075636      0.648695\n",
       "15          0.169492      0.693220\n",
       "16          0.048148      0.666667\n",
       "19          0.073679      0.706086"
      ]
     },
     "execution_count": 24,
     "metadata": {},
     "output_type": "execute_result"
    }
   ],
   "source": [
    "data['ratio_living'] = data['living_area']/data['total_area']\n",
    "data['ratio_kitchen'] = data['kitchen_area']/data['total_area']\n",
    "pivot_data = data.pivot_table(index='rooms', values=('ratio_living', 'ratio_kitchen'))\n",
    "pivot_data"
   ]
  },
  {
   "cell_type": "code",
   "execution_count": 25,
   "metadata": {},
   "outputs": [
    {
     "name": "stdout",
     "output_type": "stream",
     "text": [
      "<class 'pandas.core.frame.DataFrame'>\n",
      "RangeIndex: 23650 entries, 0 to 23649\n",
      "Data columns (total 31 columns):\n",
      "total_images            23650 non-null int64\n",
      "last_price              23650 non-null int64\n",
      "total_area              23650 non-null float64\n",
      "first_day_exposition    23650 non-null datetime64[ns]\n",
      "rooms                   23650 non-null int64\n",
      "ceiling_height          23650 non-null float64\n",
      "floors_total            23650 non-null int64\n",
      "living_area             23650 non-null float64\n",
      "floor                   23650 non-null int64\n",
      "is_apartment            23650 non-null bool\n",
      "studio                  23650 non-null bool\n",
      "open_plan               23650 non-null bool\n",
      "kitchen_area            23650 non-null float64\n",
      "balcony                 23650 non-null int64\n",
      "locality_name           23650 non-null object\n",
      "airports_nearest        23650 non-null float64\n",
      "city_centres_nearest    23650 non-null float64\n",
      "parks_around_3000       23650 non-null int64\n",
      "parks_nearest           23650 non-null float64\n",
      "ponds_around_3000       23650 non-null int64\n",
      "ponds_nearest           23650 non-null float64\n",
      "days_exposition         20470 non-null float64\n",
      "price_m3                23650 non-null int64\n",
      "week_d                  23650 non-null int64\n",
      "weekday_name            23650 non-null object\n",
      "month                   23650 non-null int64\n",
      "month_name              23650 non-null object\n",
      "year                    23650 non-null int64\n",
      "floor_cat               23650 non-null object\n",
      "ratio_living            23650 non-null float64\n",
      "ratio_kitchen           23650 non-null float64\n",
      "dtypes: bool(3), datetime64[ns](1), float64(11), int64(12), object(4)\n",
      "memory usage: 5.1+ MB\n"
     ]
    }
   ],
   "source": [
    "def living_area (row):\n",
    "    return pivot_data.loc[row['rooms'], 'ratio_living']\n",
    "def kitchen_area (row):\n",
    "    return pivot_data.loc[row['rooms'], 'ratio_kitchen']\n",
    "data.loc[data['living_area'].isna(), 'ratio_living'] = data.apply(living_area, axis=1)\n",
    "data.loc[data['living_area'].isna(), 'living_area'] = data['total_area'] * data['ratio_living']\n",
    "data.loc[data['kitchen_area'].isna(), 'ratio_kitchen'] = data.apply(kitchen_area, axis=1)\n",
    "data.loc[data['kitchen_area'].isna(), 'kitchen_area'] = data['total_area'] * data['ratio_kitchen']\n",
    "data.info()"
   ]
  },
  {
   "cell_type": "markdown",
   "metadata": {},
   "source": [
    "Добавляем колонки с соотношением жилой площади к общей и кухни к общей площади. В сводной таблице получили сколько примерно приходится на жилую площадь и площадь кухни от общей площади квартиры. Пустые значения в ratio_living, ratio_kitchen заполним вычесленными в сводной таблице значениями исходя из количества комнат. А потом выясняем примерные значения в kitchen_area, living_area"
   ]
  },
  {
   "cell_type": "markdown",
   "metadata": {},
   "source": [
    "## Исследовательский анализ данных"
   ]
  },
  {
   "cell_type": "code",
   "execution_count": 26,
   "metadata": {},
   "outputs": [
    {
     "data": {
      "image/png": "[encoded data removed]",
      "text/plain": [
       "<Figure size 720x360 with 1 Axes>"
      ]
     },
     "metadata": {
      "needs_background": "light"
     },
     "output_type": "display_data"
    },
    {
     "data": {
      "image/png": "[encoded data removed]",
      "text/plain": [
       "<Figure size 720x360 with 1 Axes>"
      ]
     },
     "metadata": {
      "needs_background": "light"
     },
     "output_type": "display_data"
    },
    {
     "data": {
      "image/png": "[encoded data removed]",
      "text/plain": [
       "<Figure size 720x360 with 1 Axes>"
      ]
     },
     "metadata": {
      "needs_background": "light"
     },
     "output_type": "display_data"
    },
    {
     "data": {
      "image/png": "[encoded data removed]",
      "text/plain": [
       "<Figure size 720x360 with 1 Axes>"
      ]
     },
     "metadata": {
      "needs_background": "light"
     },
     "output_type": "display_data"
    },
    {
     "data": {
      "image/png": "[encoded data removed]",
      "text/plain": [
       "<Figure size 720x360 with 1 Axes>"
      ]
     },
     "metadata": {
      "needs_background": "light"
     },
     "output_type": "display_data"
    }
   ],
   "source": [
    "import matplotlib.pyplot as plt\n",
    "data['last_price'] = data['last_price'] / 1000\n",
    "for col in ['total_area', 'last_price', 'rooms', 'ceiling_height', 'days_exposition']:\n",
    "    q1 = data[col].quantile(0.25)\n",
    "    q3 = data[col].quantile(0.75)\n",
    "    iqr = q3 - q1\n",
    "    low = q1 - iqr * 1.5\n",
    "    high = q3 + iqr * 1.5\n",
    "    min_val = data[col].min()\n",
    "    max_val = data[col].max()\n",
    "    \n",
    "    if min_val >= low:\n",
    "        min = min_val\n",
    "    else:\n",
    "        min = low\n",
    "    if max_val <= high:\n",
    "        max = max_val\n",
    "    else:\n",
    "        max = high\n",
    "    \n",
    "    hist = data[col].hist(bins=30, figsize=(10,5), range=(min, max))\n",
    "    hist.set_title(col)\n",
    "    plt.show()"
   ]
  },
  {
   "cell_type": "markdown",
   "metadata": {},
   "source": [
    "Строим гистограмы по параметрам общей площади, цены, числа комнат и высоты потолков и дней продажи"
   ]
  },
  {
   "cell_type": "code",
   "execution_count": 27,
   "metadata": {},
   "outputs": [
    {
     "data": {
      "text/plain": [
       "count    23650.000000\n",
       "mean        60.329069\n",
       "std         35.661808\n",
       "min         12.000000\n",
       "25%         40.000000\n",
       "50%         52.000000\n",
       "75%         69.700000\n",
       "max        900.000000\n",
       "Name: total_area, dtype: float64"
      ]
     },
     "execution_count": 27,
     "metadata": {},
     "output_type": "execute_result"
    }
   ],
   "source": [
    "data['total_area'].describe()"
   ]
  },
  {
   "cell_type": "code",
   "execution_count": 28,
   "metadata": {},
   "outputs": [
    {
     "data": {
      "text/plain": [
       "count     23650.000000\n",
       "mean       6541.126898\n",
       "std       10896.399175\n",
       "min          12.190000\n",
       "25%        3400.000000\n",
       "50%        4650.000000\n",
       "75%        6799.000000\n",
       "max      763000.000000\n",
       "Name: last_price, dtype: float64"
      ]
     },
     "execution_count": 28,
     "metadata": {},
     "output_type": "execute_result"
    }
   ],
   "source": [
    "data['last_price'].describe()"
   ]
  },
  {
   "cell_type": "code",
   "execution_count": 29,
   "metadata": {},
   "outputs": [
    {
     "data": {
      "text/plain": [
       "count    23650.000000\n",
       "mean         2.079323\n",
       "std          1.066426\n",
       "min          1.000000\n",
       "25%          1.000000\n",
       "50%          2.000000\n",
       "75%          3.000000\n",
       "max         19.000000\n",
       "Name: rooms, dtype: float64"
      ]
     },
     "execution_count": 29,
     "metadata": {},
     "output_type": "execute_result"
    }
   ],
   "source": [
    "data['rooms'].describe()"
   ]
  },
  {
   "cell_type": "code",
   "execution_count": 30,
   "metadata": {},
   "outputs": [
    {
     "data": {
      "text/plain": [
       "count    23650.000000\n",
       "mean         2.714762\n",
       "std          0.697994\n",
       "min          1.000000\n",
       "25%          2.550000\n",
       "50%          2.650000\n",
       "75%          2.750000\n",
       "max        100.000000\n",
       "Name: ceiling_height, dtype: float64"
      ]
     },
     "execution_count": 30,
     "metadata": {},
     "output_type": "execute_result"
    }
   ],
   "source": [
    "data['ceiling_height'].describe()"
   ]
  },
  {
   "cell_type": "code",
   "execution_count": 31,
   "metadata": {},
   "outputs": [
    {
     "data": {
      "text/plain": [
       "count    20470.000000\n",
       "mean       180.753200\n",
       "std        219.777916\n",
       "min          1.000000\n",
       "25%         45.000000\n",
       "50%         95.000000\n",
       "75%        231.000000\n",
       "max       1580.000000\n",
       "Name: days_exposition, dtype: float64"
      ]
     },
     "execution_count": 31,
     "metadata": {},
     "output_type": "execute_result"
    }
   ],
   "source": [
    "data['days_exposition'].describe()"
   ]
  },
  {
   "cell_type": "markdown",
   "metadata": {},
   "source": [
    "Самая часто встречающаяся площадь - от 30 до 80 кв.м. Есть артефакты - более 350 кв.м. Распределение нормальное.\n",
    "\n",
    "Самая часто встречающаяся стоимость квартир - 3-5 млн руб. Распределение нормальное.\n",
    "\n",
    "Больше всего выставлены на продажу 1,2,3-комнатных квартиры. Артефакты - квартиры с комнатами больше 6. Распределение Пуассона\n",
    "\n",
    "Чаще всего встречается высота потолков 2,5 м. Есть артефакты в 1 м и 100 м. Распределение Пуассона.\n",
    "\n",
    "Продажа обычно занимает по медиане 95 дней, слишком долгие продажи занимают более 231 дня, самые быстрые - до 45 дней. Средняя продажа - 180 дней."
   ]
  },
  {
   "cell_type": "code",
   "execution_count": 32,
   "metadata": {},
   "outputs": [
    {
     "data": {
      "image/png": "[encoded data removed]",
      "text/plain": [
       "<Figure size 432x288 with 1 Axes>"
      ]
     },
     "metadata": {
      "needs_background": "light"
     },
     "output_type": "display_data"
    },
    {
     "data": {
      "image/png": "[encoded data removed]",
      "text/plain": [
       "<Figure size 432x288 with 1 Axes>"
      ]
     },
     "metadata": {
      "needs_background": "light"
     },
     "output_type": "display_data"
    },
    {
     "data": {
      "image/png": "[encoded data removed]",
      "text/plain": [
       "<Figure size 432x288 with 1 Axes>"
      ]
     },
     "metadata": {
      "needs_background": "light"
     },
     "output_type": "display_data"
    },
    {
     "data": {
      "image/png": "[encoded data removed]",
      "text/plain": [
       "<Figure size 432x288 with 1 Axes>"
      ]
     },
     "metadata": {
      "needs_background": "light"
     },
     "output_type": "display_data"
    },
    {
     "data": {
      "image/png": "[encoded data removed]",
      "text/plain": [
       "<Figure size 432x288 with 1 Axes>"
      ]
     },
     "metadata": {
      "needs_background": "light"
     },
     "output_type": "display_data"
    }
   ],
   "source": [
    "for col in ['total_area', 'last_price', 'rooms', 'ceiling_height', 'days_exposition']:\n",
    "    q1 = data[col].quantile(0.25)\n",
    "    q3 = data[col].quantile(0.75)\n",
    "    iqr = q3 - q1\n",
    "    low = q1 - iqr * 2\n",
    "    high = q3 + iqr * 2\n",
    "\n",
    "    plt.ylim(low, high)\n",
    "    data.boxplot(col)\n",
    "    plt.show()"
   ]
  },
  {
   "cell_type": "markdown",
   "metadata": {},
   "source": [
    "Верхней границей отсева продолжительности размещения объявления составит - 1,5 интерквартильного размаха от 75%-квартиля ((231 - 45)*1,5 + 231 = 395)"
   ]
  },
  {
   "cell_type": "code",
   "execution_count": 33,
   "metadata": {},
   "outputs": [
    {
     "name": "stdout",
     "output_type": "stream",
     "text": [
      "<class 'pandas.core.frame.DataFrame'>\n",
      "Int64Index: 16512 entries, 1 to 23646\n",
      "Data columns (total 31 columns):\n",
      "total_images            16512 non-null int64\n",
      "last_price              16512 non-null float64\n",
      "total_area              16512 non-null float64\n",
      "first_day_exposition    16512 non-null datetime64[ns]\n",
      "rooms                   16512 non-null int64\n",
      "ceiling_height          16512 non-null float64\n",
      "floors_total            16512 non-null int64\n",
      "living_area             16512 non-null float64\n",
      "floor                   16512 non-null int64\n",
      "is_apartment            16512 non-null bool\n",
      "studio                  16512 non-null bool\n",
      "open_plan               16512 non-null bool\n",
      "kitchen_area            16512 non-null float64\n",
      "balcony                 16512 non-null int64\n",
      "locality_name           16512 non-null object\n",
      "airports_nearest        16512 non-null float64\n",
      "city_centres_nearest    16512 non-null float64\n",
      "parks_around_3000       16512 non-null int64\n",
      "parks_nearest           16512 non-null float64\n",
      "ponds_around_3000       16512 non-null int64\n",
      "ponds_nearest           16512 non-null float64\n",
      "days_exposition         16512 non-null float64\n",
      "price_m3                16512 non-null int64\n",
      "week_d                  16512 non-null int64\n",
      "weekday_name            16512 non-null object\n",
      "month                   16512 non-null int64\n",
      "month_name              16512 non-null object\n",
      "year                    16512 non-null int64\n",
      "floor_cat               16512 non-null object\n",
      "ratio_living            16512 non-null float64\n",
      "ratio_kitchen           16512 non-null float64\n",
      "dtypes: bool(3), datetime64[ns](1), float64(12), int64(11), object(4)\n",
      "memory usage: 3.7+ MB\n"
     ]
    }
   ],
   "source": [
    "good_data = data.query('total_area < 120 and 2.2 < ceiling_height <= 3 and days_exposition < 395 and rooms <= 6')\n",
    "good_data.info()"
   ]
  },
  {
   "cell_type": "code",
   "execution_count": 34,
   "metadata": {},
   "outputs": [
    {
     "data": {
      "text/plain": [
       "0.6981818181818182"
      ]
     },
     "execution_count": 34,
     "metadata": {},
     "output_type": "execute_result"
    }
   ],
   "source": [
    "len(good_data)/len(data)"
   ]
  },
  {
   "cell_type": "markdown",
   "metadata": {},
   "source": [
    "Исходный датафрейм сократился на 30%"
   ]
  },
  {
   "cell_type": "code",
   "execution_count": 35,
   "metadata": {},
   "outputs": [
    {
     "data": {
      "text/html": [
       "<div>\n",
       "<style scoped>\n",
       "    .dataframe tbody tr th:only-of-type {\n",
       "        vertical-align: middle;\n",
       "    }\n",
       "\n",
       "    .dataframe tbody tr th {\n",
       "        vertical-align: top;\n",
       "    }\n",
       "\n",
       "    .dataframe thead th {\n",
       "        text-align: right;\n",
       "    }\n",
       "</style>\n",
       "<table border=\"1\" class=\"dataframe\">\n",
       "  <thead>\n",
       "    <tr style=\"text-align: right;\">\n",
       "      <th></th>\n",
       "      <th>last_price</th>\n",
       "      <th>total_area</th>\n",
       "      <th>rooms</th>\n",
       "      <th>city_centres_nearest</th>\n",
       "    </tr>\n",
       "  </thead>\n",
       "  <tbody>\n",
       "    <tr>\n",
       "      <td>last_price</td>\n",
       "      <td>1.000000</td>\n",
       "      <td>0.702418</td>\n",
       "      <td>0.410831</td>\n",
       "      <td>-0.244526</td>\n",
       "    </tr>\n",
       "    <tr>\n",
       "      <td>total_area</td>\n",
       "      <td>0.702418</td>\n",
       "      <td>1.000000</td>\n",
       "      <td>0.793411</td>\n",
       "      <td>-0.127709</td>\n",
       "    </tr>\n",
       "    <tr>\n",
       "      <td>rooms</td>\n",
       "      <td>0.410831</td>\n",
       "      <td>0.793411</td>\n",
       "      <td>1.000000</td>\n",
       "      <td>-0.084132</td>\n",
       "    </tr>\n",
       "    <tr>\n",
       "      <td>city_centres_nearest</td>\n",
       "      <td>-0.244526</td>\n",
       "      <td>-0.127709</td>\n",
       "      <td>-0.084132</td>\n",
       "      <td>1.000000</td>\n",
       "    </tr>\n",
       "  </tbody>\n",
       "</table>\n",
       "</div>"
      ],
      "text/plain": [
       "                      last_price  total_area     rooms  city_centres_nearest\n",
       "last_price              1.000000    0.702418  0.410831             -0.244526\n",
       "total_area              0.702418    1.000000  0.793411             -0.127709\n",
       "rooms                   0.410831    0.793411  1.000000             -0.084132\n",
       "city_centres_nearest   -0.244526   -0.127709 -0.084132              1.000000"
      ]
     },
     "execution_count": 35,
     "metadata": {},
     "output_type": "execute_result"
    }
   ],
   "source": [
    "good_data[['last_price', 'total_area', 'rooms', 'city_centres_nearest']].corr()"
   ]
  },
  {
   "cell_type": "code",
   "execution_count": 36,
   "metadata": {},
   "outputs": [
    {
     "data": {
      "image/png": "[encoded data removed]",
      "text/plain": [
       "<Figure size 432x288 with 1 Axes>"
      ]
     },
     "metadata": {
      "needs_background": "light"
     },
     "output_type": "display_data"
    },
    {
     "data": {
      "image/png": "[encoded data removed]",
      "text/plain": [
       "<Figure size 432x288 with 1 Axes>"
      ]
     },
     "metadata": {
      "needs_background": "light"
     },
     "output_type": "display_data"
    },
    {
     "data": {
      "image/png": "[encoded data removed]",
      "text/plain": [
       "<Figure size 432x288 with 1 Axes>"
      ]
     },
     "metadata": {
      "needs_background": "light"
     },
     "output_type": "display_data"
    }
   ],
   "source": [
    "for col in ['total_area', 'rooms', 'city_centres_nearest']:\n",
    "    good_data.plot(y='last_price', x=col, kind='scatter')\n",
    "    plt.show()"
   ]
  },
  {
   "cell_type": "markdown",
   "metadata": {},
   "source": [
    "Изучим зависимость цены от площади, числа комнат, удалённости от центра. Наблюдается высокая прямая зависимость между стоимость и общей площадью квартиры, количеством комнат.\n",
    "Обратная пропорциональность между стоимостью с расстоянием от центра города."
   ]
  },
  {
   "cell_type": "code",
   "execution_count": 37,
   "metadata": {},
   "outputs": [
    {
     "data": {
      "text/html": [
       "<div>\n",
       "<style scoped>\n",
       "    .dataframe tbody tr th:only-of-type {\n",
       "        vertical-align: middle;\n",
       "    }\n",
       "\n",
       "    .dataframe tbody tr th {\n",
       "        vertical-align: top;\n",
       "    }\n",
       "\n",
       "    .dataframe thead th {\n",
       "        text-align: right;\n",
       "    }\n",
       "</style>\n",
       "<table border=\"1\" class=\"dataframe\">\n",
       "  <thead>\n",
       "    <tr style=\"text-align: right;\">\n",
       "      <th></th>\n",
       "      <th>max</th>\n",
       "      <th>mean</th>\n",
       "      <th>median</th>\n",
       "    </tr>\n",
       "    <tr>\n",
       "      <th>floor_cat</th>\n",
       "      <th></th>\n",
       "      <th></th>\n",
       "      <th></th>\n",
       "    </tr>\n",
       "  </thead>\n",
       "  <tbody>\n",
       "    <tr>\n",
       "      <td>Другой</td>\n",
       "      <td>48000.0</td>\n",
       "      <td>5178.446255</td>\n",
       "      <td>4500.0</td>\n",
       "    </tr>\n",
       "    <tr>\n",
       "      <td>Первый</td>\n",
       "      <td>31500.0</td>\n",
       "      <td>4004.164384</td>\n",
       "      <td>3670.0</td>\n",
       "    </tr>\n",
       "    <tr>\n",
       "      <td>Последний</td>\n",
       "      <td>39000.0</td>\n",
       "      <td>4613.988031</td>\n",
       "      <td>3990.0</td>\n",
       "    </tr>\n",
       "  </tbody>\n",
       "</table>\n",
       "</div>"
      ],
      "text/plain": [
       "               max         mean  median\n",
       "floor_cat                              \n",
       "Другой     48000.0  5178.446255  4500.0\n",
       "Первый     31500.0  4004.164384  3670.0\n",
       "Последний  39000.0  4613.988031  3990.0"
      ]
     },
     "execution_count": 37,
     "metadata": {},
     "output_type": "execute_result"
    }
   ],
   "source": [
    "good_data.pivot_table(index='floor_cat', values='last_price', aggfunc=('mean', 'median', 'max'))"
   ]
  },
  {
   "cell_type": "markdown",
   "metadata": {},
   "source": [
    "Изучим зависимость между стоимостью, этажом жилого помещения (первый, последний, другой). На первых этажах стоимость аметно ниже, чем в других категориях. Дороже всего продаются квартиры на этажах из категории \"другой\""
   ]
  },
  {
   "cell_type": "code",
   "execution_count": 38,
   "metadata": {},
   "outputs": [
    {
     "data": {
      "text/plain": [
       "<matplotlib.axes._subplots.AxesSubplot at 0x7fd35dc3ac10>"
      ]
     },
     "execution_count": 38,
     "metadata": {},
     "output_type": "execute_result"
    },
    {
     "data": {
      "image/png": "[encoded data removed]",
      "text/plain": [
       "<Figure size 864x360 with 1 Axes>"
      ]
     },
     "metadata": {
      "needs_background": "light"
     },
     "output_type": "display_data"
    },
    {
     "data": {
      "image/png": "[encoded data removed]",
      "text/plain": [
       "<Figure size 864x360 with 1 Axes>"
      ]
     },
     "metadata": {
      "needs_background": "light"
     },
     "output_type": "display_data"
    },
    {
     "data": {
      "image/png": "[encoded data removed]",
      "text/plain": [
       "<Figure size 864x360 with 1 Axes>"
      ]
     },
     "metadata": {
      "needs_background": "light"
     },
     "output_type": "display_data"
    }
   ],
   "source": [
    "good_data.pivot_table(index='week_d', values='last_price', aggfunc=('mean', 'median')).plot(style='o-', grid=True, figsize=(12,5))\n",
    "good_data.pivot_table(index='month', values='last_price', aggfunc=('mean', 'median')).plot(style='o-', grid=True, figsize=(12,5))\n",
    "good_data.pivot_table(index='year', values='last_price', aggfunc=('mean', 'median')).plot(style='o-', grid=True, figsize=(12,5))"
   ]
  },
  {
   "cell_type": "markdown",
   "metadata": {},
   "source": [
    "Изучим зависимость между стоимостью и датой размещения. По дням почти нет никаких изменений по сравнению с другими днями недели, кроме субботы. По месяцам следыющие выводы: наивысший показатель стоимости жилплощади - апрель, август и ноябрь, наихудший - в марте, июне, октябре и декабре. По годам падение средней цены с 2015 по 2018 г. и её последующим ростом."
   ]
  },
  {
   "cell_type": "code",
   "execution_count": 39,
   "metadata": {},
   "outputs": [
    {
     "data": {
      "text/html": [
       "<div>\n",
       "<style scoped>\n",
       "    .dataframe tbody tr th:only-of-type {\n",
       "        vertical-align: middle;\n",
       "    }\n",
       "\n",
       "    .dataframe tbody tr th {\n",
       "        vertical-align: top;\n",
       "    }\n",
       "\n",
       "    .dataframe thead th {\n",
       "        text-align: right;\n",
       "    }\n",
       "</style>\n",
       "<table border=\"1\" class=\"dataframe\">\n",
       "  <thead>\n",
       "    <tr style=\"text-align: right;\">\n",
       "      <th></th>\n",
       "      <th>mean</th>\n",
       "      <th>median</th>\n",
       "    </tr>\n",
       "    <tr>\n",
       "      <th>locality_name</th>\n",
       "      <th></th>\n",
       "      <th></th>\n",
       "    </tr>\n",
       "  </thead>\n",
       "  <tbody>\n",
       "    <tr>\n",
       "      <td>Санкт-Петербург</td>\n",
       "      <td>107214.302757</td>\n",
       "      <td>101983.0</td>\n",
       "    </tr>\n",
       "    <tr>\n",
       "      <td>Пушкин</td>\n",
       "      <td>100938.151394</td>\n",
       "      <td>97625.0</td>\n",
       "    </tr>\n",
       "    <tr>\n",
       "      <td>Кудрово</td>\n",
       "      <td>94623.050891</td>\n",
       "      <td>95052.0</td>\n",
       "    </tr>\n",
       "    <tr>\n",
       "      <td>Парголово</td>\n",
       "      <td>89282.152416</td>\n",
       "      <td>91237.0</td>\n",
       "    </tr>\n",
       "    <tr>\n",
       "      <td>Мурино</td>\n",
       "      <td>86058.944334</td>\n",
       "      <td>86268.0</td>\n",
       "    </tr>\n",
       "    <tr>\n",
       "      <td>Шушары</td>\n",
       "      <td>78057.530055</td>\n",
       "      <td>76220.0</td>\n",
       "    </tr>\n",
       "    <tr>\n",
       "      <td>Колпино</td>\n",
       "      <td>74788.952030</td>\n",
       "      <td>73529.0</td>\n",
       "    </tr>\n",
       "    <tr>\n",
       "      <td>Всеволожск</td>\n",
       "      <td>69005.045775</td>\n",
       "      <td>65789.0</td>\n",
       "    </tr>\n",
       "    <tr>\n",
       "      <td>Гатчина</td>\n",
       "      <td>68307.550661</td>\n",
       "      <td>67187.0</td>\n",
       "    </tr>\n",
       "    <tr>\n",
       "      <td>Выборг</td>\n",
       "      <td>57074.803468</td>\n",
       "      <td>56756.0</td>\n",
       "    </tr>\n",
       "  </tbody>\n",
       "</table>\n",
       "</div>"
      ],
      "text/plain": [
       "                          mean    median\n",
       "locality_name                           \n",
       "Санкт-Петербург  107214.302757  101983.0\n",
       "Пушкин           100938.151394   97625.0\n",
       "Кудрово           94623.050891   95052.0\n",
       "Парголово         89282.152416   91237.0\n",
       "Мурино            86058.944334   86268.0\n",
       "Шушары            78057.530055   76220.0\n",
       "Колпино           74788.952030   73529.0\n",
       "Всеволожск        69005.045775   65789.0\n",
       "Гатчина           68307.550661   67187.0\n",
       "Выборг            57074.803468   56756.0"
      ]
     },
     "execution_count": 39,
     "metadata": {},
     "output_type": "execute_result"
    }
   ],
   "source": [
    "top_10_locality = good_data.groupby('locality_name')['locality_name'].count().sort_values(ascending=False).head(10)\n",
    "top_10_good_data = good_data.query('locality_name in @top_10_locality.index')\n",
    "pivot_top_10_good_data = top_10_good_data.pivot_table(index='locality_name', values='price_m3', aggfunc=('mean', 'median')).sort_values('mean', ascending=False)\n",
    "pivot_top_10_good_data"
   ]
  },
  {
   "cell_type": "code",
   "execution_count": 40,
   "metadata": {},
   "outputs": [
    {
     "data": {
      "text/plain": [
       "<matplotlib.axes._subplots.AxesSubplot at 0x7fd35db93690>"
      ]
     },
     "execution_count": 40,
     "metadata": {},
     "output_type": "execute_result"
    },
    {
     "data": {
      "image/png": "[encoded data removed]",
      "text/plain": [
       "<Figure size 1080x360 with 1 Axes>"
      ]
     },
     "metadata": {
      "needs_background": "light"
     },
     "output_type": "display_data"
    }
   ],
   "source": [
    "pivot_top_10_good_data.plot(figsize=(15,5), kind='bar', grid=True)"
   ]
  },
  {
   "cell_type": "markdown",
   "metadata": {},
   "source": [
    "Рассмотрим среднюю цену за кв.м в 10 населённых пунктах с наибольшим числом объявлений. Самый дорогой квадратный метр в Сантк-Петербурге, наименее - в Выборге"
   ]
  },
  {
   "cell_type": "code",
   "execution_count": 41,
   "metadata": {},
   "outputs": [
    {
     "name": "stderr",
     "output_type": "stream",
     "text": [
      "/opt/conda/lib/python3.7/site-packages/ipykernel_launcher.py:2: SettingWithCopyWarning: \n",
      "A value is trying to be set on a copy of a slice from a DataFrame.\n",
      "Try using .loc[row_indexer,col_indexer] = value instead\n",
      "\n",
      "See the caveats in the documentation: http://pandas.pydata.org/pandas-docs/stable/user_guide/indexing.html#returning-a-view-versus-a-copy\n",
      "  \n",
      "/opt/conda/lib/python3.7/site-packages/ipykernel_launcher.py:3: SettingWithCopyWarning: \n",
      "A value is trying to be set on a copy of a slice from a DataFrame.\n",
      "Try using .loc[row_indexer,col_indexer] = value instead\n",
      "\n",
      "See the caveats in the documentation: http://pandas.pydata.org/pandas-docs/stable/user_guide/indexing.html#returning-a-view-versus-a-copy\n",
      "  This is separate from the ipykernel package so we can avoid doing imports until\n"
     ]
    },
    {
     "data": {
      "text/plain": [
       "<matplotlib.axes._subplots.AxesSubplot at 0x7fd3553ffc10>"
      ]
     },
     "execution_count": 41,
     "metadata": {},
     "output_type": "execute_result"
    },
    {
     "data": {
      "image/png": "[encoded data removed]",
      "text/plain": [
       "<Figure size 1080x360 with 1 Axes>"
      ]
     },
     "metadata": {
      "needs_background": "light"
     },
     "output_type": "display_data"
    }
   ],
   "source": [
    "spb_good_data = good_data.query('locality_name == \"Санкт-Петербург\"')\n",
    "spb_good_data['km_centre'] = spb_good_data['city_centres_nearest']/1000\n",
    "spb_good_data['km_centre'] = spb_good_data['km_centre'].astype('int64')\n",
    "spb_good_data_pivot = spb_good_data.pivot_table(index='km_centre', values='price_m3', aggfunc='mean')\n",
    "spb_good_data_pivot.plot(grid=True, style='o-', figsize=(15,5))"
   ]
  },
  {
   "cell_type": "markdown",
   "metadata": {},
   "source": [
    "Рассмотрим как цена за кв.м реагирует на увеличение расстояния от центра города. Найдем условный центр (его границу). Падение на отметке в 2-3 км может быть выбросом в данных, лучше взять отметку в 7-8 км"
   ]
  },
  {
   "cell_type": "code",
   "execution_count": 42,
   "metadata": {},
   "outputs": [],
   "source": [
    "spb_centre_good_data = spb_good_data.query('km_centre <= 8')"
   ]
  },
  {
   "cell_type": "markdown",
   "metadata": {},
   "source": [
    "Выделим сегмент квартир в центре, изучим его по параметрам: цена, площадь, число комнат, высота потолков. "
   ]
  },
  {
   "cell_type": "code",
   "execution_count": 43,
   "metadata": {},
   "outputs": [
    {
     "data": {
      "text/plain": [
       "count    1997.000000\n",
       "mean       64.031522\n",
       "std        22.974145\n",
       "min        12.000000\n",
       "25%        45.100000\n",
       "50%        61.000000\n",
       "75%        80.500000\n",
       "max       119.000000\n",
       "Name: total_area, dtype: float64"
      ]
     },
     "execution_count": 43,
     "metadata": {},
     "output_type": "execute_result"
    },
    {
     "data": {
      "image/png": "[encoded data removed]",
      "text/plain": [
       "<Figure size 720x360 with 1 Axes>"
      ]
     },
     "metadata": {
      "needs_background": "light"
     },
     "output_type": "display_data"
    }
   ],
   "source": [
    "spb_centre_good_data['total_area'].hist(bins=50, figsize=(10,5), range=(0,120))\n",
    "spb_centre_good_data['total_area'].describe()"
   ]
  },
  {
   "cell_type": "markdown",
   "metadata": {},
   "source": [
    "Распределение нормальное, в основном площадь составляет 40-80 кв.м"
   ]
  },
  {
   "cell_type": "code",
   "execution_count": 44,
   "metadata": {},
   "outputs": [
    {
     "data": {
      "text/plain": [
       "count     1997.000000\n",
       "mean      8109.021574\n",
       "std       4557.462736\n",
       "min       1600.000000\n",
       "25%       5200.000000\n",
       "50%       6990.000000\n",
       "75%       9520.000000\n",
       "max      48000.000000\n",
       "Name: last_price, dtype: float64"
      ]
     },
     "execution_count": 44,
     "metadata": {},
     "output_type": "execute_result"
    },
    {
     "data": {
      "image/png": "[encoded data removed]",
      "text/plain": [
       "<Figure size 720x360 with 1 Axes>"
      ]
     },
     "metadata": {
      "needs_background": "light"
     },
     "output_type": "display_data"
    }
   ],
   "source": [
    "spb_centre_good_data['last_price'].hist(bins=30, figsize=(10,5), range=(0,20000))\n",
    "spb_centre_good_data['last_price'].describe()"
   ]
  },
  {
   "cell_type": "markdown",
   "metadata": {},
   "source": [
    "В основном жилплощадь отдают по стоимсоти от 3 до 8 млн"
   ]
  },
  {
   "cell_type": "code",
   "execution_count": 45,
   "metadata": {},
   "outputs": [
    {
     "data": {
      "text/plain": [
       "count    1997.000000\n",
       "mean        2.210816\n",
       "std         0.927277\n",
       "min         1.000000\n",
       "25%         2.000000\n",
       "50%         2.000000\n",
       "75%         3.000000\n",
       "max         6.000000\n",
       "Name: rooms, dtype: float64"
      ]
     },
     "execution_count": 45,
     "metadata": {},
     "output_type": "execute_result"
    },
    {
     "data": {
      "image/png": "[encoded data removed]",
      "text/plain": [
       "<Figure size 720x360 with 1 Axes>"
      ]
     },
     "metadata": {
      "needs_background": "light"
     },
     "output_type": "display_data"
    }
   ],
   "source": [
    "spb_centre_good_data['rooms'].hist(bins=10, figsize=(10,5), range=(0,10))\n",
    "spb_centre_good_data['rooms'].describe()"
   ]
  },
  {
   "cell_type": "markdown",
   "metadata": {},
   "source": [
    "Продаются в основном квартиры 2-4 комнаты"
   ]
  },
  {
   "cell_type": "code",
   "execution_count": 46,
   "metadata": {},
   "outputs": [
    {
     "data": {
      "text/plain": [
       "count    1997.000000\n",
       "mean        2.752278\n",
       "std         0.181922\n",
       "min         2.400000\n",
       "25%         2.550000\n",
       "50%         2.750000\n",
       "75%         3.000000\n",
       "max         3.000000\n",
       "Name: ceiling_height, dtype: float64"
      ]
     },
     "execution_count": 46,
     "metadata": {},
     "output_type": "execute_result"
    },
    {
     "data": {
      "image/png": "[encoded data removed]",
      "text/plain": [
       "<Figure size 720x360 with 1 Axes>"
      ]
     },
     "metadata": {
      "needs_background": "light"
     },
     "output_type": "display_data"
    }
   ],
   "source": [
    "spb_centre_good_data['ceiling_height'].hist(bins=30, figsize=(10,5), range=(0,10))\n",
    "spb_centre_good_data['ceiling_height'].describe()"
   ]
  },
  {
   "cell_type": "markdown",
   "metadata": {},
   "source": [
    "2,5 метра потолки наиболее часто встречаются"
   ]
  },
  {
   "cell_type": "code",
   "execution_count": 47,
   "metadata": {},
   "outputs": [
    {
     "data": {
      "text/html": [
       "<div>\n",
       "<style scoped>\n",
       "    .dataframe tbody tr th:only-of-type {\n",
       "        vertical-align: middle;\n",
       "    }\n",
       "\n",
       "    .dataframe tbody tr th {\n",
       "        vertical-align: top;\n",
       "    }\n",
       "\n",
       "    .dataframe thead th {\n",
       "        text-align: right;\n",
       "    }\n",
       "</style>\n",
       "<table border=\"1\" class=\"dataframe\">\n",
       "  <thead>\n",
       "    <tr style=\"text-align: right;\">\n",
       "      <th></th>\n",
       "      <th>last_price</th>\n",
       "      <th>days_exposition</th>\n",
       "      <th>rooms</th>\n",
       "      <th>city_centres_nearest</th>\n",
       "      <th>ceiling_height</th>\n",
       "    </tr>\n",
       "  </thead>\n",
       "  <tbody>\n",
       "    <tr>\n",
       "      <td>last_price</td>\n",
       "      <td>1.000000</td>\n",
       "      <td>0.110812</td>\n",
       "      <td>0.380946</td>\n",
       "      <td>-0.151414</td>\n",
       "      <td>0.174781</td>\n",
       "    </tr>\n",
       "    <tr>\n",
       "      <td>days_exposition</td>\n",
       "      <td>0.110812</td>\n",
       "      <td>1.000000</td>\n",
       "      <td>0.108261</td>\n",
       "      <td>-0.054424</td>\n",
       "      <td>0.046787</td>\n",
       "    </tr>\n",
       "    <tr>\n",
       "      <td>rooms</td>\n",
       "      <td>0.380946</td>\n",
       "      <td>0.108261</td>\n",
       "      <td>1.000000</td>\n",
       "      <td>-0.191972</td>\n",
       "      <td>0.163853</td>\n",
       "    </tr>\n",
       "    <tr>\n",
       "      <td>city_centres_nearest</td>\n",
       "      <td>-0.151414</td>\n",
       "      <td>-0.054424</td>\n",
       "      <td>-0.191972</td>\n",
       "      <td>1.000000</td>\n",
       "      <td>-0.216619</td>\n",
       "    </tr>\n",
       "    <tr>\n",
       "      <td>ceiling_height</td>\n",
       "      <td>0.174781</td>\n",
       "      <td>0.046787</td>\n",
       "      <td>0.163853</td>\n",
       "      <td>-0.216619</td>\n",
       "      <td>1.000000</td>\n",
       "    </tr>\n",
       "  </tbody>\n",
       "</table>\n",
       "</div>"
      ],
      "text/plain": [
       "                      last_price  days_exposition     rooms  \\\n",
       "last_price              1.000000         0.110812  0.380946   \n",
       "days_exposition         0.110812         1.000000  0.108261   \n",
       "rooms                   0.380946         0.108261  1.000000   \n",
       "city_centres_nearest   -0.151414        -0.054424 -0.191972   \n",
       "ceiling_height          0.174781         0.046787  0.163853   \n",
       "\n",
       "                      city_centres_nearest  ceiling_height  \n",
       "last_price                       -0.151414        0.174781  \n",
       "days_exposition                  -0.054424        0.046787  \n",
       "rooms                            -0.191972        0.163853  \n",
       "city_centres_nearest              1.000000       -0.216619  \n",
       "ceiling_height                   -0.216619        1.000000  "
      ]
     },
     "execution_count": 47,
     "metadata": {},
     "output_type": "execute_result"
    }
   ],
   "source": [
    "spb_centre_good_data[['last_price', 'days_exposition', 'rooms', 'city_centres_nearest', 'ceiling_height']].corr()"
   ]
  },
  {
   "cell_type": "code",
   "execution_count": 48,
   "metadata": {},
   "outputs": [
    {
     "data": {
      "text/html": [
       "<div>\n",
       "<style scoped>\n",
       "    .dataframe tbody tr th:only-of-type {\n",
       "        vertical-align: middle;\n",
       "    }\n",
       "\n",
       "    .dataframe tbody tr th {\n",
       "        vertical-align: top;\n",
       "    }\n",
       "\n",
       "    .dataframe thead th {\n",
       "        text-align: right;\n",
       "    }\n",
       "</style>\n",
       "<table border=\"1\" class=\"dataframe\">\n",
       "  <thead>\n",
       "    <tr style=\"text-align: right;\">\n",
       "      <th></th>\n",
       "      <th>last_price</th>\n",
       "      <th>days_exposition</th>\n",
       "      <th>rooms</th>\n",
       "      <th>city_centres_nearest</th>\n",
       "      <th>ceiling_height</th>\n",
       "    </tr>\n",
       "  </thead>\n",
       "  <tbody>\n",
       "    <tr>\n",
       "      <td>last_price</td>\n",
       "      <td>1.000000</td>\n",
       "      <td>0.080955</td>\n",
       "      <td>0.474802</td>\n",
       "      <td>-0.118042</td>\n",
       "      <td>0.335937</td>\n",
       "    </tr>\n",
       "    <tr>\n",
       "      <td>days_exposition</td>\n",
       "      <td>0.080955</td>\n",
       "      <td>1.000000</td>\n",
       "      <td>0.066863</td>\n",
       "      <td>0.010332</td>\n",
       "      <td>0.057437</td>\n",
       "    </tr>\n",
       "    <tr>\n",
       "      <td>rooms</td>\n",
       "      <td>0.474802</td>\n",
       "      <td>0.066863</td>\n",
       "      <td>1.000000</td>\n",
       "      <td>-0.036889</td>\n",
       "      <td>-0.101389</td>\n",
       "    </tr>\n",
       "    <tr>\n",
       "      <td>city_centres_nearest</td>\n",
       "      <td>-0.118042</td>\n",
       "      <td>0.010332</td>\n",
       "      <td>-0.036889</td>\n",
       "      <td>1.000000</td>\n",
       "      <td>0.018750</td>\n",
       "    </tr>\n",
       "    <tr>\n",
       "      <td>ceiling_height</td>\n",
       "      <td>0.335937</td>\n",
       "      <td>0.057437</td>\n",
       "      <td>-0.101389</td>\n",
       "      <td>0.018750</td>\n",
       "      <td>1.000000</td>\n",
       "    </tr>\n",
       "  </tbody>\n",
       "</table>\n",
       "</div>"
      ],
      "text/plain": [
       "                      last_price  days_exposition     rooms  \\\n",
       "last_price              1.000000         0.080955  0.474802   \n",
       "days_exposition         0.080955         1.000000  0.066863   \n",
       "rooms                   0.474802         0.066863  1.000000   \n",
       "city_centres_nearest   -0.118042         0.010332 -0.036889   \n",
       "ceiling_height          0.335937         0.057437 -0.101389   \n",
       "\n",
       "                      city_centres_nearest  ceiling_height  \n",
       "last_price                       -0.118042        0.335937  \n",
       "days_exposition                   0.010332        0.057437  \n",
       "rooms                            -0.036889       -0.101389  \n",
       "city_centres_nearest              1.000000        0.018750  \n",
       "ceiling_height                    0.018750        1.000000  "
      ]
     },
     "execution_count": 48,
     "metadata": {},
     "output_type": "execute_result"
    }
   ],
   "source": [
    "outer_spb_good_data = spb_good_data.query('km_centre > 8')\n",
    "outer_spb_good_data[['last_price', 'days_exposition', 'rooms', 'city_centres_nearest', 'ceiling_height']].corr()"
   ]
  },
  {
   "cell_type": "markdown",
   "metadata": {},
   "source": [
    "Чувствительность цены к удалению от центра города незначительна в центре города, присутствует ощутимая корреляция с продолжительностью размещения объявления для центра города. Цена меньше реагируют на увеличение числа комнат в центре города, чем за пределами центра. Хорошая корреляция с высотностью потолков, более выражена за пределами центра города."
   ]
  },
  {
   "cell_type": "code",
   "execution_count": 49,
   "metadata": {},
   "outputs": [
    {
     "data": {
      "image/png": "[encoded data removed]",
      "text/plain": [
       "<Figure size 720x504 with 2 Axes>"
      ]
     },
     "metadata": {
      "needs_background": "light"
     },
     "output_type": "display_data"
    },
    {
     "data": {
      "image/png": "[encoded data removed]",
      "text/plain": [
       "<Figure size 720x504 with 2 Axes>"
      ]
     },
     "metadata": {
      "needs_background": "light"
     },
     "output_type": "display_data"
    },
    {
     "data": {
      "image/png": "[encoded data removed]",
      "text/plain": [
       "<Figure size 720x504 with 2 Axes>"
      ]
     },
     "metadata": {
      "needs_background": "light"
     },
     "output_type": "display_data"
    },
    {
     "data": {
      "image/png": "[encoded data removed]",
      "text/plain": [
       "<Figure size 720x504 with 2 Axes>"
      ]
     },
     "metadata": {
      "needs_background": "light"
     },
     "output_type": "display_data"
    }
   ],
   "source": [
    "for col in ['total_area', 'rooms', 'city_centres_nearest', 'ceiling_height']:\n",
    "    spb_centre_plot = spb_centre_good_data.plot(y='last_price', x=col, kind='hexbin', gridsize=25, sharex=False, figsize=(10,7))\n",
    "    plt.show()"
   ]
  },
  {
   "cell_type": "markdown",
   "metadata": {},
   "source": [
    "График зависимости стоимости от расстояния от центра города показывает, что стоимость фактически не реагирует на увеличение расстояния. Также она слабо реагирует на увеличение числа комнат, больше находясь в прямой зависимости от общей площади. Потолки заметного влияния на стоимость также не оказывают."
   ]
  },
  {
   "cell_type": "code",
   "execution_count": 50,
   "metadata": {},
   "outputs": [
    {
     "data": {
      "text/html": [
       "<div>\n",
       "<style scoped>\n",
       "    .dataframe tbody tr th:only-of-type {\n",
       "        vertical-align: middle;\n",
       "    }\n",
       "\n",
       "    .dataframe tbody tr th {\n",
       "        vertical-align: top;\n",
       "    }\n",
       "\n",
       "    .dataframe thead th {\n",
       "        text-align: right;\n",
       "    }\n",
       "</style>\n",
       "<table border=\"1\" class=\"dataframe\">\n",
       "  <thead>\n",
       "    <tr style=\"text-align: right;\">\n",
       "      <th></th>\n",
       "      <th>max</th>\n",
       "      <th>mean</th>\n",
       "      <th>median</th>\n",
       "    </tr>\n",
       "    <tr>\n",
       "      <th>floor_cat</th>\n",
       "      <th></th>\n",
       "      <th></th>\n",
       "      <th></th>\n",
       "    </tr>\n",
       "  </thead>\n",
       "  <tbody>\n",
       "    <tr>\n",
       "      <td>Другой</td>\n",
       "      <td>48000.0</td>\n",
       "      <td>8430.225059</td>\n",
       "      <td>7360.0</td>\n",
       "    </tr>\n",
       "    <tr>\n",
       "      <td>Первый</td>\n",
       "      <td>31500.0</td>\n",
       "      <td>6237.731745</td>\n",
       "      <td>5400.0</td>\n",
       "    </tr>\n",
       "    <tr>\n",
       "      <td>Последний</td>\n",
       "      <td>39000.0</td>\n",
       "      <td>8060.924881</td>\n",
       "      <td>7000.0</td>\n",
       "    </tr>\n",
       "  </tbody>\n",
       "</table>\n",
       "</div>"
      ],
      "text/plain": [
       "               max         mean  median\n",
       "floor_cat                              \n",
       "Другой     48000.0  8430.225059  7360.0\n",
       "Первый     31500.0  6237.731745  5400.0\n",
       "Последний  39000.0  8060.924881  7000.0"
      ]
     },
     "execution_count": 50,
     "metadata": {},
     "output_type": "execute_result"
    }
   ],
   "source": [
    "spb_centre_good_data.pivot_table(index='floor_cat', values='last_price', aggfunc=('mean', 'median', 'max'))"
   ]
  },
  {
   "cell_type": "code",
   "execution_count": 51,
   "metadata": {},
   "outputs": [
    {
     "data": {
      "text/html": [
       "<div>\n",
       "<style scoped>\n",
       "    .dataframe tbody tr th:only-of-type {\n",
       "        vertical-align: middle;\n",
       "    }\n",
       "\n",
       "    .dataframe tbody tr th {\n",
       "        vertical-align: top;\n",
       "    }\n",
       "\n",
       "    .dataframe thead th {\n",
       "        text-align: right;\n",
       "    }\n",
       "</style>\n",
       "<table border=\"1\" class=\"dataframe\">\n",
       "  <thead>\n",
       "    <tr style=\"text-align: right;\">\n",
       "      <th></th>\n",
       "      <th>max</th>\n",
       "      <th>mean</th>\n",
       "      <th>median</th>\n",
       "    </tr>\n",
       "    <tr>\n",
       "      <th>floor_cat</th>\n",
       "      <th></th>\n",
       "      <th></th>\n",
       "      <th></th>\n",
       "    </tr>\n",
       "  </thead>\n",
       "  <tbody>\n",
       "    <tr>\n",
       "      <td>Другой</td>\n",
       "      <td>38000.0</td>\n",
       "      <td>5443.487283</td>\n",
       "      <td>4800.0</td>\n",
       "    </tr>\n",
       "    <tr>\n",
       "      <td>Первый</td>\n",
       "      <td>21600.0</td>\n",
       "      <td>4604.130973</td>\n",
       "      <td>4200.0</td>\n",
       "    </tr>\n",
       "    <tr>\n",
       "      <td>Последний</td>\n",
       "      <td>18500.0</td>\n",
       "      <td>5012.916267</td>\n",
       "      <td>4400.0</td>\n",
       "    </tr>\n",
       "  </tbody>\n",
       "</table>\n",
       "</div>"
      ],
      "text/plain": [
       "               max         mean  median\n",
       "floor_cat                              \n",
       "Другой     38000.0  5443.487283  4800.0\n",
       "Первый     21600.0  4604.130973  4200.0\n",
       "Последний  18500.0  5012.916267  4400.0"
      ]
     },
     "execution_count": 51,
     "metadata": {},
     "output_type": "execute_result"
    }
   ],
   "source": [
    "outer_spb_good_data.pivot_table(index='floor_cat', values='last_price', aggfunc=('mean', 'median', 'max'))"
   ]
  },
  {
   "cell_type": "markdown",
   "metadata": {},
   "source": [
    "Тенденция совпадает - дороже продается квартира на этажаъ из категории \"другой\", потом идет последний этаж, дешевле всего - первый этаж"
   ]
  },
  {
   "cell_type": "markdown",
   "metadata": {},
   "source": [
    "## Общий вывод"
   ]
  },
  {
   "cell_type": "markdown",
   "metadata": {},
   "source": [
    "В центре Санкт-Петербурга (с границей 7-8 км) представлены на продажу более просторные квартиры с высокими потолками (до 3 метров), чем по всему городу. Далее стоимость квартиры падает (после 7-8км). Квартиры на первых этажах продаются дешевле, чем на последних или \"других\". Число комнат влияет на стоимость квартиры (в сторону роста) до значения \"3\" включительно. Чем дольше продается квартира по, тем выше цена - правило работает больше для центра города. Таким образом, основными факторами, которые влияют на формирование стоимости - число комнат, этаж, удаленность от центра, высота потолков, продолжительность размещения объявления."
   ]
  }
 ],
 "metadata": {
  "ExecuteTimeLog": [
   {
    "duration": 1057,
    "start_time": "2021-12-04T18:11:01.167Z"
   },
   {
    "duration": 92,
    "start_time": "2021-12-04T18:11:58.100Z"
   },
   {
    "duration": 141,
    "start_time": "2021-12-04T18:16:14.982Z"
   },
   {
    "duration": 96,
    "start_time": "2021-12-04T18:19:04.547Z"
   },
   {
    "duration": 125,
    "start_time": "2021-12-04T18:20:38.046Z"
   },
   {
    "duration": 92,
    "start_time": "2021-12-04T18:32:08.042Z"
   },
   {
    "duration": 96,
    "start_time": "2021-12-04T18:32:13.216Z"
   },
   {
    "duration": 139,
    "start_time": "2021-12-04T18:32:29.540Z"
   },
   {
    "duration": 113,
    "start_time": "2021-12-04T18:35:21.408Z"
   },
   {
    "duration": 194,
    "start_time": "2021-12-04T18:35:27.056Z"
   },
   {
    "duration": 520,
    "start_time": "2021-12-04T18:40:53.299Z"
   },
   {
    "duration": 428,
    "start_time": "2021-12-04T18:42:03.536Z"
   },
   {
    "duration": 375,
    "start_time": "2021-12-04T18:42:09.486Z"
   },
   {
    "duration": 128,
    "start_time": "2021-12-04T18:42:30.558Z"
   },
   {
    "duration": 100,
    "start_time": "2021-12-04T18:42:59.606Z"
   },
   {
    "duration": 100,
    "start_time": "2021-12-04T18:43:12.992Z"
   },
   {
    "duration": 97,
    "start_time": "2021-12-04T18:43:26.042Z"
   },
   {
    "duration": 101,
    "start_time": "2021-12-04T18:43:35.244Z"
   },
   {
    "duration": 102,
    "start_time": "2021-12-04T18:43:54.168Z"
   },
   {
    "duration": 103,
    "start_time": "2021-12-04T18:44:04.767Z"
   },
   {
    "duration": 98,
    "start_time": "2021-12-04T18:44:15.475Z"
   },
   {
    "duration": 102,
    "start_time": "2021-12-04T18:44:31.124Z"
   },
   {
    "duration": 98,
    "start_time": "2021-12-04T18:44:43.286Z"
   },
   {
    "duration": 102,
    "start_time": "2021-12-04T18:44:57.720Z"
   },
   {
    "duration": 123,
    "start_time": "2021-12-04T18:45:11.243Z"
   },
   {
    "duration": 95,
    "start_time": "2021-12-04T18:48:29.966Z"
   },
   {
    "duration": 101,
    "start_time": "2021-12-04T18:50:05.457Z"
   },
   {
    "duration": 131,
    "start_time": "2021-12-04T18:50:17.314Z"
   },
   {
    "duration": 100,
    "start_time": "2021-12-04T18:53:24.880Z"
   },
   {
    "duration": 156,
    "start_time": "2021-12-04T18:55:23.317Z"
   },
   {
    "duration": 132,
    "start_time": "2021-12-04T18:56:18.191Z"
   },
   {
    "duration": 149,
    "start_time": "2021-12-04T18:56:44.759Z"
   },
   {
    "duration": 107,
    "start_time": "2021-12-04T19:03:05.137Z"
   },
   {
    "duration": 109,
    "start_time": "2021-12-04T19:12:41.119Z"
   },
   {
    "duration": 182,
    "start_time": "2021-12-04T19:13:22.670Z"
   },
   {
    "duration": 660,
    "start_time": "2021-12-06T17:42:38.142Z"
   },
   {
    "duration": 91,
    "start_time": "2021-12-06T17:44:12.725Z"
   },
   {
    "duration": 79,
    "start_time": "2021-12-06T17:45:11.493Z"
   },
   {
    "duration": 83,
    "start_time": "2021-12-06T18:03:11.916Z"
   },
   {
    "duration": 76,
    "start_time": "2021-12-06T18:08:55.568Z"
   },
   {
    "duration": 95,
    "start_time": "2021-12-06T18:19:20.492Z"
   },
   {
    "duration": 4867,
    "start_time": "2021-12-06T18:26:00.220Z"
   },
   {
    "duration": 182,
    "start_time": "2021-12-06T18:26:23.337Z"
   },
   {
    "duration": 6,
    "start_time": "2021-12-06T18:32:01.398Z"
   },
   {
    "duration": 9,
    "start_time": "2021-12-06T18:32:27.125Z"
   },
   {
    "duration": 4,
    "start_time": "2021-12-06T18:32:40.266Z"
   },
   {
    "duration": 6,
    "start_time": "2021-12-06T18:35:17.926Z"
   },
   {
    "duration": 6,
    "start_time": "2021-12-06T18:35:40.111Z"
   },
   {
    "duration": 3,
    "start_time": "2021-12-06T18:36:17.012Z"
   },
   {
    "duration": 5672,
    "start_time": "2021-12-06T18:36:27.158Z"
   },
   {
    "duration": 5,
    "start_time": "2021-12-06T18:36:49.581Z"
   },
   {
    "duration": 52,
    "start_time": "2021-12-06T18:38:56.889Z"
   },
   {
    "duration": 177,
    "start_time": "2021-12-06T18:39:46.139Z"
   },
   {
    "duration": 177,
    "start_time": "2021-12-06T18:39:55.950Z"
   },
   {
    "duration": 241,
    "start_time": "2021-12-06T18:40:24.480Z"
   },
   {
    "duration": 183,
    "start_time": "2021-12-06T18:41:21.205Z"
   },
   {
    "duration": 4790,
    "start_time": "2021-12-06T18:41:28.743Z"
   },
   {
    "duration": 178,
    "start_time": "2021-12-06T18:41:39.128Z"
   },
   {
    "duration": 34,
    "start_time": "2021-12-06T18:41:57.275Z"
   },
   {
    "duration": 7,
    "start_time": "2021-12-06T18:43:20.627Z"
   },
   {
    "duration": 507,
    "start_time": "2021-12-06T19:01:27.908Z"
   },
   {
    "duration": 64,
    "start_time": "2021-12-06T19:01:53.033Z"
   },
   {
    "duration": 62,
    "start_time": "2021-12-06T19:01:59.805Z"
   },
   {
    "duration": 59,
    "start_time": "2021-12-06T19:02:22.902Z"
   },
   {
    "duration": 94,
    "start_time": "2021-12-06T19:02:38.877Z"
   },
   {
    "duration": 291,
    "start_time": "2021-12-06T19:03:09.017Z"
   },
   {
    "duration": 54023,
    "start_time": "2021-12-06T19:04:07.518Z"
   },
   {
    "duration": 54412,
    "start_time": "2021-12-06T19:06:04.562Z"
   },
   {
    "duration": 48,
    "start_time": "2021-12-06T19:07:24.363Z"
   },
   {
    "duration": 60,
    "start_time": "2021-12-06T19:08:26.318Z"
   },
   {
    "duration": 26,
    "start_time": "2021-12-06T19:09:32.111Z"
   },
   {
    "duration": 97,
    "start_time": "2021-12-06T19:10:14.647Z"
   },
   {
    "duration": 24,
    "start_time": "2021-12-06T19:10:14.746Z"
   },
   {
    "duration": 82,
    "start_time": "2021-12-06T19:10:49.859Z"
   },
   {
    "duration": 12,
    "start_time": "2021-12-06T19:11:17.006Z"
   },
   {
    "duration": 55,
    "start_time": "2021-12-06T19:28:28.736Z"
   },
   {
    "duration": 7,
    "start_time": "2021-12-06T19:29:56.851Z"
   },
   {
    "duration": 15,
    "start_time": "2021-12-06T19:33:54.046Z"
   },
   {
    "duration": 16,
    "start_time": "2021-12-06T19:35:33.904Z"
   },
   {
    "duration": 6,
    "start_time": "2021-12-06T19:39:08.815Z"
   },
   {
    "duration": 46,
    "start_time": "2021-12-06T19:40:47.805Z"
   },
   {
    "duration": 9,
    "start_time": "2021-12-06T19:43:35.062Z"
   },
   {
    "duration": 9,
    "start_time": "2021-12-06T19:47:44.016Z"
   },
   {
    "duration": 9,
    "start_time": "2021-12-06T19:48:11.974Z"
   },
   {
    "duration": 6,
    "start_time": "2021-12-06T19:50:35.975Z"
   },
   {
    "duration": 44,
    "start_time": "2021-12-06T19:50:45.504Z"
   },
   {
    "duration": 36,
    "start_time": "2021-12-06T19:55:17.189Z"
   },
   {
    "duration": 9,
    "start_time": "2021-12-06T19:55:40.958Z"
   },
   {
    "duration": 8,
    "start_time": "2021-12-06T19:55:54.150Z"
   },
   {
    "duration": 8,
    "start_time": "2021-12-06T19:56:13.593Z"
   },
   {
    "duration": 8,
    "start_time": "2021-12-06T19:56:34.473Z"
   },
   {
    "duration": 46,
    "start_time": "2021-12-06T19:59:26.162Z"
   },
   {
    "duration": 482,
    "start_time": "2021-12-06T20:03:08.376Z"
   },
   {
    "duration": 19,
    "start_time": "2021-12-06T20:04:24.037Z"
   },
   {
    "duration": 5,
    "start_time": "2021-12-06T20:06:25.692Z"
   },
   {
    "duration": 32,
    "start_time": "2021-12-06T20:09:31.230Z"
   },
   {
    "duration": 47,
    "start_time": "2021-12-06T20:11:18.802Z"
   },
   {
    "duration": 37,
    "start_time": "2021-12-06T20:12:05.426Z"
   },
   {
    "duration": 8,
    "start_time": "2021-12-06T20:12:49.110Z"
   },
   {
    "duration": 9,
    "start_time": "2021-12-06T20:13:00.651Z"
   },
   {
    "duration": 14,
    "start_time": "2021-12-06T20:13:49.512Z"
   },
   {
    "duration": 17,
    "start_time": "2021-12-06T20:18:17.161Z"
   },
   {
    "duration": 6,
    "start_time": "2021-12-06T20:19:42.836Z"
   },
   {
    "duration": 184,
    "start_time": "2021-12-06T20:27:46.816Z"
   },
   {
    "duration": 193,
    "start_time": "2021-12-06T20:28:49.750Z"
   },
   {
    "duration": 7,
    "start_time": "2021-12-06T20:29:09.673Z"
   },
   {
    "duration": 19,
    "start_time": "2021-12-06T20:30:53.703Z"
   },
   {
    "duration": 6,
    "start_time": "2021-12-06T20:31:00.563Z"
   },
   {
    "duration": 8,
    "start_time": "2021-12-06T20:34:45.116Z"
   },
   {
    "duration": 695,
    "start_time": "2021-12-06T20:35:37.780Z"
   },
   {
    "duration": 737,
    "start_time": "2021-12-06T20:36:31.320Z"
   },
   {
    "duration": 7,
    "start_time": "2021-12-06T20:40:55.057Z"
   },
   {
    "duration": 156,
    "start_time": "2021-12-06T20:49:11.730Z"
   },
   {
    "duration": 137,
    "start_time": "2021-12-06T20:49:38.023Z"
   },
   {
    "duration": 174,
    "start_time": "2021-12-06T20:52:02.115Z"
   },
   {
    "duration": 167,
    "start_time": "2021-12-06T20:53:15.243Z"
   },
   {
    "duration": 206,
    "start_time": "2021-12-06T20:55:22.414Z"
   },
   {
    "duration": 229,
    "start_time": "2021-12-06T20:56:55.949Z"
   },
   {
    "duration": 255,
    "start_time": "2021-12-06T20:59:24.788Z"
   },
   {
    "duration": 233,
    "start_time": "2021-12-06T20:59:43.533Z"
   },
   {
    "duration": 12,
    "start_time": "2021-12-06T21:03:17.013Z"
   },
   {
    "duration": 21,
    "start_time": "2021-12-06T21:05:53.243Z"
   },
   {
    "duration": 222,
    "start_time": "2021-12-06T21:06:44.019Z"
   },
   {
    "duration": 235,
    "start_time": "2021-12-06T21:06:55.414Z"
   },
   {
    "duration": 16,
    "start_time": "2021-12-06T21:08:00.772Z"
   },
   {
    "duration": 18,
    "start_time": "2021-12-06T21:08:59.795Z"
   },
   {
    "duration": 47,
    "start_time": "2021-12-06T21:09:17.626Z"
   },
   {
    "duration": 155,
    "start_time": "2021-12-06T21:11:36.893Z"
   },
   {
    "duration": 45,
    "start_time": "2021-12-06T21:11:53.609Z"
   },
   {
    "duration": 96,
    "start_time": "2021-12-06T21:12:10.629Z"
   },
   {
    "duration": 52,
    "start_time": "2021-12-06T21:12:10.726Z"
   },
   {
    "duration": 16,
    "start_time": "2021-12-06T21:12:10.791Z"
   },
   {
    "duration": 15,
    "start_time": "2021-12-06T21:12:10.809Z"
   },
   {
    "duration": 10,
    "start_time": "2021-12-06T21:12:10.826Z"
   },
   {
    "duration": 17,
    "start_time": "2021-12-06T21:12:10.838Z"
   },
   {
    "duration": 194,
    "start_time": "2021-12-06T21:12:10.856Z"
   },
   {
    "duration": 56,
    "start_time": "2021-12-06T21:12:11.052Z"
   },
   {
    "duration": 156,
    "start_time": "2021-12-06T21:12:53.653Z"
   },
   {
    "duration": 167,
    "start_time": "2021-12-06T21:14:49.429Z"
   },
   {
    "duration": 173,
    "start_time": "2021-12-06T21:15:08.744Z"
   },
   {
    "duration": 191,
    "start_time": "2021-12-06T21:15:27.218Z"
   },
   {
    "duration": 201,
    "start_time": "2021-12-06T21:15:52.204Z"
   },
   {
    "duration": 225,
    "start_time": "2021-12-06T21:16:26.878Z"
   },
   {
    "duration": 47,
    "start_time": "2021-12-06T21:16:44.392Z"
   },
   {
    "duration": 19,
    "start_time": "2021-12-06T21:21:03.045Z"
   },
   {
    "duration": 16,
    "start_time": "2021-12-06T21:26:14.474Z"
   },
   {
    "duration": 92,
    "start_time": "2021-12-06T21:26:19.861Z"
   },
   {
    "duration": 15,
    "start_time": "2021-12-06T21:26:19.955Z"
   },
   {
    "duration": 55,
    "start_time": "2021-12-06T21:26:19.992Z"
   },
   {
    "duration": 17,
    "start_time": "2021-12-06T21:26:20.049Z"
   },
   {
    "duration": 37,
    "start_time": "2021-12-06T21:26:20.067Z"
   },
   {
    "duration": 11,
    "start_time": "2021-12-06T21:26:20.106Z"
   },
   {
    "duration": 20,
    "start_time": "2021-12-06T21:26:20.119Z"
   },
   {
    "duration": 260,
    "start_time": "2021-12-06T21:26:20.140Z"
   },
   {
    "duration": 19,
    "start_time": "2021-12-06T21:26:20.403Z"
   },
   {
    "duration": 15,
    "start_time": "2021-12-06T21:27:33.334Z"
   },
   {
    "duration": 19,
    "start_time": "2021-12-06T21:27:44.459Z"
   },
   {
    "duration": 25,
    "start_time": "2021-12-06T21:28:06.245Z"
   },
   {
    "duration": 16,
    "start_time": "2021-12-06T21:29:21.923Z"
   },
   {
    "duration": 24,
    "start_time": "2021-12-06T21:29:58.586Z"
   },
   {
    "duration": 17,
    "start_time": "2021-12-06T21:32:05.138Z"
   },
   {
    "duration": 15,
    "start_time": "2021-12-06T21:32:57.294Z"
   },
   {
    "duration": 14,
    "start_time": "2021-12-06T21:33:24.936Z"
   },
   {
    "duration": 15,
    "start_time": "2021-12-06T21:34:25.416Z"
   },
   {
    "duration": 18,
    "start_time": "2021-12-06T21:34:53.518Z"
   },
   {
    "duration": 16,
    "start_time": "2021-12-06T21:35:41.571Z"
   },
   {
    "duration": 1696,
    "start_time": "2021-12-06T21:45:04.976Z"
   },
   {
    "duration": 1196,
    "start_time": "2021-12-06T21:47:19.034Z"
   },
   {
    "duration": 1375,
    "start_time": "2021-12-06T21:47:31.275Z"
   },
   {
    "duration": 30,
    "start_time": "2021-12-06T21:48:02.280Z"
   },
   {
    "duration": 26,
    "start_time": "2021-12-06T21:48:39.764Z"
   },
   {
    "duration": 25,
    "start_time": "2021-12-06T21:48:56.407Z"
   },
   {
    "duration": 23,
    "start_time": "2021-12-06T21:49:16.803Z"
   },
   {
    "duration": 94,
    "start_time": "2021-12-06T21:49:20.428Z"
   },
   {
    "duration": 15,
    "start_time": "2021-12-06T21:49:20.524Z"
   },
   {
    "duration": 71,
    "start_time": "2021-12-06T21:49:20.542Z"
   },
   {
    "duration": 16,
    "start_time": "2021-12-06T21:49:20.615Z"
   },
   {
    "duration": 14,
    "start_time": "2021-12-06T21:49:20.633Z"
   },
   {
    "duration": 16,
    "start_time": "2021-12-06T21:49:20.649Z"
   },
   {
    "duration": 39,
    "start_time": "2021-12-06T21:49:20.667Z"
   },
   {
    "duration": 215,
    "start_time": "2021-12-06T21:49:20.708Z"
   },
   {
    "duration": 18,
    "start_time": "2021-12-06T21:49:20.925Z"
   },
   {
    "duration": 15,
    "start_time": "2021-12-06T21:49:20.945Z"
   },
   {
    "duration": 37,
    "start_time": "2021-12-06T21:49:20.962Z"
   },
   {
    "duration": 16,
    "start_time": "2021-12-06T21:49:21.001Z"
   },
   {
    "duration": 16,
    "start_time": "2021-12-06T21:49:21.019Z"
   },
   {
    "duration": 19,
    "start_time": "2021-12-06T21:49:21.037Z"
   },
   {
    "duration": 53,
    "start_time": "2021-12-06T21:49:21.058Z"
   },
   {
    "duration": 29,
    "start_time": "2021-12-06T21:49:36.121Z"
   },
   {
    "duration": 94,
    "start_time": "2021-12-06T21:49:47.385Z"
   },
   {
    "duration": 20,
    "start_time": "2021-12-06T21:49:47.482Z"
   },
   {
    "duration": 55,
    "start_time": "2021-12-06T21:49:47.504Z"
   },
   {
    "duration": 38,
    "start_time": "2021-12-06T21:49:47.561Z"
   },
   {
    "duration": 16,
    "start_time": "2021-12-06T21:49:47.601Z"
   },
   {
    "duration": 11,
    "start_time": "2021-12-06T21:49:47.619Z"
   },
   {
    "duration": 17,
    "start_time": "2021-12-06T21:49:47.632Z"
   },
   {
    "duration": 234,
    "start_time": "2021-12-06T21:49:47.650Z"
   },
   {
    "duration": 19,
    "start_time": "2021-12-06T21:49:47.886Z"
   },
   {
    "duration": 15,
    "start_time": "2021-12-06T21:49:47.907Z"
   },
   {
    "duration": 16,
    "start_time": "2021-12-06T21:49:47.924Z"
   },
   {
    "duration": 16,
    "start_time": "2021-12-06T21:49:47.941Z"
   },
   {
    "duration": 44,
    "start_time": "2021-12-06T21:49:47.958Z"
   },
   {
    "duration": 17,
    "start_time": "2021-12-06T21:49:48.004Z"
   },
   {
    "duration": 1493,
    "start_time": "2021-12-06T21:49:48.022Z"
   },
   {
    "duration": 1210,
    "start_time": "2021-12-06T21:50:21.898Z"
   },
   {
    "duration": 1174,
    "start_time": "2021-12-06T21:51:36.172Z"
   },
   {
    "duration": 28,
    "start_time": "2021-12-06T21:54:31.926Z"
   },
   {
    "duration": 34,
    "start_time": "2021-12-06T21:54:43.784Z"
   },
   {
    "duration": 42,
    "start_time": "2021-12-06T21:54:52.537Z"
   },
   {
    "duration": 1383,
    "start_time": "2021-12-06T21:55:21.936Z"
   },
   {
    "duration": 27,
    "start_time": "2021-12-06T21:55:36.399Z"
   },
   {
    "duration": 29,
    "start_time": "2021-12-06T21:55:59.193Z"
   },
   {
    "duration": 24,
    "start_time": "2021-12-06T21:56:27.511Z"
   },
   {
    "duration": 89,
    "start_time": "2021-12-06T21:56:34.723Z"
   },
   {
    "duration": 15,
    "start_time": "2021-12-06T21:56:34.814Z"
   },
   {
    "duration": 66,
    "start_time": "2021-12-06T21:56:34.831Z"
   },
   {
    "duration": 15,
    "start_time": "2021-12-06T21:56:34.899Z"
   },
   {
    "duration": 14,
    "start_time": "2021-12-06T21:56:34.915Z"
   },
   {
    "duration": 11,
    "start_time": "2021-12-06T21:56:34.931Z"
   },
   {
    "duration": 47,
    "start_time": "2021-12-06T21:56:34.944Z"
   },
   {
    "duration": 209,
    "start_time": "2021-12-06T21:56:34.993Z"
   },
   {
    "duration": 16,
    "start_time": "2021-12-06T21:56:35.205Z"
   },
   {
    "duration": 16,
    "start_time": "2021-12-06T21:56:35.223Z"
   },
   {
    "duration": 16,
    "start_time": "2021-12-06T21:56:35.240Z"
   },
   {
    "duration": 44,
    "start_time": "2021-12-06T21:56:35.258Z"
   },
   {
    "duration": 15,
    "start_time": "2021-12-06T21:56:35.304Z"
   },
   {
    "duration": 15,
    "start_time": "2021-12-06T21:56:35.321Z"
   },
   {
    "duration": 26,
    "start_time": "2021-12-06T21:56:35.338Z"
   },
   {
    "duration": 10,
    "start_time": "2021-12-06T22:02:37.702Z"
   },
   {
    "duration": 9,
    "start_time": "2021-12-06T22:02:54.632Z"
   },
   {
    "duration": 11,
    "start_time": "2021-12-06T22:03:45.786Z"
   },
   {
    "duration": 12,
    "start_time": "2021-12-06T22:04:04.799Z"
   },
   {
    "duration": 14,
    "start_time": "2021-12-06T22:04:39.605Z"
   },
   {
    "duration": 13,
    "start_time": "2021-12-06T22:05:04.087Z"
   },
   {
    "duration": 14,
    "start_time": "2021-12-06T22:07:54.618Z"
   },
   {
    "duration": 177,
    "start_time": "2021-12-06T22:19:40.367Z"
   },
   {
    "duration": 783,
    "start_time": "2021-12-06T22:20:16.142Z"
   },
   {
    "duration": 13,
    "start_time": "2021-12-06T22:22:45.185Z"
   },
   {
    "duration": 25,
    "start_time": "2021-12-06T22:23:03.286Z"
   },
   {
    "duration": 98,
    "start_time": "2021-12-06T22:25:22.542Z"
   },
   {
    "duration": 16,
    "start_time": "2021-12-06T22:25:22.643Z"
   },
   {
    "duration": 76,
    "start_time": "2021-12-06T22:25:22.662Z"
   },
   {
    "duration": 17,
    "start_time": "2021-12-06T22:25:22.740Z"
   },
   {
    "duration": 33,
    "start_time": "2021-12-06T22:25:22.759Z"
   },
   {
    "duration": 13,
    "start_time": "2021-12-06T22:25:22.794Z"
   },
   {
    "duration": 19,
    "start_time": "2021-12-06T22:25:22.808Z"
   },
   {
    "duration": 227,
    "start_time": "2021-12-06T22:25:22.829Z"
   },
   {
    "duration": 18,
    "start_time": "2021-12-06T22:25:23.058Z"
   },
   {
    "duration": 28,
    "start_time": "2021-12-06T22:25:23.078Z"
   },
   {
    "duration": 16,
    "start_time": "2021-12-06T22:25:23.108Z"
   },
   {
    "duration": 16,
    "start_time": "2021-12-06T22:25:23.126Z"
   },
   {
    "duration": 47,
    "start_time": "2021-12-06T22:25:23.144Z"
   },
   {
    "duration": 16,
    "start_time": "2021-12-06T22:25:23.193Z"
   },
   {
    "duration": 28,
    "start_time": "2021-12-06T22:25:23.211Z"
   },
   {
    "duration": 14,
    "start_time": "2021-12-06T22:25:23.241Z"
   },
   {
    "duration": 38,
    "start_time": "2021-12-06T22:28:20.565Z"
   },
   {
    "duration": 7,
    "start_time": "2021-12-06T22:33:25.232Z"
   },
   {
    "duration": 13,
    "start_time": "2021-12-06T22:33:46.561Z"
   },
   {
    "duration": 6,
    "start_time": "2021-12-06T22:33:55.090Z"
   },
   {
    "duration": 93,
    "start_time": "2021-12-06T22:34:33.173Z"
   },
   {
    "duration": 12,
    "start_time": "2021-12-06T22:34:33.268Z"
   },
   {
    "duration": 61,
    "start_time": "2021-12-06T22:34:33.281Z"
   },
   {
    "duration": 15,
    "start_time": "2021-12-06T22:34:33.344Z"
   },
   {
    "duration": 34,
    "start_time": "2021-12-06T22:34:33.361Z"
   },
   {
    "duration": 10,
    "start_time": "2021-12-06T22:34:33.397Z"
   },
   {
    "duration": 17,
    "start_time": "2021-12-06T22:34:33.408Z"
   },
   {
    "duration": 220,
    "start_time": "2021-12-06T22:34:33.426Z"
   },
   {
    "duration": 17,
    "start_time": "2021-12-06T22:34:33.648Z"
   },
   {
    "duration": 35,
    "start_time": "2021-12-06T22:34:33.667Z"
   },
   {
    "duration": 15,
    "start_time": "2021-12-06T22:34:33.704Z"
   },
   {
    "duration": 15,
    "start_time": "2021-12-06T22:34:33.721Z"
   },
   {
    "duration": 15,
    "start_time": "2021-12-06T22:34:33.737Z"
   },
   {
    "duration": 42,
    "start_time": "2021-12-06T22:34:33.754Z"
   },
   {
    "duration": 26,
    "start_time": "2021-12-06T22:34:33.797Z"
   },
   {
    "duration": 14,
    "start_time": "2021-12-06T22:34:33.825Z"
   },
   {
    "duration": 3,
    "start_time": "2021-12-06T22:34:33.841Z"
   },
   {
    "duration": 324,
    "start_time": "2021-12-07T08:33:24.161Z"
   },
   {
    "duration": 291,
    "start_time": "2021-12-07T08:34:47.781Z"
   },
   {
    "duration": 283,
    "start_time": "2021-12-07T08:35:00.646Z"
   },
   {
    "duration": 799,
    "start_time": "2021-12-07T08:35:18.564Z"
   },
   {
    "duration": 20,
    "start_time": "2021-12-07T08:35:19.366Z"
   },
   {
    "duration": 100,
    "start_time": "2021-12-07T08:35:19.389Z"
   },
   {
    "duration": 35,
    "start_time": "2021-12-07T08:35:19.491Z"
   },
   {
    "duration": 23,
    "start_time": "2021-12-07T08:35:19.528Z"
   },
   {
    "duration": 16,
    "start_time": "2021-12-07T08:35:19.553Z"
   },
   {
    "duration": 52,
    "start_time": "2021-12-07T08:35:19.571Z"
   },
   {
    "duration": 333,
    "start_time": "2021-12-07T08:35:19.627Z"
   },
   {
    "duration": 22,
    "start_time": "2021-12-07T08:35:19.963Z"
   },
   {
    "duration": 52,
    "start_time": "2021-12-07T08:35:19.988Z"
   },
   {
    "duration": 35,
    "start_time": "2021-12-07T08:35:20.044Z"
   },
   {
    "duration": 44,
    "start_time": "2021-12-07T08:35:20.082Z"
   },
   {
    "duration": 24,
    "start_time": "2021-12-07T08:35:20.129Z"
   },
   {
    "duration": 22,
    "start_time": "2021-12-07T08:35:20.156Z"
   },
   {
    "duration": 87,
    "start_time": "2021-12-07T08:35:20.181Z"
   },
   {
    "duration": 22,
    "start_time": "2021-12-07T08:35:20.271Z"
   },
   {
    "duration": 383,
    "start_time": "2021-12-07T08:35:20.295Z"
   },
   {
    "duration": 373,
    "start_time": "2021-12-07T08:36:10.226Z"
   },
   {
    "duration": 576,
    "start_time": "2021-12-07T08:36:19.812Z"
   },
   {
    "duration": 309,
    "start_time": "2021-12-07T08:36:27.843Z"
   },
   {
    "duration": 318,
    "start_time": "2021-12-07T08:37:00.082Z"
   },
   {
    "duration": 637,
    "start_time": "2021-12-07T08:41:02.595Z"
   },
   {
    "duration": 1431,
    "start_time": "2021-12-07T08:41:16.905Z"
   },
   {
    "duration": 328,
    "start_time": "2021-12-07T08:41:42.529Z"
   },
   {
    "duration": 528,
    "start_time": "2021-12-07T08:42:15.175Z"
   },
   {
    "duration": 1727,
    "start_time": "2021-12-07T08:53:28.024Z"
   },
   {
    "duration": 132,
    "start_time": "2021-12-07T09:54:30.867Z"
   },
   {
    "duration": 20,
    "start_time": "2021-12-07T09:54:31.145Z"
   },
   {
    "duration": 17,
    "start_time": "2021-12-07T09:54:31.250Z"
   },
   {
    "duration": 21,
    "start_time": "2021-12-07T09:54:31.354Z"
   },
   {
    "duration": 15,
    "start_time": "2021-12-07T09:54:31.456Z"
   },
   {
    "duration": 16,
    "start_time": "2021-12-07T09:54:31.547Z"
   },
   {
    "duration": 24,
    "start_time": "2021-12-07T09:54:31.956Z"
   },
   {
    "duration": 364,
    "start_time": "2021-12-07T09:54:32.389Z"
   },
   {
    "duration": 25,
    "start_time": "2021-12-07T09:54:32.832Z"
   },
   {
    "duration": 26,
    "start_time": "2021-12-07T09:54:32.931Z"
   },
   {
    "duration": 21,
    "start_time": "2021-12-07T09:54:33.046Z"
   },
   {
    "duration": 63,
    "start_time": "2021-12-07T09:54:33.146Z"
   },
   {
    "duration": 29,
    "start_time": "2021-12-07T09:54:33.287Z"
   },
   {
    "duration": 26,
    "start_time": "2021-12-07T09:54:33.414Z"
   },
   {
    "duration": 38,
    "start_time": "2021-12-07T09:54:33.531Z"
   },
   {
    "duration": 42,
    "start_time": "2021-12-07T09:54:43.882Z"
   },
   {
    "duration": 568,
    "start_time": "2021-12-07T09:54:43.933Z"
   },
   {
    "duration": 546,
    "start_time": "2021-12-07T10:09:49.440Z"
   },
   {
    "duration": 306,
    "start_time": "2021-12-07T10:10:11.136Z"
   },
   {
    "duration": 541,
    "start_time": "2021-12-07T10:11:25.058Z"
   },
   {
    "duration": 559,
    "start_time": "2021-12-07T10:11:41.680Z"
   },
   {
    "duration": 556,
    "start_time": "2021-12-07T10:15:15.435Z"
   },
   {
    "duration": 440,
    "start_time": "2021-12-07T10:15:26.876Z"
   },
   {
    "duration": 344,
    "start_time": "2021-12-07T10:15:31.865Z"
   },
   {
    "duration": 275,
    "start_time": "2021-12-07T10:16:32.788Z"
   },
   {
    "duration": 308,
    "start_time": "2021-12-07T10:16:42.493Z"
   },
   {
    "duration": 287,
    "start_time": "2021-12-07T10:17:04.189Z"
   },
   {
    "duration": 125,
    "start_time": "2021-12-07T10:21:40.479Z"
   },
   {
    "duration": 30,
    "start_time": "2021-12-07T10:21:40.607Z"
   },
   {
    "duration": 93,
    "start_time": "2021-12-07T10:21:40.640Z"
   },
   {
    "duration": 22,
    "start_time": "2021-12-07T10:21:40.736Z"
   },
   {
    "duration": 21,
    "start_time": "2021-12-07T10:21:40.761Z"
   },
   {
    "duration": 48,
    "start_time": "2021-12-07T10:21:40.784Z"
   },
   {
    "duration": 22,
    "start_time": "2021-12-07T10:21:40.834Z"
   },
   {
    "duration": 344,
    "start_time": "2021-12-07T10:21:40.860Z"
   },
   {
    "duration": 33,
    "start_time": "2021-12-07T10:21:41.206Z"
   },
   {
    "duration": 24,
    "start_time": "2021-12-07T10:21:41.241Z"
   },
   {
    "duration": 23,
    "start_time": "2021-12-07T10:21:41.268Z"
   },
   {
    "duration": 52,
    "start_time": "2021-12-07T10:21:41.293Z"
   },
   {
    "duration": 22,
    "start_time": "2021-12-07T10:21:41.348Z"
   },
   {
    "duration": 52,
    "start_time": "2021-12-07T10:21:41.373Z"
   },
   {
    "duration": 40,
    "start_time": "2021-12-07T10:21:41.427Z"
   },
   {
    "duration": 20,
    "start_time": "2021-12-07T10:21:41.470Z"
   },
   {
    "duration": 568,
    "start_time": "2021-12-07T10:21:41.493Z"
   },
   {
    "duration": 592,
    "start_time": "2021-12-07T10:21:42.064Z"
   },
   {
    "duration": 383,
    "start_time": "2021-12-07T10:21:42.659Z"
   },
   {
    "duration": 290,
    "start_time": "2021-12-07T10:21:43.044Z"
   },
   {
    "duration": 38,
    "start_time": "2021-12-07T10:29:43.836Z"
   },
   {
    "duration": 282,
    "start_time": "2021-12-07T10:37:13.618Z"
   },
   {
    "duration": 297,
    "start_time": "2021-12-07T10:37:22.413Z"
   },
   {
    "duration": 36,
    "start_time": "2021-12-07T10:37:53.902Z"
   },
   {
    "duration": 47,
    "start_time": "2021-12-07T10:38:20.090Z"
   },
   {
    "duration": 39,
    "start_time": "2021-12-07T10:39:16.210Z"
   },
   {
    "duration": 40,
    "start_time": "2021-12-07T10:45:02.765Z"
   },
   {
    "duration": 37,
    "start_time": "2021-12-07T10:49:41.953Z"
   },
   {
    "duration": 10,
    "start_time": "2021-12-07T10:49:51.536Z"
   },
   {
    "duration": 445,
    "start_time": "2021-12-07T10:53:38.281Z"
   },
   {
    "duration": 501,
    "start_time": "2021-12-07T10:54:42.238Z"
   },
   {
    "duration": 92,
    "start_time": "2021-12-07T10:55:52.059Z"
   },
   {
    "duration": 577,
    "start_time": "2021-12-07T10:56:59.855Z"
   },
   {
    "duration": 12,
    "start_time": "2021-12-07T10:57:45.728Z"
   },
   {
    "duration": 14,
    "start_time": "2021-12-07T10:58:18.673Z"
   },
   {
    "duration": 428,
    "start_time": "2021-12-07T11:02:15.134Z"
   },
   {
    "duration": 454,
    "start_time": "2021-12-07T11:05:34.685Z"
   },
   {
    "duration": 445,
    "start_time": "2021-12-07T11:06:38.017Z"
   },
   {
    "duration": 50,
    "start_time": "2021-12-07T11:07:54.338Z"
   },
   {
    "duration": 38,
    "start_time": "2021-12-07T12:06:35.807Z"
   },
   {
    "duration": 10,
    "start_time": "2021-12-07T12:08:02.935Z"
   },
   {
    "duration": 55,
    "start_time": "2021-12-07T12:12:27.325Z"
   },
   {
    "duration": 40,
    "start_time": "2021-12-07T12:19:10.430Z"
   },
   {
    "duration": 6,
    "start_time": "2021-12-07T12:23:57.853Z"
   },
   {
    "duration": 1314,
    "start_time": "2021-12-07T12:26:35.128Z"
   },
   {
    "duration": 1561,
    "start_time": "2021-12-07T12:27:29.104Z"
   },
   {
    "duration": 1369,
    "start_time": "2021-12-07T12:28:26.446Z"
   },
   {
    "duration": 2509,
    "start_time": "2021-12-07T12:30:13.209Z"
   },
   {
    "duration": 994,
    "start_time": "2021-12-07T12:33:54.313Z"
   },
   {
    "duration": 1146,
    "start_time": "2021-12-07T12:34:27.422Z"
   },
   {
    "duration": 17,
    "start_time": "2021-12-07T12:37:04.474Z"
   },
   {
    "duration": 413,
    "start_time": "2021-12-07T16:43:40.498Z"
   },
   {
    "duration": 776,
    "start_time": "2021-12-07T16:43:44.474Z"
   },
   {
    "duration": 17,
    "start_time": "2021-12-07T16:43:45.252Z"
   },
   {
    "duration": 64,
    "start_time": "2021-12-07T16:43:45.271Z"
   },
   {
    "duration": 15,
    "start_time": "2021-12-07T16:43:45.337Z"
   },
   {
    "duration": 18,
    "start_time": "2021-12-07T16:43:45.354Z"
   },
   {
    "duration": 12,
    "start_time": "2021-12-07T16:43:45.374Z"
   },
   {
    "duration": 41,
    "start_time": "2021-12-07T16:43:45.388Z"
   },
   {
    "duration": 220,
    "start_time": "2021-12-07T16:43:45.432Z"
   },
   {
    "duration": 17,
    "start_time": "2021-12-07T16:43:45.655Z"
   },
   {
    "duration": 33,
    "start_time": "2021-12-07T16:43:45.673Z"
   },
   {
    "duration": 18,
    "start_time": "2021-12-07T16:43:45.708Z"
   },
   {
    "duration": 16,
    "start_time": "2021-12-07T16:43:45.727Z"
   },
   {
    "duration": 15,
    "start_time": "2021-12-07T16:43:45.745Z"
   },
   {
    "duration": 45,
    "start_time": "2021-12-07T16:43:45.762Z"
   },
   {
    "duration": 29,
    "start_time": "2021-12-07T16:43:45.809Z"
   },
   {
    "duration": 17,
    "start_time": "2021-12-07T16:43:45.839Z"
   },
   {
    "duration": 379,
    "start_time": "2021-12-07T16:43:45.857Z"
   },
   {
    "duration": -6,
    "start_time": "2021-12-07T16:43:46.244Z"
   },
   {
    "duration": -7,
    "start_time": "2021-12-07T16:43:46.246Z"
   },
   {
    "duration": -8,
    "start_time": "2021-12-07T16:43:46.249Z"
   },
   {
    "duration": -12,
    "start_time": "2021-12-07T16:43:46.253Z"
   },
   {
    "duration": -14,
    "start_time": "2021-12-07T16:43:46.256Z"
   },
   {
    "duration": -14,
    "start_time": "2021-12-07T16:43:46.257Z"
   },
   {
    "duration": -15,
    "start_time": "2021-12-07T16:43:46.259Z"
   },
   {
    "duration": -16,
    "start_time": "2021-12-07T16:43:46.261Z"
   },
   {
    "duration": -16,
    "start_time": "2021-12-07T16:43:46.262Z"
   },
   {
    "duration": -23,
    "start_time": "2021-12-07T16:43:46.270Z"
   },
   {
    "duration": 348,
    "start_time": "2021-12-07T16:44:28.976Z"
   },
   {
    "duration": 25,
    "start_time": "2021-12-07T16:44:41.186Z"
   },
   {
    "duration": 105,
    "start_time": "2021-12-07T16:45:36.210Z"
   },
   {
    "duration": 14,
    "start_time": "2021-12-07T16:45:36.317Z"
   },
   {
    "duration": 52,
    "start_time": "2021-12-07T16:45:36.333Z"
   },
   {
    "duration": 18,
    "start_time": "2021-12-07T16:45:36.407Z"
   },
   {
    "duration": 17,
    "start_time": "2021-12-07T16:45:36.427Z"
   },
   {
    "duration": 13,
    "start_time": "2021-12-07T16:45:36.446Z"
   },
   {
    "duration": 56,
    "start_time": "2021-12-07T16:45:36.461Z"
   },
   {
    "duration": 216,
    "start_time": "2021-12-07T16:45:36.521Z"
   },
   {
    "duration": 18,
    "start_time": "2021-12-07T16:45:36.739Z"
   },
   {
    "duration": 17,
    "start_time": "2021-12-07T16:45:36.759Z"
   },
   {
    "duration": 42,
    "start_time": "2021-12-07T16:45:36.777Z"
   },
   {
    "duration": 18,
    "start_time": "2021-12-07T16:45:36.820Z"
   },
   {
    "duration": 19,
    "start_time": "2021-12-07T16:45:36.840Z"
   },
   {
    "duration": 18,
    "start_time": "2021-12-07T16:45:36.861Z"
   },
   {
    "duration": 28,
    "start_time": "2021-12-07T16:45:36.907Z"
   },
   {
    "duration": 15,
    "start_time": "2021-12-07T16:45:36.937Z"
   },
   {
    "duration": 26,
    "start_time": "2021-12-07T16:45:36.953Z"
   },
   {
    "duration": 54,
    "start_time": "2021-12-07T16:45:36.980Z"
   },
   {
    "duration": 34,
    "start_time": "2021-12-07T16:45:37.036Z"
   },
   {
    "duration": 53,
    "start_time": "2021-12-07T16:45:37.072Z"
   },
   {
    "duration": 23,
    "start_time": "2021-12-07T16:45:37.126Z"
   },
   {
    "duration": 587,
    "start_time": "2021-12-07T16:45:37.151Z"
   },
   {
    "duration": 15,
    "start_time": "2021-12-07T16:45:37.740Z"
   },
   {
    "duration": 428,
    "start_time": "2021-12-07T16:45:37.757Z"
   },
   {
    "duration": 337,
    "start_time": "2021-12-07T16:45:38.187Z"
   },
   {
    "duration": 217,
    "start_time": "2021-12-07T16:45:38.526Z"
   },
   {
    "duration": 175,
    "start_time": "2021-12-07T16:45:38.745Z"
   },
   {
    "duration": 8710,
    "start_time": "2021-12-07T16:53:18.484Z"
   },
   {
    "duration": 11650,
    "start_time": "2021-12-07T16:54:10.586Z"
   },
   {
    "duration": 11078,
    "start_time": "2021-12-07T16:54:41.277Z"
   },
   {
    "duration": 3480,
    "start_time": "2021-12-07T16:58:03.904Z"
   },
   {
    "duration": 416,
    "start_time": "2021-12-07T17:21:33.615Z"
   },
   {
    "duration": 20,
    "start_time": "2021-12-07T17:21:41.529Z"
   },
   {
    "duration": 13,
    "start_time": "2021-12-07T17:23:00.737Z"
   },
   {
    "duration": 97,
    "start_time": "2021-12-07T17:29:17.782Z"
   },
   {
    "duration": 14,
    "start_time": "2021-12-07T17:29:17.881Z"
   },
   {
    "duration": 55,
    "start_time": "2021-12-07T17:29:17.907Z"
   },
   {
    "duration": 42,
    "start_time": "2021-12-07T17:29:17.964Z"
   },
   {
    "duration": 18,
    "start_time": "2021-12-07T17:29:18.009Z"
   },
   {
    "duration": 14,
    "start_time": "2021-12-07T17:29:18.028Z"
   },
   {
    "duration": 19,
    "start_time": "2021-12-07T17:29:18.044Z"
   },
   {
    "duration": 394,
    "start_time": "2021-12-07T17:29:18.067Z"
   },
   {
    "duration": 37,
    "start_time": "2021-12-07T17:29:18.464Z"
   },
   {
    "duration": 49,
    "start_time": "2021-12-07T17:29:18.504Z"
   },
   {
    "duration": 51,
    "start_time": "2021-12-07T17:29:18.570Z"
   },
   {
    "duration": 27,
    "start_time": "2021-12-07T17:29:18.638Z"
   },
   {
    "duration": 22,
    "start_time": "2021-12-07T17:29:18.668Z"
   },
   {
    "duration": 17,
    "start_time": "2021-12-07T17:29:18.691Z"
   },
   {
    "duration": 29,
    "start_time": "2021-12-07T17:29:18.710Z"
   },
   {
    "duration": 16,
    "start_time": "2021-12-07T17:29:18.741Z"
   },
   {
    "duration": 23,
    "start_time": "2021-12-07T17:29:18.758Z"
   },
   {
    "duration": 55,
    "start_time": "2021-12-07T17:29:18.783Z"
   },
   {
    "duration": 34,
    "start_time": "2021-12-07T17:29:18.840Z"
   },
   {
    "duration": 46,
    "start_time": "2021-12-07T17:29:18.875Z"
   },
   {
    "duration": 605,
    "start_time": "2021-12-07T17:29:18.923Z"
   },
   {
    "duration": 19,
    "start_time": "2021-12-07T17:29:19.530Z"
   },
   {
    "duration": 327,
    "start_time": "2021-12-07T17:29:19.551Z"
   },
   {
    "duration": 414,
    "start_time": "2021-12-07T17:29:19.879Z"
   },
   {
    "duration": 222,
    "start_time": "2021-12-07T17:29:20.295Z"
   },
   {
    "duration": 173,
    "start_time": "2021-12-07T17:29:20.519Z"
   },
   {
    "duration": 39,
    "start_time": "2021-12-07T17:32:09.892Z"
   },
   {
    "duration": 17,
    "start_time": "2021-12-07T17:34:46.517Z"
   },
   {
    "duration": 19,
    "start_time": "2021-12-07T17:35:56.787Z"
   },
   {
    "duration": 550,
    "start_time": "2021-12-07T18:07:43.789Z"
   },
   {
    "duration": 17,
    "start_time": "2021-12-07T18:09:42.527Z"
   },
   {
    "duration": 18,
    "start_time": "2021-12-07T18:10:09.178Z"
   },
   {
    "duration": 27,
    "start_time": "2021-12-07T18:10:22.442Z"
   },
   {
    "duration": 18,
    "start_time": "2021-12-07T18:10:29.439Z"
   },
   {
    "duration": 96,
    "start_time": "2021-12-07T18:10:34.685Z"
   },
   {
    "duration": 25,
    "start_time": "2021-12-07T18:10:34.783Z"
   },
   {
    "duration": 52,
    "start_time": "2021-12-07T18:10:34.810Z"
   },
   {
    "duration": 15,
    "start_time": "2021-12-07T18:10:34.864Z"
   },
   {
    "duration": 40,
    "start_time": "2021-12-07T18:10:34.881Z"
   },
   {
    "duration": 12,
    "start_time": "2021-12-07T18:10:34.922Z"
   },
   {
    "duration": 17,
    "start_time": "2021-12-07T18:10:34.935Z"
   },
   {
    "duration": 233,
    "start_time": "2021-12-07T18:10:34.955Z"
   },
   {
    "duration": 25,
    "start_time": "2021-12-07T18:10:35.190Z"
   },
   {
    "duration": 18,
    "start_time": "2021-12-07T18:10:35.216Z"
   },
   {
    "duration": 20,
    "start_time": "2021-12-07T18:10:35.236Z"
   },
   {
    "duration": 18,
    "start_time": "2021-12-07T18:10:35.258Z"
   },
   {
    "duration": 43,
    "start_time": "2021-12-07T18:10:35.278Z"
   },
   {
    "duration": 18,
    "start_time": "2021-12-07T18:10:35.323Z"
   },
   {
    "duration": 27,
    "start_time": "2021-12-07T18:10:35.342Z"
   },
   {
    "duration": 44,
    "start_time": "2021-12-07T18:10:35.371Z"
   },
   {
    "duration": 24,
    "start_time": "2021-12-07T18:10:35.416Z"
   },
   {
    "duration": 33,
    "start_time": "2021-12-07T18:10:35.442Z"
   },
   {
    "duration": 53,
    "start_time": "2021-12-07T18:10:35.477Z"
   },
   {
    "duration": 23,
    "start_time": "2021-12-07T18:10:35.532Z"
   },
   {
    "duration": 603,
    "start_time": "2021-12-07T18:10:35.557Z"
   },
   {
    "duration": 19,
    "start_time": "2021-12-07T18:10:36.161Z"
   },
   {
    "duration": 33,
    "start_time": "2021-12-07T18:10:36.183Z"
   },
   {
    "duration": 22,
    "start_time": "2021-12-07T18:10:36.218Z"
   },
   {
    "duration": 331,
    "start_time": "2021-12-07T18:10:36.242Z"
   },
   {
    "duration": 353,
    "start_time": "2021-12-07T18:10:36.575Z"
   },
   {
    "duration": 279,
    "start_time": "2021-12-07T18:10:36.930Z"
   },
   {
    "duration": 180,
    "start_time": "2021-12-07T18:10:37.210Z"
   },
   {
    "duration": 19,
    "start_time": "2021-12-07T18:17:30.800Z"
   },
   {
    "duration": 29,
    "start_time": "2021-12-07T18:17:57.499Z"
   },
   {
    "duration": 12247,
    "start_time": "2021-12-07T18:21:49.678Z"
   },
   {
    "duration": 1045,
    "start_time": "2021-12-07T18:22:26.108Z"
   },
   {
    "duration": 1126,
    "start_time": "2021-12-07T18:22:40.812Z"
   },
   {
    "duration": 92,
    "start_time": "2021-12-07T18:25:16.584Z"
   },
   {
    "duration": 28,
    "start_time": "2021-12-07T18:25:16.678Z"
   },
   {
    "duration": 52,
    "start_time": "2021-12-07T18:25:16.709Z"
   },
   {
    "duration": 16,
    "start_time": "2021-12-07T18:25:16.763Z"
   },
   {
    "duration": 35,
    "start_time": "2021-12-07T18:25:16.780Z"
   },
   {
    "duration": 11,
    "start_time": "2021-12-07T18:25:16.817Z"
   },
   {
    "duration": 16,
    "start_time": "2021-12-07T18:25:16.830Z"
   },
   {
    "duration": 236,
    "start_time": "2021-12-07T18:25:16.850Z"
   },
   {
    "duration": 22,
    "start_time": "2021-12-07T18:25:17.088Z"
   },
   {
    "duration": 17,
    "start_time": "2021-12-07T18:25:17.112Z"
   },
   {
    "duration": 18,
    "start_time": "2021-12-07T18:25:17.130Z"
   },
   {
    "duration": 18,
    "start_time": "2021-12-07T18:25:17.149Z"
   },
   {
    "duration": 46,
    "start_time": "2021-12-07T18:25:17.168Z"
   },
   {
    "duration": 17,
    "start_time": "2021-12-07T18:25:17.216Z"
   },
   {
    "duration": 28,
    "start_time": "2021-12-07T18:25:17.235Z"
   },
   {
    "duration": 15,
    "start_time": "2021-12-07T18:25:17.265Z"
   },
   {
    "duration": 24,
    "start_time": "2021-12-07T18:25:17.306Z"
   },
   {
    "duration": 35,
    "start_time": "2021-12-07T18:25:17.332Z"
   },
   {
    "duration": 54,
    "start_time": "2021-12-07T18:25:17.368Z"
   },
   {
    "duration": 24,
    "start_time": "2021-12-07T18:25:17.424Z"
   },
   {
    "duration": 577,
    "start_time": "2021-12-07T18:25:17.450Z"
   },
   {
    "duration": 17,
    "start_time": "2021-12-07T18:25:18.029Z"
   },
   {
    "duration": 18,
    "start_time": "2021-12-07T18:25:18.049Z"
   },
   {
    "duration": 39,
    "start_time": "2021-12-07T18:25:18.069Z"
   },
   {
    "duration": 1073,
    "start_time": "2021-12-07T18:25:18.109Z"
   },
   {
    "duration": 319,
    "start_time": "2021-12-07T18:25:19.184Z"
   },
   {
    "duration": 342,
    "start_time": "2021-12-07T18:25:19.506Z"
   },
   {
    "duration": 215,
    "start_time": "2021-12-07T18:25:19.850Z"
   },
   {
    "duration": 192,
    "start_time": "2021-12-07T18:25:20.067Z"
   },
   {
    "duration": 132,
    "start_time": "2021-12-07T18:31:54.094Z"
   },
   {
    "duration": 143,
    "start_time": "2021-12-07T18:34:22.528Z"
   },
   {
    "duration": 382,
    "start_time": "2021-12-07T18:35:57.659Z"
   },
   {
    "duration": 144,
    "start_time": "2021-12-07T18:36:06.469Z"
   },
   {
    "duration": 240,
    "start_time": "2021-12-07T18:38:08.374Z"
   },
   {
    "duration": 211,
    "start_time": "2021-12-07T18:39:01.273Z"
   },
   {
    "duration": 1651,
    "start_time": "2021-12-07T18:45:26.838Z"
   },
   {
    "duration": 398,
    "start_time": "2021-12-07T18:46:23.515Z"
   },
   {
    "duration": 152,
    "start_time": "2021-12-07T18:46:32.223Z"
   },
   {
    "duration": 142,
    "start_time": "2021-12-07T18:47:37.564Z"
   },
   {
    "duration": 152,
    "start_time": "2021-12-07T18:47:45.191Z"
   },
   {
    "duration": 189,
    "start_time": "2021-12-07T18:47:50.021Z"
   },
   {
    "duration": 407,
    "start_time": "2021-12-07T18:48:18.054Z"
   },
   {
    "duration": 371,
    "start_time": "2021-12-07T18:52:20.506Z"
   },
   {
    "duration": 813,
    "start_time": "2021-12-07T18:52:26.671Z"
   },
   {
    "duration": 135,
    "start_time": "2021-12-07T19:02:26.903Z"
   },
   {
    "duration": 141,
    "start_time": "2021-12-07T19:03:11.698Z"
   },
   {
    "duration": 137,
    "start_time": "2021-12-07T19:03:38.485Z"
   },
   {
    "duration": 130,
    "start_time": "2021-12-07T19:03:45.245Z"
   },
   {
    "duration": 146,
    "start_time": "2021-12-07T19:03:51.998Z"
   },
   {
    "duration": 156,
    "start_time": "2021-12-07T19:03:58.622Z"
   },
   {
    "duration": 362,
    "start_time": "2021-12-07T19:23:59.444Z"
   },
   {
    "duration": 348,
    "start_time": "2021-12-07T19:27:26.691Z"
   },
   {
    "duration": 1375,
    "start_time": "2021-12-07T19:28:01.679Z"
   },
   {
    "duration": 10,
    "start_time": "2021-12-07T19:34:09.537Z"
   },
   {
    "duration": 9,
    "start_time": "2021-12-07T19:34:29.246Z"
   },
   {
    "duration": 12,
    "start_time": "2021-12-07T19:34:45.110Z"
   },
   {
    "duration": 11,
    "start_time": "2021-12-07T19:35:09.601Z"
   },
   {
    "duration": 8,
    "start_time": "2021-12-07T19:37:51.738Z"
   },
   {
    "duration": 29,
    "start_time": "2021-12-07T19:47:08.397Z"
   },
   {
    "duration": 128,
    "start_time": "2021-12-07T19:47:14.496Z"
   },
   {
    "duration": 15,
    "start_time": "2021-12-07T19:47:14.626Z"
   },
   {
    "duration": 82,
    "start_time": "2021-12-07T19:47:14.643Z"
   },
   {
    "duration": 20,
    "start_time": "2021-12-07T19:47:14.727Z"
   },
   {
    "duration": 16,
    "start_time": "2021-12-07T19:47:14.749Z"
   },
   {
    "duration": 12,
    "start_time": "2021-12-07T19:47:14.767Z"
   },
   {
    "duration": 55,
    "start_time": "2021-12-07T19:47:14.781Z"
   },
   {
    "duration": 244,
    "start_time": "2021-12-07T19:47:14.839Z"
   },
   {
    "duration": 32,
    "start_time": "2021-12-07T19:47:15.085Z"
   },
   {
    "duration": 20,
    "start_time": "2021-12-07T19:47:15.121Z"
   },
   {
    "duration": 16,
    "start_time": "2021-12-07T19:47:15.143Z"
   },
   {
    "duration": 17,
    "start_time": "2021-12-07T19:47:15.160Z"
   },
   {
    "duration": 51,
    "start_time": "2021-12-07T19:47:15.178Z"
   },
   {
    "duration": 17,
    "start_time": "2021-12-07T19:47:15.231Z"
   },
   {
    "duration": 27,
    "start_time": "2021-12-07T19:47:15.249Z"
   },
   {
    "duration": 50,
    "start_time": "2021-12-07T19:47:15.278Z"
   },
   {
    "duration": 23,
    "start_time": "2021-12-07T19:47:15.330Z"
   },
   {
    "duration": 65,
    "start_time": "2021-12-07T19:47:15.355Z"
   },
   {
    "duration": 34,
    "start_time": "2021-12-07T19:47:15.422Z"
   },
   {
    "duration": 24,
    "start_time": "2021-12-07T19:47:15.458Z"
   },
   {
    "duration": 653,
    "start_time": "2021-12-07T19:47:15.483Z"
   },
   {
    "duration": 20,
    "start_time": "2021-12-07T19:47:16.138Z"
   },
   {
    "duration": 18,
    "start_time": "2021-12-07T19:47:16.162Z"
   },
   {
    "duration": 49,
    "start_time": "2021-12-07T19:47:16.183Z"
   },
   {
    "duration": 1175,
    "start_time": "2021-12-07T19:47:16.234Z"
   },
   {
    "duration": 1260,
    "start_time": "2021-12-07T19:47:17.412Z"
   },
   {
    "duration": 9,
    "start_time": "2021-12-07T19:47:18.674Z"
   },
   {
    "duration": 36,
    "start_time": "2021-12-07T19:47:18.685Z"
   },
   {
    "duration": 9,
    "start_time": "2021-12-07T19:47:18.723Z"
   },
   {
    "duration": 24,
    "start_time": "2021-12-07T19:47:18.733Z"
   },
   {
    "duration": 22,
    "start_time": "2021-12-07T19:47:18.759Z"
   },
   {
    "duration": 492,
    "start_time": "2021-12-07T19:50:44.623Z"
   },
   {
    "duration": 813,
    "start_time": "2021-12-07T19:50:58.023Z"
   },
   {
    "duration": 19,
    "start_time": "2021-12-07T19:58:37.245Z"
   },
   {
    "duration": 4,
    "start_time": "2021-12-07T20:00:17.607Z"
   },
   {
    "duration": 1694,
    "start_time": "2021-12-07T20:04:58.962Z"
   },
   {
    "duration": 11,
    "start_time": "2021-12-07T20:05:14.983Z"
   },
   {
    "duration": 1496,
    "start_time": "2021-12-07T20:06:59.462Z"
   },
   {
    "duration": 21,
    "start_time": "2021-12-07T20:12:20.881Z"
   },
   {
    "duration": 425,
    "start_time": "2021-12-07T20:14:52.185Z"
   },
   {
    "duration": 688,
    "start_time": "2021-12-07T20:15:02.997Z"
   },
   {
    "duration": 679,
    "start_time": "2021-12-07T20:16:31.019Z"
   },
   {
    "duration": 713,
    "start_time": "2021-12-07T20:17:19.879Z"
   },
   {
    "duration": 9,
    "start_time": "2021-12-07T20:28:53.092Z"
   },
   {
    "duration": 12,
    "start_time": "2021-12-07T20:29:53.653Z"
   },
   {
    "duration": 129,
    "start_time": "2021-12-07T20:30:00.919Z"
   },
   {
    "duration": 30,
    "start_time": "2021-12-07T20:31:06.626Z"
   },
   {
    "duration": 378,
    "start_time": "2021-12-07T20:35:27.186Z"
   },
   {
    "duration": 301,
    "start_time": "2021-12-07T20:35:32.642Z"
   },
   {
    "duration": 35,
    "start_time": "2021-12-07T20:40:49.996Z"
   },
   {
    "duration": 37,
    "start_time": "2021-12-07T20:42:35.094Z"
   },
   {
    "duration": 10,
    "start_time": "2021-12-07T20:42:53.063Z"
   },
   {
    "duration": 30,
    "start_time": "2021-12-07T20:43:56.726Z"
   },
   {
    "duration": 235,
    "start_time": "2021-12-07T20:46:45.104Z"
   },
   {
    "duration": 335,
    "start_time": "2021-12-07T20:51:31.315Z"
   },
   {
    "duration": 341,
    "start_time": "2021-12-07T20:51:36.059Z"
   },
   {
    "duration": 27,
    "start_time": "2021-12-07T20:51:46.803Z"
   },
   {
    "duration": 6,
    "start_time": "2021-12-07T20:52:26.413Z"
   },
   {
    "duration": 5451,
    "start_time": "2021-12-07T20:54:14.356Z"
   },
   {
    "duration": 277,
    "start_time": "2021-12-07T20:55:05.189Z"
   },
   {
    "duration": 242,
    "start_time": "2021-12-07T20:57:13.182Z"
   },
   {
    "duration": 228,
    "start_time": "2021-12-07T20:57:19.505Z"
   },
   {
    "duration": 227,
    "start_time": "2021-12-07T20:57:32.250Z"
   },
   {
    "duration": 245,
    "start_time": "2021-12-07T20:57:44.503Z"
   },
   {
    "duration": 221,
    "start_time": "2021-12-07T20:59:51.249Z"
   },
   {
    "duration": 199,
    "start_time": "2021-12-07T21:01:38.731Z"
   },
   {
    "duration": 234,
    "start_time": "2021-12-07T21:02:04.955Z"
   },
   {
    "duration": 11,
    "start_time": "2021-12-07T21:04:20.419Z"
   },
   {
    "duration": 343,
    "start_time": "2021-12-07T21:05:58.768Z"
   },
   {
    "duration": 15,
    "start_time": "2021-12-07T21:06:04.901Z"
   },
   {
    "duration": 1497,
    "start_time": "2021-12-07T21:12:02.409Z"
   },
   {
    "duration": 18,
    "start_time": "2021-12-07T21:16:10.609Z"
   },
   {
    "duration": 20,
    "start_time": "2021-12-07T21:16:43.776Z"
   },
   {
    "duration": 100,
    "start_time": "2021-12-07T21:25:55.432Z"
   },
   {
    "duration": 14,
    "start_time": "2021-12-07T21:25:55.534Z"
   },
   {
    "duration": 75,
    "start_time": "2021-12-07T21:25:55.550Z"
   },
   {
    "duration": 20,
    "start_time": "2021-12-07T21:25:55.627Z"
   },
   {
    "duration": 16,
    "start_time": "2021-12-07T21:25:55.649Z"
   },
   {
    "duration": 12,
    "start_time": "2021-12-07T21:25:55.666Z"
   },
   {
    "duration": 42,
    "start_time": "2021-12-07T21:25:55.679Z"
   },
   {
    "duration": 333,
    "start_time": "2021-12-07T21:25:55.724Z"
   },
   {
    "duration": 19,
    "start_time": "2021-12-07T21:25:56.060Z"
   },
   {
    "duration": 39,
    "start_time": "2021-12-07T21:25:56.081Z"
   },
   {
    "duration": 18,
    "start_time": "2021-12-07T21:25:56.122Z"
   },
   {
    "duration": 18,
    "start_time": "2021-12-07T21:25:56.142Z"
   },
   {
    "duration": 18,
    "start_time": "2021-12-07T21:25:56.162Z"
   },
   {
    "duration": 19,
    "start_time": "2021-12-07T21:25:56.206Z"
   },
   {
    "duration": 39,
    "start_time": "2021-12-07T21:25:56.227Z"
   },
   {
    "duration": 43,
    "start_time": "2021-12-07T21:25:56.269Z"
   },
   {
    "duration": 24,
    "start_time": "2021-12-07T21:25:56.314Z"
   },
   {
    "duration": 36,
    "start_time": "2021-12-07T21:25:56.340Z"
   },
   {
    "duration": 56,
    "start_time": "2021-12-07T21:25:56.378Z"
   },
   {
    "duration": 25,
    "start_time": "2021-12-07T21:25:56.436Z"
   },
   {
    "duration": 597,
    "start_time": "2021-12-07T21:25:56.462Z"
   },
   {
    "duration": 20,
    "start_time": "2021-12-07T21:25:57.061Z"
   },
   {
    "duration": 20,
    "start_time": "2021-12-07T21:25:57.105Z"
   },
   {
    "duration": 18,
    "start_time": "2021-12-07T21:25:57.128Z"
   },
   {
    "duration": 1132,
    "start_time": "2021-12-07T21:25:57.148Z"
   },
   {
    "duration": 1210,
    "start_time": "2021-12-07T21:25:58.282Z"
   },
   {
    "duration": 17,
    "start_time": "2021-12-07T21:25:59.493Z"
   },
   {
    "duration": 8,
    "start_time": "2021-12-07T21:25:59.512Z"
   },
   {
    "duration": 8,
    "start_time": "2021-12-07T21:25:59.521Z"
   },
   {
    "duration": 8,
    "start_time": "2021-12-07T21:25:59.530Z"
   },
   {
    "duration": 8,
    "start_time": "2021-12-07T21:25:59.539Z"
   },
   {
    "duration": 732,
    "start_time": "2021-12-07T21:25:59.549Z"
   },
   {
    "duration": 34,
    "start_time": "2021-12-07T21:26:00.283Z"
   },
   {
    "duration": 4,
    "start_time": "2021-12-07T21:26:00.319Z"
   },
   {
    "duration": 33,
    "start_time": "2021-12-07T21:26:00.324Z"
   },
   {
    "duration": 1329,
    "start_time": "2021-12-07T21:26:00.359Z"
   },
   {
    "duration": 24,
    "start_time": "2021-12-07T21:26:01.690Z"
   },
   {
    "duration": 718,
    "start_time": "2021-12-07T21:26:01.716Z"
   },
   {
    "duration": 31,
    "start_time": "2021-12-07T21:26:02.436Z"
   },
   {
    "duration": 295,
    "start_time": "2021-12-07T21:26:02.468Z"
   },
   {
    "duration": 258,
    "start_time": "2021-12-07T21:26:02.764Z"
   },
   {
    "duration": 7,
    "start_time": "2021-12-07T21:26:03.023Z"
   },
   {
    "duration": 282,
    "start_time": "2021-12-07T21:26:03.031Z"
   },
   {
    "duration": 263,
    "start_time": "2021-12-07T21:26:03.315Z"
   },
   {
    "duration": 222,
    "start_time": "2021-12-07T21:26:03.580Z"
   },
   {
    "duration": 330,
    "start_time": "2021-12-07T21:26:03.803Z"
   },
   {
    "duration": 12,
    "start_time": "2021-12-07T21:26:04.136Z"
   },
   {
    "duration": 14,
    "start_time": "2021-12-07T21:26:04.150Z"
   },
   {
    "duration": 1262,
    "start_time": "2021-12-07T21:26:04.167Z"
   },
   {
    "duration": 19,
    "start_time": "2021-12-07T21:26:05.431Z"
   },
   {
    "duration": 19,
    "start_time": "2021-12-07T21:26:05.452Z"
   },
   {
    "duration": 960,
    "start_time": "2021-12-08T19:59:09.374Z"
   },
   {
    "duration": 31,
    "start_time": "2021-12-08T19:59:10.337Z"
   },
   {
    "duration": 87,
    "start_time": "2021-12-08T19:59:10.383Z"
   },
   {
    "duration": 32,
    "start_time": "2021-12-08T19:59:10.473Z"
   },
   {
    "duration": 22,
    "start_time": "2021-12-08T19:59:10.507Z"
   },
   {
    "duration": 49,
    "start_time": "2021-12-08T19:59:10.532Z"
   },
   {
    "duration": 26,
    "start_time": "2021-12-08T19:59:10.583Z"
   },
   {
    "duration": 392,
    "start_time": "2021-12-08T19:59:10.613Z"
   },
   {
    "duration": 25,
    "start_time": "2021-12-08T19:59:11.008Z"
   },
   {
    "duration": 50,
    "start_time": "2021-12-08T19:59:11.035Z"
   },
   {
    "duration": 25,
    "start_time": "2021-12-08T19:59:11.087Z"
   },
   {
    "duration": 51,
    "start_time": "2021-12-08T19:59:11.114Z"
   },
   {
    "duration": 30,
    "start_time": "2021-12-08T19:59:11.167Z"
   },
   {
    "duration": 23,
    "start_time": "2021-12-08T19:59:11.201Z"
   },
   {
    "duration": 75,
    "start_time": "2021-12-08T19:59:11.226Z"
   },
   {
    "duration": 22,
    "start_time": "2021-12-08T19:59:11.303Z"
   },
   {
    "duration": 65,
    "start_time": "2021-12-08T19:59:11.327Z"
   },
   {
    "duration": 68,
    "start_time": "2021-12-08T19:59:11.394Z"
   },
   {
    "duration": 56,
    "start_time": "2021-12-08T19:59:11.466Z"
   },
   {
    "duration": 77,
    "start_time": "2021-12-08T19:59:11.525Z"
   },
   {
    "duration": 1067,
    "start_time": "2021-12-08T19:59:11.605Z"
   },
   {
    "duration": 57,
    "start_time": "2021-12-08T19:59:12.677Z"
   },
   {
    "duration": 31,
    "start_time": "2021-12-08T19:59:12.760Z"
   },
   {
    "duration": 29,
    "start_time": "2021-12-08T19:59:12.794Z"
   },
   {
    "duration": 1978,
    "start_time": "2021-12-08T19:59:12.826Z"
   },
   {
    "duration": 2269,
    "start_time": "2021-12-08T19:59:14.806Z"
   },
   {
    "duration": 12,
    "start_time": "2021-12-08T19:59:17.078Z"
   },
   {
    "duration": 12,
    "start_time": "2021-12-08T19:59:17.092Z"
   },
   {
    "duration": 11,
    "start_time": "2021-12-08T19:59:17.106Z"
   },
   {
    "duration": 60,
    "start_time": "2021-12-08T19:59:17.119Z"
   },
   {
    "duration": 11,
    "start_time": "2021-12-08T19:59:17.182Z"
   },
   {
    "duration": 1199,
    "start_time": "2021-12-08T19:59:17.195Z"
   },
   {
    "duration": 29,
    "start_time": "2021-12-08T19:59:18.397Z"
   },
   {
    "duration": 5,
    "start_time": "2021-12-08T19:59:18.428Z"
   },
   {
    "duration": 24,
    "start_time": "2021-12-08T19:59:18.459Z"
   },
   {
    "duration": 1941,
    "start_time": "2021-12-08T19:59:18.485Z"
   },
   {
    "duration": 53,
    "start_time": "2021-12-08T19:59:20.428Z"
   },
   {
    "duration": 1231,
    "start_time": "2021-12-08T19:59:20.484Z"
   },
   {
    "duration": 67,
    "start_time": "2021-12-08T19:59:21.717Z"
   },
   {
    "duration": 554,
    "start_time": "2021-12-08T19:59:21.787Z"
   },
   {
    "duration": 532,
    "start_time": "2021-12-08T19:59:22.344Z"
   },
   {
    "duration": 9,
    "start_time": "2021-12-08T19:59:22.878Z"
   },
   {
    "duration": 575,
    "start_time": "2021-12-08T19:59:22.889Z"
   },
   {
    "duration": 535,
    "start_time": "2021-12-08T19:59:23.467Z"
   },
   {
    "duration": 377,
    "start_time": "2021-12-08T19:59:24.004Z"
   },
   {
    "duration": 447,
    "start_time": "2021-12-08T19:59:24.384Z"
   },
   {
    "duration": 29,
    "start_time": "2021-12-08T19:59:24.833Z"
   },
   {
    "duration": 31,
    "start_time": "2021-12-08T19:59:24.865Z"
   },
   {
    "duration": 2421,
    "start_time": "2021-12-08T19:59:24.899Z"
   },
   {
    "duration": 45,
    "start_time": "2021-12-08T19:59:27.322Z"
   },
   {
    "duration": 32,
    "start_time": "2021-12-08T19:59:27.370Z"
   }
  ],
  "kernelspec": {
   "display_name": "Python 3 (ipykernel)",
   "language": "python",
   "name": "python3"
  },
  "language_info": {
   "codemirror_mode": {
    "name": "ipython",
    "version": 3
   },
   "file_extension": ".py",
   "mimetype": "text/x-python",
   "name": "python",
   "nbconvert_exporter": "python",
   "pygments_lexer": "ipython3",
   "version": "3.9.7"
  },
  "toc": {
   "base_numbering": 1,
   "nav_menu": {},
   "number_sections": true,
   "sideBar": true,
   "skip_h1_title": true,
   "title_cell": "Содержание",
   "title_sidebar": "Contents",
   "toc_cell": true,
   "toc_position": {
    "height": "calc(100% - 180px)",
    "left": "10px",
    "top": "150px",
    "width": "392px"
   },
   "toc_section_display": true,
   "toc_window_display": false
  }
 },
 "nbformat": 4,
 "nbformat_minor": 2
}
