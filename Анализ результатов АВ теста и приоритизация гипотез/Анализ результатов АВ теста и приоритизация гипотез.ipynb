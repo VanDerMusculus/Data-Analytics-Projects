{
 "cells": [
  {
   "cell_type": "markdown",
   "metadata": {},
   "source": [
    "# Анализ результатов А/В теста и приоритизация гипотез"
   ]
  },
  {
   "cell_type": "markdown",
   "metadata": {},
   "source": [
    "Мне передали данные с гипотезами и данные по посещениям, покупкам на сайте, разделенные по группам. Необходимо посмотреть различия по приоритизациям гипотез, используя фреймворк ICE и RICE. Также необходимо провести A/B тест, опираясь на полученные данные по посещаемости и заказам.\n",
    "Для начала оценим, как собраны данные, их характер, формат, приведем форматы к нужным, если потребуется.\n",
    "Далее с помощью фреймворков ICE-RICE проведем приоритизацию гипотез, оценим разницу в полученных результатах.\n",
    "Затем на основе имеющихся файлов проведем A/B тест, вынесем решение продолжить или завершить тест."
   ]
  },
  {
   "cell_type": "markdown",
   "metadata": {},
   "source": [
    "# План"
   ]
  },
  {
   "cell_type": "markdown",
   "metadata": {},
   "source": [
    "- [Предобработка данных](#предобработка)\n",
    "- [Приоритизация гипотез методами ICE-RICE](#приоритизация)\n",
    "- [A/B тестирование](#тестирование)\n",
    "- [Выводы](#вывод)"
   ]
  },
  {
   "cell_type": "markdown",
   "metadata": {},
   "source": [
    "# Обработка данных <a id='предобработка'></a>"
   ]
  },
  {
   "cell_type": "code",
   "execution_count": 2,
   "metadata": {},
   "outputs": [
    {
     "name": "stdout",
     "output_type": "stream",
     "text": [
      "<class 'pandas.core.frame.DataFrame'>\n",
      "RangeIndex: 9 entries, 0 to 8\n",
      "Data columns (total 5 columns):\n",
      "Hypothesis    9 non-null object\n",
      "Reach         9 non-null int64\n",
      "Impact        9 non-null int64\n",
      "Confidence    9 non-null int64\n",
      "Efforts       9 non-null int64\n",
      "dtypes: int64(4), object(1)\n",
      "memory usage: 488.0+ bytes\n"
     ]
    }
   ],
   "source": [
    "import pandas as pd\n",
    "import numpy as np\n",
    "import datetime as dt\n",
    "import matplotlib.pyplot as plt\n",
    "import scipy.stats as stats\n",
    "\n",
    "hypothesis = pd.read_csv('/datasets/hypothesis.csv')\n",
    "hypothesis.info()"
   ]
  },
  {
   "cell_type": "code",
   "execution_count": 3,
   "metadata": {},
   "outputs": [
    {
     "name": "stdout",
     "output_type": "stream",
     "text": [
      "<class 'pandas.core.frame.DataFrame'>\n",
      "RangeIndex: 1197 entries, 0 to 1196\n",
      "Data columns (total 5 columns):\n",
      "transactionId    1197 non-null int64\n",
      "visitorId        1197 non-null int64\n",
      "date             1197 non-null object\n",
      "revenue          1197 non-null int64\n",
      "group            1197 non-null object\n",
      "dtypes: int64(3), object(2)\n",
      "memory usage: 46.9+ KB\n"
     ]
    }
   ],
   "source": [
    "orders = pd.read_csv('/datasets/orders.csv')\n",
    "orders.info()"
   ]
  },
  {
   "cell_type": "code",
   "execution_count": 4,
   "metadata": {},
   "outputs": [
    {
     "name": "stdout",
     "output_type": "stream",
     "text": [
      "<class 'pandas.core.frame.DataFrame'>\n",
      "RangeIndex: 62 entries, 0 to 61\n",
      "Data columns (total 3 columns):\n",
      "date        62 non-null object\n",
      "group       62 non-null object\n",
      "visitors    62 non-null int64\n",
      "dtypes: int64(1), object(2)\n",
      "memory usage: 1.6+ KB\n"
     ]
    }
   ],
   "source": [
    "visitors = pd.read_csv('/datasets/visitors.csv')\n",
    "visitors.info()"
   ]
  },
  {
   "cell_type": "code",
   "execution_count": 5,
   "metadata": {},
   "outputs": [
    {
     "name": "stdout",
     "output_type": "stream",
     "text": [
      "<class 'pandas.core.frame.DataFrame'>\n",
      "RangeIndex: 62 entries, 0 to 61\n",
      "Data columns (total 3 columns):\n",
      "date        62 non-null datetime64[ns]\n",
      "group       62 non-null object\n",
      "visitors    62 non-null int64\n",
      "dtypes: datetime64[ns](1), int64(1), object(1)\n",
      "memory usage: 1.6+ KB\n"
     ]
    }
   ],
   "source": [
    "visitors['date'] = visitors['date'].map(\n",
    "    lambda x: dt.datetime.strptime(x, '%Y-%m-%d')\n",
    ")\n",
    "visitors.info()"
   ]
  },
  {
   "cell_type": "code",
   "execution_count": 6,
   "metadata": {},
   "outputs": [
    {
     "name": "stdout",
     "output_type": "stream",
     "text": [
      "<class 'pandas.core.frame.DataFrame'>\n",
      "RangeIndex: 1197 entries, 0 to 1196\n",
      "Data columns (total 5 columns):\n",
      "transactionId    1197 non-null int64\n",
      "visitorId        1197 non-null int64\n",
      "date             1197 non-null datetime64[ns]\n",
      "revenue          1197 non-null int64\n",
      "group            1197 non-null object\n",
      "dtypes: datetime64[ns](1), int64(3), object(1)\n",
      "memory usage: 46.9+ KB\n"
     ]
    }
   ],
   "source": [
    "orders['date'] = orders['date'].map(\n",
    "    lambda x: dt.datetime.strptime(x, '%Y-%m-%d')\n",
    ")\n",
    "orders.info()"
   ]
  },
  {
   "cell_type": "code",
   "execution_count": 7,
   "metadata": {},
   "outputs": [
    {
     "data": {
      "text/plain": [
       "31"
      ]
     },
     "execution_count": 7,
     "metadata": {},
     "output_type": "execute_result"
    }
   ],
   "source": [
    "visitors_duplicated = visitors[visitors.duplicated()]\n",
    "len(visitors['date'].unique())"
   ]
  },
  {
   "cell_type": "code",
   "execution_count": 32,
   "metadata": {},
   "outputs": [
    {
     "data": {
      "text/plain": [
       "58"
      ]
     },
     "execution_count": 32,
     "metadata": {},
     "output_type": "execute_result"
    }
   ],
   "source": [
    "orders_duplicated = orders[orders.duplicated()]\n",
    "group_a_visitor_id = orders[orders['group'] == 'A']['visitorId']\n",
    "filter_orders = orders['visitorId'].isin(group_a_visitor_id)\n",
    "result = orders[filter_orders]\n",
    "coincidence = result[result['group'] == 'B']['visitorId']\n",
    "coincidence.nunique()"
   ]
  },
  {
   "cell_type": "markdown",
   "metadata": {},
   "source": [
    "По предварительной оценке данных можно скаазать, что каких-то серьезных работ по исправлению форматов или чистки датасэтов не требуется. Единственное - необходимо привести date в orders, visitors к формату даты. Есть только проблема с тем, что 58 пользователя попали в две группы теста сразу"
   ]
  },
  {
   "cell_type": "markdown",
   "metadata": {},
   "source": [
    "# Приоритизация гипотез фреймворками ICE-RICE <a id='приоритизация'></a>"
   ]
  },
  {
   "cell_type": "code",
   "execution_count": 9,
   "metadata": {},
   "outputs": [
    {
     "data": {
      "text/html": [
       "<div>\n",
       "<style scoped>\n",
       "    .dataframe tbody tr th:only-of-type {\n",
       "        vertical-align: middle;\n",
       "    }\n",
       "\n",
       "    .dataframe tbody tr th {\n",
       "        vertical-align: top;\n",
       "    }\n",
       "\n",
       "    .dataframe thead th {\n",
       "        text-align: right;\n",
       "    }\n",
       "</style>\n",
       "<table border=\"1\" class=\"dataframe\">\n",
       "  <thead>\n",
       "    <tr style=\"text-align: right;\">\n",
       "      <th></th>\n",
       "      <th>Hypothesis</th>\n",
       "      <th>ICE</th>\n",
       "    </tr>\n",
       "  </thead>\n",
       "  <tbody>\n",
       "    <tr>\n",
       "      <td>8</td>\n",
       "      <td>Запустить акцию, дающую скидку на товар в день рождения</td>\n",
       "      <td>16.0</td>\n",
       "    </tr>\n",
       "    <tr>\n",
       "      <td>0</td>\n",
       "      <td>Добавить два новых канала привлечения трафика, что позволит привлекать на 30% больше пользователей</td>\n",
       "      <td>13.0</td>\n",
       "    </tr>\n",
       "    <tr>\n",
       "      <td>7</td>\n",
       "      <td>Добавить форму подписки на все основные страницы, чтобы собрать базу клиентов для email-рассылок</td>\n",
       "      <td>11.0</td>\n",
       "    </tr>\n",
       "    <tr>\n",
       "      <td>6</td>\n",
       "      <td>Показать на главной странице баннеры с актуальными акциями и распродажами, чтобы увеличить конверсию</td>\n",
       "      <td>8.0</td>\n",
       "    </tr>\n",
       "    <tr>\n",
       "      <td>2</td>\n",
       "      <td>Добавить блоки рекомендаций товаров на сайт интернет магазина, чтобы повысить конверсию и средний чек заказа</td>\n",
       "      <td>7.0</td>\n",
       "    </tr>\n",
       "    <tr>\n",
       "      <td>1</td>\n",
       "      <td>Запустить собственную службу доставки, что сократит срок доставки заказов</td>\n",
       "      <td>2.0</td>\n",
       "    </tr>\n",
       "    <tr>\n",
       "      <td>5</td>\n",
       "      <td>Добавить страницу отзывов клиентов о магазине, что позволит увеличить количество заказов</td>\n",
       "      <td>1.0</td>\n",
       "    </tr>\n",
       "    <tr>\n",
       "      <td>3</td>\n",
       "      <td>Изменить структура категорий, что увеличит конверсию, т.к. пользователи быстрее найдут нужный товар</td>\n",
       "      <td>1.0</td>\n",
       "    </tr>\n",
       "    <tr>\n",
       "      <td>4</td>\n",
       "      <td>Изменить цвет фона главной страницы, чтобы увеличить вовлеченность пользователей</td>\n",
       "      <td>1.0</td>\n",
       "    </tr>\n",
       "  </tbody>\n",
       "</table>\n",
       "</div>"
      ],
      "text/plain": [
       "                                                                                                     Hypothesis  \\\n",
       "8                                                       Запустить акцию, дающую скидку на товар в день рождения   \n",
       "0            Добавить два новых канала привлечения трафика, что позволит привлекать на 30% больше пользователей   \n",
       "7              Добавить форму подписки на все основные страницы, чтобы собрать базу клиентов для email-рассылок   \n",
       "6          Показать на главной странице баннеры с актуальными акциями и распродажами, чтобы увеличить конверсию   \n",
       "2  Добавить блоки рекомендаций товаров на сайт интернет магазина, чтобы повысить конверсию и средний чек заказа   \n",
       "1                                     Запустить собственную службу доставки, что сократит срок доставки заказов   \n",
       "5                      Добавить страницу отзывов клиентов о магазине, что позволит увеличить количество заказов   \n",
       "3           Изменить структура категорий, что увеличит конверсию, т.к. пользователи быстрее найдут нужный товар   \n",
       "4                              Изменить цвет фона главной страницы, чтобы увеличить вовлеченность пользователей   \n",
       "\n",
       "    ICE  \n",
       "8  16.0  \n",
       "0  13.0  \n",
       "7  11.0  \n",
       "6   8.0  \n",
       "2   7.0  \n",
       "1   2.0  \n",
       "5   1.0  \n",
       "3   1.0  \n",
       "4   1.0  "
      ]
     },
     "execution_count": 9,
     "metadata": {},
     "output_type": "execute_result"
    }
   ],
   "source": [
    "hypothesis_ice = hypothesis\n",
    "pd.set_option('display.max_columns', None)\n",
    "pd.options.display.max_colwidth = 150\n",
    "hypothesis_ice['ICE'] = (hypothesis['Impact'] * hypothesis['Confidence'])/hypothesis['Efforts']\n",
    "hypothesis_ice[['Hypothesis', 'ICE']].sort_values(by='ICE', ascending=False).round()"
   ]
  },
  {
   "cell_type": "code",
   "execution_count": 10,
   "metadata": {},
   "outputs": [
    {
     "data": {
      "text/html": [
       "<div>\n",
       "<style scoped>\n",
       "    .dataframe tbody tr th:only-of-type {\n",
       "        vertical-align: middle;\n",
       "    }\n",
       "\n",
       "    .dataframe tbody tr th {\n",
       "        vertical-align: top;\n",
       "    }\n",
       "\n",
       "    .dataframe thead th {\n",
       "        text-align: right;\n",
       "    }\n",
       "</style>\n",
       "<table border=\"1\" class=\"dataframe\">\n",
       "  <thead>\n",
       "    <tr style=\"text-align: right;\">\n",
       "      <th></th>\n",
       "      <th>Hypothesis</th>\n",
       "      <th>RICE</th>\n",
       "    </tr>\n",
       "  </thead>\n",
       "  <tbody>\n",
       "    <tr>\n",
       "      <td>7</td>\n",
       "      <td>Добавить форму подписки на все основные страницы, чтобы собрать базу клиентов для email-рассылок</td>\n",
       "      <td>112.0</td>\n",
       "    </tr>\n",
       "    <tr>\n",
       "      <td>2</td>\n",
       "      <td>Добавить блоки рекомендаций товаров на сайт интернет магазина, чтобы повысить конверсию и средний чек заказа</td>\n",
       "      <td>56.0</td>\n",
       "    </tr>\n",
       "    <tr>\n",
       "      <td>0</td>\n",
       "      <td>Добавить два новых канала привлечения трафика, что позволит привлекать на 30% больше пользователей</td>\n",
       "      <td>40.0</td>\n",
       "    </tr>\n",
       "    <tr>\n",
       "      <td>6</td>\n",
       "      <td>Показать на главной странице баннеры с актуальными акциями и распродажами, чтобы увеличить конверсию</td>\n",
       "      <td>40.0</td>\n",
       "    </tr>\n",
       "    <tr>\n",
       "      <td>8</td>\n",
       "      <td>Запустить акцию, дающую скидку на товар в день рождения</td>\n",
       "      <td>16.2</td>\n",
       "    </tr>\n",
       "    <tr>\n",
       "      <td>3</td>\n",
       "      <td>Изменить структура категорий, что увеличит конверсию, т.к. пользователи быстрее найдут нужный товар</td>\n",
       "      <td>9.0</td>\n",
       "    </tr>\n",
       "    <tr>\n",
       "      <td>1</td>\n",
       "      <td>Запустить собственную службу доставки, что сократит срок доставки заказов</td>\n",
       "      <td>4.0</td>\n",
       "    </tr>\n",
       "    <tr>\n",
       "      <td>5</td>\n",
       "      <td>Добавить страницу отзывов клиентов о магазине, что позволит увеличить количество заказов</td>\n",
       "      <td>4.0</td>\n",
       "    </tr>\n",
       "    <tr>\n",
       "      <td>4</td>\n",
       "      <td>Изменить цвет фона главной страницы, чтобы увеличить вовлеченность пользователей</td>\n",
       "      <td>3.0</td>\n",
       "    </tr>\n",
       "  </tbody>\n",
       "</table>\n",
       "</div>"
      ],
      "text/plain": [
       "                                                                                                     Hypothesis  \\\n",
       "7              Добавить форму подписки на все основные страницы, чтобы собрать базу клиентов для email-рассылок   \n",
       "2  Добавить блоки рекомендаций товаров на сайт интернет магазина, чтобы повысить конверсию и средний чек заказа   \n",
       "0            Добавить два новых канала привлечения трафика, что позволит привлекать на 30% больше пользователей   \n",
       "6          Показать на главной странице баннеры с актуальными акциями и распродажами, чтобы увеличить конверсию   \n",
       "8                                                       Запустить акцию, дающую скидку на товар в день рождения   \n",
       "3           Изменить структура категорий, что увеличит конверсию, т.к. пользователи быстрее найдут нужный товар   \n",
       "1                                     Запустить собственную службу доставки, что сократит срок доставки заказов   \n",
       "5                      Добавить страницу отзывов клиентов о магазине, что позволит увеличить количество заказов   \n",
       "4                              Изменить цвет фона главной страницы, чтобы увеличить вовлеченность пользователей   \n",
       "\n",
       "    RICE  \n",
       "7  112.0  \n",
       "2   56.0  \n",
       "0   40.0  \n",
       "6   40.0  \n",
       "8   16.2  \n",
       "3    9.0  \n",
       "1    4.0  \n",
       "5    4.0  \n",
       "4    3.0  "
      ]
     },
     "execution_count": 10,
     "metadata": {},
     "output_type": "execute_result"
    }
   ],
   "source": [
    "hypothesis = hypothesis.drop('ICE', axis=1)\n",
    "hypothesis_rice = hypothesis\n",
    "pd.set_option('display.max_columns', None)\n",
    "pd.options.display.max_colwidth = 150\n",
    "hypothesis_rice['RICE'] = (hypothesis['Reach'] * hypothesis['Impact'] * hypothesis['Confidence'])/hypothesis['Efforts']\n",
    "hypothesis_rice[['Hypothesis', 'RICE']].sort_values(by='RICE', ascending=False)"
   ]
  },
  {
   "cell_type": "markdown",
   "metadata": {},
   "source": [
    "При использовании разных фреймворков видим разницу в приоритизации гипотез. Разница достигается за счет того, что во фреймворке RICE добавляется покзатель Reach, который подразумевает, скольких пользователей затронет изменение, которое вы хотите внести, то есть \"охват\". Соответсвенно из-за этого возникает разница, так как у некоторых гипотез изменения для сайта/приложения охватывает всех пользователей и показатель идет высоким, из-за чего конечный результат выше (ориентировано не всех пользователей, а не только на платящих). В приоритете гипотезы 7,0,6"
   ]
  },
  {
   "cell_type": "markdown",
   "metadata": {},
   "source": [
    "# А/В тестирование <a id='тестирование'></a>"
   ]
  },
  {
   "cell_type": "markdown",
   "metadata": {},
   "source": [
    "## Кумулятивная выручка по группам"
   ]
  },
  {
   "cell_type": "markdown",
   "metadata": {},
   "source": [
    "Соберём агрегированные кумулятивные по дням данные о заказах. Получим агрегированные кумулятивные по дням данные о посетителях "
   ]
  },
  {
   "cell_type": "code",
   "execution_count": 11,
   "metadata": {},
   "outputs": [],
   "source": [
    "# создаем массив уникальных пар значений дат и групп теста\n",
    "dates_groups = orders[['date','group']].drop_duplicates()\n",
    "\n",
    "orders_aggregated = dates_groups.apply(lambda x: orders[np.logical_and(orders['date'] <= x['date'], orders['group'] == x['group'])]\\\n",
    ".agg({'date' : 'max', 'group' : 'max', 'transactionId' : 'nunique', 'visitorId' : 'nunique', 'revenue' : 'sum'}), axis=1).sort_values(by=['date','group'])\n",
    "\n",
    "visitors_aggregated = dates_groups.apply(lambda x: visitors[np.logical_and(visitors['date'] <= x['date'], visitors['group'] == x['group'])]\\\n",
    "                                       .agg({'date' : 'max', 'group' : 'max', 'visitors' : 'sum'}), axis=1).sort_values(by=['date','group'])"
   ]
  },
  {
   "cell_type": "markdown",
   "metadata": {},
   "source": [
    "Объединим обе таблицы в одну"
   ]
  },
  {
   "cell_type": "code",
   "execution_count": 12,
   "metadata": {},
   "outputs": [
    {
     "data": {
      "text/html": [
       "<div>\n",
       "<style scoped>\n",
       "    .dataframe tbody tr th:only-of-type {\n",
       "        vertical-align: middle;\n",
       "    }\n",
       "\n",
       "    .dataframe tbody tr th {\n",
       "        vertical-align: top;\n",
       "    }\n",
       "\n",
       "    .dataframe thead th {\n",
       "        text-align: right;\n",
       "    }\n",
       "</style>\n",
       "<table border=\"1\" class=\"dataframe\">\n",
       "  <thead>\n",
       "    <tr style=\"text-align: right;\">\n",
       "      <th></th>\n",
       "      <th>date</th>\n",
       "      <th>group</th>\n",
       "      <th>orders</th>\n",
       "      <th>buyers</th>\n",
       "      <th>revenue</th>\n",
       "      <th>visitors</th>\n",
       "      <th>conversion</th>\n",
       "    </tr>\n",
       "  </thead>\n",
       "  <tbody>\n",
       "    <tr>\n",
       "      <td>0</td>\n",
       "      <td>2019-08-01</td>\n",
       "      <td>A</td>\n",
       "      <td>24</td>\n",
       "      <td>20</td>\n",
       "      <td>148579</td>\n",
       "      <td>719</td>\n",
       "      <td>0.033380</td>\n",
       "    </tr>\n",
       "    <tr>\n",
       "      <td>1</td>\n",
       "      <td>2019-08-01</td>\n",
       "      <td>B</td>\n",
       "      <td>21</td>\n",
       "      <td>20</td>\n",
       "      <td>101217</td>\n",
       "      <td>713</td>\n",
       "      <td>0.029453</td>\n",
       "    </tr>\n",
       "    <tr>\n",
       "      <td>2</td>\n",
       "      <td>2019-08-02</td>\n",
       "      <td>A</td>\n",
       "      <td>44</td>\n",
       "      <td>38</td>\n",
       "      <td>242401</td>\n",
       "      <td>1338</td>\n",
       "      <td>0.032885</td>\n",
       "    </tr>\n",
       "    <tr>\n",
       "      <td>3</td>\n",
       "      <td>2019-08-02</td>\n",
       "      <td>B</td>\n",
       "      <td>45</td>\n",
       "      <td>43</td>\n",
       "      <td>266748</td>\n",
       "      <td>1294</td>\n",
       "      <td>0.034776</td>\n",
       "    </tr>\n",
       "    <tr>\n",
       "      <td>4</td>\n",
       "      <td>2019-08-03</td>\n",
       "      <td>A</td>\n",
       "      <td>68</td>\n",
       "      <td>62</td>\n",
       "      <td>354874</td>\n",
       "      <td>1845</td>\n",
       "      <td>0.036856</td>\n",
       "    </tr>\n",
       "  </tbody>\n",
       "</table>\n",
       "</div>"
      ],
      "text/plain": [
       "        date group  orders  buyers  revenue  visitors  conversion\n",
       "0 2019-08-01     A      24      20   148579       719    0.033380\n",
       "1 2019-08-01     B      21      20   101217       713    0.029453\n",
       "2 2019-08-02     A      44      38   242401      1338    0.032885\n",
       "3 2019-08-02     B      45      43   266748      1294    0.034776\n",
       "4 2019-08-03     A      68      62   354874      1845    0.036856"
      ]
     },
     "execution_count": 12,
     "metadata": {},
     "output_type": "execute_result"
    }
   ],
   "source": [
    "cumulative_data = orders_aggregated.merge(visitors_aggregated, left_on=['date', 'group'], right_on=['date', 'group'])\n",
    "cumulative_data.columns = ['date', 'group', 'orders', 'buyers', 'revenue', 'visitors']\n",
    "cumulative_data['conversion'] = cumulative_data['orders']/cumulative_data['visitors']\n",
    "\n",
    "cumulative_data.head()"
   ]
  },
  {
   "cell_type": "markdown",
   "metadata": {},
   "source": [
    "Строим графики кумулятивной выручки по группам"
   ]
  },
  {
   "cell_type": "code",
   "execution_count": 33,
   "metadata": {
    "scrolled": false
   },
   "outputs": [
    {
     "data": {
      "image/png": "[encoded data removed]",
      "text/plain": [
       "<Figure size 432x288 with 1 Axes>"
      ]
     },
     "metadata": {
      "needs_background": "light"
     },
     "output_type": "display_data"
    }
   ],
   "source": [
    "cumulative_revenue_a = cumulative_data[cumulative_data['group'] == 'A'][['date','revenue','orders']]\n",
    "cumulative_revenue_b = cumulative_data[cumulative_data['group'] == 'B'][['date','revenue','orders']]\n",
    "\n",
    "plt.plot(cumulative_revenue_a['date'], cumulative_revenue_a['revenue'], label='A')\n",
    "plt.plot(cumulative_revenue_b['date'], cumulative_revenue_b['revenue'], label='B')\n",
    "plt.xticks (rotation = 45)\n",
    "plt.legend()\n",
    "plt.xlabel('Даты')\n",
    "plt.ylabel('Кумулятивная выручка')\n",
    "plt.title('График кумулятивной выручки по группам')\n",
    "plt.show()"
   ]
  },
  {
   "cell_type": "markdown",
   "metadata": {},
   "source": [
    "Примерно до середины теста группы идут близко друг к другу, потом группа В вырывается вперед. Вероятно имеют место быть выбросы (большие заказы)"
   ]
  },
  {
   "cell_type": "markdown",
   "metadata": {},
   "source": [
    "## Кумулятивный средний чек по группам"
   ]
  },
  {
   "cell_type": "markdown",
   "metadata": {},
   "source": [
    "Строим графики кумулятивного среднего чека по дням для каждой группы"
   ]
  },
  {
   "cell_type": "code",
   "execution_count": 34,
   "metadata": {},
   "outputs": [
    {
     "data": {
      "image/png": "[encoded data removed]",
      "text/plain": [
       "<Figure size 432x288 with 1 Axes>"
      ]
     },
     "metadata": {
      "needs_background": "light"
     },
     "output_type": "display_data"
    }
   ],
   "source": [
    "plt.plot(cumulative_revenue_a['date'], cumulative_revenue_a['revenue']/cumulative_revenue_a['orders'], label='A')\n",
    "plt.plot(cumulative_revenue_b['date'], cumulative_revenue_b['revenue']/cumulative_revenue_b['orders'], label='B')\n",
    "plt.xticks (rotation = 45)\n",
    "plt.legend()\n",
    "plt.ylabel('Средняя кумулятивная стоимость чека')\n",
    "plt.xlabel('Даты')\n",
    "plt.title('График кумулятивного среднего чека по дням')\n",
    "plt.show()"
   ]
  },
  {
   "cell_type": "markdown",
   "metadata": {},
   "source": [
    "Имеется резкий рост в группе В, необходимо посмотреть данные на предмет выбросов (большие заказы), исключить их из анализа"
   ]
  },
  {
   "cell_type": "markdown",
   "metadata": {},
   "source": [
    "## Относительное изменение кумулятивного среднего чека В к А"
   ]
  },
  {
   "cell_type": "markdown",
   "metadata": {},
   "source": [
    "Объединяем таблицы с кумулятивными данными по выручке, строим график"
   ]
  },
  {
   "cell_type": "code",
   "execution_count": 36,
   "metadata": {},
   "outputs": [
    {
     "data": {
      "image/png": "[encoded data removed]",
      "text/plain": [
       "<Figure size 432x288 with 1 Axes>"
      ]
     },
     "metadata": {
      "needs_background": "light"
     },
     "output_type": "display_data"
    }
   ],
   "source": [
    "merged_cumulative_revenue = cumulative_revenue_a.merge(cumulative_revenue_b, left_on='date', right_on='date', how='left', suffixes=['A', 'B'])\n",
    "\n",
    "# cтроим отношение средних чеков\n",
    "plt.plot(merged_cumulative_revenue['date'], (merged_cumulative_revenue['revenueB']/merged_cumulative_revenue['ordersB'])/(merged_cumulative_revenue['revenueA']/merged_cumulative_revenue['ordersA'])-1)\n",
    "\n",
    "# добавляем ось X\n",
    "plt.axhline(y=0, color='black', linestyle='--')\n",
    "plt.xticks (rotation = 45)\n",
    "plt.title('Относительное изменение кумулятивного чека В к А')\n",
    "plt.ylabel('Отношение В к А')\n",
    "plt.xlabel('Даты')\n",
    "plt.show()"
   ]
  },
  {
   "cell_type": "markdown",
   "metadata": {},
   "source": [
    "Налицо резкие изменения графика, что также говорит о наличии больших заказов"
   ]
  },
  {
   "cell_type": "markdown",
   "metadata": {},
   "source": [
    "## Кумулятивная конверсия по группам"
   ]
  },
  {
   "cell_type": "markdown",
   "metadata": {},
   "source": [
    "Добавляем в таблицу столбец c отношением числа заказов к количеству пользователей в указанной группе в указанный день (добавленов в пункте 2 после объединения таблиц) 2019-08-01 min 2019-08-31max"
   ]
  },
  {
   "cell_type": "code",
   "execution_count": 16,
   "metadata": {},
   "outputs": [
    {
     "data": {
      "image/png": "[encoded data removed]",
      "text/plain": [
       "<Figure size 432x288 with 1 Axes>"
      ]
     },
     "metadata": {
      "needs_background": "light"
     },
     "output_type": "display_data"
    }
   ],
   "source": [
    "cumulative_data_a = cumulative_data[cumulative_data['group']=='A']\n",
    "\n",
    "\n",
    "cumulative_data_b = cumulative_data[cumulative_data['group']=='B']\n",
    "\n",
    "plt.plot(cumulative_data_a['date'], cumulative_data_a['conversion'], label='A')\n",
    "plt.plot(cumulative_data_b['date'], cumulative_data_b['conversion'], label='B')\n",
    "plt.legend()\n",
    "\n",
    "# задаем масштаб осей\n",
    "plt.axis(['2019-08-01', '2019-08-31', 0, 0.05])\n",
    "plt.title ('Кумулятивная конверсия по группам')\n",
    "plt.ylabel('Конверсия (отношение платящих ко всем пользователям группы)')\n",
    "plt.xlabel('Даты')\n",
    "plt.show()"
   ]
  },
  {
   "cell_type": "markdown",
   "metadata": {},
   "source": [
    "После некоторого колебания графика в начале теста график выровнялся, группа В и тут имеет большее значение конверсии перед группой А"
   ]
  },
  {
   "cell_type": "markdown",
   "metadata": {},
   "source": [
    "## Относительное изменение кумулятивной конверсии группы B к группе A"
   ]
  },
  {
   "cell_type": "markdown",
   "metadata": {},
   "source": [
    "Объединим таблицы, построим графики"
   ]
  },
  {
   "cell_type": "code",
   "execution_count": 37,
   "metadata": {},
   "outputs": [
    {
     "data": {
      "image/png": "[encoded data removed]",
      "text/plain": [
       "<Figure size 432x288 with 1 Axes>"
      ]
     },
     "metadata": {
      "needs_background": "light"
     },
     "output_type": "display_data"
    }
   ],
   "source": [
    "merged_сumulative_сonversions = cumulative_data_a[['date','conversion']].merge(cumulative_data_b[['date','conversion']], left_on='date', right_on='date', how='left', suffixes=['A', 'B'])\n",
    "\n",
    "plt.plot(merged_сumulative_сonversions['date'], merged_сumulative_сonversions['conversionB']/merged_сumulative_сonversions['conversionA']-1, label=\"Относительный прирост конверсии группы B относительно группы A\")\n",
    "plt.axhline(y=0, color='black', linestyle='--')\n",
    "plt.axhline(y=0.2, color='grey', linestyle='--')\n",
    "plt.xticks (rotation = 45)\n",
    "plt.axis(['2019-08-01', '2019-08-31', -0.5, 0.5])\n",
    "plt.ylabel('Отношение В к А')\n",
    "plt.xlabel('Даты')\n",
    "plt.show()"
   ]
  },
  {
   "cell_type": "markdown",
   "metadata": {},
   "source": [
    "Группа В выше по конверсии относительно группы А, конверсия остановилась около прироста в 20%, потом снизилась примерно до 15%"
   ]
  },
  {
   "cell_type": "markdown",
   "metadata": {},
   "source": [
    "## Точечный график заказов по пользователям + перцентили"
   ]
  },
  {
   "cell_type": "markdown",
   "metadata": {},
   "source": [
    "Отсортируем таблицу с заказами по пользователям и построим точечный график для поиска больших заказов"
   ]
  },
  {
   "cell_type": "code",
   "execution_count": 18,
   "metadata": {},
   "outputs": [
    {
     "data": {
      "text/html": [
       "<div>\n",
       "<style scoped>\n",
       "    .dataframe tbody tr th:only-of-type {\n",
       "        vertical-align: middle;\n",
       "    }\n",
       "\n",
       "    .dataframe tbody tr th {\n",
       "        vertical-align: top;\n",
       "    }\n",
       "\n",
       "    .dataframe thead th {\n",
       "        text-align: right;\n",
       "    }\n",
       "</style>\n",
       "<table border=\"1\" class=\"dataframe\">\n",
       "  <thead>\n",
       "    <tr style=\"text-align: right;\">\n",
       "      <th></th>\n",
       "      <th>userId</th>\n",
       "      <th>orders</th>\n",
       "    </tr>\n",
       "  </thead>\n",
       "  <tbody>\n",
       "    <tr>\n",
       "      <td>1023</td>\n",
       "      <td>4256040402</td>\n",
       "      <td>11</td>\n",
       "    </tr>\n",
       "    <tr>\n",
       "      <td>591</td>\n",
       "      <td>2458001652</td>\n",
       "      <td>11</td>\n",
       "    </tr>\n",
       "    <tr>\n",
       "      <td>569</td>\n",
       "      <td>2378935119</td>\n",
       "      <td>9</td>\n",
       "    </tr>\n",
       "    <tr>\n",
       "      <td>487</td>\n",
       "      <td>2038680547</td>\n",
       "      <td>8</td>\n",
       "    </tr>\n",
       "    <tr>\n",
       "      <td>44</td>\n",
       "      <td>199603092</td>\n",
       "      <td>5</td>\n",
       "    </tr>\n",
       "    <tr>\n",
       "      <td>...</td>\n",
       "      <td>...</td>\n",
       "      <td>...</td>\n",
       "    </tr>\n",
       "    <tr>\n",
       "      <td>359</td>\n",
       "      <td>1484903144</td>\n",
       "      <td>1</td>\n",
       "    </tr>\n",
       "    <tr>\n",
       "      <td>360</td>\n",
       "      <td>1485964287</td>\n",
       "      <td>1</td>\n",
       "    </tr>\n",
       "    <tr>\n",
       "      <td>361</td>\n",
       "      <td>1494664757</td>\n",
       "      <td>1</td>\n",
       "    </tr>\n",
       "    <tr>\n",
       "      <td>362</td>\n",
       "      <td>1495112755</td>\n",
       "      <td>1</td>\n",
       "    </tr>\n",
       "    <tr>\n",
       "      <td>1030</td>\n",
       "      <td>4283872382</td>\n",
       "      <td>1</td>\n",
       "    </tr>\n",
       "  </tbody>\n",
       "</table>\n",
       "<p>1031 rows × 2 columns</p>\n",
       "</div>"
      ],
      "text/plain": [
       "          userId  orders\n",
       "1023  4256040402      11\n",
       "591   2458001652      11\n",
       "569   2378935119       9\n",
       "487   2038680547       8\n",
       "44     199603092       5\n",
       "...          ...     ...\n",
       "359   1484903144       1\n",
       "360   1485964287       1\n",
       "361   1494664757       1\n",
       "362   1495112755       1\n",
       "1030  4283872382       1\n",
       "\n",
       "[1031 rows x 2 columns]"
      ]
     },
     "execution_count": 18,
     "metadata": {},
     "output_type": "execute_result"
    }
   ],
   "source": [
    "orders_by_users = orders.groupby('visitorId', as_index=False).agg({'transactionId':'nunique'}).sort_values(by='transactionId',ascending=False)\n",
    "orders_by_users.columns = ['userId', 'orders']\n",
    "orders_by_users"
   ]
  },
  {
   "cell_type": "code",
   "execution_count": 19,
   "metadata": {},
   "outputs": [
    {
     "data": {
      "image/png": "[encoded data removed]",
      "text/plain": [
       "<Figure size 432x288 with 1 Axes>"
      ]
     },
     "metadata": {
      "needs_background": "light"
     },
     "output_type": "display_data"
    }
   ],
   "source": [
    "x_values = pd.Series(range(0, len(orders_by_users)))\n",
    "plt.scatter(x_values, orders_by_users['orders'])\n",
    "plt.title('Точечный график заказов по пользователям')\n",
    "plt.ylabel('Количество заказов')\n",
    "plt.xlabel('Количество пользователей')\n",
    "plt.show()"
   ]
  },
  {
   "cell_type": "code",
   "execution_count": 20,
   "metadata": {},
   "outputs": [
    {
     "data": {
      "text/plain": [
       "array([1., 2., 4.])"
      ]
     },
     "execution_count": 20,
     "metadata": {},
     "output_type": "execute_result"
    }
   ],
   "source": [
    "np.percentile(orders_by_users['orders'], [90,95,99])"
   ]
  },
  {
   "cell_type": "markdown",
   "metadata": {},
   "source": [
    "Подавляющее большинство пользователей делали по одному заказу, 5% - по 2 заказа, 1% - более двух. На мой взгляд, было бы разумно ограничить выборку теми пользователями, кто делал максимум 1-2 заказа."
   ]
  },
  {
   "cell_type": "markdown",
   "metadata": {},
   "source": [
    "## Точечный график стоимостей заказов + перцентили"
   ]
  },
  {
   "cell_type": "markdown",
   "metadata": {},
   "source": [
    "Отсортируем таблицу по стоимостям заказаов, построим точечный график для определения больших заказов, посчитаем перцентили для определения границы"
   ]
  },
  {
   "cell_type": "code",
   "execution_count": 21,
   "metadata": {},
   "outputs": [
    {
     "data": {
      "text/html": [
       "<div>\n",
       "<style scoped>\n",
       "    .dataframe tbody tr th:only-of-type {\n",
       "        vertical-align: middle;\n",
       "    }\n",
       "\n",
       "    .dataframe tbody tr th {\n",
       "        vertical-align: top;\n",
       "    }\n",
       "\n",
       "    .dataframe thead th {\n",
       "        text-align: right;\n",
       "    }\n",
       "</style>\n",
       "<table border=\"1\" class=\"dataframe\">\n",
       "  <thead>\n",
       "    <tr style=\"text-align: right;\">\n",
       "      <th></th>\n",
       "      <th>transactionId</th>\n",
       "      <th>visitorId</th>\n",
       "      <th>date</th>\n",
       "      <th>revenue</th>\n",
       "      <th>group</th>\n",
       "    </tr>\n",
       "  </thead>\n",
       "  <tbody>\n",
       "    <tr>\n",
       "      <td>425</td>\n",
       "      <td>590470918</td>\n",
       "      <td>1920142716</td>\n",
       "      <td>2019-08-19</td>\n",
       "      <td>1294500</td>\n",
       "      <td>B</td>\n",
       "    </tr>\n",
       "    <tr>\n",
       "      <td>1196</td>\n",
       "      <td>3936777065</td>\n",
       "      <td>2108080724</td>\n",
       "      <td>2019-08-15</td>\n",
       "      <td>202740</td>\n",
       "      <td>B</td>\n",
       "    </tr>\n",
       "    <tr>\n",
       "      <td>858</td>\n",
       "      <td>192721366</td>\n",
       "      <td>1316129916</td>\n",
       "      <td>2019-08-27</td>\n",
       "      <td>93940</td>\n",
       "      <td>A</td>\n",
       "    </tr>\n",
       "    <tr>\n",
       "      <td>1136</td>\n",
       "      <td>666610489</td>\n",
       "      <td>1307669133</td>\n",
       "      <td>2019-08-13</td>\n",
       "      <td>92550</td>\n",
       "      <td>A</td>\n",
       "    </tr>\n",
       "    <tr>\n",
       "      <td>744</td>\n",
       "      <td>3668308183</td>\n",
       "      <td>888512513</td>\n",
       "      <td>2019-08-27</td>\n",
       "      <td>86620</td>\n",
       "      <td>B</td>\n",
       "    </tr>\n",
       "    <tr>\n",
       "      <td>...</td>\n",
       "      <td>...</td>\n",
       "      <td>...</td>\n",
       "      <td>...</td>\n",
       "      <td>...</td>\n",
       "      <td>...</td>\n",
       "    </tr>\n",
       "    <tr>\n",
       "      <td>933</td>\n",
       "      <td>3760662696</td>\n",
       "      <td>3577713868</td>\n",
       "      <td>2019-08-27</td>\n",
       "      <td>60</td>\n",
       "      <td>B</td>\n",
       "    </tr>\n",
       "    <tr>\n",
       "      <td>459</td>\n",
       "      <td>863448794</td>\n",
       "      <td>2738601405</td>\n",
       "      <td>2019-08-19</td>\n",
       "      <td>50</td>\n",
       "      <td>B</td>\n",
       "    </tr>\n",
       "    <tr>\n",
       "      <td>756</td>\n",
       "      <td>125335873</td>\n",
       "      <td>3423937755</td>\n",
       "      <td>2019-08-30</td>\n",
       "      <td>50</td>\n",
       "      <td>B</td>\n",
       "    </tr>\n",
       "    <tr>\n",
       "      <td>584</td>\n",
       "      <td>1126146019</td>\n",
       "      <td>2705308997</td>\n",
       "      <td>2019-08-20</td>\n",
       "      <td>50</td>\n",
       "      <td>A</td>\n",
       "    </tr>\n",
       "    <tr>\n",
       "      <td>1091</td>\n",
       "      <td>750632879</td>\n",
       "      <td>4256040402</td>\n",
       "      <td>2019-08-12</td>\n",
       "      <td>50</td>\n",
       "      <td>A</td>\n",
       "    </tr>\n",
       "  </tbody>\n",
       "</table>\n",
       "<p>1197 rows × 5 columns</p>\n",
       "</div>"
      ],
      "text/plain": [
       "      transactionId   visitorId       date  revenue group\n",
       "425       590470918  1920142716 2019-08-19  1294500     B\n",
       "1196     3936777065  2108080724 2019-08-15   202740     B\n",
       "858       192721366  1316129916 2019-08-27    93940     A\n",
       "1136      666610489  1307669133 2019-08-13    92550     A\n",
       "744      3668308183   888512513 2019-08-27    86620     B\n",
       "...             ...         ...        ...      ...   ...\n",
       "933      3760662696  3577713868 2019-08-27       60     B\n",
       "459       863448794  2738601405 2019-08-19       50     B\n",
       "756       125335873  3423937755 2019-08-30       50     B\n",
       "584      1126146019  2705308997 2019-08-20       50     A\n",
       "1091      750632879  4256040402 2019-08-12       50     A\n",
       "\n",
       "[1197 rows x 5 columns]"
      ]
     },
     "execution_count": 21,
     "metadata": {},
     "output_type": "execute_result"
    }
   ],
   "source": [
    "orders.sort_values(by='revenue', ascending=False)"
   ]
  },
  {
   "cell_type": "code",
   "execution_count": 22,
   "metadata": {},
   "outputs": [
    {
     "data": {
      "image/png": "[encoded data removed]",
      "text/plain": [
       "<Figure size 432x288 with 1 Axes>"
      ]
     },
     "metadata": {
      "needs_background": "light"
     },
     "output_type": "display_data"
    }
   ],
   "source": [
    "x_values = pd.Series(range(0, len(orders['revenue'])))\n",
    "plt.scatter(x_values, orders['revenue'])\n",
    "plt.title('Точечный график стоимостей заказов')\n",
    "plt.ylabel('Стоимость заказа')\n",
    "plt.xlabel('Количество пользователей')\n",
    "plt.show()"
   ]
  },
  {
   "cell_type": "code",
   "execution_count": 23,
   "metadata": {},
   "outputs": [
    {
     "data": {
      "text/plain": [
       "array([18168. , 28000. , 58233.2])"
      ]
     },
     "execution_count": 23,
     "metadata": {},
     "output_type": "execute_result"
    }
   ],
   "source": [
    "np.percentile(orders['revenue'], [90,95,99])"
   ]
  },
  {
   "cell_type": "markdown",
   "metadata": {},
   "source": [
    "Не более, чем у 5% пользователей стоимость заказов достигала 28 тыс у.е., и не более 1%  - 58233.2 у.е. На мой взгляд, было бы разумнее также ограничить выборку по 50 тыс у.е."
   ]
  },
  {
   "cell_type": "markdown",
   "metadata": {},
   "source": [
    "## Статистическая значимость различий в конверсии между группами по «сырым» данным"
   ]
  },
  {
   "cell_type": "markdown",
   "metadata": {},
   "source": [
    "Определим сколько посетителей из каждой группы было в день, сделаем кумулятивныю таблицу для обеих групп пользователей. То же самое сделаем с количеством заказов для обеих групп пользователей. Объединяем все имеющиеся таблицы по датам. Далее проводим тест Манна-Уитни, чтобы понять, есть ли статистическая значимость в различии в конверсии между группами по \"сырым данным\".\n",
    "Нулевая гипотеза: Между группами нет статистически значимого различия\n",
    "Обратная : Между группами есть статистически значимое различие"
   ]
  },
  {
   "cell_type": "code",
   "execution_count": 24,
   "metadata": {},
   "outputs": [
    {
     "name": "stdout",
     "output_type": "stream",
     "text": [
      "0.00840\n"
     ]
    }
   ],
   "source": [
    "visitors_a_daily = visitors[visitors['group'] == 'A'][['date', 'visitors']]\n",
    "visitors_a_daily.columns = ['date', 'visitors_per_date_a']\n",
    "\n",
    "visitors_a_cummulative = visitors_a_daily.apply(\n",
    "    lambda x: visitors_a_daily[visitors_a_daily['date'] <= x['date']].agg(\n",
    "        {'date': 'max', 'visitors_per_date_a': 'sum'}\n",
    "    ),\n",
    "    axis=1,\n",
    ")\n",
    "visitors_a_cummulative.columns = ['date', 'visitors_cummulative_a']\n",
    "\n",
    "visitors_b_daily = visitors[visitors['group'] == 'B'][['date', 'visitors']]\n",
    "visitors_b_daily.columns = ['date', 'visitors_per_date_b']\n",
    "\n",
    "visitors_b_cummulative = visitors_b_daily.apply(\n",
    "    lambda x: visitors_b_daily[visitors_b_daily['date'] <= x['date']].agg(\n",
    "        {'date': 'max', 'visitors_per_date_b': 'sum'}\n",
    "    ),\n",
    "    axis=1,\n",
    ")\n",
    "visitors_b_cummulative.columns = ['date', 'visitors_cummulative_b']\n",
    "\n",
    "orders_a_daily = (\n",
    "    orders[orders['group'] == 'A'][['date', 'transactionId', 'visitorId', 'revenue']]\n",
    "    .groupby('date', as_index=False)\n",
    "    .agg({'transactionId': pd.Series.nunique, 'revenue': 'sum'})\n",
    ")\n",
    "orders_a_daily.columns = ['date', 'orders_per_date_a', 'revenue_per_date_a']\n",
    "\n",
    "orders_a_cummulative = orders_a_daily.apply(\n",
    "    lambda x: orders_a_daily[orders_a_daily['date'] <= x['date']].agg(\n",
    "        {'date': 'max', 'orders_per_date_a': 'sum', 'revenue_per_date_a': 'sum'}\n",
    "    ),\n",
    "    axis=1,\n",
    ").sort_values(by=['date'])\n",
    "orders_a_cummulative.columns = [\n",
    "    'date',\n",
    "    'orders_cummulative_a',\n",
    "    'revenue_cummulative_a',\n",
    "]\n",
    "\n",
    "orders_b_daily = (\n",
    "    orders[orders['group'] == 'B'][['date', 'transactionId', 'visitorId', 'revenue']]\n",
    "    .groupby('date', as_index=False)\n",
    "    .agg({'visitorId': pd.Series.nunique, 'revenue': 'sum'})\n",
    ")\n",
    "orders_b_daily.columns = ['date', 'orders_per_date_b', 'revenue_per_date_b']\n",
    "\n",
    "orders_b_cummulative = orders_b_daily.apply(\n",
    "    lambda x: orders_b_daily[orders_b_daily['date'] <= x['date']].agg(\n",
    "        {'date': 'max', 'orders_per_date_b': 'sum', 'revenue_per_date_b': 'sum'}\n",
    "    ),\n",
    "    axis=1,\n",
    ").sort_values(by=['date'])\n",
    "orders_b_cummulative.columns = [\n",
    "    'date',\n",
    "    'orders_cummulative_b',\n",
    "    'revenue_cummulative_b',\n",
    "]\n",
    "\n",
    "data = (\n",
    "    orders_a_daily.merge(\n",
    "        orders_b_daily, left_on='date', right_on='date', how='left'\n",
    "    )\n",
    "    .merge(orders_a_cummulative, left_on='date', right_on='date', how='left')\n",
    "    .merge(orders_b_cummulative, left_on='date', right_on='date', how='left')\n",
    "    .merge(visitors_a_daily, left_on='date', right_on='date', how='left')\n",
    "    .merge(visitors_b_daily, left_on='date', right_on='date', how='left')\n",
    "    .merge(visitors_a_cummulative, left_on='date', right_on='date', how='left')\n",
    "    .merge(visitors_b_cummulative, left_on='date', right_on='date', how='left')\n",
    ")\n",
    "\n",
    "orders_by_users_a = (\n",
    "    orders[orders['group'] == 'A']\n",
    "    .groupby('visitorId', as_index=False)\n",
    "    .agg({'transactionId': pd.Series.nunique})\n",
    ")\n",
    "orders_by_users_a.columns = ['visitorId', 'orders']\n",
    "\n",
    "orders_by_users_b = (\n",
    "    orders[orders['group'] == 'B']\n",
    "    .groupby('visitorId', as_index=False)\n",
    "    .agg({'transactionId': pd.Series.nunique})\n",
    ")\n",
    "orders_by_users_b.columns = ['visitorId', 'orders']\n",
    "\n",
    "sample_a = pd.concat([orders_by_users_a['orders'],pd.Series(0, index=np.arange(data['visitors_per_date_a'].sum() - len(orders_by_users_a['orders'])), name='orders')],axis=0)\n",
    "\n",
    "sample_b = pd.concat([orders_by_users_b['orders'],pd.Series(0, index=np.arange(data['visitors_per_date_b'].sum() - len(orders_by_users_b['orders'])), name='orders')],axis=0)\n",
    "\n",
    "print(\"{0:.5f}\".format(stats.mannwhitneyu(sample_a, sample_b)[1]))"
   ]
  },
  {
   "cell_type": "code",
   "execution_count": 25,
   "metadata": {},
   "outputs": [
    {
     "data": {
      "text/plain": [
       "'0.117'"
      ]
     },
     "execution_count": 25,
     "metadata": {},
     "output_type": "execute_result"
    }
   ],
   "source": [
    "'{0:.3f}'.format((data['orders_per_date_b'].sum()/data['visitors_per_date_b'].sum())/(data['orders_per_date_a'].sum()/data['visitors_per_date_a'].sum())-1)"
   ]
  },
  {
   "cell_type": "markdown",
   "metadata": {},
   "source": [
    "Статистически значимых различий между группами нет. Дополнительно посчитал относительный прирост конверсии В к А. Группа В выглядит лучше на протяжение теста"
   ]
  },
  {
   "cell_type": "markdown",
   "metadata": {},
   "source": [
    "##  Статистическая значимость различий в среднем чеке заказа между группами по «сырым» данным"
   ]
  },
  {
   "cell_type": "code",
   "execution_count": 26,
   "metadata": {},
   "outputs": [
    {
     "data": {
      "text/plain": [
       "'0.365'"
      ]
     },
     "execution_count": 26,
     "metadata": {},
     "output_type": "execute_result"
    }
   ],
   "source": [
    "'{0:.3f}'.format(stats.mannwhitneyu(orders[orders['group']=='A']['revenue'], orders[orders['group']=='B']['revenue'])[1])"
   ]
  },
  {
   "cell_type": "code",
   "execution_count": 27,
   "metadata": {},
   "outputs": [
    {
     "data": {
      "text/plain": [
       "'0.259'"
      ]
     },
     "execution_count": 27,
     "metadata": {},
     "output_type": "execute_result"
    }
   ],
   "source": [
    "'{0:.3f}'.format(orders[orders['group']=='B']['revenue'].mean()/orders[orders['group']=='A']['revenue'].mean()-1)"
   ]
  },
  {
   "cell_type": "markdown",
   "metadata": {},
   "source": [
    "Статистически значимых различий между группами по среднему чеку по сырым данным нет. Дополнительно посчитал относительный прирост среднего чека, группа В смотрится гораздо лучше"
   ]
  },
  {
   "cell_type": "markdown",
   "metadata": {},
   "source": [
    "## Статистическая значимость различий в конверсии между группами по «очищенным» данным"
   ]
  },
  {
   "cell_type": "markdown",
   "metadata": {},
   "source": [
    "Для начала нужно определить аномальных пользователей, их, как я упоминал выше, стоит выделить по таким критериям: больше 2 заказов и заказы дороже 50 ты у.е."
   ]
  },
  {
   "cell_type": "code",
   "execution_count": 28,
   "metadata": {},
   "outputs": [
    {
     "data": {
      "text/plain": [
       "'0.00410'"
      ]
     },
     "execution_count": 28,
     "metadata": {},
     "output_type": "execute_result"
    }
   ],
   "source": [
    "users_with_many_orders = pd.concat(\n",
    "    [\n",
    "        orders_by_users_a[orders_by_users_a['orders'] > 2]['visitorId'],\n",
    "        orders_by_users_b[orders_by_users_b['orders'] > 2]['visitorId'],\n",
    "    ],\n",
    "    axis=0,\n",
    ")\n",
    "users_with_expensive_orders = orders[orders['revenue'] > 50000]['visitorId']\n",
    "ab_normal_users = (\n",
    "    pd.concat([users_with_many_orders, users_with_expensive_orders], axis=0)\n",
    "    .drop_duplicates()\n",
    "    .sort_values()\n",
    ")\n",
    "\n",
    "sample_a_filtered = pd.concat(\n",
    "    [\n",
    "        orders_by_users_a[\n",
    "            np.logical_not(orders_by_users_a['visitorId'].isin(ab_normal_users))\n",
    "        ]['orders'],\n",
    "        pd.Series(\n",
    "            0,\n",
    "            index=np.arange(\n",
    "                data['visitors_per_date_a'].sum() - len(orders_by_users_a['orders'])\n",
    "            ),\n",
    "            name='orders',\n",
    "        ),\n",
    "    ],\n",
    "    axis=0,\n",
    ")\n",
    "\n",
    "sample_b_filtered = pd.concat(\n",
    "    [\n",
    "        orders_by_users_b[\n",
    "            np.logical_not(orders_by_users_b['visitorId'].isin(ab_normal_users))\n",
    "        ]['orders'],\n",
    "        pd.Series(\n",
    "            0,\n",
    "            index=np.arange(\n",
    "                data['visitors_per_date_b'].sum() - len(orders_by_users_b['orders'])\n",
    "            ),\n",
    "            name='orders',\n",
    "        ),\n",
    "    ],\n",
    "    axis=0,\n",
    ")\n",
    "\n",
    "'{0:.5f}'.format(stats.mannwhitneyu(sample_a_filtered, sample_b_filtered)[1])"
   ]
  },
  {
   "cell_type": "code",
   "execution_count": 29,
   "metadata": {},
   "outputs": [
    {
     "data": {
      "text/plain": [
       "'0.182'"
      ]
     },
     "execution_count": 29,
     "metadata": {},
     "output_type": "execute_result"
    }
   ],
   "source": [
    "'{0:.3f}'.format(sample_b_filtered.mean()/sample_a_filtered.mean()-1)"
   ]
  },
  {
   "cell_type": "markdown",
   "metadata": {},
   "source": [
    "По очищенным данным видим, что между группами появилась статистическая значимость различия между группами. Значит мы убрали выбросы и шума в данных стало меньше. Группа В смотрится по конверсии лучше относительно группы А"
   ]
  },
  {
   "cell_type": "markdown",
   "metadata": {},
   "source": [
    "## Статистическая значимость различий в среднем чеке заказа между группами по «очищенным» данным"
   ]
  },
  {
   "cell_type": "code",
   "execution_count": 30,
   "metadata": {},
   "outputs": [
    {
     "data": {
      "text/plain": [
       "'0.470'"
      ]
     },
     "execution_count": 30,
     "metadata": {},
     "output_type": "execute_result"
    }
   ],
   "source": [
    "'{0:.3f}'.format(\n",
    "        stats.mannwhitneyu(\n",
    "            orders[\n",
    "                np.logical_and(\n",
    "                    orders['group'] == 'A',\n",
    "                    np.logical_not(orders['visitorId'].isin(ab_normal_users)),\n",
    "                )\n",
    "            ]['revenue'],\n",
    "            orders[\n",
    "                np.logical_and(\n",
    "                    orders['group'] == 'B',\n",
    "                    np.logical_not(orders['visitorId'].isin(ab_normal_users)),\n",
    "                )\n",
    "            ]['revenue'],\n",
    "        )[1]\n",
    "    )"
   ]
  },
  {
   "cell_type": "markdown",
   "metadata": {},
   "source": [
    "Дополнительно посчитал относительный прирост среднего чека"
   ]
  },
  {
   "cell_type": "code",
   "execution_count": 31,
   "metadata": {},
   "outputs": [
    {
     "data": {
      "text/plain": [
       "'0.019'"
      ]
     },
     "execution_count": 31,
     "metadata": {},
     "output_type": "execute_result"
    }
   ],
   "source": [
    "\"{0:.3f}\".format(\n",
    "        orders[\n",
    "            np.logical_and(\n",
    "                orders['group'] == 'B',\n",
    "                np.logical_not(orders['visitorId'].isin(ab_normal_users)),\n",
    "            )\n",
    "        ]['revenue'].mean()\n",
    "        / orders[\n",
    "            np.logical_and(\n",
    "                orders['group'] == 'A',\n",
    "                np.logical_not(orders['visitorId'].isin(ab_normal_users)),\n",
    "            )\n",
    "        ]['revenue'].mean()\n",
    "        - 1\n",
    "    )"
   ]
  },
  {
   "cell_type": "markdown",
   "metadata": {},
   "source": [
    "По очищенным данным видим, что статистической значимости различия между группами по среднему чека нет, а относительный прирост среднего чека стал незначительным у группы В относительно А"
   ]
  },
  {
   "cell_type": "markdown",
   "metadata": {},
   "source": [
    "# Выводы по проекту"
   ]
  },
  {
   "cell_type": "markdown",
   "metadata": {},
   "source": [
    "На этапе предобработки данных не нашел сырьезных проблем с данными, форматы выправил, выгрузка почти корректная. Единственной проблемой стало то, что 58 пользователей попали  сразу в обе группы теста, что искажает данные.\n",
    "\n",
    "По приоритезации гипотез сделал следующий вывод, что методы ICE и RICE различаются тем, что фреймворк RICE предполагает еще показатель охвата гипотезы, то есть как изменения повлияют на всех пользователей. Из-за этого менятеся порядок ранжирования гипотез. Но в целом прише к выводу, что для начала стоит проверить гипотезы 7 0 и 6.\n",
    "\n",
    "В целом между группами не наблюдается статистической значимости различия между группами, кроме как в конверсии по ощищенным данным. Если по сырым данным мы наблюдаем, что результаты группы В относительно А гораздо лучше, то уже по очищенным данным видно, что появилась статистическая значимость различия между группами В и А, относительная конверсия В к А достаточно высокая - 18%, но при этом относительный прирост среднего чека составляет только 2%\n",
    "При этом результаты группы В все равно смотрятся лучше, и, вероятно, результаты группы А не улучшатся. Тест можно остановить."
   ]
  },
  {
   "cell_type": "code",
   "execution_count": null,
   "metadata": {},
   "outputs": [],
   "source": []
  }
 ],
 "metadata": {
  "ExecuteTimeLog": [
   {
    "duration": 1169,
    "start_time": "2022-02-21T15:40:33.984Z"
   },
   {
    "duration": 32,
    "start_time": "2022-02-21T15:40:52.515Z"
   },
   {
    "duration": 23,
    "start_time": "2022-02-21T15:40:59.389Z"
   },
   {
    "duration": 21,
    "start_time": "2022-02-21T15:41:17.232Z"
   },
   {
    "duration": 31,
    "start_time": "2022-02-21T15:45:50.802Z"
   },
   {
    "duration": 28,
    "start_time": "2022-02-21T15:46:06.112Z"
   },
   {
    "duration": 17,
    "start_time": "2022-02-21T15:47:01.770Z"
   },
   {
    "duration": 95,
    "start_time": "2022-02-21T15:54:04.667Z"
   },
   {
    "duration": 86,
    "start_time": "2022-02-21T15:54:40.198Z"
   },
   {
    "duration": 94,
    "start_time": "2022-02-21T15:55:19.630Z"
   },
   {
    "duration": 88,
    "start_time": "2022-02-21T15:55:29.238Z"
   },
   {
    "duration": 92,
    "start_time": "2022-02-21T15:55:44.236Z"
   },
   {
    "duration": 87,
    "start_time": "2022-02-21T15:57:24.945Z"
   },
   {
    "duration": 94,
    "start_time": "2022-02-21T15:57:47.142Z"
   },
   {
    "duration": 4527,
    "start_time": "2022-02-21T15:59:37.731Z"
   },
   {
    "duration": 1503,
    "start_time": "2022-02-21T16:01:51.274Z"
   },
   {
    "duration": 1286,
    "start_time": "2022-02-21T16:02:26.246Z"
   },
   {
    "duration": 12,
    "start_time": "2022-02-21T16:03:20.315Z"
   },
   {
    "duration": 1250,
    "start_time": "2022-02-21T16:04:55.216Z"
   },
   {
    "duration": 14,
    "start_time": "2022-02-21T16:05:22.693Z"
   },
   {
    "duration": 1570,
    "start_time": "2022-02-21T16:05:31.941Z"
   },
   {
    "duration": 1363,
    "start_time": "2022-02-21T16:05:50.245Z"
   },
   {
    "duration": 19,
    "start_time": "2022-02-21T16:05:59.764Z"
   },
   {
    "duration": 30,
    "start_time": "2022-02-21T16:05:59.786Z"
   },
   {
    "duration": 18,
    "start_time": "2022-02-21T16:05:59.819Z"
   },
   {
    "duration": 15,
    "start_time": "2022-02-21T16:05:59.840Z"
   },
   {
    "duration": 1560,
    "start_time": "2022-02-21T16:06:10.134Z"
   },
   {
    "duration": 18,
    "start_time": "2022-02-21T16:06:26.117Z"
   },
   {
    "duration": 75,
    "start_time": "2022-02-21T16:06:26.139Z"
   },
   {
    "duration": 56,
    "start_time": "2022-02-21T16:06:26.218Z"
   },
   {
    "duration": 58,
    "start_time": "2022-02-21T16:06:26.277Z"
   },
   {
    "duration": 24,
    "start_time": "2022-02-21T16:06:52.916Z"
   },
   {
    "duration": 1275,
    "start_time": "2022-02-21T16:06:58.915Z"
   },
   {
    "duration": 20,
    "start_time": "2022-02-21T16:07:02.710Z"
   },
   {
    "duration": 39,
    "start_time": "2022-02-21T16:07:02.733Z"
   },
   {
    "duration": 24,
    "start_time": "2022-02-21T16:07:02.776Z"
   },
   {
    "duration": 11,
    "start_time": "2022-02-21T16:07:02.803Z"
   },
   {
    "duration": 34,
    "start_time": "2022-02-21T16:07:02.817Z"
   },
   {
    "duration": 278,
    "start_time": "2022-02-21T16:11:47.053Z"
   },
   {
    "duration": 12,
    "start_time": "2022-02-21T16:12:09.824Z"
   },
   {
    "duration": 15,
    "start_time": "2022-02-21T16:12:23.343Z"
   },
   {
    "duration": 17,
    "start_time": "2022-02-21T16:13:03.138Z"
   },
   {
    "duration": 16,
    "start_time": "2022-02-21T16:13:49.455Z"
   },
   {
    "duration": 17,
    "start_time": "2022-02-21T16:14:45.032Z"
   },
   {
    "duration": 20,
    "start_time": "2022-02-21T16:15:42.560Z"
   },
   {
    "duration": 24,
    "start_time": "2022-02-21T16:16:15.866Z"
   },
   {
    "duration": 37,
    "start_time": "2022-02-21T16:16:15.893Z"
   },
   {
    "duration": 25,
    "start_time": "2022-02-21T16:16:15.933Z"
   },
   {
    "duration": 25,
    "start_time": "2022-02-21T16:16:15.961Z"
   },
   {
    "duration": 58,
    "start_time": "2022-02-21T16:16:15.989Z"
   },
   {
    "duration": 16,
    "start_time": "2022-02-21T16:16:16.050Z"
   },
   {
    "duration": 20,
    "start_time": "2022-02-21T16:16:16.069Z"
   },
   {
    "duration": 13,
    "start_time": "2022-02-21T16:17:11.241Z"
   },
   {
    "duration": 288,
    "start_time": "2022-02-21T16:18:18.435Z"
   },
   {
    "duration": 15,
    "start_time": "2022-02-21T16:18:25.814Z"
   },
   {
    "duration": 15,
    "start_time": "2022-02-21T16:18:42.837Z"
   },
   {
    "duration": 14,
    "start_time": "2022-02-21T16:18:47.920Z"
   },
   {
    "duration": 13,
    "start_time": "2022-02-21T16:19:25.262Z"
   },
   {
    "duration": 13,
    "start_time": "2022-02-21T16:19:41.866Z"
   },
   {
    "duration": 367,
    "start_time": "2022-02-21T16:20:18.013Z"
   },
   {
    "duration": 19,
    "start_time": "2022-02-21T16:20:30.682Z"
   },
   {
    "duration": 36,
    "start_time": "2022-02-21T16:20:30.704Z"
   },
   {
    "duration": 38,
    "start_time": "2022-02-21T16:20:30.744Z"
   },
   {
    "duration": 28,
    "start_time": "2022-02-21T16:20:30.784Z"
   },
   {
    "duration": 50,
    "start_time": "2022-02-21T16:20:30.816Z"
   },
   {
    "duration": 18,
    "start_time": "2022-02-21T16:20:30.869Z"
   },
   {
    "duration": 27,
    "start_time": "2022-02-21T16:20:30.889Z"
   },
   {
    "duration": 13,
    "start_time": "2022-02-21T16:21:08.382Z"
   },
   {
    "duration": 283,
    "start_time": "2022-02-21T16:22:49.676Z"
   },
   {
    "duration": 19,
    "start_time": "2022-02-21T16:22:52.468Z"
   },
   {
    "duration": 35,
    "start_time": "2022-02-21T16:22:52.490Z"
   },
   {
    "duration": 16,
    "start_time": "2022-02-21T16:22:52.529Z"
   },
   {
    "duration": 14,
    "start_time": "2022-02-21T16:22:52.548Z"
   },
   {
    "duration": 27,
    "start_time": "2022-02-21T16:22:52.566Z"
   },
   {
    "duration": 15,
    "start_time": "2022-02-21T16:22:52.597Z"
   },
   {
    "duration": 44,
    "start_time": "2022-02-21T16:22:52.615Z"
   },
   {
    "duration": 12,
    "start_time": "2022-02-21T16:22:52.662Z"
   },
   {
    "duration": 500,
    "start_time": "2022-02-21T17:46:30.575Z"
   },
   {
    "duration": 584,
    "start_time": "2022-02-21T17:48:11.368Z"
   },
   {
    "duration": 701,
    "start_time": "2022-02-21T17:49:34.607Z"
   },
   {
    "duration": 21,
    "start_time": "2022-02-21T17:51:32.069Z"
   },
   {
    "duration": 11,
    "start_time": "2022-02-21T17:51:57.888Z"
   },
   {
    "duration": 9,
    "start_time": "2022-02-21T17:52:04.122Z"
   },
   {
    "duration": 9,
    "start_time": "2022-02-21T17:56:17.756Z"
   },
   {
    "duration": 13,
    "start_time": "2022-02-21T17:56:26.767Z"
   },
   {
    "duration": 162,
    "start_time": "2022-02-21T17:57:47.578Z"
   },
   {
    "duration": 8321,
    "start_time": "2022-02-21T17:58:26.873Z"
   },
   {
    "duration": 10900,
    "start_time": "2022-02-21T18:00:12.529Z"
   },
   {
    "duration": 334,
    "start_time": "2022-02-21T18:01:42.211Z"
   },
   {
    "duration": 22,
    "start_time": "2022-02-21T18:03:10.368Z"
   },
   {
    "duration": 23,
    "start_time": "2022-02-21T18:03:18.760Z"
   },
   {
    "duration": 17,
    "start_time": "2022-02-21T18:04:00.104Z"
   },
   {
    "duration": 39,
    "start_time": "2022-02-21T18:10:13.700Z"
   },
   {
    "duration": 23,
    "start_time": "2022-02-21T18:11:11.357Z"
   },
   {
    "duration": 10,
    "start_time": "2022-02-21T18:11:19.320Z"
   },
   {
    "duration": 35,
    "start_time": "2022-02-21T18:11:31.922Z"
   },
   {
    "duration": 18,
    "start_time": "2022-02-21T18:11:38.998Z"
   },
   {
    "duration": 33,
    "start_time": "2022-02-21T18:11:53.612Z"
   },
   {
    "duration": 32,
    "start_time": "2022-02-21T18:13:17.223Z"
   },
   {
    "duration": 400,
    "start_time": "2022-02-21T18:36:39.274Z"
   },
   {
    "duration": 148,
    "start_time": "2022-02-21T18:37:07.792Z"
   },
   {
    "duration": 28,
    "start_time": "2022-02-21T18:37:07.943Z"
   },
   {
    "duration": 18,
    "start_time": "2022-02-21T18:37:07.974Z"
   },
   {
    "duration": 19,
    "start_time": "2022-02-21T18:37:07.996Z"
   },
   {
    "duration": 32,
    "start_time": "2022-02-21T18:37:08.018Z"
   },
   {
    "duration": 19,
    "start_time": "2022-02-21T18:37:08.053Z"
   },
   {
    "duration": 23,
    "start_time": "2022-02-21T18:37:08.075Z"
   },
   {
    "duration": 681,
    "start_time": "2022-02-21T18:37:08.101Z"
   },
   {
    "duration": 25,
    "start_time": "2022-02-21T18:37:08.786Z"
   },
   {
    "duration": 370,
    "start_time": "2022-02-21T18:37:08.814Z"
   },
   {
    "duration": 439,
    "start_time": "2022-02-21T18:38:00.851Z"
   },
   {
    "duration": 345,
    "start_time": "2022-02-21T18:46:36.848Z"
   },
   {
    "duration": 396,
    "start_time": "2022-02-21T19:01:00.892Z"
   },
   {
    "duration": 449,
    "start_time": "2022-02-21T19:01:09.647Z"
   },
   {
    "duration": 525,
    "start_time": "2022-02-21T19:01:55.099Z"
   },
   {
    "duration": 17,
    "start_time": "2022-02-21T19:10:43.632Z"
   },
   {
    "duration": 20,
    "start_time": "2022-02-21T19:11:52.437Z"
   },
   {
    "duration": 19,
    "start_time": "2022-02-21T19:12:49.950Z"
   },
   {
    "duration": 33,
    "start_time": "2022-02-21T19:12:49.972Z"
   },
   {
    "duration": 17,
    "start_time": "2022-02-21T19:12:50.008Z"
   },
   {
    "duration": 22,
    "start_time": "2022-02-21T19:12:50.028Z"
   },
   {
    "duration": 33,
    "start_time": "2022-02-21T19:12:50.053Z"
   },
   {
    "duration": 16,
    "start_time": "2022-02-21T19:12:50.088Z"
   },
   {
    "duration": 41,
    "start_time": "2022-02-21T19:12:50.106Z"
   },
   {
    "duration": 585,
    "start_time": "2022-02-21T19:12:50.151Z"
   },
   {
    "duration": 29,
    "start_time": "2022-02-21T19:12:50.739Z"
   },
   {
    "duration": 365,
    "start_time": "2022-02-21T19:12:50.771Z"
   },
   {
    "duration": 341,
    "start_time": "2022-02-21T19:12:51.139Z"
   },
   {
    "duration": 413,
    "start_time": "2022-02-21T19:12:51.483Z"
   },
   {
    "duration": 5,
    "start_time": "2022-02-21T19:12:57.294Z"
   },
   {
    "duration": 20,
    "start_time": "2022-02-21T19:13:07.982Z"
   },
   {
    "duration": 6,
    "start_time": "2022-02-21T19:14:23.572Z"
   },
   {
    "duration": 7,
    "start_time": "2022-02-21T19:14:40.819Z"
   },
   {
    "duration": 268,
    "start_time": "2022-02-21T19:15:35.000Z"
   },
   {
    "duration": 287,
    "start_time": "2022-02-21T19:16:12.248Z"
   },
   {
    "duration": 18,
    "start_time": "2022-02-21T19:16:24.093Z"
   },
   {
    "duration": 30,
    "start_time": "2022-02-21T19:16:24.113Z"
   },
   {
    "duration": 15,
    "start_time": "2022-02-21T19:16:24.146Z"
   },
   {
    "duration": 16,
    "start_time": "2022-02-21T19:16:24.164Z"
   },
   {
    "duration": 33,
    "start_time": "2022-02-21T19:16:24.182Z"
   },
   {
    "duration": 34,
    "start_time": "2022-02-21T19:16:24.219Z"
   },
   {
    "duration": 20,
    "start_time": "2022-02-21T19:16:24.256Z"
   },
   {
    "duration": 605,
    "start_time": "2022-02-21T19:16:24.280Z"
   },
   {
    "duration": 23,
    "start_time": "2022-02-21T19:16:24.888Z"
   },
   {
    "duration": 356,
    "start_time": "2022-02-21T19:16:24.914Z"
   },
   {
    "duration": 357,
    "start_time": "2022-02-21T19:16:25.272Z"
   },
   {
    "duration": 450,
    "start_time": "2022-02-21T19:16:25.633Z"
   },
   {
    "duration": 700,
    "start_time": "2022-02-21T19:16:26.086Z"
   },
   {
    "duration": 294,
    "start_time": "2022-02-21T19:17:53.275Z"
   },
   {
    "duration": 394,
    "start_time": "2022-02-21T19:20:06.029Z"
   },
   {
    "duration": 90,
    "start_time": "2022-02-21T19:28:26.413Z"
   },
   {
    "duration": 451,
    "start_time": "2022-02-21T19:28:34.040Z"
   },
   {
    "duration": 432,
    "start_time": "2022-02-21T19:29:00.053Z"
   },
   {
    "duration": 470,
    "start_time": "2022-02-21T19:29:12.594Z"
   },
   {
    "duration": 613,
    "start_time": "2022-02-21T19:29:17.308Z"
   },
   {
    "duration": 415,
    "start_time": "2022-02-21T19:29:56.682Z"
   },
   {
    "duration": 686,
    "start_time": "2022-02-22T07:04:36.915Z"
   },
   {
    "duration": 40,
    "start_time": "2022-02-22T07:04:37.602Z"
   },
   {
    "duration": 31,
    "start_time": "2022-02-22T07:04:37.644Z"
   },
   {
    "duration": 21,
    "start_time": "2022-02-22T07:04:37.677Z"
   },
   {
    "duration": 29,
    "start_time": "2022-02-22T07:04:37.699Z"
   },
   {
    "duration": 51,
    "start_time": "2022-02-22T07:04:37.729Z"
   },
   {
    "duration": 12,
    "start_time": "2022-02-22T07:04:37.781Z"
   },
   {
    "duration": 322,
    "start_time": "2022-02-22T07:04:37.795Z"
   },
   {
    "duration": 18,
    "start_time": "2022-02-22T07:04:38.119Z"
   },
   {
    "duration": 223,
    "start_time": "2022-02-22T07:04:38.139Z"
   },
   {
    "duration": 182,
    "start_time": "2022-02-22T07:04:38.363Z"
   },
   {
    "duration": 307,
    "start_time": "2022-02-22T07:04:38.546Z"
   },
   {
    "duration": 212,
    "start_time": "2022-02-22T07:04:38.854Z"
   },
   {
    "duration": 289,
    "start_time": "2022-02-22T07:04:39.068Z"
   },
   {
    "duration": 13,
    "start_time": "2022-02-22T07:13:58.216Z"
   },
   {
    "duration": 264,
    "start_time": "2022-02-22T07:16:33.854Z"
   },
   {
    "duration": 239,
    "start_time": "2022-02-22T07:17:00.261Z"
   },
   {
    "duration": 399,
    "start_time": "2022-02-22T07:18:53.719Z"
   },
   {
    "duration": 4,
    "start_time": "2022-02-22T07:19:09.138Z"
   },
   {
    "duration": 12,
    "start_time": "2022-02-22T07:30:20.513Z"
   },
   {
    "duration": 312,
    "start_time": "2022-02-22T07:30:39.678Z"
   },
   {
    "duration": 231,
    "start_time": "2022-02-22T07:30:49.477Z"
   },
   {
    "duration": 277,
    "start_time": "2022-02-22T07:31:09.295Z"
   },
   {
    "duration": 5,
    "start_time": "2022-02-22T07:33:14.068Z"
   },
   {
    "duration": 711,
    "start_time": "2022-02-22T08:13:13.001Z"
   },
   {
    "duration": 440,
    "start_time": "2022-02-22T08:14:02.589Z"
   },
   {
    "duration": 42,
    "start_time": "2022-02-22T08:14:03.031Z"
   },
   {
    "duration": 28,
    "start_time": "2022-02-22T08:14:03.075Z"
   },
   {
    "duration": 21,
    "start_time": "2022-02-22T08:14:03.104Z"
   },
   {
    "duration": 48,
    "start_time": "2022-02-22T08:14:03.126Z"
   },
   {
    "duration": 24,
    "start_time": "2022-02-22T08:14:03.176Z"
   },
   {
    "duration": 11,
    "start_time": "2022-02-22T08:14:03.202Z"
   },
   {
    "duration": 309,
    "start_time": "2022-02-22T08:14:03.215Z"
   },
   {
    "duration": 13,
    "start_time": "2022-02-22T08:14:03.526Z"
   },
   {
    "duration": 245,
    "start_time": "2022-02-22T08:14:03.540Z"
   },
   {
    "duration": 190,
    "start_time": "2022-02-22T08:14:03.787Z"
   },
   {
    "duration": 286,
    "start_time": "2022-02-22T08:14:03.979Z"
   },
   {
    "duration": 171,
    "start_time": "2022-02-22T08:14:04.266Z"
   },
   {
    "duration": 307,
    "start_time": "2022-02-22T08:14:04.438Z"
   },
   {
    "duration": 11,
    "start_time": "2022-02-22T08:14:04.747Z"
   },
   {
    "duration": 274,
    "start_time": "2022-02-22T08:14:04.760Z"
   },
   {
    "duration": 4,
    "start_time": "2022-02-22T08:14:05.036Z"
   },
   {
    "duration": 13,
    "start_time": "2022-02-22T08:14:05.042Z"
   },
   {
    "duration": 290,
    "start_time": "2022-02-22T08:14:05.056Z"
   },
   {
    "duration": 5,
    "start_time": "2022-02-22T08:14:05.347Z"
   },
   {
    "duration": 671,
    "start_time": "2022-02-22T08:14:05.353Z"
   },
   {
    "duration": 358,
    "start_time": "2022-02-22T08:14:21.457Z"
   },
   {
    "duration": 16,
    "start_time": "2022-02-22T08:36:47.087Z"
   },
   {
    "duration": 7,
    "start_time": "2022-02-22T08:39:25.268Z"
   },
   {
    "duration": 17,
    "start_time": "2022-02-22T08:59:10.535Z"
   },
   {
    "duration": 7579,
    "start_time": "2022-02-22T09:06:21.166Z"
   },
   {
    "duration": 10,
    "start_time": "2022-02-22T09:09:10.649Z"
   },
   {
    "duration": 19,
    "start_time": "2022-02-22T09:10:39.199Z"
   },
   {
    "duration": 18,
    "start_time": "2022-02-22T09:10:49.742Z"
   },
   {
    "duration": 18,
    "start_time": "2022-02-22T09:10:57.766Z"
   },
   {
    "duration": 11,
    "start_time": "2022-02-22T09:11:11.664Z"
   },
   {
    "duration": 10,
    "start_time": "2022-02-22T09:13:44.235Z"
   },
   {
    "duration": 5,
    "start_time": "2022-02-22T09:15:29.998Z"
   },
   {
    "duration": 7,
    "start_time": "2022-02-22T09:17:01.096Z"
   },
   {
    "duration": 7827,
    "start_time": "2022-02-22T09:17:51.548Z"
   },
   {
    "duration": 5,
    "start_time": "2022-02-22T09:18:51.772Z"
   },
   {
    "duration": 1142,
    "start_time": "2022-02-22T15:39:18.541Z"
   },
   {
    "duration": 24,
    "start_time": "2022-02-22T15:39:19.686Z"
   },
   {
    "duration": 14,
    "start_time": "2022-02-22T15:39:19.711Z"
   },
   {
    "duration": 15,
    "start_time": "2022-02-22T15:39:19.726Z"
   },
   {
    "duration": 17,
    "start_time": "2022-02-22T15:39:19.743Z"
   },
   {
    "duration": 18,
    "start_time": "2022-02-22T15:39:19.762Z"
   },
   {
    "duration": 11,
    "start_time": "2022-02-22T15:39:19.782Z"
   },
   {
    "duration": 354,
    "start_time": "2022-02-22T15:39:19.796Z"
   },
   {
    "duration": 14,
    "start_time": "2022-02-22T15:39:20.152Z"
   },
   {
    "duration": 232,
    "start_time": "2022-02-22T15:39:20.168Z"
   },
   {
    "duration": 198,
    "start_time": "2022-02-22T15:39:20.401Z"
   },
   {
    "duration": 425,
    "start_time": "2022-02-22T15:39:20.601Z"
   },
   {
    "duration": 221,
    "start_time": "2022-02-22T15:39:21.028Z"
   },
   {
    "duration": 304,
    "start_time": "2022-02-22T15:39:21.251Z"
   },
   {
    "duration": 12,
    "start_time": "2022-02-22T15:39:21.557Z"
   },
   {
    "duration": 268,
    "start_time": "2022-02-22T15:39:21.571Z"
   },
   {
    "duration": 5,
    "start_time": "2022-02-22T15:39:21.840Z"
   },
   {
    "duration": 16,
    "start_time": "2022-02-22T15:39:21.846Z"
   },
   {
    "duration": 292,
    "start_time": "2022-02-22T15:39:21.863Z"
   },
   {
    "duration": 4,
    "start_time": "2022-02-22T15:39:22.157Z"
   },
   {
    "duration": 387,
    "start_time": "2022-02-22T15:39:22.163Z"
   },
   {
    "duration": 4,
    "start_time": "2022-02-22T15:39:22.552Z"
   },
   {
    "duration": 12,
    "start_time": "2022-02-22T15:39:22.558Z"
   },
   {
    "duration": 19,
    "start_time": "2022-02-22T15:39:22.571Z"
   },
   {
    "duration": 19,
    "start_time": "2022-02-22T15:39:22.592Z"
   },
   {
    "duration": 5,
    "start_time": "2022-02-22T15:39:22.630Z"
   },
   {
    "duration": 11,
    "start_time": "2022-02-22T15:39:22.636Z"
   },
   {
    "duration": 11,
    "start_time": "2022-02-22T15:39:22.649Z"
   },
   {
    "duration": 5,
    "start_time": "2022-02-22T16:37:12.824Z"
   },
   {
    "duration": 5,
    "start_time": "2022-02-22T16:37:21.451Z"
   },
   {
    "duration": 568,
    "start_time": "2022-02-23T08:00:23.827Z"
   },
   {
    "duration": 1053,
    "start_time": "2022-02-23T08:00:27.853Z"
   },
   {
    "duration": 68,
    "start_time": "2022-02-23T08:00:28.908Z"
   },
   {
    "duration": 43,
    "start_time": "2022-02-23T08:00:28.978Z"
   },
   {
    "duration": 8,
    "start_time": "2022-02-23T08:00:29.023Z"
   },
   {
    "duration": 18,
    "start_time": "2022-02-23T08:00:29.032Z"
   },
   {
    "duration": 394,
    "start_time": "2022-02-23T08:00:29.052Z"
   },
   {
    "duration": -16,
    "start_time": "2022-02-23T08:00:29.464Z"
   },
   {
    "duration": -18,
    "start_time": "2022-02-23T08:00:29.467Z"
   },
   {
    "duration": -21,
    "start_time": "2022-02-23T08:00:29.471Z"
   },
   {
    "duration": -23,
    "start_time": "2022-02-23T08:00:29.474Z"
   },
   {
    "duration": -26,
    "start_time": "2022-02-23T08:00:29.478Z"
   },
   {
    "duration": -27,
    "start_time": "2022-02-23T08:00:29.480Z"
   },
   {
    "duration": -35,
    "start_time": "2022-02-23T08:00:29.489Z"
   },
   {
    "duration": -37,
    "start_time": "2022-02-23T08:00:29.492Z"
   },
   {
    "duration": -39,
    "start_time": "2022-02-23T08:00:29.495Z"
   },
   {
    "duration": -41,
    "start_time": "2022-02-23T08:00:29.498Z"
   },
   {
    "duration": -42,
    "start_time": "2022-02-23T08:00:29.500Z"
   },
   {
    "duration": -43,
    "start_time": "2022-02-23T08:00:29.502Z"
   },
   {
    "duration": -45,
    "start_time": "2022-02-23T08:00:29.505Z"
   },
   {
    "duration": -46,
    "start_time": "2022-02-23T08:00:29.507Z"
   },
   {
    "duration": -49,
    "start_time": "2022-02-23T08:00:29.511Z"
   },
   {
    "duration": -50,
    "start_time": "2022-02-23T08:00:29.513Z"
   },
   {
    "duration": -51,
    "start_time": "2022-02-23T08:00:29.516Z"
   },
   {
    "duration": -54,
    "start_time": "2022-02-23T08:00:29.520Z"
   },
   {
    "duration": -57,
    "start_time": "2022-02-23T08:00:29.524Z"
   },
   {
    "duration": -58,
    "start_time": "2022-02-23T08:00:29.526Z"
   },
   {
    "duration": -60,
    "start_time": "2022-02-23T08:00:29.529Z"
   },
   {
    "duration": -62,
    "start_time": "2022-02-23T08:00:29.532Z"
   },
   {
    "duration": -62,
    "start_time": "2022-02-23T08:00:29.534Z"
   },
   {
    "duration": 19,
    "start_time": "2022-02-23T08:01:34.552Z"
   },
   {
    "duration": 38,
    "start_time": "2022-02-23T08:01:34.573Z"
   },
   {
    "duration": 17,
    "start_time": "2022-02-23T08:01:34.613Z"
   },
   {
    "duration": 7,
    "start_time": "2022-02-23T08:01:34.631Z"
   },
   {
    "duration": 14,
    "start_time": "2022-02-23T08:01:34.639Z"
   },
   {
    "duration": 318,
    "start_time": "2022-02-23T08:01:34.654Z"
   },
   {
    "duration": -22,
    "start_time": "2022-02-23T08:01:34.996Z"
   },
   {
    "duration": -23,
    "start_time": "2022-02-23T08:01:34.999Z"
   },
   {
    "duration": -28,
    "start_time": "2022-02-23T08:01:35.004Z"
   },
   {
    "duration": -30,
    "start_time": "2022-02-23T08:01:35.007Z"
   },
   {
    "duration": -32,
    "start_time": "2022-02-23T08:01:35.011Z"
   },
   {
    "duration": -34,
    "start_time": "2022-02-23T08:01:35.014Z"
   },
   {
    "duration": -37,
    "start_time": "2022-02-23T08:01:35.017Z"
   },
   {
    "duration": -39,
    "start_time": "2022-02-23T08:01:35.021Z"
   },
   {
    "duration": -41,
    "start_time": "2022-02-23T08:01:35.024Z"
   },
   {
    "duration": -46,
    "start_time": "2022-02-23T08:01:35.030Z"
   },
   {
    "duration": -47,
    "start_time": "2022-02-23T08:01:35.032Z"
   },
   {
    "duration": -49,
    "start_time": "2022-02-23T08:01:35.035Z"
   },
   {
    "duration": -51,
    "start_time": "2022-02-23T08:01:35.038Z"
   },
   {
    "duration": -53,
    "start_time": "2022-02-23T08:01:35.041Z"
   },
   {
    "duration": -54,
    "start_time": "2022-02-23T08:01:35.043Z"
   },
   {
    "duration": -56,
    "start_time": "2022-02-23T08:01:35.046Z"
   },
   {
    "duration": -58,
    "start_time": "2022-02-23T08:01:35.049Z"
   },
   {
    "duration": -59,
    "start_time": "2022-02-23T08:01:35.051Z"
   },
   {
    "duration": -62,
    "start_time": "2022-02-23T08:01:35.055Z"
   },
   {
    "duration": -64,
    "start_time": "2022-02-23T08:01:35.058Z"
   },
   {
    "duration": -66,
    "start_time": "2022-02-23T08:01:35.061Z"
   },
   {
    "duration": -67,
    "start_time": "2022-02-23T08:01:35.063Z"
   },
   {
    "duration": -76,
    "start_time": "2022-02-23T08:01:35.073Z"
   },
   {
    "duration": 10,
    "start_time": "2022-02-23T08:01:55.421Z"
   },
   {
    "duration": 6,
    "start_time": "2022-02-23T08:03:51.139Z"
   },
   {
    "duration": 9,
    "start_time": "2022-02-23T08:06:00.512Z"
   },
   {
    "duration": 8809,
    "start_time": "2022-02-23T08:11:00.470Z"
   },
   {
    "duration": 10,
    "start_time": "2022-02-23T08:11:36.034Z"
   },
   {
    "duration": 10,
    "start_time": "2022-02-23T08:12:32.826Z"
   },
   {
    "duration": 10,
    "start_time": "2022-02-23T08:14:53.815Z"
   },
   {
    "duration": 7,
    "start_time": "2022-02-23T08:15:45.567Z"
   },
   {
    "duration": 10,
    "start_time": "2022-02-23T08:15:53.893Z"
   },
   {
    "duration": 294,
    "start_time": "2022-02-23T08:18:46.574Z"
   },
   {
    "duration": 10,
    "start_time": "2022-02-23T08:18:53.459Z"
   },
   {
    "duration": 18,
    "start_time": "2022-02-23T08:23:41.266Z"
   },
   {
    "duration": 18,
    "start_time": "2022-02-23T08:24:15.476Z"
   },
   {
    "duration": 15,
    "start_time": "2022-02-23T08:25:17.572Z"
   },
   {
    "duration": 9,
    "start_time": "2022-02-23T08:27:15.892Z"
   },
   {
    "duration": 94,
    "start_time": "2022-02-23T08:28:43.623Z"
   },
   {
    "duration": 9,
    "start_time": "2022-02-23T08:28:49.731Z"
   },
   {
    "duration": 9,
    "start_time": "2022-02-23T08:29:08.845Z"
   },
   {
    "duration": 8,
    "start_time": "2022-02-23T08:29:17.644Z"
   },
   {
    "duration": 9,
    "start_time": "2022-02-23T08:29:24.754Z"
   },
   {
    "duration": 9,
    "start_time": "2022-02-23T08:29:37.298Z"
   },
   {
    "duration": 29,
    "start_time": "2022-02-23T08:31:40.999Z"
   },
   {
    "duration": 48,
    "start_time": "2022-02-23T08:31:41.030Z"
   },
   {
    "duration": 22,
    "start_time": "2022-02-23T08:31:41.081Z"
   },
   {
    "duration": 10,
    "start_time": "2022-02-23T08:31:41.105Z"
   },
   {
    "duration": 24,
    "start_time": "2022-02-23T08:31:41.117Z"
   },
   {
    "duration": 11,
    "start_time": "2022-02-23T08:31:41.143Z"
   },
   {
    "duration": 27,
    "start_time": "2022-02-23T08:31:41.155Z"
   },
   {
    "duration": 16,
    "start_time": "2022-02-23T08:31:41.184Z"
   },
   {
    "duration": 13,
    "start_time": "2022-02-23T08:31:41.202Z"
   },
   {
    "duration": 323,
    "start_time": "2022-02-23T08:31:41.216Z"
   },
   {
    "duration": 12,
    "start_time": "2022-02-23T08:31:41.541Z"
   },
   {
    "duration": 214,
    "start_time": "2022-02-23T08:31:41.554Z"
   },
   {
    "duration": 182,
    "start_time": "2022-02-23T08:31:41.769Z"
   },
   {
    "duration": 288,
    "start_time": "2022-02-23T08:31:41.953Z"
   },
   {
    "duration": 185,
    "start_time": "2022-02-23T08:31:42.242Z"
   },
   {
    "duration": 316,
    "start_time": "2022-02-23T08:31:42.429Z"
   },
   {
    "duration": 11,
    "start_time": "2022-02-23T08:31:42.746Z"
   },
   {
    "duration": 274,
    "start_time": "2022-02-23T08:31:42.759Z"
   },
   {
    "duration": 4,
    "start_time": "2022-02-23T08:31:43.035Z"
   },
   {
    "duration": 11,
    "start_time": "2022-02-23T08:31:43.040Z"
   },
   {
    "duration": 288,
    "start_time": "2022-02-23T08:31:43.053Z"
   },
   {
    "duration": 4,
    "start_time": "2022-02-23T08:31:43.343Z"
   },
   {
    "duration": 363,
    "start_time": "2022-02-23T08:31:43.349Z"
   },
   {
    "duration": 4,
    "start_time": "2022-02-23T08:31:43.714Z"
   },
   {
    "duration": 6,
    "start_time": "2022-02-23T08:31:43.731Z"
   },
   {
    "duration": 6,
    "start_time": "2022-02-23T08:31:43.739Z"
   },
   {
    "duration": 16,
    "start_time": "2022-02-23T08:31:43.746Z"
   },
   {
    "duration": 4,
    "start_time": "2022-02-23T08:31:43.763Z"
   },
   {
    "duration": 10,
    "start_time": "2022-02-23T08:31:43.768Z"
   },
   {
    "duration": 9,
    "start_time": "2022-02-23T08:31:43.779Z"
   },
   {
    "duration": 7,
    "start_time": "2022-02-23T08:32:56.933Z"
   },
   {
    "duration": 10,
    "start_time": "2022-02-23T08:33:16.705Z"
   },
   {
    "duration": 11,
    "start_time": "2022-02-23T08:34:04.959Z"
   },
   {
    "duration": 11,
    "start_time": "2022-02-23T08:37:00.316Z"
   },
   {
    "duration": 11,
    "start_time": "2022-02-23T08:37:35.035Z"
   },
   {
    "duration": 234,
    "start_time": "2022-02-23T08:44:34.980Z"
   },
   {
    "duration": 462,
    "start_time": "2022-02-23T08:47:00.157Z"
   },
   {
    "duration": 562,
    "start_time": "2022-02-23T08:47:53.111Z"
   },
   {
    "duration": 186,
    "start_time": "2022-02-23T08:48:55.156Z"
   },
   {
    "duration": 189,
    "start_time": "2022-02-23T08:51:43.879Z"
   },
   {
    "duration": 179,
    "start_time": "2022-02-23T08:53:24.144Z"
   },
   {
    "duration": 176,
    "start_time": "2022-02-23T08:53:31.839Z"
   },
   {
    "duration": 474,
    "start_time": "2022-02-23T08:54:50.907Z"
   },
   {
    "duration": 299,
    "start_time": "2022-02-23T08:55:08.323Z"
   },
   {
    "duration": 199,
    "start_time": "2022-02-23T08:56:21.237Z"
   },
   {
    "duration": 281,
    "start_time": "2022-02-23T08:57:12.742Z"
   },
   {
    "duration": 282,
    "start_time": "2022-02-23T08:58:45.051Z"
   },
   {
    "duration": 390,
    "start_time": "2022-02-23T08:59:35.654Z"
   },
   {
    "duration": 19,
    "start_time": "2022-02-23T10:23:11.275Z"
   },
   {
    "duration": 37,
    "start_time": "2022-02-23T10:23:11.296Z"
   },
   {
    "duration": 17,
    "start_time": "2022-02-23T10:23:11.336Z"
   },
   {
    "duration": 7,
    "start_time": "2022-02-23T10:23:11.355Z"
   },
   {
    "duration": 14,
    "start_time": "2022-02-23T10:23:11.364Z"
   },
   {
    "duration": 6,
    "start_time": "2022-02-23T10:23:11.380Z"
   },
   {
    "duration": 9,
    "start_time": "2022-02-23T10:23:11.388Z"
   },
   {
    "duration": 10,
    "start_time": "2022-02-23T10:23:11.399Z"
   },
   {
    "duration": 11,
    "start_time": "2022-02-23T10:23:11.432Z"
   },
   {
    "duration": 316,
    "start_time": "2022-02-23T10:23:11.445Z"
   },
   {
    "duration": 13,
    "start_time": "2022-02-23T10:23:11.762Z"
   },
   {
    "duration": 200,
    "start_time": "2022-02-23T10:23:11.776Z"
   },
   {
    "duration": 206,
    "start_time": "2022-02-23T10:23:11.978Z"
   },
   {
    "duration": 280,
    "start_time": "2022-02-23T10:23:12.186Z"
   },
   {
    "duration": 191,
    "start_time": "2022-02-23T10:23:12.468Z"
   },
   {
    "duration": 257,
    "start_time": "2022-02-23T10:23:12.661Z"
   },
   {
    "duration": 19,
    "start_time": "2022-02-23T10:23:12.919Z"
   },
   {
    "duration": 265,
    "start_time": "2022-02-23T10:23:12.940Z"
   },
   {
    "duration": 5,
    "start_time": "2022-02-23T10:23:13.207Z"
   },
   {
    "duration": 27,
    "start_time": "2022-02-23T10:23:13.213Z"
   },
   {
    "duration": 290,
    "start_time": "2022-02-23T10:23:13.242Z"
   },
   {
    "duration": 5,
    "start_time": "2022-02-23T10:23:13.533Z"
   },
   {
    "duration": 362,
    "start_time": "2022-02-23T10:23:13.539Z"
   },
   {
    "duration": 4,
    "start_time": "2022-02-23T10:23:13.903Z"
   },
   {
    "duration": 8,
    "start_time": "2022-02-23T10:23:13.909Z"
   },
   {
    "duration": 19,
    "start_time": "2022-02-23T10:23:13.918Z"
   },
   {
    "duration": 17,
    "start_time": "2022-02-23T10:23:13.939Z"
   },
   {
    "duration": 4,
    "start_time": "2022-02-23T10:23:13.957Z"
   },
   {
    "duration": 9,
    "start_time": "2022-02-23T10:23:13.962Z"
   },
   {
    "duration": 7,
    "start_time": "2022-02-23T10:23:13.973Z"
   },
   {
    "duration": 1437,
    "start_time": "2022-02-23T17:09:35.671Z"
   },
   {
    "duration": 46,
    "start_time": "2022-02-23T17:09:37.111Z"
   },
   {
    "duration": 24,
    "start_time": "2022-02-23T17:09:37.160Z"
   },
   {
    "duration": 12,
    "start_time": "2022-02-23T17:09:37.187Z"
   },
   {
    "duration": 25,
    "start_time": "2022-02-23T17:09:37.202Z"
   },
   {
    "duration": 11,
    "start_time": "2022-02-23T17:09:37.229Z"
   },
   {
    "duration": 17,
    "start_time": "2022-02-23T17:09:37.243Z"
   },
   {
    "duration": 54,
    "start_time": "2022-02-23T17:09:37.265Z"
   },
   {
    "duration": 19,
    "start_time": "2022-02-23T17:09:37.323Z"
   },
   {
    "duration": 604,
    "start_time": "2022-02-23T17:09:37.345Z"
   },
   {
    "duration": 23,
    "start_time": "2022-02-23T17:09:37.952Z"
   },
   {
    "duration": 379,
    "start_time": "2022-02-23T17:09:37.978Z"
   },
   {
    "duration": 340,
    "start_time": "2022-02-23T17:09:38.359Z"
   },
   {
    "duration": 435,
    "start_time": "2022-02-23T17:09:38.701Z"
   },
   {
    "duration": 347,
    "start_time": "2022-02-23T17:09:39.139Z"
   },
   {
    "duration": 413,
    "start_time": "2022-02-23T17:09:39.488Z"
   },
   {
    "duration": 21,
    "start_time": "2022-02-23T17:09:39.904Z"
   },
   {
    "duration": 380,
    "start_time": "2022-02-23T17:09:39.928Z"
   },
   {
    "duration": 7,
    "start_time": "2022-02-23T17:09:40.310Z"
   },
   {
    "duration": 18,
    "start_time": "2022-02-23T17:09:40.320Z"
   },
   {
    "duration": 420,
    "start_time": "2022-02-23T17:09:40.341Z"
   },
   {
    "duration": 9,
    "start_time": "2022-02-23T17:09:40.763Z"
   },
   {
    "duration": 692,
    "start_time": "2022-02-23T17:09:40.777Z"
   },
   {
    "duration": 7,
    "start_time": "2022-02-23T17:09:41.471Z"
   },
   {
    "duration": 35,
    "start_time": "2022-02-23T17:09:41.481Z"
   },
   {
    "duration": 10,
    "start_time": "2022-02-23T17:09:41.519Z"
   },
   {
    "duration": 30,
    "start_time": "2022-02-23T17:09:41.531Z"
   },
   {
    "duration": 7,
    "start_time": "2022-02-23T17:09:41.564Z"
   },
   {
    "duration": 14,
    "start_time": "2022-02-23T17:09:41.612Z"
   },
   {
    "duration": 14,
    "start_time": "2022-02-23T17:09:41.629Z"
   },
   {
    "duration": 5,
    "start_time": "2022-02-23T17:10:16.270Z"
   },
   {
    "duration": 5,
    "start_time": "2022-02-23T17:10:22.817Z"
   },
   {
    "duration": 115,
    "start_time": "2022-02-23T17:15:36.494Z"
   },
   {
    "duration": 1625,
    "start_time": "2022-02-23T18:44:40.958Z"
   },
   {
    "duration": 40,
    "start_time": "2022-02-23T18:44:42.586Z"
   },
   {
    "duration": 22,
    "start_time": "2022-02-23T18:44:42.629Z"
   },
   {
    "duration": 12,
    "start_time": "2022-02-23T18:44:42.654Z"
   },
   {
    "duration": 31,
    "start_time": "2022-02-23T18:44:42.669Z"
   },
   {
    "duration": 11,
    "start_time": "2022-02-23T18:44:42.703Z"
   },
   {
    "duration": 56,
    "start_time": "2022-02-23T18:44:42.717Z"
   },
   {
    "duration": 22,
    "start_time": "2022-02-23T18:44:42.778Z"
   },
   {
    "duration": 17,
    "start_time": "2022-02-23T18:44:42.803Z"
   },
   {
    "duration": 660,
    "start_time": "2022-02-23T18:44:42.822Z"
   },
   {
    "duration": 22,
    "start_time": "2022-02-23T18:44:43.485Z"
   },
   {
    "duration": 396,
    "start_time": "2022-02-23T18:44:43.509Z"
   },
   {
    "duration": 363,
    "start_time": "2022-02-23T18:44:43.908Z"
   },
   {
    "duration": 480,
    "start_time": "2022-02-23T18:44:44.281Z"
   },
   {
    "duration": 377,
    "start_time": "2022-02-23T18:44:44.764Z"
   },
   {
    "duration": 463,
    "start_time": "2022-02-23T18:44:45.144Z"
   },
   {
    "duration": 20,
    "start_time": "2022-02-23T18:44:45.610Z"
   },
   {
    "duration": 520,
    "start_time": "2022-02-23T18:44:45.633Z"
   },
   {
    "duration": 14,
    "start_time": "2022-02-23T18:44:46.156Z"
   },
   {
    "duration": 30,
    "start_time": "2022-02-23T18:44:46.172Z"
   },
   {
    "duration": 505,
    "start_time": "2022-02-23T18:44:46.205Z"
   },
   {
    "duration": 7,
    "start_time": "2022-02-23T18:44:46.713Z"
   },
   {
    "duration": 688,
    "start_time": "2022-02-23T18:44:46.725Z"
   },
   {
    "duration": 7,
    "start_time": "2022-02-23T18:44:47.415Z"
   },
   {
    "duration": 10,
    "start_time": "2022-02-23T18:44:47.425Z"
   },
   {
    "duration": 33,
    "start_time": "2022-02-23T18:44:47.438Z"
   },
   {
    "duration": 30,
    "start_time": "2022-02-23T18:44:47.474Z"
   },
   {
    "duration": 6,
    "start_time": "2022-02-23T18:44:47.506Z"
   },
   {
    "duration": 64,
    "start_time": "2022-02-23T18:44:47.515Z"
   },
   {
    "duration": 18,
    "start_time": "2022-02-23T18:44:47.582Z"
   },
   {
    "duration": 320,
    "start_time": "2022-02-24T07:05:33.196Z"
   },
   {
    "duration": 1223,
    "start_time": "2022-02-24T07:05:39.169Z"
   },
   {
    "duration": 70,
    "start_time": "2022-02-24T07:05:40.394Z"
   },
   {
    "duration": 38,
    "start_time": "2022-02-24T07:05:40.466Z"
   },
   {
    "duration": 21,
    "start_time": "2022-02-24T07:05:40.506Z"
   },
   {
    "duration": 46,
    "start_time": "2022-02-24T07:05:40.529Z"
   },
   {
    "duration": 14,
    "start_time": "2022-02-24T07:05:40.577Z"
   },
   {
    "duration": 33,
    "start_time": "2022-02-24T07:05:40.593Z"
   },
   {
    "duration": 38,
    "start_time": "2022-02-24T07:05:40.629Z"
   },
   {
    "duration": 17,
    "start_time": "2022-02-24T07:05:40.669Z"
   },
   {
    "duration": 358,
    "start_time": "2022-02-24T07:05:40.688Z"
   },
   {
    "duration": 22,
    "start_time": "2022-02-24T07:05:41.048Z"
   },
   {
    "duration": 274,
    "start_time": "2022-02-24T07:05:41.072Z"
   },
   {
    "duration": 263,
    "start_time": "2022-02-24T07:05:41.348Z"
   },
   {
    "duration": 313,
    "start_time": "2022-02-24T07:05:41.612Z"
   },
   {
    "duration": 259,
    "start_time": "2022-02-24T07:05:41.927Z"
   },
   {
    "duration": 303,
    "start_time": "2022-02-24T07:05:42.188Z"
   },
   {
    "duration": 14,
    "start_time": "2022-02-24T07:05:42.494Z"
   },
   {
    "duration": 305,
    "start_time": "2022-02-24T07:05:42.511Z"
   },
   {
    "duration": 7,
    "start_time": "2022-02-24T07:05:42.818Z"
   },
   {
    "duration": 30,
    "start_time": "2022-02-24T07:05:42.827Z"
   },
   {
    "duration": 356,
    "start_time": "2022-02-24T07:05:42.859Z"
   },
   {
    "duration": 5,
    "start_time": "2022-02-24T07:05:43.218Z"
   },
   {
    "duration": 421,
    "start_time": "2022-02-24T07:05:43.228Z"
   },
   {
    "duration": 6,
    "start_time": "2022-02-24T07:05:43.651Z"
   },
   {
    "duration": 26,
    "start_time": "2022-02-24T07:05:43.658Z"
   },
   {
    "duration": 27,
    "start_time": "2022-02-24T07:05:43.686Z"
   },
   {
    "duration": 21,
    "start_time": "2022-02-24T07:05:43.715Z"
   },
   {
    "duration": 17,
    "start_time": "2022-02-24T07:05:43.738Z"
   },
   {
    "duration": 21,
    "start_time": "2022-02-24T07:05:43.757Z"
   },
   {
    "duration": 19,
    "start_time": "2022-02-24T07:05:43.780Z"
   },
   {
    "duration": 12,
    "start_time": "2022-02-24T07:06:05.273Z"
   },
   {
    "duration": 256,
    "start_time": "2022-02-24T07:11:05.606Z"
   },
   {
    "duration": 305,
    "start_time": "2022-02-24T07:12:38.445Z"
   },
   {
    "duration": 323,
    "start_time": "2022-02-24T07:12:51.790Z"
   },
   {
    "duration": 357,
    "start_time": "2022-02-24T07:12:57.442Z"
   },
   {
    "duration": 281,
    "start_time": "2022-02-24T07:13:07.910Z"
   },
   {
    "duration": 177,
    "start_time": "2022-02-24T19:39:40.329Z"
   }
  ],
  "kernelspec": {
   "display_name": "Python 3",
   "language": "python",
   "name": "python3"
  },
  "language_info": {
   "codemirror_mode": {
    "name": "ipython",
    "version": 3
   },
   "file_extension": ".py",
   "mimetype": "text/x-python",
   "name": "python",
   "nbconvert_exporter": "python",
   "pygments_lexer": "ipython3",
   "version": "3.8.8"
  },
  "toc": {
   "base_numbering": 1,
   "nav_menu": {},
   "number_sections": true,
   "sideBar": true,
   "skip_h1_title": true,
   "title_cell": "Table of Contents",
   "title_sidebar": "Contents",
   "toc_cell": false,
   "toc_position": {},
   "toc_section_display": true,
   "toc_window_display": false
  }
 },
 "nbformat": 4,
 "nbformat_minor": 2
}
