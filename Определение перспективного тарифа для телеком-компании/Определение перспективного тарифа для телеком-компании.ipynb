{
 "cells": [
  {
   "cell_type": "markdown",
   "metadata": {},
   "source": [
    "# Определение перспективного тарифа для телеком-компании"
   ]
  },
  {
   "cell_type": "markdown",
   "metadata": {},
   "source": [
    "Предстоит сделать предварительный анализ тарифов на небольшой выборке клиентов. Имеются данные 500 пользователей: кто они, откуда, каким тарифом пользуются, сколько звонков и сообщений каждый отправил за год, а также данные по тарифу. Проанализируем поведение клиентов и сделаем вывод — какой тариф лучше."
   ]
  },
  {
   "cell_type": "markdown",
   "metadata": {},
   "source": [
    "# План работы \n",
    "\n",
    "- [Обзор и предобработка данных](#предобработка)\n",
    "- [Анализ данных](#анализ)\n",
    "- [Проверка гипотез](#гипотезы)\n",
    "- [Вывод](#вывод)\n"
   ]
  },
  {
   "cell_type": "markdown",
   "metadata": {},
   "source": [
    "# Обзор и предобработка данных <a id='предобработка'></a>"
   ]
  },
  {
   "cell_type": "code",
   "execution_count": 85,
   "metadata": {},
   "outputs": [],
   "source": [
    "import pandas as pd\n",
    "import matplotlib.pyplot as plt\n",
    "from math import factorial\n",
    "import numpy as np\n",
    "from scipy import stats as st\n",
    "import math as mt\n",
    "pd.set_option('display.float_format', '{:,.2f}'.format)"
   ]
  },
  {
   "cell_type": "markdown",
   "metadata": {},
   "source": [
    "Импортируем необходимые для работы библиотеки"
   ]
  },
  {
   "cell_type": "code",
   "execution_count": 86,
   "metadata": {},
   "outputs": [
    {
     "data": {
      "text/html": [
       "<div>\n",
       "<style scoped>\n",
       "    .dataframe tbody tr th:only-of-type {\n",
       "        vertical-align: middle;\n",
       "    }\n",
       "\n",
       "    .dataframe tbody tr th {\n",
       "        vertical-align: top;\n",
       "    }\n",
       "\n",
       "    .dataframe thead th {\n",
       "        text-align: right;\n",
       "    }\n",
       "</style>\n",
       "<table border=\"1\" class=\"dataframe\">\n",
       "  <thead>\n",
       "    <tr style=\"text-align: right;\">\n",
       "      <th></th>\n",
       "      <th>user_id</th>\n",
       "      <th>age</th>\n",
       "      <th>churn_date</th>\n",
       "      <th>city</th>\n",
       "      <th>first_name</th>\n",
       "      <th>last_name</th>\n",
       "      <th>reg_date</th>\n",
       "      <th>tariff</th>\n",
       "    </tr>\n",
       "  </thead>\n",
       "  <tbody>\n",
       "    <tr>\n",
       "      <td>0</td>\n",
       "      <td>1000</td>\n",
       "      <td>52</td>\n",
       "      <td>NaN</td>\n",
       "      <td>Краснодар</td>\n",
       "      <td>Рафаил</td>\n",
       "      <td>Верещагин</td>\n",
       "      <td>2018-05-25</td>\n",
       "      <td>ultra</td>\n",
       "    </tr>\n",
       "    <tr>\n",
       "      <td>1</td>\n",
       "      <td>1001</td>\n",
       "      <td>41</td>\n",
       "      <td>NaN</td>\n",
       "      <td>Москва</td>\n",
       "      <td>Иван</td>\n",
       "      <td>Ежов</td>\n",
       "      <td>2018-11-01</td>\n",
       "      <td>smart</td>\n",
       "    </tr>\n",
       "    <tr>\n",
       "      <td>2</td>\n",
       "      <td>1002</td>\n",
       "      <td>59</td>\n",
       "      <td>NaN</td>\n",
       "      <td>Стерлитамак</td>\n",
       "      <td>Евгений</td>\n",
       "      <td>Абрамович</td>\n",
       "      <td>2018-06-17</td>\n",
       "      <td>smart</td>\n",
       "    </tr>\n",
       "    <tr>\n",
       "      <td>3</td>\n",
       "      <td>1003</td>\n",
       "      <td>23</td>\n",
       "      <td>NaN</td>\n",
       "      <td>Москва</td>\n",
       "      <td>Белла</td>\n",
       "      <td>Белякова</td>\n",
       "      <td>2018-08-17</td>\n",
       "      <td>ultra</td>\n",
       "    </tr>\n",
       "    <tr>\n",
       "      <td>4</td>\n",
       "      <td>1004</td>\n",
       "      <td>68</td>\n",
       "      <td>NaN</td>\n",
       "      <td>Новокузнецк</td>\n",
       "      <td>Татьяна</td>\n",
       "      <td>Авдеенко</td>\n",
       "      <td>2018-05-14</td>\n",
       "      <td>ultra</td>\n",
       "    </tr>\n",
       "    <tr>\n",
       "      <td>...</td>\n",
       "      <td>...</td>\n",
       "      <td>...</td>\n",
       "      <td>...</td>\n",
       "      <td>...</td>\n",
       "      <td>...</td>\n",
       "      <td>...</td>\n",
       "      <td>...</td>\n",
       "      <td>...</td>\n",
       "    </tr>\n",
       "    <tr>\n",
       "      <td>495</td>\n",
       "      <td>1495</td>\n",
       "      <td>65</td>\n",
       "      <td>NaN</td>\n",
       "      <td>Иркутск</td>\n",
       "      <td>Авксентий</td>\n",
       "      <td>Фокин</td>\n",
       "      <td>2018-08-28</td>\n",
       "      <td>ultra</td>\n",
       "    </tr>\n",
       "    <tr>\n",
       "      <td>496</td>\n",
       "      <td>1496</td>\n",
       "      <td>36</td>\n",
       "      <td>NaN</td>\n",
       "      <td>Вологда</td>\n",
       "      <td>Трифон</td>\n",
       "      <td>Блохин</td>\n",
       "      <td>2018-01-27</td>\n",
       "      <td>smart</td>\n",
       "    </tr>\n",
       "    <tr>\n",
       "      <td>497</td>\n",
       "      <td>1497</td>\n",
       "      <td>32</td>\n",
       "      <td>NaN</td>\n",
       "      <td>Челябинск</td>\n",
       "      <td>Каролина</td>\n",
       "      <td>Агеева</td>\n",
       "      <td>2018-10-09</td>\n",
       "      <td>smart</td>\n",
       "    </tr>\n",
       "    <tr>\n",
       "      <td>498</td>\n",
       "      <td>1498</td>\n",
       "      <td>68</td>\n",
       "      <td>2018-10-25</td>\n",
       "      <td>Владикавказ</td>\n",
       "      <td>Всеволод</td>\n",
       "      <td>Акимчин</td>\n",
       "      <td>2018-07-19</td>\n",
       "      <td>smart</td>\n",
       "    </tr>\n",
       "    <tr>\n",
       "      <td>499</td>\n",
       "      <td>1499</td>\n",
       "      <td>35</td>\n",
       "      <td>NaN</td>\n",
       "      <td>Пермь</td>\n",
       "      <td>Гектор</td>\n",
       "      <td>Корнилов</td>\n",
       "      <td>2018-09-27</td>\n",
       "      <td>smart</td>\n",
       "    </tr>\n",
       "  </tbody>\n",
       "</table>\n",
       "<p>500 rows × 8 columns</p>\n",
       "</div>"
      ],
      "text/plain": [
       "     user_id  age  churn_date         city first_name  last_name    reg_date  \\\n",
       "0       1000   52         NaN    Краснодар     Рафаил  Верещагин  2018-05-25   \n",
       "1       1001   41         NaN       Москва       Иван       Ежов  2018-11-01   \n",
       "2       1002   59         NaN  Стерлитамак    Евгений  Абрамович  2018-06-17   \n",
       "3       1003   23         NaN       Москва      Белла   Белякова  2018-08-17   \n",
       "4       1004   68         NaN  Новокузнецк    Татьяна   Авдеенко  2018-05-14   \n",
       "..       ...  ...         ...          ...        ...        ...         ...   \n",
       "495     1495   65         NaN      Иркутск  Авксентий      Фокин  2018-08-28   \n",
       "496     1496   36         NaN      Вологда     Трифон     Блохин  2018-01-27   \n",
       "497     1497   32         NaN    Челябинск   Каролина     Агеева  2018-10-09   \n",
       "498     1498   68  2018-10-25  Владикавказ   Всеволод    Акимчин  2018-07-19   \n",
       "499     1499   35         NaN        Пермь     Гектор   Корнилов  2018-09-27   \n",
       "\n",
       "    tariff  \n",
       "0    ultra  \n",
       "1    smart  \n",
       "2    smart  \n",
       "3    ultra  \n",
       "4    ultra  \n",
       "..     ...  \n",
       "495  ultra  \n",
       "496  smart  \n",
       "497  smart  \n",
       "498  smart  \n",
       "499  smart  \n",
       "\n",
       "[500 rows x 8 columns]"
      ]
     },
     "execution_count": 86,
     "metadata": {},
     "output_type": "execute_result"
    }
   ],
   "source": [
    "data = pd.read_csv('/datasets/users.csv')\n",
    "calls = pd.read_csv('/datasets/calls.csv')\n",
    "internet = pd.read_csv('/datasets/internet.csv')\n",
    "messages = pd.read_csv('/datasets/messages.csv')\n",
    "tariffs = pd.read_csv('/datasets/tariffs.csv')\n",
    "data"
   ]
  },
  {
   "cell_type": "markdown",
   "metadata": {},
   "source": [
    "Импортировал все датасеты. Для начала поработаем с данными, приведем к нужным форматам. "
   ]
  },
  {
   "cell_type": "code",
   "execution_count": 87,
   "metadata": {},
   "outputs": [
    {
     "data": {
      "text/html": [
       "<div>\n",
       "<style scoped>\n",
       "    .dataframe tbody tr th:only-of-type {\n",
       "        vertical-align: middle;\n",
       "    }\n",
       "\n",
       "    .dataframe tbody tr th {\n",
       "        vertical-align: top;\n",
       "    }\n",
       "\n",
       "    .dataframe thead th {\n",
       "        text-align: right;\n",
       "    }\n",
       "</style>\n",
       "<table border=\"1\" class=\"dataframe\">\n",
       "  <thead>\n",
       "    <tr style=\"text-align: right;\">\n",
       "      <th></th>\n",
       "      <th>messages_included</th>\n",
       "      <th>mb_per_month_included</th>\n",
       "      <th>minutes_included</th>\n",
       "      <th>rub_monthly_fee</th>\n",
       "      <th>rub_per_gb</th>\n",
       "      <th>rub_per_message</th>\n",
       "      <th>rub_per_minute</th>\n",
       "      <th>tariff</th>\n",
       "    </tr>\n",
       "  </thead>\n",
       "  <tbody>\n",
       "    <tr>\n",
       "      <td>0</td>\n",
       "      <td>50</td>\n",
       "      <td>15360</td>\n",
       "      <td>500</td>\n",
       "      <td>550</td>\n",
       "      <td>200</td>\n",
       "      <td>3</td>\n",
       "      <td>3</td>\n",
       "      <td>smart</td>\n",
       "    </tr>\n",
       "    <tr>\n",
       "      <td>1</td>\n",
       "      <td>1000</td>\n",
       "      <td>30720</td>\n",
       "      <td>3000</td>\n",
       "      <td>1950</td>\n",
       "      <td>150</td>\n",
       "      <td>1</td>\n",
       "      <td>1</td>\n",
       "      <td>ultra</td>\n",
       "    </tr>\n",
       "  </tbody>\n",
       "</table>\n",
       "</div>"
      ],
      "text/plain": [
       "   messages_included  mb_per_month_included  minutes_included  \\\n",
       "0                 50                  15360               500   \n",
       "1               1000                  30720              3000   \n",
       "\n",
       "   rub_monthly_fee  rub_per_gb  rub_per_message  rub_per_minute tariff  \n",
       "0              550         200                3               3  smart  \n",
       "1             1950         150                1               1  ultra  "
      ]
     },
     "execution_count": 87,
     "metadata": {},
     "output_type": "execute_result"
    }
   ],
   "source": [
    "tariffs = tariffs.rename(columns={'tariff_name': 'tariff'})\n",
    "tariffs"
   ]
  },
  {
   "cell_type": "markdown",
   "metadata": {},
   "source": [
    "Сменил название колонки на tariff, чтобы можно было потом прицепить датасет к data по колонке tariff для облегчения доступа к данным."
   ]
  },
  {
   "cell_type": "code",
   "execution_count": 88,
   "metadata": {},
   "outputs": [
    {
     "name": "stdout",
     "output_type": "stream",
     "text": [
      "<class 'pandas.core.frame.DataFrame'>\n",
      "RangeIndex: 500 entries, 0 to 499\n",
      "Data columns (total 8 columns):\n",
      "user_id       500 non-null int64\n",
      "age           500 non-null int64\n",
      "churn_date    38 non-null datetime64[ns]\n",
      "city          500 non-null object\n",
      "first_name    500 non-null object\n",
      "last_name     500 non-null object\n",
      "reg_date      500 non-null datetime64[ns]\n",
      "tariff        500 non-null object\n",
      "dtypes: datetime64[ns](2), int64(2), object(4)\n",
      "memory usage: 31.4+ KB\n"
     ]
    }
   ],
   "source": [
    "data['reg_date'] = pd.to_datetime(data['reg_date'], format='%Y.%m.%d')\n",
    "data['churn_date'] = pd.to_datetime(data['churn_date'], format='%Y.%m.%d')\n",
    "data.info()"
   ]
  },
  {
   "cell_type": "code",
   "execution_count": 89,
   "metadata": {
    "scrolled": true
   },
   "outputs": [
    {
     "name": "stdout",
     "output_type": "stream",
     "text": [
      "<class 'pandas.core.frame.DataFrame'>\n",
      "RangeIndex: 202607 entries, 0 to 202606\n",
      "Data columns (total 4 columns):\n",
      "id           202607 non-null object\n",
      "call_date    202607 non-null datetime64[ns]\n",
      "duration     202607 non-null int64\n",
      "user_id      202607 non-null int64\n",
      "dtypes: datetime64[ns](1), int64(2), object(1)\n",
      "memory usage: 6.2+ MB\n"
     ]
    }
   ],
   "source": [
    "calls['call_date'] = pd.to_datetime(calls['call_date'], format='%Y.%m.%d')\n",
    "calls['duration'] = calls['duration'].round().astype('int')\n",
    "calls.info()"
   ]
  },
  {
   "cell_type": "code",
   "execution_count": 90,
   "metadata": {
    "scrolled": true
   },
   "outputs": [
    {
     "data": {
      "text/html": [
       "<div>\n",
       "<style scoped>\n",
       "    .dataframe tbody tr th:only-of-type {\n",
       "        vertical-align: middle;\n",
       "    }\n",
       "\n",
       "    .dataframe tbody tr th {\n",
       "        vertical-align: top;\n",
       "    }\n",
       "\n",
       "    .dataframe thead th {\n",
       "        text-align: right;\n",
       "    }\n",
       "</style>\n",
       "<table border=\"1\" class=\"dataframe\">\n",
       "  <thead>\n",
       "    <tr style=\"text-align: right;\">\n",
       "      <th></th>\n",
       "      <th>Unnamed: 0</th>\n",
       "      <th>id</th>\n",
       "      <th>mb_used</th>\n",
       "      <th>session_date</th>\n",
       "      <th>user_id</th>\n",
       "    </tr>\n",
       "  </thead>\n",
       "  <tbody>\n",
       "    <tr>\n",
       "      <td>0</td>\n",
       "      <td>0</td>\n",
       "      <td>1000_0</td>\n",
       "      <td>113</td>\n",
       "      <td>2018-11-25</td>\n",
       "      <td>1000</td>\n",
       "    </tr>\n",
       "    <tr>\n",
       "      <td>1</td>\n",
       "      <td>1</td>\n",
       "      <td>1000_1</td>\n",
       "      <td>1053</td>\n",
       "      <td>2018-09-07</td>\n",
       "      <td>1000</td>\n",
       "    </tr>\n",
       "    <tr>\n",
       "      <td>2</td>\n",
       "      <td>2</td>\n",
       "      <td>1000_2</td>\n",
       "      <td>1197</td>\n",
       "      <td>2018-06-25</td>\n",
       "      <td>1000</td>\n",
       "    </tr>\n",
       "    <tr>\n",
       "      <td>3</td>\n",
       "      <td>3</td>\n",
       "      <td>1000_3</td>\n",
       "      <td>550</td>\n",
       "      <td>2018-08-22</td>\n",
       "      <td>1000</td>\n",
       "    </tr>\n",
       "    <tr>\n",
       "      <td>4</td>\n",
       "      <td>4</td>\n",
       "      <td>1000_4</td>\n",
       "      <td>303</td>\n",
       "      <td>2018-09-24</td>\n",
       "      <td>1000</td>\n",
       "    </tr>\n",
       "    <tr>\n",
       "      <td>5</td>\n",
       "      <td>5</td>\n",
       "      <td>1000_5</td>\n",
       "      <td>400</td>\n",
       "      <td>2018-10-02</td>\n",
       "      <td>1000</td>\n",
       "    </tr>\n",
       "    <tr>\n",
       "      <td>6</td>\n",
       "      <td>6</td>\n",
       "      <td>1000_6</td>\n",
       "      <td>540</td>\n",
       "      <td>2018-09-07</td>\n",
       "      <td>1000</td>\n",
       "    </tr>\n",
       "    <tr>\n",
       "      <td>7</td>\n",
       "      <td>7</td>\n",
       "      <td>1000_7</td>\n",
       "      <td>416</td>\n",
       "      <td>2018-07-11</td>\n",
       "      <td>1000</td>\n",
       "    </tr>\n",
       "    <tr>\n",
       "      <td>8</td>\n",
       "      <td>8</td>\n",
       "      <td>1000_8</td>\n",
       "      <td>505</td>\n",
       "      <td>2018-10-08</td>\n",
       "      <td>1000</td>\n",
       "    </tr>\n",
       "    <tr>\n",
       "      <td>9</td>\n",
       "      <td>9</td>\n",
       "      <td>1000_9</td>\n",
       "      <td>346</td>\n",
       "      <td>2018-09-03</td>\n",
       "      <td>1000</td>\n",
       "    </tr>\n",
       "    <tr>\n",
       "      <td>10</td>\n",
       "      <td>10</td>\n",
       "      <td>1000_10</td>\n",
       "      <td>385</td>\n",
       "      <td>2018-09-27</td>\n",
       "      <td>1000</td>\n",
       "    </tr>\n",
       "    <tr>\n",
       "      <td>11</td>\n",
       "      <td>11</td>\n",
       "      <td>1000_11</td>\n",
       "      <td>0</td>\n",
       "      <td>2018-08-28</td>\n",
       "      <td>1000</td>\n",
       "    </tr>\n",
       "    <tr>\n",
       "      <td>12</td>\n",
       "      <td>12</td>\n",
       "      <td>1000_12</td>\n",
       "      <td>376</td>\n",
       "      <td>2018-06-20</td>\n",
       "      <td>1000</td>\n",
       "    </tr>\n",
       "    <tr>\n",
       "      <td>13</td>\n",
       "      <td>13</td>\n",
       "      <td>1000_13</td>\n",
       "      <td>394</td>\n",
       "      <td>2018-08-09</td>\n",
       "      <td>1000</td>\n",
       "    </tr>\n",
       "    <tr>\n",
       "      <td>14</td>\n",
       "      <td>14</td>\n",
       "      <td>1000_14</td>\n",
       "      <td>181</td>\n",
       "      <td>2018-08-11</td>\n",
       "      <td>1000</td>\n",
       "    </tr>\n",
       "  </tbody>\n",
       "</table>\n",
       "</div>"
      ],
      "text/plain": [
       "    Unnamed: 0       id  mb_used session_date  user_id\n",
       "0            0   1000_0      113   2018-11-25     1000\n",
       "1            1   1000_1     1053   2018-09-07     1000\n",
       "2            2   1000_2     1197   2018-06-25     1000\n",
       "3            3   1000_3      550   2018-08-22     1000\n",
       "4            4   1000_4      303   2018-09-24     1000\n",
       "5            5   1000_5      400   2018-10-02     1000\n",
       "6            6   1000_6      540   2018-09-07     1000\n",
       "7            7   1000_7      416   2018-07-11     1000\n",
       "8            8   1000_8      505   2018-10-08     1000\n",
       "9            9   1000_9      346   2018-09-03     1000\n",
       "10          10  1000_10      385   2018-09-27     1000\n",
       "11          11  1000_11        0   2018-08-28     1000\n",
       "12          12  1000_12      376   2018-06-20     1000\n",
       "13          13  1000_13      394   2018-08-09     1000\n",
       "14          14  1000_14      181   2018-08-11     1000"
      ]
     },
     "execution_count": 90,
     "metadata": {},
     "output_type": "execute_result"
    }
   ],
   "source": [
    "internet['session_date'] = pd.to_datetime(internet['session_date'], format='%Y.%m.%d')\n",
    "internet['mb_used'] = internet['mb_used'].round().astype('int')\n",
    "internet.head(15)"
   ]
  },
  {
   "cell_type": "code",
   "execution_count": 91,
   "metadata": {
    "scrolled": true
   },
   "outputs": [
    {
     "data": {
      "text/html": [
       "<div>\n",
       "<style scoped>\n",
       "    .dataframe tbody tr th:only-of-type {\n",
       "        vertical-align: middle;\n",
       "    }\n",
       "\n",
       "    .dataframe tbody tr th {\n",
       "        vertical-align: top;\n",
       "    }\n",
       "\n",
       "    .dataframe thead th {\n",
       "        text-align: right;\n",
       "    }\n",
       "</style>\n",
       "<table border=\"1\" class=\"dataframe\">\n",
       "  <thead>\n",
       "    <tr style=\"text-align: right;\">\n",
       "      <th></th>\n",
       "      <th>id</th>\n",
       "      <th>message_date</th>\n",
       "      <th>user_id</th>\n",
       "    </tr>\n",
       "  </thead>\n",
       "  <tbody>\n",
       "    <tr>\n",
       "      <td>0</td>\n",
       "      <td>1000_0</td>\n",
       "      <td>2018-06-27</td>\n",
       "      <td>1000</td>\n",
       "    </tr>\n",
       "    <tr>\n",
       "      <td>1</td>\n",
       "      <td>1000_1</td>\n",
       "      <td>2018-10-08</td>\n",
       "      <td>1000</td>\n",
       "    </tr>\n",
       "    <tr>\n",
       "      <td>2</td>\n",
       "      <td>1000_2</td>\n",
       "      <td>2018-08-04</td>\n",
       "      <td>1000</td>\n",
       "    </tr>\n",
       "    <tr>\n",
       "      <td>3</td>\n",
       "      <td>1000_3</td>\n",
       "      <td>2018-06-16</td>\n",
       "      <td>1000</td>\n",
       "    </tr>\n",
       "    <tr>\n",
       "      <td>4</td>\n",
       "      <td>1000_4</td>\n",
       "      <td>2018-12-05</td>\n",
       "      <td>1000</td>\n",
       "    </tr>\n",
       "    <tr>\n",
       "      <td>...</td>\n",
       "      <td>...</td>\n",
       "      <td>...</td>\n",
       "      <td>...</td>\n",
       "    </tr>\n",
       "    <tr>\n",
       "      <td>123031</td>\n",
       "      <td>1499_179</td>\n",
       "      <td>2018-12-12</td>\n",
       "      <td>1499</td>\n",
       "    </tr>\n",
       "    <tr>\n",
       "      <td>123032</td>\n",
       "      <td>1499_180</td>\n",
       "      <td>2018-09-28</td>\n",
       "      <td>1499</td>\n",
       "    </tr>\n",
       "    <tr>\n",
       "      <td>123033</td>\n",
       "      <td>1499_181</td>\n",
       "      <td>2018-09-27</td>\n",
       "      <td>1499</td>\n",
       "    </tr>\n",
       "    <tr>\n",
       "      <td>123034</td>\n",
       "      <td>1499_182</td>\n",
       "      <td>2018-11-15</td>\n",
       "      <td>1499</td>\n",
       "    </tr>\n",
       "    <tr>\n",
       "      <td>123035</td>\n",
       "      <td>1499_183</td>\n",
       "      <td>2018-11-16</td>\n",
       "      <td>1499</td>\n",
       "    </tr>\n",
       "  </tbody>\n",
       "</table>\n",
       "<p>123036 rows × 3 columns</p>\n",
       "</div>"
      ],
      "text/plain": [
       "              id message_date  user_id\n",
       "0         1000_0   2018-06-27     1000\n",
       "1         1000_1   2018-10-08     1000\n",
       "2         1000_2   2018-08-04     1000\n",
       "3         1000_3   2018-06-16     1000\n",
       "4         1000_4   2018-12-05     1000\n",
       "...          ...          ...      ...\n",
       "123031  1499_179   2018-12-12     1499\n",
       "123032  1499_180   2018-09-28     1499\n",
       "123033  1499_181   2018-09-27     1499\n",
       "123034  1499_182   2018-11-15     1499\n",
       "123035  1499_183   2018-11-16     1499\n",
       "\n",
       "[123036 rows x 3 columns]"
      ]
     },
     "execution_count": 91,
     "metadata": {},
     "output_type": "execute_result"
    }
   ],
   "source": [
    "messages['message_date'] = pd.to_datetime(messages['message_date'], format='%Y.%m.%d')\n",
    "messages"
   ]
  },
  {
   "cell_type": "code",
   "execution_count": 92,
   "metadata": {
    "scrolled": true
   },
   "outputs": [
    {
     "name": "stdout",
     "output_type": "stream",
     "text": [
      "<class 'pandas.core.frame.DataFrame'>\n",
      "RangeIndex: 2 entries, 0 to 1\n",
      "Data columns (total 8 columns):\n",
      "messages_included        2 non-null int64\n",
      "mb_per_month_included    2 non-null int64\n",
      "minutes_included         2 non-null int64\n",
      "rub_monthly_fee          2 non-null int64\n",
      "rub_per_gb               2 non-null int64\n",
      "rub_per_message          2 non-null int64\n",
      "rub_per_minute           2 non-null int64\n",
      "tariff                   2 non-null object\n",
      "dtypes: int64(7), object(1)\n",
      "memory usage: 256.0+ bytes\n"
     ]
    }
   ],
   "source": [
    "tariffs.info()"
   ]
  },
  {
   "cell_type": "markdown",
   "metadata": {},
   "source": [
    "Поскольку нам потребуется информация, сортированная по месяцам, можно сразу сменить формат данных в колонках с датой во всех датасетах. По каждому датасету провожу преобразования в формат int и datetime"
   ]
  },
  {
   "cell_type": "code",
   "execution_count": 93,
   "metadata": {},
   "outputs": [
    {
     "data": {
      "text/html": [
       "<div>\n",
       "<style scoped>\n",
       "    .dataframe tbody tr th:only-of-type {\n",
       "        vertical-align: middle;\n",
       "    }\n",
       "\n",
       "    .dataframe tbody tr th {\n",
       "        vertical-align: top;\n",
       "    }\n",
       "\n",
       "    .dataframe thead th {\n",
       "        text-align: right;\n",
       "    }\n",
       "</style>\n",
       "<table border=\"1\" class=\"dataframe\">\n",
       "  <thead>\n",
       "    <tr style=\"text-align: right;\">\n",
       "      <th></th>\n",
       "      <th>user_id</th>\n",
       "      <th>month</th>\n",
       "      <th>duration</th>\n",
       "    </tr>\n",
       "  </thead>\n",
       "  <tbody>\n",
       "    <tr>\n",
       "      <td>0</td>\n",
       "      <td>1000</td>\n",
       "      <td>5</td>\n",
       "      <td>149.00</td>\n",
       "    </tr>\n",
       "    <tr>\n",
       "      <td>1</td>\n",
       "      <td>1000</td>\n",
       "      <td>6</td>\n",
       "      <td>159.00</td>\n",
       "    </tr>\n",
       "    <tr>\n",
       "      <td>2</td>\n",
       "      <td>1000</td>\n",
       "      <td>7</td>\n",
       "      <td>319.00</td>\n",
       "    </tr>\n",
       "    <tr>\n",
       "      <td>3</td>\n",
       "      <td>1000</td>\n",
       "      <td>8</td>\n",
       "      <td>391.00</td>\n",
       "    </tr>\n",
       "    <tr>\n",
       "      <td>4</td>\n",
       "      <td>1000</td>\n",
       "      <td>9</td>\n",
       "      <td>439.00</td>\n",
       "    </tr>\n",
       "    <tr>\n",
       "      <td>...</td>\n",
       "      <td>...</td>\n",
       "      <td>...</td>\n",
       "      <td>...</td>\n",
       "    </tr>\n",
       "    <tr>\n",
       "      <td>3169</td>\n",
       "      <td>1498</td>\n",
       "      <td>10</td>\n",
       "      <td>230.00</td>\n",
       "    </tr>\n",
       "    <tr>\n",
       "      <td>3170</td>\n",
       "      <td>1499</td>\n",
       "      <td>9</td>\n",
       "      <td>64.00</td>\n",
       "    </tr>\n",
       "    <tr>\n",
       "      <td>3171</td>\n",
       "      <td>1499</td>\n",
       "      <td>10</td>\n",
       "      <td>429.00</td>\n",
       "    </tr>\n",
       "    <tr>\n",
       "      <td>3172</td>\n",
       "      <td>1499</td>\n",
       "      <td>11</td>\n",
       "      <td>574.00</td>\n",
       "    </tr>\n",
       "    <tr>\n",
       "      <td>3173</td>\n",
       "      <td>1499</td>\n",
       "      <td>12</td>\n",
       "      <td>467.00</td>\n",
       "    </tr>\n",
       "  </tbody>\n",
       "</table>\n",
       "<p>3174 rows × 3 columns</p>\n",
       "</div>"
      ],
      "text/plain": [
       "      user_id  month  duration\n",
       "0        1000      5    149.00\n",
       "1        1000      6    159.00\n",
       "2        1000      7    319.00\n",
       "3        1000      8    391.00\n",
       "4        1000      9    439.00\n",
       "...       ...    ...       ...\n",
       "3169     1498     10    230.00\n",
       "3170     1499      9     64.00\n",
       "3171     1499     10    429.00\n",
       "3172     1499     11    574.00\n",
       "3173     1499     12    467.00\n",
       "\n",
       "[3174 rows x 3 columns]"
      ]
     },
     "execution_count": 93,
     "metadata": {},
     "output_type": "execute_result"
    }
   ],
   "source": [
    "calls['month'] = calls['call_date'].dt.month\n",
    "calls = calls.groupby(['user_id', 'month']).agg({'duration': 'sum'}).reset_index()\n",
    "calls['duration'] = np.ceil(calls['duration'])\n",
    "calls"
   ]
  },
  {
   "cell_type": "code",
   "execution_count": 94,
   "metadata": {},
   "outputs": [
    {
     "data": {
      "text/html": [
       "<div>\n",
       "<style scoped>\n",
       "    .dataframe tbody tr th:only-of-type {\n",
       "        vertical-align: middle;\n",
       "    }\n",
       "\n",
       "    .dataframe tbody tr th {\n",
       "        vertical-align: top;\n",
       "    }\n",
       "\n",
       "    .dataframe thead th {\n",
       "        text-align: right;\n",
       "    }\n",
       "</style>\n",
       "<table border=\"1\" class=\"dataframe\">\n",
       "  <thead>\n",
       "    <tr style=\"text-align: right;\">\n",
       "      <th></th>\n",
       "      <th>user_id</th>\n",
       "      <th>month</th>\n",
       "      <th>message_date</th>\n",
       "    </tr>\n",
       "  </thead>\n",
       "  <tbody>\n",
       "    <tr>\n",
       "      <td>0</td>\n",
       "      <td>1000</td>\n",
       "      <td>5</td>\n",
       "      <td>22</td>\n",
       "    </tr>\n",
       "    <tr>\n",
       "      <td>1</td>\n",
       "      <td>1000</td>\n",
       "      <td>6</td>\n",
       "      <td>60</td>\n",
       "    </tr>\n",
       "    <tr>\n",
       "      <td>2</td>\n",
       "      <td>1000</td>\n",
       "      <td>7</td>\n",
       "      <td>75</td>\n",
       "    </tr>\n",
       "    <tr>\n",
       "      <td>3</td>\n",
       "      <td>1000</td>\n",
       "      <td>8</td>\n",
       "      <td>81</td>\n",
       "    </tr>\n",
       "    <tr>\n",
       "      <td>4</td>\n",
       "      <td>1000</td>\n",
       "      <td>9</td>\n",
       "      <td>57</td>\n",
       "    </tr>\n",
       "    <tr>\n",
       "      <td>...</td>\n",
       "      <td>...</td>\n",
       "      <td>...</td>\n",
       "      <td>...</td>\n",
       "    </tr>\n",
       "    <tr>\n",
       "      <td>2712</td>\n",
       "      <td>1498</td>\n",
       "      <td>10</td>\n",
       "      <td>42</td>\n",
       "    </tr>\n",
       "    <tr>\n",
       "      <td>2713</td>\n",
       "      <td>1499</td>\n",
       "      <td>9</td>\n",
       "      <td>11</td>\n",
       "    </tr>\n",
       "    <tr>\n",
       "      <td>2714</td>\n",
       "      <td>1499</td>\n",
       "      <td>10</td>\n",
       "      <td>48</td>\n",
       "    </tr>\n",
       "    <tr>\n",
       "      <td>2715</td>\n",
       "      <td>1499</td>\n",
       "      <td>11</td>\n",
       "      <td>59</td>\n",
       "    </tr>\n",
       "    <tr>\n",
       "      <td>2716</td>\n",
       "      <td>1499</td>\n",
       "      <td>12</td>\n",
       "      <td>66</td>\n",
       "    </tr>\n",
       "  </tbody>\n",
       "</table>\n",
       "<p>2717 rows × 3 columns</p>\n",
       "</div>"
      ],
      "text/plain": [
       "      user_id  month  message_date\n",
       "0        1000      5            22\n",
       "1        1000      6            60\n",
       "2        1000      7            75\n",
       "3        1000      8            81\n",
       "4        1000      9            57\n",
       "...       ...    ...           ...\n",
       "2712     1498     10            42\n",
       "2713     1499      9            11\n",
       "2714     1499     10            48\n",
       "2715     1499     11            59\n",
       "2716     1499     12            66\n",
       "\n",
       "[2717 rows x 3 columns]"
      ]
     },
     "execution_count": 94,
     "metadata": {},
     "output_type": "execute_result"
    }
   ],
   "source": [
    "messages['month'] = messages['message_date'].dt.month\n",
    "messages = messages.groupby(['user_id', 'month'])['message_date'].count().reset_index()\n",
    "messages"
   ]
  },
  {
   "cell_type": "code",
   "execution_count": 95,
   "metadata": {},
   "outputs": [
    {
     "data": {
      "text/html": [
       "<div>\n",
       "<style scoped>\n",
       "    .dataframe tbody tr th:only-of-type {\n",
       "        vertical-align: middle;\n",
       "    }\n",
       "\n",
       "    .dataframe tbody tr th {\n",
       "        vertical-align: top;\n",
       "    }\n",
       "\n",
       "    .dataframe thead th {\n",
       "        text-align: right;\n",
       "    }\n",
       "</style>\n",
       "<table border=\"1\" class=\"dataframe\">\n",
       "  <thead>\n",
       "    <tr style=\"text-align: right;\">\n",
       "      <th></th>\n",
       "      <th>user_id</th>\n",
       "      <th>month</th>\n",
       "      <th>mb_used</th>\n",
       "    </tr>\n",
       "  </thead>\n",
       "  <tbody>\n",
       "    <tr>\n",
       "      <td>0</td>\n",
       "      <td>1000</td>\n",
       "      <td>5</td>\n",
       "      <td>2253</td>\n",
       "    </tr>\n",
       "    <tr>\n",
       "      <td>1</td>\n",
       "      <td>1000</td>\n",
       "      <td>6</td>\n",
       "      <td>23232</td>\n",
       "    </tr>\n",
       "    <tr>\n",
       "      <td>2</td>\n",
       "      <td>1000</td>\n",
       "      <td>7</td>\n",
       "      <td>14004</td>\n",
       "    </tr>\n",
       "    <tr>\n",
       "      <td>3</td>\n",
       "      <td>1000</td>\n",
       "      <td>8</td>\n",
       "      <td>14054</td>\n",
       "    </tr>\n",
       "    <tr>\n",
       "      <td>4</td>\n",
       "      <td>1000</td>\n",
       "      <td>9</td>\n",
       "      <td>14569</td>\n",
       "    </tr>\n",
       "    <tr>\n",
       "      <td>...</td>\n",
       "      <td>...</td>\n",
       "      <td>...</td>\n",
       "      <td>...</td>\n",
       "    </tr>\n",
       "    <tr>\n",
       "      <td>3198</td>\n",
       "      <td>1498</td>\n",
       "      <td>10</td>\n",
       "      <td>20581</td>\n",
       "    </tr>\n",
       "    <tr>\n",
       "      <td>3199</td>\n",
       "      <td>1499</td>\n",
       "      <td>9</td>\n",
       "      <td>1846</td>\n",
       "    </tr>\n",
       "    <tr>\n",
       "      <td>3200</td>\n",
       "      <td>1499</td>\n",
       "      <td>10</td>\n",
       "      <td>17792</td>\n",
       "    </tr>\n",
       "    <tr>\n",
       "      <td>3201</td>\n",
       "      <td>1499</td>\n",
       "      <td>11</td>\n",
       "      <td>17963</td>\n",
       "    </tr>\n",
       "    <tr>\n",
       "      <td>3202</td>\n",
       "      <td>1499</td>\n",
       "      <td>12</td>\n",
       "      <td>13055</td>\n",
       "    </tr>\n",
       "  </tbody>\n",
       "</table>\n",
       "<p>3203 rows × 3 columns</p>\n",
       "</div>"
      ],
      "text/plain": [
       "      user_id  month  mb_used\n",
       "0        1000      5     2253\n",
       "1        1000      6    23232\n",
       "2        1000      7    14004\n",
       "3        1000      8    14054\n",
       "4        1000      9    14569\n",
       "...       ...    ...      ...\n",
       "3198     1498     10    20581\n",
       "3199     1499      9     1846\n",
       "3200     1499     10    17792\n",
       "3201     1499     11    17963\n",
       "3202     1499     12    13055\n",
       "\n",
       "[3203 rows x 3 columns]"
      ]
     },
     "execution_count": 95,
     "metadata": {},
     "output_type": "execute_result"
    }
   ],
   "source": [
    "internet['month'] = internet['session_date'].dt.month\n",
    "internet = internet.groupby(['user_id', 'month']).agg({'mb_used': 'sum'}).reset_index()\n",
    "internet"
   ]
  },
  {
   "cell_type": "code",
   "execution_count": 96,
   "metadata": {},
   "outputs": [
    {
     "data": {
      "text/html": [
       "<div>\n",
       "<style scoped>\n",
       "    .dataframe tbody tr th:only-of-type {\n",
       "        vertical-align: middle;\n",
       "    }\n",
       "\n",
       "    .dataframe tbody tr th {\n",
       "        vertical-align: top;\n",
       "    }\n",
       "\n",
       "    .dataframe thead th {\n",
       "        text-align: right;\n",
       "    }\n",
       "</style>\n",
       "<table border=\"1\" class=\"dataframe\">\n",
       "  <thead>\n",
       "    <tr style=\"text-align: right;\">\n",
       "      <th></th>\n",
       "      <th>user_id</th>\n",
       "      <th>month</th>\n",
       "      <th>mb_used</th>\n",
       "    </tr>\n",
       "  </thead>\n",
       "  <tbody>\n",
       "    <tr>\n",
       "      <td>0</td>\n",
       "      <td>1000</td>\n",
       "      <td>5</td>\n",
       "      <td>2.20</td>\n",
       "    </tr>\n",
       "    <tr>\n",
       "      <td>1</td>\n",
       "      <td>1000</td>\n",
       "      <td>6</td>\n",
       "      <td>22.69</td>\n",
       "    </tr>\n",
       "    <tr>\n",
       "      <td>2</td>\n",
       "      <td>1000</td>\n",
       "      <td>7</td>\n",
       "      <td>13.68</td>\n",
       "    </tr>\n",
       "    <tr>\n",
       "      <td>3</td>\n",
       "      <td>1000</td>\n",
       "      <td>8</td>\n",
       "      <td>13.72</td>\n",
       "    </tr>\n",
       "    <tr>\n",
       "      <td>4</td>\n",
       "      <td>1000</td>\n",
       "      <td>9</td>\n",
       "      <td>14.23</td>\n",
       "    </tr>\n",
       "    <tr>\n",
       "      <td>...</td>\n",
       "      <td>...</td>\n",
       "      <td>...</td>\n",
       "      <td>...</td>\n",
       "    </tr>\n",
       "    <tr>\n",
       "      <td>3198</td>\n",
       "      <td>1498</td>\n",
       "      <td>10</td>\n",
       "      <td>20.10</td>\n",
       "    </tr>\n",
       "    <tr>\n",
       "      <td>3199</td>\n",
       "      <td>1499</td>\n",
       "      <td>9</td>\n",
       "      <td>1.80</td>\n",
       "    </tr>\n",
       "    <tr>\n",
       "      <td>3200</td>\n",
       "      <td>1499</td>\n",
       "      <td>10</td>\n",
       "      <td>17.38</td>\n",
       "    </tr>\n",
       "    <tr>\n",
       "      <td>3201</td>\n",
       "      <td>1499</td>\n",
       "      <td>11</td>\n",
       "      <td>17.54</td>\n",
       "    </tr>\n",
       "    <tr>\n",
       "      <td>3202</td>\n",
       "      <td>1499</td>\n",
       "      <td>12</td>\n",
       "      <td>12.75</td>\n",
       "    </tr>\n",
       "  </tbody>\n",
       "</table>\n",
       "<p>3203 rows × 3 columns</p>\n",
       "</div>"
      ],
      "text/plain": [
       "      user_id  month  mb_used\n",
       "0        1000      5     2.20\n",
       "1        1000      6    22.69\n",
       "2        1000      7    13.68\n",
       "3        1000      8    13.72\n",
       "4        1000      9    14.23\n",
       "...       ...    ...      ...\n",
       "3198     1498     10    20.10\n",
       "3199     1499      9     1.80\n",
       "3200     1499     10    17.38\n",
       "3201     1499     11    17.54\n",
       "3202     1499     12    12.75\n",
       "\n",
       "[3203 rows x 3 columns]"
      ]
     },
     "execution_count": 96,
     "metadata": {},
     "output_type": "execute_result"
    }
   ],
   "source": [
    "internet['mb_used'] = internet['mb_used'] / 1024\n",
    "internet"
   ]
  },
  {
   "cell_type": "code",
   "execution_count": 97,
   "metadata": {
    "scrolled": true
   },
   "outputs": [
    {
     "data": {
      "text/html": [
       "<div>\n",
       "<style scoped>\n",
       "    .dataframe tbody tr th:only-of-type {\n",
       "        vertical-align: middle;\n",
       "    }\n",
       "\n",
       "    .dataframe tbody tr th {\n",
       "        vertical-align: top;\n",
       "    }\n",
       "\n",
       "    .dataframe thead th {\n",
       "        text-align: right;\n",
       "    }\n",
       "</style>\n",
       "<table border=\"1\" class=\"dataframe\">\n",
       "  <thead>\n",
       "    <tr style=\"text-align: right;\">\n",
       "      <th></th>\n",
       "      <th>user_id</th>\n",
       "      <th>month</th>\n",
       "      <th>mb_used</th>\n",
       "    </tr>\n",
       "  </thead>\n",
       "  <tbody>\n",
       "    <tr>\n",
       "      <td>0</td>\n",
       "      <td>1000</td>\n",
       "      <td>5</td>\n",
       "      <td>3</td>\n",
       "    </tr>\n",
       "    <tr>\n",
       "      <td>1</td>\n",
       "      <td>1000</td>\n",
       "      <td>6</td>\n",
       "      <td>23</td>\n",
       "    </tr>\n",
       "    <tr>\n",
       "      <td>2</td>\n",
       "      <td>1000</td>\n",
       "      <td>7</td>\n",
       "      <td>14</td>\n",
       "    </tr>\n",
       "    <tr>\n",
       "      <td>3</td>\n",
       "      <td>1000</td>\n",
       "      <td>8</td>\n",
       "      <td>14</td>\n",
       "    </tr>\n",
       "    <tr>\n",
       "      <td>4</td>\n",
       "      <td>1000</td>\n",
       "      <td>9</td>\n",
       "      <td>15</td>\n",
       "    </tr>\n",
       "    <tr>\n",
       "      <td>...</td>\n",
       "      <td>...</td>\n",
       "      <td>...</td>\n",
       "      <td>...</td>\n",
       "    </tr>\n",
       "    <tr>\n",
       "      <td>3198</td>\n",
       "      <td>1498</td>\n",
       "      <td>10</td>\n",
       "      <td>21</td>\n",
       "    </tr>\n",
       "    <tr>\n",
       "      <td>3199</td>\n",
       "      <td>1499</td>\n",
       "      <td>9</td>\n",
       "      <td>2</td>\n",
       "    </tr>\n",
       "    <tr>\n",
       "      <td>3200</td>\n",
       "      <td>1499</td>\n",
       "      <td>10</td>\n",
       "      <td>18</td>\n",
       "    </tr>\n",
       "    <tr>\n",
       "      <td>3201</td>\n",
       "      <td>1499</td>\n",
       "      <td>11</td>\n",
       "      <td>18</td>\n",
       "    </tr>\n",
       "    <tr>\n",
       "      <td>3202</td>\n",
       "      <td>1499</td>\n",
       "      <td>12</td>\n",
       "      <td>13</td>\n",
       "    </tr>\n",
       "  </tbody>\n",
       "</table>\n",
       "<p>3203 rows × 3 columns</p>\n",
       "</div>"
      ],
      "text/plain": [
       "      user_id  month  mb_used\n",
       "0        1000      5        3\n",
       "1        1000      6       23\n",
       "2        1000      7       14\n",
       "3        1000      8       14\n",
       "4        1000      9       15\n",
       "...       ...    ...      ...\n",
       "3198     1498     10       21\n",
       "3199     1499      9        2\n",
       "3200     1499     10       18\n",
       "3201     1499     11       18\n",
       "3202     1499     12       13\n",
       "\n",
       "[3203 rows x 3 columns]"
      ]
     },
     "execution_count": 97,
     "metadata": {},
     "output_type": "execute_result"
    }
   ],
   "source": [
    "internet['mb_used'] = internet['mb_used'].apply(np.ceil)\n",
    "internet['mb_used'] = internet['mb_used'].astype('int')\n",
    "internet"
   ]
  },
  {
   "cell_type": "code",
   "execution_count": 98,
   "metadata": {
    "scrolled": true
   },
   "outputs": [
    {
     "data": {
      "text/html": [
       "<div>\n",
       "<style scoped>\n",
       "    .dataframe tbody tr th:only-of-type {\n",
       "        vertical-align: middle;\n",
       "    }\n",
       "\n",
       "    .dataframe tbody tr th {\n",
       "        vertical-align: top;\n",
       "    }\n",
       "\n",
       "    .dataframe thead th {\n",
       "        text-align: right;\n",
       "    }\n",
       "</style>\n",
       "<table border=\"1\" class=\"dataframe\">\n",
       "  <thead>\n",
       "    <tr style=\"text-align: right;\">\n",
       "      <th></th>\n",
       "      <th>messages_included</th>\n",
       "      <th>mb_per_month_included</th>\n",
       "      <th>minutes_included</th>\n",
       "      <th>rub_monthly_fee</th>\n",
       "      <th>rub_per_gb</th>\n",
       "      <th>rub_per_message</th>\n",
       "      <th>rub_per_minute</th>\n",
       "      <th>tariff</th>\n",
       "    </tr>\n",
       "  </thead>\n",
       "  <tbody>\n",
       "    <tr>\n",
       "      <td>0</td>\n",
       "      <td>50</td>\n",
       "      <td>15360</td>\n",
       "      <td>500</td>\n",
       "      <td>550</td>\n",
       "      <td>200</td>\n",
       "      <td>3</td>\n",
       "      <td>3</td>\n",
       "      <td>smart</td>\n",
       "    </tr>\n",
       "    <tr>\n",
       "      <td>1</td>\n",
       "      <td>1000</td>\n",
       "      <td>30720</td>\n",
       "      <td>3000</td>\n",
       "      <td>1950</td>\n",
       "      <td>150</td>\n",
       "      <td>1</td>\n",
       "      <td>1</td>\n",
       "      <td>ultra</td>\n",
       "    </tr>\n",
       "  </tbody>\n",
       "</table>\n",
       "</div>"
      ],
      "text/plain": [
       "   messages_included  mb_per_month_included  minutes_included  \\\n",
       "0                 50                  15360               500   \n",
       "1               1000                  30720              3000   \n",
       "\n",
       "   rub_monthly_fee  rub_per_gb  rub_per_message  rub_per_minute tariff  \n",
       "0              550         200                3               3  smart  \n",
       "1             1950         150                1               1  ultra  "
      ]
     },
     "execution_count": 98,
     "metadata": {},
     "output_type": "execute_result"
    }
   ],
   "source": [
    "tariffs"
   ]
  },
  {
   "cell_type": "markdown",
   "metadata": {},
   "source": [
    "Объединяем таблицы"
   ]
  },
  {
   "cell_type": "code",
   "execution_count": 99,
   "metadata": {},
   "outputs": [
    {
     "data": {
      "text/html": [
       "<div>\n",
       "<style scoped>\n",
       "    .dataframe tbody tr th:only-of-type {\n",
       "        vertical-align: middle;\n",
       "    }\n",
       "\n",
       "    .dataframe tbody tr th {\n",
       "        vertical-align: top;\n",
       "    }\n",
       "\n",
       "    .dataframe thead th {\n",
       "        text-align: right;\n",
       "    }\n",
       "</style>\n",
       "<table border=\"1\" class=\"dataframe\">\n",
       "  <thead>\n",
       "    <tr style=\"text-align: right;\">\n",
       "      <th></th>\n",
       "      <th>user_id</th>\n",
       "      <th>age</th>\n",
       "      <th>churn_date</th>\n",
       "      <th>city</th>\n",
       "      <th>first_name</th>\n",
       "      <th>last_name</th>\n",
       "      <th>reg_date</th>\n",
       "      <th>tariff</th>\n",
       "      <th>month</th>\n",
       "      <th>mb_used</th>\n",
       "      <th>duration</th>\n",
       "      <th>message_date</th>\n",
       "      <th>messages_included</th>\n",
       "      <th>mb_per_month_included</th>\n",
       "      <th>minutes_included</th>\n",
       "      <th>rub_monthly_fee</th>\n",
       "      <th>rub_per_gb</th>\n",
       "      <th>rub_per_message</th>\n",
       "      <th>rub_per_minute</th>\n",
       "    </tr>\n",
       "  </thead>\n",
       "  <tbody>\n",
       "    <tr>\n",
       "      <td>0</td>\n",
       "      <td>1000</td>\n",
       "      <td>52</td>\n",
       "      <td>NaT</td>\n",
       "      <td>Краснодар</td>\n",
       "      <td>Рафаил</td>\n",
       "      <td>Верещагин</td>\n",
       "      <td>2018-05-25</td>\n",
       "      <td>ultra</td>\n",
       "      <td>5.00</td>\n",
       "      <td>3.00</td>\n",
       "      <td>149.00</td>\n",
       "      <td>22.00</td>\n",
       "      <td>1000</td>\n",
       "      <td>30720</td>\n",
       "      <td>3000</td>\n",
       "      <td>1950</td>\n",
       "      <td>150</td>\n",
       "      <td>1</td>\n",
       "      <td>1</td>\n",
       "    </tr>\n",
       "    <tr>\n",
       "      <td>1</td>\n",
       "      <td>1000</td>\n",
       "      <td>52</td>\n",
       "      <td>NaT</td>\n",
       "      <td>Краснодар</td>\n",
       "      <td>Рафаил</td>\n",
       "      <td>Верещагин</td>\n",
       "      <td>2018-05-25</td>\n",
       "      <td>ultra</td>\n",
       "      <td>6.00</td>\n",
       "      <td>23.00</td>\n",
       "      <td>159.00</td>\n",
       "      <td>60.00</td>\n",
       "      <td>1000</td>\n",
       "      <td>30720</td>\n",
       "      <td>3000</td>\n",
       "      <td>1950</td>\n",
       "      <td>150</td>\n",
       "      <td>1</td>\n",
       "      <td>1</td>\n",
       "    </tr>\n",
       "    <tr>\n",
       "      <td>2</td>\n",
       "      <td>1000</td>\n",
       "      <td>52</td>\n",
       "      <td>NaT</td>\n",
       "      <td>Краснодар</td>\n",
       "      <td>Рафаил</td>\n",
       "      <td>Верещагин</td>\n",
       "      <td>2018-05-25</td>\n",
       "      <td>ultra</td>\n",
       "      <td>7.00</td>\n",
       "      <td>14.00</td>\n",
       "      <td>319.00</td>\n",
       "      <td>75.00</td>\n",
       "      <td>1000</td>\n",
       "      <td>30720</td>\n",
       "      <td>3000</td>\n",
       "      <td>1950</td>\n",
       "      <td>150</td>\n",
       "      <td>1</td>\n",
       "      <td>1</td>\n",
       "    </tr>\n",
       "    <tr>\n",
       "      <td>3</td>\n",
       "      <td>1000</td>\n",
       "      <td>52</td>\n",
       "      <td>NaT</td>\n",
       "      <td>Краснодар</td>\n",
       "      <td>Рафаил</td>\n",
       "      <td>Верещагин</td>\n",
       "      <td>2018-05-25</td>\n",
       "      <td>ultra</td>\n",
       "      <td>8.00</td>\n",
       "      <td>14.00</td>\n",
       "      <td>391.00</td>\n",
       "      <td>81.00</td>\n",
       "      <td>1000</td>\n",
       "      <td>30720</td>\n",
       "      <td>3000</td>\n",
       "      <td>1950</td>\n",
       "      <td>150</td>\n",
       "      <td>1</td>\n",
       "      <td>1</td>\n",
       "    </tr>\n",
       "    <tr>\n",
       "      <td>4</td>\n",
       "      <td>1000</td>\n",
       "      <td>52</td>\n",
       "      <td>NaT</td>\n",
       "      <td>Краснодар</td>\n",
       "      <td>Рафаил</td>\n",
       "      <td>Верещагин</td>\n",
       "      <td>2018-05-25</td>\n",
       "      <td>ultra</td>\n",
       "      <td>9.00</td>\n",
       "      <td>15.00</td>\n",
       "      <td>439.00</td>\n",
       "      <td>57.00</td>\n",
       "      <td>1000</td>\n",
       "      <td>30720</td>\n",
       "      <td>3000</td>\n",
       "      <td>1950</td>\n",
       "      <td>150</td>\n",
       "      <td>1</td>\n",
       "      <td>1</td>\n",
       "    </tr>\n",
       "  </tbody>\n",
       "</table>\n",
       "</div>"
      ],
      "text/plain": [
       "   user_id  age churn_date       city first_name  last_name   reg_date tariff  \\\n",
       "0     1000   52        NaT  Краснодар     Рафаил  Верещагин 2018-05-25  ultra   \n",
       "1     1000   52        NaT  Краснодар     Рафаил  Верещагин 2018-05-25  ultra   \n",
       "2     1000   52        NaT  Краснодар     Рафаил  Верещагин 2018-05-25  ultra   \n",
       "3     1000   52        NaT  Краснодар     Рафаил  Верещагин 2018-05-25  ultra   \n",
       "4     1000   52        NaT  Краснодар     Рафаил  Верещагин 2018-05-25  ultra   \n",
       "\n",
       "   month  mb_used  duration  message_date  messages_included  \\\n",
       "0   5.00     3.00    149.00         22.00               1000   \n",
       "1   6.00    23.00    159.00         60.00               1000   \n",
       "2   7.00    14.00    319.00         75.00               1000   \n",
       "3   8.00    14.00    391.00         81.00               1000   \n",
       "4   9.00    15.00    439.00         57.00               1000   \n",
       "\n",
       "   mb_per_month_included  minutes_included  rub_monthly_fee  rub_per_gb  \\\n",
       "0                  30720              3000             1950         150   \n",
       "1                  30720              3000             1950         150   \n",
       "2                  30720              3000             1950         150   \n",
       "3                  30720              3000             1950         150   \n",
       "4                  30720              3000             1950         150   \n",
       "\n",
       "   rub_per_message  rub_per_minute  \n",
       "0                1               1  \n",
       "1                1               1  \n",
       "2                1               1  \n",
       "3                1               1  \n",
       "4                1               1  "
      ]
     },
     "execution_count": 99,
     "metadata": {},
     "output_type": "execute_result"
    }
   ],
   "source": [
    "calls = calls.merge(messages, on=['user_id', 'month'], how='outer')\n",
    "full = internet.merge(calls, on=['user_id', 'month'], how='outer')\n",
    "data = data.merge(full, on=['user_id'], how='outer')\n",
    "data_full = data.merge(tariffs, on=['tariff'], how='outer')\n",
    "data_full.head()"
   ]
  },
  {
   "cell_type": "code",
   "execution_count": 100,
   "metadata": {},
   "outputs": [
    {
     "data": {
      "text/html": [
       "<div>\n",
       "<style scoped>\n",
       "    .dataframe tbody tr th:only-of-type {\n",
       "        vertical-align: middle;\n",
       "    }\n",
       "\n",
       "    .dataframe tbody tr th {\n",
       "        vertical-align: top;\n",
       "    }\n",
       "\n",
       "    .dataframe thead th {\n",
       "        text-align: right;\n",
       "    }\n",
       "</style>\n",
       "<table border=\"1\" class=\"dataframe\">\n",
       "  <thead>\n",
       "    <tr style=\"text-align: right;\">\n",
       "      <th></th>\n",
       "      <th>user_id</th>\n",
       "      <th>age</th>\n",
       "      <th>churn_date</th>\n",
       "      <th>city</th>\n",
       "      <th>first_name</th>\n",
       "      <th>last_name</th>\n",
       "      <th>reg_date</th>\n",
       "      <th>tariff</th>\n",
       "      <th>month</th>\n",
       "      <th>gb_used</th>\n",
       "      <th>duration</th>\n",
       "      <th>messages</th>\n",
       "      <th>messages_included</th>\n",
       "      <th>gb_per_month_included</th>\n",
       "      <th>minutes_included</th>\n",
       "      <th>rub_monthly_fee</th>\n",
       "      <th>rub_per_gb</th>\n",
       "      <th>rub_per_message</th>\n",
       "      <th>rub_per_minute</th>\n",
       "    </tr>\n",
       "  </thead>\n",
       "  <tbody>\n",
       "    <tr>\n",
       "      <td>0</td>\n",
       "      <td>1000</td>\n",
       "      <td>52</td>\n",
       "      <td>NaT</td>\n",
       "      <td>Краснодар</td>\n",
       "      <td>Рафаил</td>\n",
       "      <td>Верещагин</td>\n",
       "      <td>2018-05-25</td>\n",
       "      <td>ultra</td>\n",
       "      <td>5.00</td>\n",
       "      <td>3.00</td>\n",
       "      <td>149.00</td>\n",
       "      <td>22.00</td>\n",
       "      <td>1000</td>\n",
       "      <td>30.00</td>\n",
       "      <td>3000</td>\n",
       "      <td>1950</td>\n",
       "      <td>150</td>\n",
       "      <td>1</td>\n",
       "      <td>1</td>\n",
       "    </tr>\n",
       "    <tr>\n",
       "      <td>1</td>\n",
       "      <td>1000</td>\n",
       "      <td>52</td>\n",
       "      <td>NaT</td>\n",
       "      <td>Краснодар</td>\n",
       "      <td>Рафаил</td>\n",
       "      <td>Верещагин</td>\n",
       "      <td>2018-05-25</td>\n",
       "      <td>ultra</td>\n",
       "      <td>6.00</td>\n",
       "      <td>23.00</td>\n",
       "      <td>159.00</td>\n",
       "      <td>60.00</td>\n",
       "      <td>1000</td>\n",
       "      <td>30.00</td>\n",
       "      <td>3000</td>\n",
       "      <td>1950</td>\n",
       "      <td>150</td>\n",
       "      <td>1</td>\n",
       "      <td>1</td>\n",
       "    </tr>\n",
       "    <tr>\n",
       "      <td>2</td>\n",
       "      <td>1000</td>\n",
       "      <td>52</td>\n",
       "      <td>NaT</td>\n",
       "      <td>Краснодар</td>\n",
       "      <td>Рафаил</td>\n",
       "      <td>Верещагин</td>\n",
       "      <td>2018-05-25</td>\n",
       "      <td>ultra</td>\n",
       "      <td>7.00</td>\n",
       "      <td>14.00</td>\n",
       "      <td>319.00</td>\n",
       "      <td>75.00</td>\n",
       "      <td>1000</td>\n",
       "      <td>30.00</td>\n",
       "      <td>3000</td>\n",
       "      <td>1950</td>\n",
       "      <td>150</td>\n",
       "      <td>1</td>\n",
       "      <td>1</td>\n",
       "    </tr>\n",
       "    <tr>\n",
       "      <td>3</td>\n",
       "      <td>1000</td>\n",
       "      <td>52</td>\n",
       "      <td>NaT</td>\n",
       "      <td>Краснодар</td>\n",
       "      <td>Рафаил</td>\n",
       "      <td>Верещагин</td>\n",
       "      <td>2018-05-25</td>\n",
       "      <td>ultra</td>\n",
       "      <td>8.00</td>\n",
       "      <td>14.00</td>\n",
       "      <td>391.00</td>\n",
       "      <td>81.00</td>\n",
       "      <td>1000</td>\n",
       "      <td>30.00</td>\n",
       "      <td>3000</td>\n",
       "      <td>1950</td>\n",
       "      <td>150</td>\n",
       "      <td>1</td>\n",
       "      <td>1</td>\n",
       "    </tr>\n",
       "    <tr>\n",
       "      <td>4</td>\n",
       "      <td>1000</td>\n",
       "      <td>52</td>\n",
       "      <td>NaT</td>\n",
       "      <td>Краснодар</td>\n",
       "      <td>Рафаил</td>\n",
       "      <td>Верещагин</td>\n",
       "      <td>2018-05-25</td>\n",
       "      <td>ultra</td>\n",
       "      <td>9.00</td>\n",
       "      <td>15.00</td>\n",
       "      <td>439.00</td>\n",
       "      <td>57.00</td>\n",
       "      <td>1000</td>\n",
       "      <td>30.00</td>\n",
       "      <td>3000</td>\n",
       "      <td>1950</td>\n",
       "      <td>150</td>\n",
       "      <td>1</td>\n",
       "      <td>1</td>\n",
       "    </tr>\n",
       "  </tbody>\n",
       "</table>\n",
       "</div>"
      ],
      "text/plain": [
       "   user_id  age churn_date       city first_name  last_name   reg_date tariff  \\\n",
       "0     1000   52        NaT  Краснодар     Рафаил  Верещагин 2018-05-25  ultra   \n",
       "1     1000   52        NaT  Краснодар     Рафаил  Верещагин 2018-05-25  ultra   \n",
       "2     1000   52        NaT  Краснодар     Рафаил  Верещагин 2018-05-25  ultra   \n",
       "3     1000   52        NaT  Краснодар     Рафаил  Верещагин 2018-05-25  ultra   \n",
       "4     1000   52        NaT  Краснодар     Рафаил  Верещагин 2018-05-25  ultra   \n",
       "\n",
       "   month  gb_used  duration  messages  messages_included  \\\n",
       "0   5.00     3.00    149.00     22.00               1000   \n",
       "1   6.00    23.00    159.00     60.00               1000   \n",
       "2   7.00    14.00    319.00     75.00               1000   \n",
       "3   8.00    14.00    391.00     81.00               1000   \n",
       "4   9.00    15.00    439.00     57.00               1000   \n",
       "\n",
       "   gb_per_month_included  minutes_included  rub_monthly_fee  rub_per_gb  \\\n",
       "0                  30.00              3000             1950         150   \n",
       "1                  30.00              3000             1950         150   \n",
       "2                  30.00              3000             1950         150   \n",
       "3                  30.00              3000             1950         150   \n",
       "4                  30.00              3000             1950         150   \n",
       "\n",
       "   rub_per_message  rub_per_minute  \n",
       "0                1               1  \n",
       "1                1               1  \n",
       "2                1               1  \n",
       "3                1               1  \n",
       "4                1               1  "
      ]
     },
     "execution_count": 100,
     "metadata": {},
     "output_type": "execute_result"
    }
   ],
   "source": [
    "data_full = data_full.rename(columns={'message_date': 'messages'})\n",
    "data_full = data_full.rename(columns={'mb_used': 'gb_used'})\n",
    "data_full['mb_per_month_included'] = data_full['mb_per_month_included'] / 1024\n",
    "data_full = data_full.rename(columns={'mb_per_month_included': 'gb_per_month_included'})\n",
    "data_full.head()"
   ]
  },
  {
   "cell_type": "code",
   "execution_count": 101,
   "metadata": {},
   "outputs": [
    {
     "data": {
      "text/plain": [
       "(3216, 19)"
      ]
     },
     "execution_count": 101,
     "metadata": {},
     "output_type": "execute_result"
    }
   ],
   "source": [
    "data_full.shape"
   ]
  },
  {
   "cell_type": "code",
   "execution_count": 102,
   "metadata": {},
   "outputs": [
    {
     "data": {
      "text/plain": [
       "500"
      ]
     },
     "execution_count": 102,
     "metadata": {},
     "output_type": "execute_result"
    }
   ],
   "source": [
    "data_full.user_id.nunique()"
   ]
  },
  {
   "cell_type": "markdown",
   "metadata": {},
   "source": [
    "Все таблицы присоединили, ни один клиент не потерялся"
   ]
  },
  {
   "cell_type": "code",
   "execution_count": 103,
   "metadata": {
    "scrolled": true
   },
   "outputs": [
    {
     "name": "stdout",
     "output_type": "stream",
     "text": [
      "<class 'pandas.core.frame.DataFrame'>\n",
      "Int64Index: 3216 entries, 0 to 3215\n",
      "Data columns (total 19 columns):\n",
      "user_id                  3216 non-null int64\n",
      "age                      3216 non-null int64\n",
      "churn_date               189 non-null datetime64[ns]\n",
      "city                     3216 non-null object\n",
      "first_name               3216 non-null object\n",
      "last_name                3216 non-null object\n",
      "reg_date                 3216 non-null datetime64[ns]\n",
      "tariff                   3216 non-null object\n",
      "month                    3214 non-null float64\n",
      "gb_used                  3216 non-null float64\n",
      "duration                 3216 non-null float64\n",
      "messages                 3216 non-null float64\n",
      "messages_included        3216 non-null int64\n",
      "gb_per_month_included    3216 non-null float64\n",
      "minutes_included         3216 non-null int64\n",
      "rub_monthly_fee          3216 non-null int64\n",
      "rub_per_gb               3216 non-null int64\n",
      "rub_per_message          3216 non-null int64\n",
      "rub_per_minute           3216 non-null int64\n",
      "dtypes: datetime64[ns](2), float64(5), int64(8), object(4)\n",
      "memory usage: 502.5+ KB\n"
     ]
    }
   ],
   "source": [
    "data_full['gb_used'] = data_full['gb_used'].fillna(0)\n",
    "data_full['duration'] = data_full['duration'].fillna(0)\n",
    "data_full['messages'] = data_full['messages'].fillna(0)\n",
    "data_full.info()\n",
    "\n",
    "#columns = ['gb_used', 'duration', 'messages'] В цикле можно еще сделать\n",
    "#for i in columns:\n",
    "#    df[i] = df[i].fillna(0)"
   ]
  },
  {
   "cell_type": "code",
   "execution_count": 104,
   "metadata": {},
   "outputs": [
    {
     "name": "stdout",
     "output_type": "stream",
     "text": [
      "<class 'pandas.core.frame.DataFrame'>\n",
      "Int64Index: 3216 entries, 0 to 3215\n",
      "Data columns (total 23 columns):\n",
      "user_id                  3216 non-null int64\n",
      "age                      3216 non-null int64\n",
      "churn_date               189 non-null datetime64[ns]\n",
      "city                     3216 non-null object\n",
      "first_name               3216 non-null object\n",
      "last_name                3216 non-null object\n",
      "reg_date                 3216 non-null datetime64[ns]\n",
      "tariff                   3216 non-null object\n",
      "month                    3214 non-null float64\n",
      "gb_used                  3216 non-null float64\n",
      "duration                 3216 non-null float64\n",
      "messages                 3216 non-null float64\n",
      "messages_included        3216 non-null int64\n",
      "gb_per_month_included    3216 non-null float64\n",
      "minutes_included         3216 non-null int64\n",
      "rub_monthly_fee          3216 non-null int64\n",
      "rub_per_gb               3216 non-null int64\n",
      "rub_per_message          3216 non-null int64\n",
      "rub_per_minute           3216 non-null int64\n",
      "gb_used_over             3216 non-null int64\n",
      "minutes_over             3216 non-null int64\n",
      "messages_over            3216 non-null int64\n",
      "fee                      3216 non-null int64\n",
      "dtypes: datetime64[ns](2), float64(5), int64(12), object(4)\n",
      "memory usage: 603.0+ KB\n"
     ]
    }
   ],
   "source": [
    "data_full['gb_used_over'] = (data_full['gb_used'] - data_full['gb_per_month_included']) * data_full['rub_per_gb']\n",
    "data_full['gb_used_over'] = data_full['gb_used_over'].astype('int')\n",
    "data_full.loc[data_full['gb_used_over'] < 0, 'gb_used_over'] = 0\n",
    "\n",
    "data_full['minutes_over'] = (data_full['duration'] - data_full['minutes_included']) * data_full['rub_per_minute']\n",
    "data_full['minutes_over'] = data_full['minutes_over'].astype('int')\n",
    "data_full.loc[data_full['minutes_over'] < 0, 'minutes_over'] = 0\n",
    "\n",
    "data_full['messages_over'] = (data_full['messages'] - data_full['messages_included']) * data_full['rub_per_message']\n",
    "data_full['messages_over'] = data_full['messages_over'].astype('int')\n",
    "data_full.loc[data_full['messages_over'] < 0, 'messages_over'] = 0\n",
    "\n",
    "data_full['fee'] = data_full['gb_used_over'] + data_full['minutes_over'] + data_full['messages_over'] + data_full['rub_monthly_fee']\n",
    "data_full.info()"
   ]
  },
  {
   "cell_type": "markdown",
   "metadata": {},
   "source": [
    "Необходимо провести работу с датасетами, сгруппировать данные по пользователю и месяцу. Номер месяца вынести в отдельную колонку для облегчения работы с информацией. Потом склеим датасеты. Получил полный датасет со всей необходимой информацией. Перевел мегабайты в гигабайты. Пропуски в датасете решил заменить на \"0\". Считаем выручку с каждого клиента за месяц."
   ]
  },
  {
   "cell_type": "code",
   "execution_count": 105,
   "metadata": {},
   "outputs": [
    {
     "data": {
      "text/plain": [
       "count   3,216.00\n",
       "mean    1,506.02\n",
       "std       792.82\n",
       "min       550.00\n",
       "25%       735.25\n",
       "50%     1,566.50\n",
       "75%     1,950.00\n",
       "max     6,617.00\n",
       "Name: fee, dtype: float64"
      ]
     },
     "execution_count": 105,
     "metadata": {},
     "output_type": "execute_result"
    }
   ],
   "source": [
    "data_full['fee'].describe()"
   ]
  },
  {
   "cell_type": "markdown",
   "metadata": {},
   "source": [
    "# Анализ данных <a id='анализ'></a>"
   ]
  },
  {
   "cell_type": "code",
   "execution_count": 106,
   "metadata": {},
   "outputs": [
    {
     "data": {
      "text/html": [
       "<div>\n",
       "<style scoped>\n",
       "    .dataframe tbody tr th:only-of-type {\n",
       "        vertical-align: middle;\n",
       "    }\n",
       "\n",
       "    .dataframe tbody tr th {\n",
       "        vertical-align: top;\n",
       "    }\n",
       "\n",
       "    .dataframe thead tr th {\n",
       "        text-align: left;\n",
       "    }\n",
       "\n",
       "    .dataframe thead tr:last-of-type th {\n",
       "        text-align: right;\n",
       "    }\n",
       "</style>\n",
       "<table border=\"1\" class=\"dataframe\">\n",
       "  <thead>\n",
       "    <tr>\n",
       "      <th></th>\n",
       "      <th colspan=\"3\" halign=\"left\">duration</th>\n",
       "    </tr>\n",
       "    <tr>\n",
       "      <th></th>\n",
       "      <th>mean</th>\n",
       "      <th>std</th>\n",
       "      <th>var</th>\n",
       "    </tr>\n",
       "    <tr>\n",
       "      <th>tariff</th>\n",
       "      <th></th>\n",
       "      <th></th>\n",
       "      <th></th>\n",
       "    </tr>\n",
       "  </thead>\n",
       "  <tbody>\n",
       "    <tr>\n",
       "      <td>smart</td>\n",
       "      <td>394.09</td>\n",
       "      <td>180.05</td>\n",
       "      <td>32,416.32</td>\n",
       "    </tr>\n",
       "    <tr>\n",
       "      <td>ultra</td>\n",
       "      <td>496.39</td>\n",
       "      <td>299.97</td>\n",
       "      <td>89,982.19</td>\n",
       "    </tr>\n",
       "  </tbody>\n",
       "</table>\n",
       "</div>"
      ],
      "text/plain": [
       "       duration                 \n",
       "           mean    std       var\n",
       "tariff                          \n",
       "smart    394.09 180.05 32,416.32\n",
       "ultra    496.39 299.97 89,982.19"
      ]
     },
     "execution_count": 106,
     "metadata": {},
     "output_type": "execute_result"
    }
   ],
   "source": [
    "data_full.groupby('tariff').agg({'duration': ['mean', 'std', 'var']})"
   ]
  },
  {
   "cell_type": "code",
   "execution_count": 107,
   "metadata": {},
   "outputs": [
    {
     "data": {
      "text/html": [
       "<div>\n",
       "<style scoped>\n",
       "    .dataframe tbody tr th:only-of-type {\n",
       "        vertical-align: middle;\n",
       "    }\n",
       "\n",
       "    .dataframe tbody tr th {\n",
       "        vertical-align: top;\n",
       "    }\n",
       "\n",
       "    .dataframe thead tr th {\n",
       "        text-align: left;\n",
       "    }\n",
       "\n",
       "    .dataframe thead tr:last-of-type th {\n",
       "        text-align: right;\n",
       "    }\n",
       "</style>\n",
       "<table border=\"1\" class=\"dataframe\">\n",
       "  <thead>\n",
       "    <tr>\n",
       "      <th></th>\n",
       "      <th colspan=\"3\" halign=\"left\">messages</th>\n",
       "    </tr>\n",
       "    <tr>\n",
       "      <th></th>\n",
       "      <th>mean</th>\n",
       "      <th>std</th>\n",
       "      <th>var</th>\n",
       "    </tr>\n",
       "    <tr>\n",
       "      <th>tariff</th>\n",
       "      <th></th>\n",
       "      <th></th>\n",
       "      <th></th>\n",
       "    </tr>\n",
       "  </thead>\n",
       "  <tbody>\n",
       "    <tr>\n",
       "      <td>smart</td>\n",
       "      <td>33.37</td>\n",
       "      <td>28.23</td>\n",
       "      <td>796.96</td>\n",
       "    </tr>\n",
       "    <tr>\n",
       "      <td>ultra</td>\n",
       "      <td>49.31</td>\n",
       "      <td>47.81</td>\n",
       "      <td>2,285.42</td>\n",
       "    </tr>\n",
       "  </tbody>\n",
       "</table>\n",
       "</div>"
      ],
      "text/plain": [
       "       messages               \n",
       "           mean   std      var\n",
       "tariff                        \n",
       "smart     33.37 28.23   796.96\n",
       "ultra     49.31 47.81 2,285.42"
      ]
     },
     "execution_count": 107,
     "metadata": {},
     "output_type": "execute_result"
    }
   ],
   "source": [
    "data_full.groupby('tariff').agg({'messages': ['mean', 'std', 'var']})"
   ]
  },
  {
   "cell_type": "code",
   "execution_count": 108,
   "metadata": {},
   "outputs": [
    {
     "data": {
      "text/html": [
       "<div>\n",
       "<style scoped>\n",
       "    .dataframe tbody tr th:only-of-type {\n",
       "        vertical-align: middle;\n",
       "    }\n",
       "\n",
       "    .dataframe tbody tr th {\n",
       "        vertical-align: top;\n",
       "    }\n",
       "\n",
       "    .dataframe thead tr th {\n",
       "        text-align: left;\n",
       "    }\n",
       "\n",
       "    .dataframe thead tr:last-of-type th {\n",
       "        text-align: right;\n",
       "    }\n",
       "</style>\n",
       "<table border=\"1\" class=\"dataframe\">\n",
       "  <thead>\n",
       "    <tr>\n",
       "      <th></th>\n",
       "      <th colspan=\"3\" halign=\"left\">gb_used</th>\n",
       "    </tr>\n",
       "    <tr>\n",
       "      <th></th>\n",
       "      <th>mean</th>\n",
       "      <th>std</th>\n",
       "      <th>var</th>\n",
       "    </tr>\n",
       "    <tr>\n",
       "      <th>tariff</th>\n",
       "      <th></th>\n",
       "      <th></th>\n",
       "      <th></th>\n",
       "    </tr>\n",
       "  </thead>\n",
       "  <tbody>\n",
       "    <tr>\n",
       "      <td>smart</td>\n",
       "      <td>16.32</td>\n",
       "      <td>5.76</td>\n",
       "      <td>33.14</td>\n",
       "    </tr>\n",
       "    <tr>\n",
       "      <td>ultra</td>\n",
       "      <td>19.47</td>\n",
       "      <td>9.87</td>\n",
       "      <td>97.38</td>\n",
       "    </tr>\n",
       "  </tbody>\n",
       "</table>\n",
       "</div>"
      ],
      "text/plain": [
       "       gb_used           \n",
       "          mean  std   var\n",
       "tariff                   \n",
       "smart    16.32 5.76 33.14\n",
       "ultra    19.47 9.87 97.38"
      ]
     },
     "execution_count": 108,
     "metadata": {},
     "output_type": "execute_result"
    }
   ],
   "source": [
    "data_full.groupby('tariff').agg({'gb_used': ['mean', 'std', 'var']})"
   ]
  },
  {
   "cell_type": "code",
   "execution_count": null,
   "metadata": {},
   "outputs": [],
   "source": [
    "# Можно также посчитать через функцию\n",
    "\n",
    "#def val (columns):\n",
    "#    values = data_full.groupby('tariff').agg({columns: ['mean', 'std', 'var']})\n",
    "#    print (values)\n",
    "\n",
    "#columns = ['duration', 'messages', 'gb_used']\n",
    "#for i in columns:\n",
    "#    val(i)"
   ]
  },
  {
   "cell_type": "code",
   "execution_count": 109,
   "metadata": {},
   "outputs": [
    {
     "data": {
      "image/png": "[encoded data removed]",
      "text/plain": [
       "<Figure size 720x360 with 1 Axes>"
      ]
     },
     "metadata": {
      "needs_background": "light"
     },
     "output_type": "display_data"
    },
    {
     "data": {
      "image/png": "[encoded data removed]",
      "text/plain": [
       "<Figure size 720x360 with 1 Axes>"
      ]
     },
     "metadata": {
      "needs_background": "light"
     },
     "output_type": "display_data"
    },
    {
     "data": {
      "image/png": "[encoded data removed]",
      "text/plain": [
       "<Figure size 720x360 with 1 Axes>"
      ]
     },
     "metadata": {
      "needs_background": "light"
     },
     "output_type": "display_data"
    }
   ],
   "source": [
    "for col in ['duration', 'messages', 'gb_used']:\n",
    "    q1 = data_full[col].quantile(0.25)\n",
    "    q3 = data_full[col].quantile(0.75)\n",
    "    iqr = q3 - q1\n",
    "    low = q1 - iqr * 1.5\n",
    "    high = q3 + iqr * 1.5\n",
    "    min_val = data_full[col].min()\n",
    "    max_val = data_full[col].max()\n",
    "    \n",
    "    if min_val >= low:\n",
    "        min = min_val\n",
    "    else:\n",
    "        min = low\n",
    "    if max_val <= high:\n",
    "        max = max_val\n",
    "    else:\n",
    "        max = high\n",
    "    \n",
    "    hist = data_full[col].hist(bins=30, figsize=(10,5), range=(min, max))\n",
    "    hist.set_title(col)\n",
    "    plt.show()"
   ]
  },
  {
   "cell_type": "markdown",
   "metadata": {},
   "source": [
    "Duration - распределение нормальное\n",
    "Messages - распределение Пуассона, датасет с положительной скошенностью\n",
    "gb_used - распределение нормальное"
   ]
  },
  {
   "cell_type": "markdown",
   "metadata": {},
   "source": [
    "# Проверка гипотез <a id='гипотезы'></a>"
   ]
  },
  {
   "cell_type": "markdown",
   "metadata": {},
   "source": [
    "Средняя выручка пользователей тарифов \"Ультра\" и \"Смарт\" различаются\n",
    "Н0 - средняя выручка равна\n",
    "Н1 - средняя выручка различается\n"
   ]
  },
  {
   "cell_type": "code",
   "execution_count": 110,
   "metadata": {},
   "outputs": [
    {
     "name": "stdout",
     "output_type": "stream",
     "text": [
      "p-значение 4.276358940388949e-179\n",
      "Отвергаем нулевую гипотезу\n"
     ]
    }
   ],
   "source": [
    "sample_ultra = data_full[data_full['tariff'] == 'ultra']['fee']\n",
    "sample_smart = data_full[data_full['tariff'] == 'smart']['fee']\n",
    "\n",
    "alpha = 0.05\n",
    "results = st.ttest_ind(sample_ultra, sample_smart)\n",
    "print('p-значение', results.pvalue)\n",
    "if results.pvalue < alpha:\n",
    "    print('Отвергаем нулевую гипотезу')\n",
    "else:\n",
    "    print('Не получилось опровергнуть нулевую гипотезу')"
   ]
  },
  {
   "cell_type": "markdown",
   "metadata": {},
   "source": [
    "Средняя выручка пользователей из Москвы отличается от выручки пользователей из других регионов\n",
    "Н0 - средняя выручка примерно равна\n",
    "Н1 - средняя выручка отличается"
   ]
  },
  {
   "cell_type": "code",
   "execution_count": 111,
   "metadata": {},
   "outputs": [
    {
     "name": "stdout",
     "output_type": "stream",
     "text": [
      "p-значение 0.4802331076608557\n",
      "Не получилось опровергнуть нулевую гипотезу\n"
     ]
    }
   ],
   "source": [
    "sample_msc = data_full[data_full['city'] == 'Москва']['fee']\n",
    "sample_other_cities = data_full[data_full['city'] != 'Москва']['fee']\n",
    "\n",
    "alpha = 0.05\n",
    "results = st.ttest_ind(sample_msc, sample_other_cities)\n",
    "print('p-значение', results.pvalue)\n",
    "if results.pvalue < alpha:\n",
    "    print('Отвергаем нулевую гипотезу')\n",
    "else:\n",
    "    print('Не получилось опровергнуть нулевую гипотезу')"
   ]
  },
  {
   "cell_type": "markdown",
   "metadata": {},
   "source": [
    "В обоих случаях сопоставляем две генеральные совокупности. Уровень значимости задаю стандартный - 5%."
   ]
  },
  {
   "cell_type": "markdown",
   "metadata": {},
   "source": [
    "# Вывод <a id='вывод'></a>"
   ]
  },
  {
   "cell_type": "markdown",
   "metadata": {},
   "source": [
    "Выяснил, что в среднем по тарифу смарт люди тратят примерно 400 минут в месяц и 500 минут для тарифа Ультра. Сообщения: смарт - примерно 34 и ультра - 50. По интернет трафику: смарт - примерно 16 ГБ и ультра - 20 ГБ. Большую выручку оператор получает от владельцев тарифа Смарт, там пользователи часто берут дополнительные пакеты минут, сообщенией, интернета. Исходя из данных видно, что в независимости от места нахождения пользователей, выручка примерно будет равна. "
   ]
  }
 ],
 "metadata": {
  "ExecuteTimeLog": [
   {
    "duration": 1436,
    "start_time": "2021-12-16T17:53:24.384Z"
   },
   {
    "duration": 2072,
    "start_time": "2021-12-16T17:54:27.646Z"
   },
   {
    "duration": 58,
    "start_time": "2021-12-16T17:55:05.590Z"
   },
   {
    "duration": 270,
    "start_time": "2021-12-16T18:01:53.677Z"
   },
   {
    "duration": 439,
    "start_time": "2021-12-16T18:02:28.620Z"
   },
   {
    "duration": 563,
    "start_time": "2021-12-16T18:03:00.562Z"
   },
   {
    "duration": 2524,
    "start_time": "2021-12-16T18:03:26.042Z"
   },
   {
    "duration": 556,
    "start_time": "2021-12-16T18:03:46.430Z"
   },
   {
    "duration": 59,
    "start_time": "2021-12-16T18:06:32.935Z"
   },
   {
    "duration": 17,
    "start_time": "2021-12-16T18:08:23.378Z"
   },
   {
    "duration": 21,
    "start_time": "2021-12-16T18:08:38.182Z"
   },
   {
    "duration": 30,
    "start_time": "2021-12-16T18:13:37.094Z"
   },
   {
    "duration": 14,
    "start_time": "2021-12-16T18:14:53.110Z"
   },
   {
    "duration": 613,
    "start_time": "2021-12-16T18:15:45.978Z"
   },
   {
    "duration": 98,
    "start_time": "2021-12-16T18:16:14.058Z"
   },
   {
    "duration": 25,
    "start_time": "2021-12-16T18:17:02.289Z"
   },
   {
    "duration": 25,
    "start_time": "2021-12-16T18:17:08.587Z"
   },
   {
    "duration": 24,
    "start_time": "2021-12-16T18:17:20.042Z"
   },
   {
    "duration": 4,
    "start_time": "2021-12-16T18:17:29.391Z"
   },
   {
    "duration": 588,
    "start_time": "2021-12-16T18:17:29.406Z"
   },
   {
    "duration": 13,
    "start_time": "2021-12-16T18:17:29.996Z"
   },
   {
    "duration": 32,
    "start_time": "2021-12-16T18:17:30.012Z"
   },
   {
    "duration": 16,
    "start_time": "2021-12-16T18:17:49.776Z"
   },
   {
    "duration": 34,
    "start_time": "2021-12-16T18:19:03.949Z"
   },
   {
    "duration": 17,
    "start_time": "2021-12-16T18:19:20.476Z"
   },
   {
    "duration": 836,
    "start_time": "2021-12-16T18:23:25.384Z"
   },
   {
    "duration": 570,
    "start_time": "2021-12-16T18:23:39.649Z"
   },
   {
    "duration": 797,
    "start_time": "2021-12-16T18:40:03.876Z"
   },
   {
    "duration": 8911,
    "start_time": "2021-12-16T18:41:08.699Z"
   },
   {
    "duration": 10,
    "start_time": "2021-12-16T18:41:36.689Z"
   },
   {
    "duration": 3426,
    "start_time": "2021-12-16T18:42:02.139Z"
   },
   {
    "duration": 4,
    "start_time": "2021-12-16T18:42:13.889Z"
   },
   {
    "duration": 567,
    "start_time": "2021-12-16T18:42:13.896Z"
   },
   {
    "duration": 14,
    "start_time": "2021-12-16T18:42:14.467Z"
   },
   {
    "duration": 28,
    "start_time": "2021-12-16T18:42:14.484Z"
   },
   {
    "duration": 11,
    "start_time": "2021-12-16T18:42:29.904Z"
   },
   {
    "duration": 14,
    "start_time": "2021-12-16T18:43:04.411Z"
   },
   {
    "duration": 20,
    "start_time": "2021-12-16T18:43:57.185Z"
   },
   {
    "duration": 32,
    "start_time": "2021-12-16T18:44:05.308Z"
   },
   {
    "duration": 14,
    "start_time": "2021-12-16T18:44:57.306Z"
   },
   {
    "duration": 29,
    "start_time": "2021-12-16T18:45:40.060Z"
   },
   {
    "duration": 59,
    "start_time": "2021-12-16T18:46:31.721Z"
   },
   {
    "duration": 29,
    "start_time": "2021-12-16T18:47:35.815Z"
   },
   {
    "duration": 23,
    "start_time": "2021-12-16T18:47:45.163Z"
   },
   {
    "duration": 4,
    "start_time": "2021-12-16T18:47:59.691Z"
   },
   {
    "duration": 575,
    "start_time": "2021-12-16T18:47:59.698Z"
   },
   {
    "duration": 13,
    "start_time": "2021-12-16T18:48:00.276Z"
   },
   {
    "duration": 28,
    "start_time": "2021-12-16T18:48:00.292Z"
   },
   {
    "duration": 73,
    "start_time": "2021-12-16T18:48:00.323Z"
   },
   {
    "duration": 326,
    "start_time": "2021-12-16T18:53:46.410Z"
   },
   {
    "duration": 272,
    "start_time": "2021-12-16T18:53:56.581Z"
   },
   {
    "duration": 26,
    "start_time": "2021-12-16T18:56:43.266Z"
   },
   {
    "duration": 37,
    "start_time": "2021-12-16T18:57:05.430Z"
   },
   {
    "duration": 47,
    "start_time": "2021-12-16T18:57:15.376Z"
   },
   {
    "duration": 30,
    "start_time": "2021-12-16T18:57:34.793Z"
   },
   {
    "duration": 7023,
    "start_time": "2021-12-16T18:58:43.365Z"
   },
   {
    "duration": 20,
    "start_time": "2021-12-16T18:59:39.415Z"
   },
   {
    "duration": 50,
    "start_time": "2021-12-16T19:00:04.916Z"
   },
   {
    "duration": 28,
    "start_time": "2021-12-16T19:00:12.242Z"
   },
   {
    "duration": 26,
    "start_time": "2021-12-16T19:01:11.806Z"
   },
   {
    "duration": 5,
    "start_time": "2021-12-16T19:01:30.129Z"
   },
   {
    "duration": 586,
    "start_time": "2021-12-16T19:01:30.138Z"
   },
   {
    "duration": 16,
    "start_time": "2021-12-16T19:01:30.727Z"
   },
   {
    "duration": 50,
    "start_time": "2021-12-16T19:01:30.746Z"
   },
   {
    "duration": 69,
    "start_time": "2021-12-16T19:01:30.799Z"
   },
   {
    "duration": 53,
    "start_time": "2021-12-16T19:01:30.872Z"
   },
   {
    "duration": 22,
    "start_time": "2021-12-16T19:01:54.577Z"
   },
   {
    "duration": 4,
    "start_time": "2021-12-16T19:02:02.785Z"
   },
   {
    "duration": 587,
    "start_time": "2021-12-16T19:02:02.792Z"
   },
   {
    "duration": 14,
    "start_time": "2021-12-16T19:02:03.381Z"
   },
   {
    "duration": 61,
    "start_time": "2021-12-16T19:02:03.399Z"
   },
   {
    "duration": 81,
    "start_time": "2021-12-16T19:02:03.463Z"
   },
   {
    "duration": 20,
    "start_time": "2021-12-16T19:02:03.546Z"
   },
   {
    "duration": 1040,
    "start_time": "2021-12-16T19:02:30.511Z"
   },
   {
    "duration": 633,
    "start_time": "2021-12-16T19:02:35.956Z"
   },
   {
    "duration": 548,
    "start_time": "2021-12-16T19:02:46.826Z"
   },
   {
    "duration": 47,
    "start_time": "2021-12-16T19:02:56.174Z"
   },
   {
    "duration": 58,
    "start_time": "2021-12-16T19:04:56.857Z"
   },
   {
    "duration": 29,
    "start_time": "2021-12-16T19:05:03.699Z"
   },
   {
    "duration": 29,
    "start_time": "2021-12-16T19:05:14.621Z"
   },
   {
    "duration": 17,
    "start_time": "2021-12-16T19:05:48.913Z"
   },
   {
    "duration": 10,
    "start_time": "2021-12-16T19:05:54.245Z"
   },
   {
    "duration": 4,
    "start_time": "2021-12-16T19:06:11.287Z"
   },
   {
    "duration": 579,
    "start_time": "2021-12-16T19:06:11.294Z"
   },
   {
    "duration": 14,
    "start_time": "2021-12-16T19:06:11.878Z"
   },
   {
    "duration": 21,
    "start_time": "2021-12-16T19:06:11.896Z"
   },
   {
    "duration": 97,
    "start_time": "2021-12-16T19:06:11.920Z"
   },
   {
    "duration": 62,
    "start_time": "2021-12-16T19:06:12.020Z"
   },
   {
    "duration": 36,
    "start_time": "2021-12-16T19:06:12.084Z"
   },
   {
    "duration": 19,
    "start_time": "2021-12-16T19:06:12.122Z"
   },
   {
    "duration": 4,
    "start_time": "2021-12-16T19:06:13.884Z"
   },
   {
    "duration": 572,
    "start_time": "2021-12-16T19:06:13.891Z"
   },
   {
    "duration": 12,
    "start_time": "2021-12-16T19:06:14.466Z"
   },
   {
    "duration": 51,
    "start_time": "2021-12-16T19:06:14.481Z"
   },
   {
    "duration": 112,
    "start_time": "2021-12-16T19:06:14.534Z"
   },
   {
    "duration": 59,
    "start_time": "2021-12-16T19:06:14.649Z"
   },
   {
    "duration": 36,
    "start_time": "2021-12-16T19:06:14.710Z"
   },
   {
    "duration": 27,
    "start_time": "2021-12-16T19:06:14.749Z"
   },
   {
    "duration": 209,
    "start_time": "2021-12-20T08:35:24.268Z"
   },
   {
    "duration": 1065,
    "start_time": "2021-12-20T08:35:28.896Z"
   },
   {
    "duration": 429,
    "start_time": "2021-12-20T08:35:29.963Z"
   },
   {
    "duration": 11,
    "start_time": "2021-12-20T08:35:30.395Z"
   },
   {
    "duration": 26,
    "start_time": "2021-12-20T08:35:30.408Z"
   },
   {
    "duration": 73,
    "start_time": "2021-12-20T08:35:30.436Z"
   },
   {
    "duration": 37,
    "start_time": "2021-12-20T08:35:30.511Z"
   },
   {
    "duration": 41,
    "start_time": "2021-12-20T08:35:30.550Z"
   },
   {
    "duration": 6,
    "start_time": "2021-12-20T08:35:30.594Z"
   },
   {
    "duration": 43,
    "start_time": "2021-12-20T08:35:30.602Z"
   },
   {
    "duration": 47,
    "start_time": "2021-12-20T08:37:18.201Z"
   },
   {
    "duration": 21,
    "start_time": "2021-12-20T08:38:25.293Z"
   },
   {
    "duration": 257,
    "start_time": "2021-12-20T08:40:43.227Z"
   },
   {
    "duration": 17,
    "start_time": "2021-12-20T08:41:00.224Z"
   },
   {
    "duration": 187,
    "start_time": "2021-12-20T08:43:55.214Z"
   },
   {
    "duration": 183,
    "start_time": "2021-12-20T08:44:44.000Z"
   },
   {
    "duration": 3,
    "start_time": "2021-12-20T08:44:52.024Z"
   },
   {
    "duration": 464,
    "start_time": "2021-12-20T08:44:52.029Z"
   },
   {
    "duration": 8,
    "start_time": "2021-12-20T08:44:52.494Z"
   },
   {
    "duration": 21,
    "start_time": "2021-12-20T08:44:52.504Z"
   },
   {
    "duration": 64,
    "start_time": "2021-12-20T08:44:52.527Z"
   },
   {
    "duration": 33,
    "start_time": "2021-12-20T08:44:52.592Z"
   },
   {
    "duration": 24,
    "start_time": "2021-12-20T08:44:52.627Z"
   },
   {
    "duration": 7,
    "start_time": "2021-12-20T08:44:52.652Z"
   },
   {
    "duration": 77,
    "start_time": "2021-12-20T08:44:52.660Z"
   },
   {
    "duration": 23,
    "start_time": "2021-12-20T08:44:52.739Z"
   },
   {
    "duration": 39,
    "start_time": "2021-12-20T08:46:40.295Z"
   },
   {
    "duration": 3,
    "start_time": "2021-12-20T08:52:48.048Z"
   },
   {
    "duration": 413,
    "start_time": "2021-12-20T08:52:48.053Z"
   },
   {
    "duration": 8,
    "start_time": "2021-12-20T08:52:48.469Z"
   },
   {
    "duration": 15,
    "start_time": "2021-12-20T08:52:48.480Z"
   },
   {
    "duration": 48,
    "start_time": "2021-12-20T08:52:48.497Z"
   },
   {
    "duration": 50,
    "start_time": "2021-12-20T08:52:48.548Z"
   },
   {
    "duration": 23,
    "start_time": "2021-12-20T08:52:48.601Z"
   },
   {
    "duration": 6,
    "start_time": "2021-12-20T08:52:48.626Z"
   },
   {
    "duration": 69,
    "start_time": "2021-12-20T08:52:48.634Z"
   },
   {
    "duration": 28,
    "start_time": "2021-12-20T08:52:48.704Z"
   },
   {
    "duration": 3,
    "start_time": "2021-12-20T08:54:22.691Z"
   },
   {
    "duration": 399,
    "start_time": "2021-12-20T08:54:22.696Z"
   },
   {
    "duration": 9,
    "start_time": "2021-12-20T08:54:23.097Z"
   },
   {
    "duration": 15,
    "start_time": "2021-12-20T08:54:23.108Z"
   },
   {
    "duration": 80,
    "start_time": "2021-12-20T08:54:23.125Z"
   },
   {
    "duration": 30,
    "start_time": "2021-12-20T08:54:23.207Z"
   },
   {
    "duration": 24,
    "start_time": "2021-12-20T08:54:23.239Z"
   },
   {
    "duration": 28,
    "start_time": "2021-12-20T08:54:23.265Z"
   },
   {
    "duration": 51,
    "start_time": "2021-12-20T08:54:23.295Z"
   },
   {
    "duration": 25,
    "start_time": "2021-12-20T08:54:23.347Z"
   },
   {
    "duration": 28,
    "start_time": "2021-12-20T08:55:38.455Z"
   },
   {
    "duration": 3,
    "start_time": "2021-12-20T08:59:13.287Z"
   },
   {
    "duration": 391,
    "start_time": "2021-12-20T08:59:13.292Z"
   },
   {
    "duration": 8,
    "start_time": "2021-12-20T08:59:13.686Z"
   },
   {
    "duration": 11,
    "start_time": "2021-12-20T08:59:13.696Z"
   },
   {
    "duration": 47,
    "start_time": "2021-12-20T08:59:13.708Z"
   },
   {
    "duration": 56,
    "start_time": "2021-12-20T08:59:13.757Z"
   },
   {
    "duration": 24,
    "start_time": "2021-12-20T08:59:13.815Z"
   },
   {
    "duration": 6,
    "start_time": "2021-12-20T08:59:13.841Z"
   },
   {
    "duration": 72,
    "start_time": "2021-12-20T08:59:13.849Z"
   },
   {
    "duration": 33,
    "start_time": "2021-12-20T08:59:13.923Z"
   },
   {
    "duration": 44,
    "start_time": "2021-12-20T08:59:13.958Z"
   },
   {
    "duration": 12,
    "start_time": "2021-12-20T08:59:56.445Z"
   },
   {
    "duration": 16,
    "start_time": "2021-12-20T09:00:19.957Z"
   },
   {
    "duration": 4,
    "start_time": "2021-12-20T09:01:03.505Z"
   },
   {
    "duration": 411,
    "start_time": "2021-12-20T09:01:03.512Z"
   },
   {
    "duration": 9,
    "start_time": "2021-12-20T09:01:03.926Z"
   },
   {
    "duration": 23,
    "start_time": "2021-12-20T09:01:03.937Z"
   },
   {
    "duration": 54,
    "start_time": "2021-12-20T09:01:03.962Z"
   },
   {
    "duration": 30,
    "start_time": "2021-12-20T09:01:04.017Z"
   },
   {
    "duration": 43,
    "start_time": "2021-12-20T09:01:04.049Z"
   },
   {
    "duration": 6,
    "start_time": "2021-12-20T09:01:04.094Z"
   },
   {
    "duration": 56,
    "start_time": "2021-12-20T09:01:04.102Z"
   },
   {
    "duration": 32,
    "start_time": "2021-12-20T09:01:04.160Z"
   },
   {
    "duration": 27,
    "start_time": "2021-12-20T09:01:04.194Z"
   },
   {
    "duration": 26,
    "start_time": "2021-12-20T09:01:37.772Z"
   },
   {
    "duration": 3,
    "start_time": "2021-12-20T09:02:52.979Z"
   },
   {
    "duration": 408,
    "start_time": "2021-12-20T09:02:52.984Z"
   },
   {
    "duration": 8,
    "start_time": "2021-12-20T09:02:53.393Z"
   },
   {
    "duration": 13,
    "start_time": "2021-12-20T09:02:53.403Z"
   },
   {
    "duration": 46,
    "start_time": "2021-12-20T09:02:53.417Z"
   },
   {
    "duration": 52,
    "start_time": "2021-12-20T09:02:53.465Z"
   },
   {
    "duration": 24,
    "start_time": "2021-12-20T09:02:53.520Z"
   },
   {
    "duration": 6,
    "start_time": "2021-12-20T09:02:53.545Z"
   },
   {
    "duration": 68,
    "start_time": "2021-12-20T09:02:53.553Z"
   },
   {
    "duration": 29,
    "start_time": "2021-12-20T09:02:53.623Z"
   },
   {
    "duration": 45,
    "start_time": "2021-12-20T09:02:53.653Z"
   },
   {
    "duration": 37,
    "start_time": "2021-12-20T09:04:24.448Z"
   },
   {
    "duration": 4773,
    "start_time": "2021-12-20T09:05:19.744Z"
   },
   {
    "duration": 3,
    "start_time": "2021-12-20T09:05:44.420Z"
   },
   {
    "duration": 394,
    "start_time": "2021-12-20T09:05:44.425Z"
   },
   {
    "duration": 8,
    "start_time": "2021-12-20T09:05:44.821Z"
   },
   {
    "duration": 12,
    "start_time": "2021-12-20T09:05:44.831Z"
   },
   {
    "duration": 50,
    "start_time": "2021-12-20T09:05:44.845Z"
   },
   {
    "duration": 28,
    "start_time": "2021-12-20T09:05:44.896Z"
   },
   {
    "duration": 24,
    "start_time": "2021-12-20T09:05:44.926Z"
   },
   {
    "duration": 5,
    "start_time": "2021-12-20T09:05:44.952Z"
   },
   {
    "duration": 73,
    "start_time": "2021-12-20T09:05:44.959Z"
   },
   {
    "duration": 25,
    "start_time": "2021-12-20T09:05:45.033Z"
   },
   {
    "duration": 53,
    "start_time": "2021-12-20T09:05:45.060Z"
   },
   {
    "duration": 4416,
    "start_time": "2021-12-20T09:06:09.674Z"
   },
   {
    "duration": 4586,
    "start_time": "2021-12-20T09:15:56.866Z"
   },
   {
    "duration": 4968,
    "start_time": "2021-12-20T09:16:26.092Z"
   },
   {
    "duration": 4,
    "start_time": "2021-12-20T09:16:36.416Z"
   },
   {
    "duration": 405,
    "start_time": "2021-12-20T09:16:36.422Z"
   },
   {
    "duration": 8,
    "start_time": "2021-12-20T09:16:36.829Z"
   },
   {
    "duration": 11,
    "start_time": "2021-12-20T09:16:36.839Z"
   },
   {
    "duration": 56,
    "start_time": "2021-12-20T09:16:36.852Z"
   },
   {
    "duration": 30,
    "start_time": "2021-12-20T09:16:36.909Z"
   },
   {
    "duration": 24,
    "start_time": "2021-12-20T09:16:36.941Z"
   },
   {
    "duration": 26,
    "start_time": "2021-12-20T09:16:36.966Z"
   },
   {
    "duration": 47,
    "start_time": "2021-12-20T09:16:36.994Z"
   },
   {
    "duration": 24,
    "start_time": "2021-12-20T09:16:37.042Z"
   },
   {
    "duration": 57,
    "start_time": "2021-12-20T09:16:37.068Z"
   },
   {
    "duration": 3,
    "start_time": "2021-12-20T09:17:04.351Z"
   },
   {
    "duration": 439,
    "start_time": "2021-12-20T09:17:04.356Z"
   },
   {
    "duration": 8,
    "start_time": "2021-12-20T09:17:04.797Z"
   },
   {
    "duration": 11,
    "start_time": "2021-12-20T09:17:04.807Z"
   },
   {
    "duration": 45,
    "start_time": "2021-12-20T09:17:04.820Z"
   },
   {
    "duration": 51,
    "start_time": "2021-12-20T09:17:04.867Z"
   },
   {
    "duration": 26,
    "start_time": "2021-12-20T09:17:04.920Z"
   },
   {
    "duration": 6,
    "start_time": "2021-12-20T09:17:04.948Z"
   },
   {
    "duration": 71,
    "start_time": "2021-12-20T09:17:04.955Z"
   },
   {
    "duration": 29,
    "start_time": "2021-12-20T09:17:05.028Z"
   },
   {
    "duration": 58,
    "start_time": "2021-12-20T09:17:05.058Z"
   },
   {
    "duration": 5287,
    "start_time": "2021-12-20T09:17:46.561Z"
   },
   {
    "duration": 4399,
    "start_time": "2021-12-20T09:18:20.265Z"
   },
   {
    "duration": 5433,
    "start_time": "2021-12-20T09:18:47.092Z"
   },
   {
    "duration": 4,
    "start_time": "2021-12-20T09:18:58.368Z"
   },
   {
    "duration": 390,
    "start_time": "2021-12-20T09:18:58.374Z"
   },
   {
    "duration": 7,
    "start_time": "2021-12-20T09:18:58.766Z"
   },
   {
    "duration": 12,
    "start_time": "2021-12-20T09:18:58.775Z"
   },
   {
    "duration": 42,
    "start_time": "2021-12-20T09:18:58.791Z"
   },
   {
    "duration": 30,
    "start_time": "2021-12-20T09:18:58.834Z"
   },
   {
    "duration": 36,
    "start_time": "2021-12-20T09:18:58.865Z"
   },
   {
    "duration": 6,
    "start_time": "2021-12-20T09:18:58.903Z"
   },
   {
    "duration": 46,
    "start_time": "2021-12-20T09:18:58.911Z"
   },
   {
    "duration": 48,
    "start_time": "2021-12-20T09:18:58.959Z"
   },
   {
    "duration": 35,
    "start_time": "2021-12-20T09:18:59.009Z"
   },
   {
    "duration": 5753,
    "start_time": "2021-12-20T09:19:48.757Z"
   },
   {
    "duration": 5409,
    "start_time": "2021-12-20T09:20:44.137Z"
   },
   {
    "duration": 4870,
    "start_time": "2021-12-20T09:22:54.008Z"
   },
   {
    "duration": 3,
    "start_time": "2021-12-20T09:23:14.916Z"
   },
   {
    "duration": 397,
    "start_time": "2021-12-20T09:23:14.921Z"
   },
   {
    "duration": 8,
    "start_time": "2021-12-20T09:23:15.319Z"
   },
   {
    "duration": 12,
    "start_time": "2021-12-20T09:23:15.329Z"
   },
   {
    "duration": 52,
    "start_time": "2021-12-20T09:23:15.343Z"
   },
   {
    "duration": 31,
    "start_time": "2021-12-20T09:23:15.397Z"
   },
   {
    "duration": 25,
    "start_time": "2021-12-20T09:23:15.430Z"
   },
   {
    "duration": 6,
    "start_time": "2021-12-20T09:23:15.457Z"
   },
   {
    "duration": 69,
    "start_time": "2021-12-20T09:23:15.465Z"
   },
   {
    "duration": 27,
    "start_time": "2021-12-20T09:23:15.536Z"
   },
   {
    "duration": 55,
    "start_time": "2021-12-20T09:23:15.564Z"
   },
   {
    "duration": 12,
    "start_time": "2021-12-20T09:24:11.717Z"
   },
   {
    "duration": 12,
    "start_time": "2021-12-20T09:26:51.175Z"
   },
   {
    "duration": 12,
    "start_time": "2021-12-20T09:27:51.158Z"
   },
   {
    "duration": 4,
    "start_time": "2021-12-20T09:33:04.614Z"
   },
   {
    "duration": 392,
    "start_time": "2021-12-20T09:33:04.619Z"
   },
   {
    "duration": 9,
    "start_time": "2021-12-20T09:33:05.013Z"
   },
   {
    "duration": 27,
    "start_time": "2021-12-20T09:33:05.024Z"
   },
   {
    "duration": 75,
    "start_time": "2021-12-20T09:33:05.053Z"
   },
   {
    "duration": 29,
    "start_time": "2021-12-20T09:33:05.129Z"
   },
   {
    "duration": 40,
    "start_time": "2021-12-20T09:33:05.160Z"
   },
   {
    "duration": 5,
    "start_time": "2021-12-20T09:33:05.202Z"
   },
   {
    "duration": 78,
    "start_time": "2021-12-20T09:33:05.208Z"
   },
   {
    "duration": 27,
    "start_time": "2021-12-20T09:33:05.287Z"
   },
   {
    "duration": 36,
    "start_time": "2021-12-20T09:33:05.315Z"
   },
   {
    "duration": 10,
    "start_time": "2021-12-20T09:33:05.352Z"
   },
   {
    "duration": 3,
    "start_time": "2021-12-20T09:35:58.050Z"
   },
   {
    "duration": 395,
    "start_time": "2021-12-20T09:35:58.056Z"
   },
   {
    "duration": 8,
    "start_time": "2021-12-20T09:35:58.452Z"
   },
   {
    "duration": 37,
    "start_time": "2021-12-20T09:35:58.462Z"
   },
   {
    "duration": 63,
    "start_time": "2021-12-20T09:35:58.501Z"
   },
   {
    "duration": 27,
    "start_time": "2021-12-20T09:35:58.566Z"
   },
   {
    "duration": 26,
    "start_time": "2021-12-20T09:35:58.595Z"
   },
   {
    "duration": 5,
    "start_time": "2021-12-20T09:35:58.623Z"
   },
   {
    "duration": 78,
    "start_time": "2021-12-20T09:35:58.630Z"
   },
   {
    "duration": 27,
    "start_time": "2021-12-20T09:35:58.710Z"
   },
   {
    "duration": 53,
    "start_time": "2021-12-20T09:35:58.739Z"
   },
   {
    "duration": 3,
    "start_time": "2021-12-20T09:35:58.794Z"
   },
   {
    "duration": 13,
    "start_time": "2021-12-20T09:36:07.883Z"
   },
   {
    "duration": 11,
    "start_time": "2021-12-20T09:36:35.270Z"
   },
   {
    "duration": 11,
    "start_time": "2021-12-20T09:36:43.236Z"
   },
   {
    "duration": 3,
    "start_time": "2021-12-20T09:36:49.369Z"
   },
   {
    "duration": 393,
    "start_time": "2021-12-20T09:36:49.374Z"
   },
   {
    "duration": 9,
    "start_time": "2021-12-20T09:36:49.769Z"
   },
   {
    "duration": 13,
    "start_time": "2021-12-20T09:36:49.779Z"
   },
   {
    "duration": 51,
    "start_time": "2021-12-20T09:36:49.793Z"
   },
   {
    "duration": 29,
    "start_time": "2021-12-20T09:36:49.845Z"
   },
   {
    "duration": 36,
    "start_time": "2021-12-20T09:36:49.876Z"
   },
   {
    "duration": 5,
    "start_time": "2021-12-20T09:36:49.914Z"
   },
   {
    "duration": 52,
    "start_time": "2021-12-20T09:36:49.921Z"
   },
   {
    "duration": 42,
    "start_time": "2021-12-20T09:36:49.974Z"
   },
   {
    "duration": 40,
    "start_time": "2021-12-20T09:36:50.018Z"
   },
   {
    "duration": 33,
    "start_time": "2021-12-20T09:36:50.059Z"
   },
   {
    "duration": 13,
    "start_time": "2021-12-20T09:37:01.584Z"
   },
   {
    "duration": 10,
    "start_time": "2021-12-20T09:37:14.569Z"
   },
   {
    "duration": 2,
    "start_time": "2021-12-20T09:37:39.804Z"
   },
   {
    "duration": 404,
    "start_time": "2021-12-20T09:37:39.808Z"
   },
   {
    "duration": 7,
    "start_time": "2021-12-20T09:37:40.214Z"
   },
   {
    "duration": 25,
    "start_time": "2021-12-20T09:37:40.223Z"
   },
   {
    "duration": 49,
    "start_time": "2021-12-20T09:37:40.250Z"
   },
   {
    "duration": 30,
    "start_time": "2021-12-20T09:37:40.301Z"
   },
   {
    "duration": 25,
    "start_time": "2021-12-20T09:37:40.333Z"
   },
   {
    "duration": 5,
    "start_time": "2021-12-20T09:37:40.360Z"
   },
   {
    "duration": 69,
    "start_time": "2021-12-20T09:37:40.367Z"
   },
   {
    "duration": 29,
    "start_time": "2021-12-20T09:37:40.437Z"
   },
   {
    "duration": 55,
    "start_time": "2021-12-20T09:37:40.467Z"
   },
   {
    "duration": 10,
    "start_time": "2021-12-20T09:37:40.524Z"
   },
   {
    "duration": 12,
    "start_time": "2021-12-20T09:37:52.365Z"
   },
   {
    "duration": 12,
    "start_time": "2021-12-20T09:38:30.030Z"
   },
   {
    "duration": 3,
    "start_time": "2021-12-20T09:38:34.668Z"
   },
   {
    "duration": 377,
    "start_time": "2021-12-20T09:38:34.673Z"
   },
   {
    "duration": 7,
    "start_time": "2021-12-20T09:38:35.052Z"
   },
   {
    "duration": 12,
    "start_time": "2021-12-20T09:38:35.061Z"
   },
   {
    "duration": 57,
    "start_time": "2021-12-20T09:38:35.075Z"
   },
   {
    "duration": 28,
    "start_time": "2021-12-20T09:38:35.133Z"
   },
   {
    "duration": 41,
    "start_time": "2021-12-20T09:38:35.163Z"
   },
   {
    "duration": 5,
    "start_time": "2021-12-20T09:38:35.206Z"
   },
   {
    "duration": 48,
    "start_time": "2021-12-20T09:38:35.213Z"
   },
   {
    "duration": 49,
    "start_time": "2021-12-20T09:38:35.263Z"
   },
   {
    "duration": 37,
    "start_time": "2021-12-20T09:38:35.314Z"
   },
   {
    "duration": 10,
    "start_time": "2021-12-20T09:38:35.353Z"
   },
   {
    "duration": 6,
    "start_time": "2021-12-20T09:40:32.703Z"
   },
   {
    "duration": 4,
    "start_time": "2021-12-20T09:40:52.369Z"
   },
   {
    "duration": 401,
    "start_time": "2021-12-20T09:40:52.376Z"
   },
   {
    "duration": 8,
    "start_time": "2021-12-20T09:40:52.779Z"
   },
   {
    "duration": 8,
    "start_time": "2021-12-20T09:40:52.791Z"
   },
   {
    "duration": 43,
    "start_time": "2021-12-20T09:40:52.801Z"
   },
   {
    "duration": 46,
    "start_time": "2021-12-20T09:40:52.846Z"
   },
   {
    "duration": 24,
    "start_time": "2021-12-20T09:40:52.894Z"
   },
   {
    "duration": 6,
    "start_time": "2021-12-20T09:40:52.920Z"
   },
   {
    "duration": 67,
    "start_time": "2021-12-20T09:40:52.927Z"
   },
   {
    "duration": 30,
    "start_time": "2021-12-20T09:40:52.996Z"
   },
   {
    "duration": 36,
    "start_time": "2021-12-20T09:40:53.028Z"
   },
   {
    "duration": 33,
    "start_time": "2021-12-20T09:40:53.065Z"
   },
   {
    "duration": 11,
    "start_time": "2021-12-20T09:41:12.589Z"
   },
   {
    "duration": 3,
    "start_time": "2021-12-20T09:41:29.148Z"
   },
   {
    "duration": 388,
    "start_time": "2021-12-20T09:41:29.153Z"
   },
   {
    "duration": 9,
    "start_time": "2021-12-20T09:41:29.542Z"
   },
   {
    "duration": 30,
    "start_time": "2021-12-20T09:41:29.552Z"
   },
   {
    "duration": 50,
    "start_time": "2021-12-20T09:41:29.583Z"
   },
   {
    "duration": 29,
    "start_time": "2021-12-20T09:41:29.635Z"
   },
   {
    "duration": 36,
    "start_time": "2021-12-20T09:41:29.666Z"
   },
   {
    "duration": 6,
    "start_time": "2021-12-20T09:41:29.704Z"
   },
   {
    "duration": 60,
    "start_time": "2021-12-20T09:41:29.711Z"
   },
   {
    "duration": 38,
    "start_time": "2021-12-20T09:41:29.772Z"
   },
   {
    "duration": 36,
    "start_time": "2021-12-20T09:41:29.811Z"
   },
   {
    "duration": 11,
    "start_time": "2021-12-20T09:41:29.848Z"
   },
   {
    "duration": 31,
    "start_time": "2021-12-20T09:41:29.861Z"
   },
   {
    "duration": 183,
    "start_time": "2021-12-20T09:42:09.556Z"
   },
   {
    "duration": 11,
    "start_time": "2021-12-20T09:42:21.942Z"
   },
   {
    "duration": 8,
    "start_time": "2021-12-20T09:44:21.542Z"
   },
   {
    "duration": 19,
    "start_time": "2021-12-20T09:49:18.165Z"
   },
   {
    "duration": 200,
    "start_time": "2021-12-20T09:50:49.135Z"
   },
   {
    "duration": 320,
    "start_time": "2021-12-20T09:51:06.421Z"
   },
   {
    "duration": 3,
    "start_time": "2021-12-20T09:51:44.171Z"
   },
   {
    "duration": 396,
    "start_time": "2021-12-20T09:51:44.176Z"
   },
   {
    "duration": 16,
    "start_time": "2021-12-20T09:51:44.573Z"
   },
   {
    "duration": 19,
    "start_time": "2021-12-20T09:51:44.591Z"
   },
   {
    "duration": 63,
    "start_time": "2021-12-20T09:51:44.611Z"
   },
   {
    "duration": 30,
    "start_time": "2021-12-20T09:51:44.676Z"
   },
   {
    "duration": 26,
    "start_time": "2021-12-20T09:51:44.707Z"
   },
   {
    "duration": 12,
    "start_time": "2021-12-20T09:51:44.735Z"
   },
   {
    "duration": 66,
    "start_time": "2021-12-20T09:51:44.750Z"
   },
   {
    "duration": 29,
    "start_time": "2021-12-20T09:51:44.817Z"
   },
   {
    "duration": 46,
    "start_time": "2021-12-20T09:51:44.847Z"
   },
   {
    "duration": 10,
    "start_time": "2021-12-20T09:51:44.894Z"
   },
   {
    "duration": 32,
    "start_time": "2021-12-20T09:51:44.906Z"
   },
   {
    "duration": 25,
    "start_time": "2021-12-20T09:51:44.939Z"
   },
   {
    "duration": 15,
    "start_time": "2021-12-20T09:52:53.572Z"
   },
   {
    "duration": 21,
    "start_time": "2021-12-20T09:54:55.735Z"
   },
   {
    "duration": 4,
    "start_time": "2021-12-20T09:57:51.840Z"
   },
   {
    "duration": 363,
    "start_time": "2021-12-20T09:57:51.845Z"
   },
   {
    "duration": 8,
    "start_time": "2021-12-20T09:57:52.211Z"
   },
   {
    "duration": 11,
    "start_time": "2021-12-20T09:57:52.220Z"
   },
   {
    "duration": 78,
    "start_time": "2021-12-20T09:57:52.233Z"
   },
   {
    "duration": 42,
    "start_time": "2021-12-20T09:57:52.313Z"
   },
   {
    "duration": 40,
    "start_time": "2021-12-20T09:57:52.358Z"
   },
   {
    "duration": 6,
    "start_time": "2021-12-20T09:57:52.400Z"
   },
   {
    "duration": 46,
    "start_time": "2021-12-20T09:57:52.407Z"
   },
   {
    "duration": 50,
    "start_time": "2021-12-20T09:57:52.454Z"
   },
   {
    "duration": 35,
    "start_time": "2021-12-20T09:57:52.506Z"
   },
   {
    "duration": 10,
    "start_time": "2021-12-20T09:57:52.543Z"
   },
   {
    "duration": 10,
    "start_time": "2021-12-20T09:57:52.554Z"
   },
   {
    "duration": 7,
    "start_time": "2021-12-20T09:57:52.592Z"
   },
   {
    "duration": 11,
    "start_time": "2021-12-20T09:57:52.600Z"
   },
   {
    "duration": 20,
    "start_time": "2021-12-20T09:59:45.745Z"
   },
   {
    "duration": 23,
    "start_time": "2021-12-20T10:00:03.572Z"
   },
   {
    "duration": 28,
    "start_time": "2021-12-20T10:00:13.965Z"
   },
   {
    "duration": 3,
    "start_time": "2021-12-20T10:00:27.043Z"
   },
   {
    "duration": 368,
    "start_time": "2021-12-20T10:00:27.048Z"
   },
   {
    "duration": 8,
    "start_time": "2021-12-20T10:00:27.417Z"
   },
   {
    "duration": 11,
    "start_time": "2021-12-20T10:00:27.427Z"
   },
   {
    "duration": 42,
    "start_time": "2021-12-20T10:00:27.440Z"
   },
   {
    "duration": 35,
    "start_time": "2021-12-20T10:00:27.484Z"
   },
   {
    "duration": 24,
    "start_time": "2021-12-20T10:00:27.521Z"
   },
   {
    "duration": 6,
    "start_time": "2021-12-20T10:00:27.547Z"
   },
   {
    "duration": 70,
    "start_time": "2021-12-20T10:00:27.554Z"
   },
   {
    "duration": 30,
    "start_time": "2021-12-20T10:00:27.625Z"
   },
   {
    "duration": 51,
    "start_time": "2021-12-20T10:00:27.657Z"
   },
   {
    "duration": 10,
    "start_time": "2021-12-20T10:00:27.709Z"
   },
   {
    "duration": 15,
    "start_time": "2021-12-20T10:00:27.720Z"
   },
   {
    "duration": 16,
    "start_time": "2021-12-20T10:00:27.736Z"
   },
   {
    "duration": 17,
    "start_time": "2021-12-20T10:00:27.754Z"
   },
   {
    "duration": 22,
    "start_time": "2021-12-20T10:02:11.756Z"
   },
   {
    "duration": 20,
    "start_time": "2021-12-20T10:03:13.151Z"
   },
   {
    "duration": 3,
    "start_time": "2021-12-20T10:03:17.991Z"
   },
   {
    "duration": 366,
    "start_time": "2021-12-20T10:03:17.996Z"
   },
   {
    "duration": 8,
    "start_time": "2021-12-20T10:03:18.365Z"
   },
   {
    "duration": 11,
    "start_time": "2021-12-20T10:03:18.374Z"
   },
   {
    "duration": 43,
    "start_time": "2021-12-20T10:03:18.386Z"
   },
   {
    "duration": 28,
    "start_time": "2021-12-20T10:03:18.431Z"
   },
   {
    "duration": 39,
    "start_time": "2021-12-20T10:03:18.461Z"
   },
   {
    "duration": 5,
    "start_time": "2021-12-20T10:03:18.502Z"
   },
   {
    "duration": 48,
    "start_time": "2021-12-20T10:03:18.510Z"
   },
   {
    "duration": 50,
    "start_time": "2021-12-20T10:03:18.560Z"
   },
   {
    "duration": 34,
    "start_time": "2021-12-20T10:03:18.612Z"
   },
   {
    "duration": 11,
    "start_time": "2021-12-20T10:03:18.648Z"
   },
   {
    "duration": 32,
    "start_time": "2021-12-20T10:03:18.660Z"
   },
   {
    "duration": 7,
    "start_time": "2021-12-20T10:03:18.694Z"
   },
   {
    "duration": 22,
    "start_time": "2021-12-20T10:03:18.703Z"
   },
   {
    "duration": 29,
    "start_time": "2021-12-20T10:04:17.953Z"
   },
   {
    "duration": 3,
    "start_time": "2021-12-20T10:04:49.563Z"
   },
   {
    "duration": 361,
    "start_time": "2021-12-20T10:04:49.568Z"
   },
   {
    "duration": 8,
    "start_time": "2021-12-20T10:04:49.932Z"
   },
   {
    "duration": 11,
    "start_time": "2021-12-20T10:04:49.942Z"
   },
   {
    "duration": 50,
    "start_time": "2021-12-20T10:04:49.954Z"
   },
   {
    "duration": 30,
    "start_time": "2021-12-20T10:04:50.006Z"
   },
   {
    "duration": 25,
    "start_time": "2021-12-20T10:04:50.039Z"
   },
   {
    "duration": 26,
    "start_time": "2021-12-20T10:04:50.066Z"
   },
   {
    "duration": 49,
    "start_time": "2021-12-20T10:04:50.094Z"
   },
   {
    "duration": 46,
    "start_time": "2021-12-20T10:04:50.145Z"
   },
   {
    "duration": 34,
    "start_time": "2021-12-20T10:04:50.193Z"
   },
   {
    "duration": 10,
    "start_time": "2021-12-20T10:04:50.229Z"
   },
   {
    "duration": 10,
    "start_time": "2021-12-20T10:04:50.241Z"
   },
   {
    "duration": 7,
    "start_time": "2021-12-20T10:04:50.253Z"
   },
   {
    "duration": 29,
    "start_time": "2021-12-20T10:04:50.292Z"
   },
   {
    "duration": 45,
    "start_time": "2021-12-20T10:05:44.611Z"
   },
   {
    "duration": 4,
    "start_time": "2021-12-20T10:06:32.397Z"
   },
   {
    "duration": 385,
    "start_time": "2021-12-20T10:06:32.403Z"
   },
   {
    "duration": 8,
    "start_time": "2021-12-20T10:06:32.791Z"
   },
   {
    "duration": 27,
    "start_time": "2021-12-20T10:06:32.801Z"
   },
   {
    "duration": 45,
    "start_time": "2021-12-20T10:06:32.830Z"
   },
   {
    "duration": 33,
    "start_time": "2021-12-20T10:06:32.876Z"
   },
   {
    "duration": 23,
    "start_time": "2021-12-20T10:06:32.911Z"
   },
   {
    "duration": 6,
    "start_time": "2021-12-20T10:06:32.936Z"
   },
   {
    "duration": 66,
    "start_time": "2021-12-20T10:06:32.943Z"
   },
   {
    "duration": 28,
    "start_time": "2021-12-20T10:06:33.011Z"
   },
   {
    "duration": 51,
    "start_time": "2021-12-20T10:06:33.040Z"
   },
   {
    "duration": 12,
    "start_time": "2021-12-20T10:06:33.093Z"
   },
   {
    "duration": 12,
    "start_time": "2021-12-20T10:06:33.108Z"
   },
   {
    "duration": 8,
    "start_time": "2021-12-20T10:06:33.122Z"
   },
   {
    "duration": 60,
    "start_time": "2021-12-20T10:06:33.132Z"
   },
   {
    "duration": 36,
    "start_time": "2021-12-20T10:07:13.597Z"
   },
   {
    "duration": 120,
    "start_time": "2021-12-20T10:07:37.580Z"
   },
   {
    "duration": 3,
    "start_time": "2021-12-20T10:07:48.067Z"
   },
   {
    "duration": 362,
    "start_time": "2021-12-20T10:07:48.072Z"
   },
   {
    "duration": 8,
    "start_time": "2021-12-20T10:07:48.436Z"
   },
   {
    "duration": 12,
    "start_time": "2021-12-20T10:07:48.446Z"
   },
   {
    "duration": 47,
    "start_time": "2021-12-20T10:07:48.460Z"
   },
   {
    "duration": 29,
    "start_time": "2021-12-20T10:07:48.509Z"
   },
   {
    "duration": 25,
    "start_time": "2021-12-20T10:07:48.541Z"
   },
   {
    "duration": 5,
    "start_time": "2021-12-20T10:07:48.592Z"
   },
   {
    "duration": 50,
    "start_time": "2021-12-20T10:07:48.599Z"
   },
   {
    "duration": 41,
    "start_time": "2021-12-20T10:07:48.651Z"
   },
   {
    "duration": 35,
    "start_time": "2021-12-20T10:07:48.694Z"
   },
   {
    "duration": 11,
    "start_time": "2021-12-20T10:07:48.731Z"
   },
   {
    "duration": 13,
    "start_time": "2021-12-20T10:07:48.744Z"
   },
   {
    "duration": 36,
    "start_time": "2021-12-20T10:07:48.760Z"
   },
   {
    "duration": 34,
    "start_time": "2021-12-20T10:07:48.798Z"
   },
   {
    "duration": 9,
    "start_time": "2021-12-20T10:08:14.212Z"
   },
   {
    "duration": 18,
    "start_time": "2021-12-20T10:13:03.534Z"
   },
   {
    "duration": 15,
    "start_time": "2021-12-20T10:13:25.341Z"
   },
   {
    "duration": 184,
    "start_time": "2021-12-20T10:16:30.933Z"
   },
   {
    "duration": 3,
    "start_time": "2021-12-20T10:19:27.806Z"
   },
   {
    "duration": 370,
    "start_time": "2021-12-20T10:19:27.811Z"
   },
   {
    "duration": 8,
    "start_time": "2021-12-20T10:19:28.183Z"
   },
   {
    "duration": 11,
    "start_time": "2021-12-20T10:19:28.193Z"
   },
   {
    "duration": 43,
    "start_time": "2021-12-20T10:19:28.205Z"
   },
   {
    "duration": 48,
    "start_time": "2021-12-20T10:19:28.250Z"
   },
   {
    "duration": 25,
    "start_time": "2021-12-20T10:19:28.300Z"
   },
   {
    "duration": 6,
    "start_time": "2021-12-20T10:19:28.326Z"
   },
   {
    "duration": 65,
    "start_time": "2021-12-20T10:19:28.333Z"
   },
   {
    "duration": 27,
    "start_time": "2021-12-20T10:19:28.400Z"
   },
   {
    "duration": 33,
    "start_time": "2021-12-20T10:19:28.428Z"
   },
   {
    "duration": 31,
    "start_time": "2021-12-20T10:19:28.462Z"
   },
   {
    "duration": 11,
    "start_time": "2021-12-20T10:19:28.494Z"
   },
   {
    "duration": 7,
    "start_time": "2021-12-20T10:19:28.506Z"
   },
   {
    "duration": 34,
    "start_time": "2021-12-20T10:19:28.515Z"
   },
   {
    "duration": 49,
    "start_time": "2021-12-20T10:19:28.550Z"
   },
   {
    "duration": 3,
    "start_time": "2021-12-20T10:20:11.950Z"
   },
   {
    "duration": 364,
    "start_time": "2021-12-20T10:20:11.955Z"
   },
   {
    "duration": 7,
    "start_time": "2021-12-20T10:20:12.321Z"
   },
   {
    "duration": 24,
    "start_time": "2021-12-20T10:20:12.330Z"
   },
   {
    "duration": 43,
    "start_time": "2021-12-20T10:20:12.356Z"
   },
   {
    "duration": 27,
    "start_time": "2021-12-20T10:20:12.401Z"
   },
   {
    "duration": 23,
    "start_time": "2021-12-20T10:20:12.430Z"
   },
   {
    "duration": 5,
    "start_time": "2021-12-20T10:20:12.455Z"
   },
   {
    "duration": 64,
    "start_time": "2021-12-20T10:20:12.462Z"
   },
   {
    "duration": 32,
    "start_time": "2021-12-20T10:20:12.528Z"
   },
   {
    "duration": 51,
    "start_time": "2021-12-20T10:20:12.562Z"
   },
   {
    "duration": 10,
    "start_time": "2021-12-20T10:20:12.614Z"
   },
   {
    "duration": 14,
    "start_time": "2021-12-20T10:20:12.625Z"
   },
   {
    "duration": 7,
    "start_time": "2021-12-20T10:20:12.640Z"
   },
   {
    "duration": 59,
    "start_time": "2021-12-20T10:20:12.649Z"
   },
   {
    "duration": 14,
    "start_time": "2021-12-20T10:20:12.710Z"
   },
   {
    "duration": 3,
    "start_time": "2021-12-20T10:22:43.534Z"
   },
   {
    "duration": 388,
    "start_time": "2021-12-20T10:22:43.540Z"
   },
   {
    "duration": 9,
    "start_time": "2021-12-20T10:22:43.930Z"
   },
   {
    "duration": 11,
    "start_time": "2021-12-20T10:22:43.941Z"
   },
   {
    "duration": 54,
    "start_time": "2021-12-20T10:22:43.954Z"
   },
   {
    "duration": 30,
    "start_time": "2021-12-20T10:22:44.009Z"
   },
   {
    "duration": 25,
    "start_time": "2021-12-20T10:22:44.041Z"
   },
   {
    "duration": 25,
    "start_time": "2021-12-20T10:22:44.068Z"
   },
   {
    "duration": 50,
    "start_time": "2021-12-20T10:22:44.095Z"
   },
   {
    "duration": 45,
    "start_time": "2021-12-20T10:22:44.147Z"
   },
   {
    "duration": 35,
    "start_time": "2021-12-20T10:22:44.194Z"
   },
   {
    "duration": 11,
    "start_time": "2021-12-20T10:22:44.231Z"
   },
   {
    "duration": 13,
    "start_time": "2021-12-20T10:22:44.244Z"
   },
   {
    "duration": 34,
    "start_time": "2021-12-20T10:22:44.259Z"
   },
   {
    "duration": 40,
    "start_time": "2021-12-20T10:22:44.295Z"
   },
   {
    "duration": 13,
    "start_time": "2021-12-20T10:22:44.337Z"
   },
   {
    "duration": 4,
    "start_time": "2021-12-20T10:23:10.966Z"
   },
   {
    "duration": 402,
    "start_time": "2021-12-20T10:23:10.972Z"
   },
   {
    "duration": 8,
    "start_time": "2021-12-20T10:23:11.377Z"
   },
   {
    "duration": 30,
    "start_time": "2021-12-20T10:23:11.387Z"
   },
   {
    "duration": 68,
    "start_time": "2021-12-20T10:23:11.419Z"
   },
   {
    "duration": 35,
    "start_time": "2021-12-20T10:23:11.488Z"
   },
   {
    "duration": 25,
    "start_time": "2021-12-20T10:23:11.526Z"
   },
   {
    "duration": 6,
    "start_time": "2021-12-20T10:23:11.552Z"
   },
   {
    "duration": 71,
    "start_time": "2021-12-20T10:23:11.560Z"
   },
   {
    "duration": 29,
    "start_time": "2021-12-20T10:23:11.633Z"
   },
   {
    "duration": 49,
    "start_time": "2021-12-20T10:23:11.664Z"
   },
   {
    "duration": 11,
    "start_time": "2021-12-20T10:23:11.716Z"
   },
   {
    "duration": 12,
    "start_time": "2021-12-20T10:23:11.729Z"
   },
   {
    "duration": 7,
    "start_time": "2021-12-20T10:23:11.742Z"
   },
   {
    "duration": 64,
    "start_time": "2021-12-20T10:23:11.751Z"
   },
   {
    "duration": 10,
    "start_time": "2021-12-20T10:23:11.817Z"
   },
   {
    "duration": 3,
    "start_time": "2021-12-20T10:25:25.548Z"
   },
   {
    "duration": 366,
    "start_time": "2021-12-20T10:25:25.554Z"
   },
   {
    "duration": 8,
    "start_time": "2021-12-20T10:25:25.922Z"
   },
   {
    "duration": 11,
    "start_time": "2021-12-20T10:25:25.932Z"
   },
   {
    "duration": 50,
    "start_time": "2021-12-20T10:25:25.945Z"
   },
   {
    "duration": 29,
    "start_time": "2021-12-20T10:25:25.997Z"
   },
   {
    "duration": 24,
    "start_time": "2021-12-20T10:25:26.028Z"
   },
   {
    "duration": 6,
    "start_time": "2021-12-20T10:25:26.053Z"
   },
   {
    "duration": 67,
    "start_time": "2021-12-20T10:25:26.061Z"
   },
   {
    "duration": 28,
    "start_time": "2021-12-20T10:25:26.130Z"
   },
   {
    "duration": 50,
    "start_time": "2021-12-20T10:25:26.159Z"
   },
   {
    "duration": 11,
    "start_time": "2021-12-20T10:25:26.210Z"
   },
   {
    "duration": 10,
    "start_time": "2021-12-20T10:25:26.222Z"
   },
   {
    "duration": 6,
    "start_time": "2021-12-20T10:25:26.234Z"
   },
   {
    "duration": 59,
    "start_time": "2021-12-20T10:25:26.242Z"
   },
   {
    "duration": 19,
    "start_time": "2021-12-20T10:25:26.303Z"
   },
   {
    "duration": 3,
    "start_time": "2021-12-20T10:26:23.908Z"
   },
   {
    "duration": 368,
    "start_time": "2021-12-20T10:26:23.913Z"
   },
   {
    "duration": 8,
    "start_time": "2021-12-20T10:26:24.283Z"
   },
   {
    "duration": 12,
    "start_time": "2021-12-20T10:26:24.293Z"
   },
   {
    "duration": 44,
    "start_time": "2021-12-20T10:26:24.306Z"
   },
   {
    "duration": 40,
    "start_time": "2021-12-20T10:26:24.352Z"
   },
   {
    "duration": 24,
    "start_time": "2021-12-20T10:26:24.394Z"
   },
   {
    "duration": 5,
    "start_time": "2021-12-20T10:26:24.420Z"
   },
   {
    "duration": 65,
    "start_time": "2021-12-20T10:26:24.427Z"
   },
   {
    "duration": 28,
    "start_time": "2021-12-20T10:26:24.494Z"
   },
   {
    "duration": 35,
    "start_time": "2021-12-20T10:26:24.523Z"
   },
   {
    "duration": 32,
    "start_time": "2021-12-20T10:26:24.559Z"
   },
   {
    "duration": 9,
    "start_time": "2021-12-20T10:26:24.593Z"
   },
   {
    "duration": 8,
    "start_time": "2021-12-20T10:26:24.604Z"
   },
   {
    "duration": 38,
    "start_time": "2021-12-20T10:26:24.614Z"
   },
   {
    "duration": 44,
    "start_time": "2021-12-20T10:26:24.654Z"
   },
   {
    "duration": 179,
    "start_time": "2021-12-20T10:32:00.796Z"
   },
   {
    "duration": 5,
    "start_time": "2021-12-20T10:32:20.777Z"
   },
   {
    "duration": 12,
    "start_time": "2021-12-20T10:34:27.353Z"
   },
   {
    "duration": 6,
    "start_time": "2021-12-20T10:34:56.829Z"
   },
   {
    "duration": 447,
    "start_time": "2021-12-20T18:52:30.147Z"
   },
   {
    "duration": 1398,
    "start_time": "2021-12-20T18:52:37.232Z"
   },
   {
    "duration": 598,
    "start_time": "2021-12-20T18:52:38.632Z"
   },
   {
    "duration": 14,
    "start_time": "2021-12-20T18:52:39.234Z"
   },
   {
    "duration": 25,
    "start_time": "2021-12-20T18:52:39.253Z"
   },
   {
    "duration": 92,
    "start_time": "2021-12-20T18:52:39.281Z"
   },
   {
    "duration": 43,
    "start_time": "2021-12-20T18:52:39.378Z"
   },
   {
    "duration": 60,
    "start_time": "2021-12-20T18:52:39.424Z"
   },
   {
    "duration": 14,
    "start_time": "2021-12-20T18:52:39.489Z"
   },
   {
    "duration": 103,
    "start_time": "2021-12-20T18:52:39.506Z"
   },
   {
    "duration": 53,
    "start_time": "2021-12-20T18:52:39.612Z"
   },
   {
    "duration": 54,
    "start_time": "2021-12-20T18:52:39.668Z"
   },
   {
    "duration": 38,
    "start_time": "2021-12-20T18:52:39.724Z"
   },
   {
    "duration": 16,
    "start_time": "2021-12-20T18:52:39.765Z"
   },
   {
    "duration": 11,
    "start_time": "2021-12-20T18:52:39.784Z"
   },
   {
    "duration": 106,
    "start_time": "2021-12-20T18:52:39.798Z"
   },
   {
    "duration": 31,
    "start_time": "2021-12-20T18:52:39.907Z"
   },
   {
    "duration": 27,
    "start_time": "2021-12-20T18:52:39.940Z"
   },
   {
    "duration": 50,
    "start_time": "2021-12-20T18:53:54.135Z"
   },
   {
    "duration": 47,
    "start_time": "2021-12-20T18:54:09.587Z"
   },
   {
    "duration": 51,
    "start_time": "2021-12-20T19:07:53.595Z"
   },
   {
    "duration": 7682,
    "start_time": "2021-12-20T19:09:39.584Z"
   },
   {
    "duration": 10031,
    "start_time": "2021-12-20T19:10:09.164Z"
   },
   {
    "duration": 39,
    "start_time": "2021-12-20T19:10:30.923Z"
   },
   {
    "duration": 55,
    "start_time": "2021-12-20T19:16:52.165Z"
   },
   {
    "duration": 22,
    "start_time": "2021-12-20T19:22:32.430Z"
   },
   {
    "duration": 26,
    "start_time": "2021-12-20T19:23:00.275Z"
   },
   {
    "duration": 34,
    "start_time": "2021-12-20T19:23:10.163Z"
   },
   {
    "duration": 65,
    "start_time": "2021-12-20T19:25:47.777Z"
   },
   {
    "duration": 46,
    "start_time": "2021-12-20T19:26:08.671Z"
   },
   {
    "duration": 14,
    "start_time": "2021-12-20T19:27:16.114Z"
   },
   {
    "duration": 299,
    "start_time": "2021-12-20T19:30:01.436Z"
   },
   {
    "duration": 297,
    "start_time": "2021-12-20T19:30:36.559Z"
   },
   {
    "duration": 5,
    "start_time": "2021-12-20T19:31:34.799Z"
   },
   {
    "duration": 630,
    "start_time": "2021-12-20T19:31:34.807Z"
   },
   {
    "duration": 13,
    "start_time": "2021-12-20T19:31:35.440Z"
   },
   {
    "duration": 34,
    "start_time": "2021-12-20T19:31:35.456Z"
   },
   {
    "duration": 102,
    "start_time": "2021-12-20T19:31:35.493Z"
   },
   {
    "duration": 71,
    "start_time": "2021-12-20T19:31:35.599Z"
   },
   {
    "duration": 54,
    "start_time": "2021-12-20T19:31:35.674Z"
   },
   {
    "duration": 36,
    "start_time": "2021-12-20T19:31:35.731Z"
   },
   {
    "duration": 112,
    "start_time": "2021-12-20T19:31:35.774Z"
   },
   {
    "duration": 55,
    "start_time": "2021-12-20T19:31:35.890Z"
   },
   {
    "duration": 66,
    "start_time": "2021-12-20T19:31:35.948Z"
   },
   {
    "duration": 16,
    "start_time": "2021-12-20T19:31:36.017Z"
   },
   {
    "duration": 51,
    "start_time": "2021-12-20T19:31:36.036Z"
   },
   {
    "duration": 16,
    "start_time": "2021-12-20T19:31:36.090Z"
   },
   {
    "duration": 109,
    "start_time": "2021-12-20T19:31:36.109Z"
   },
   {
    "duration": 46,
    "start_time": "2021-12-20T19:31:36.224Z"
   },
   {
    "duration": 16,
    "start_time": "2021-12-20T19:31:36.272Z"
   },
   {
    "duration": 21,
    "start_time": "2021-12-20T19:31:36.290Z"
   },
   {
    "duration": 21,
    "start_time": "2021-12-20T19:33:38.428Z"
   },
   {
    "duration": 20,
    "start_time": "2021-12-20T19:34:47.854Z"
   },
   {
    "duration": 20,
    "start_time": "2021-12-20T19:34:57.147Z"
   },
   {
    "duration": 20,
    "start_time": "2021-12-20T19:35:23.662Z"
   },
   {
    "duration": 22,
    "start_time": "2021-12-20T19:36:45.339Z"
   },
   {
    "duration": 25,
    "start_time": "2021-12-20T19:37:07.829Z"
   },
   {
    "duration": 28,
    "start_time": "2021-12-20T19:38:14.655Z"
   },
   {
    "duration": 87,
    "start_time": "2021-12-20T19:47:24.473Z"
   },
   {
    "duration": 38,
    "start_time": "2021-12-20T19:47:58.890Z"
   },
   {
    "duration": 58,
    "start_time": "2021-12-20T19:49:57.694Z"
   },
   {
    "duration": 31,
    "start_time": "2021-12-20T19:50:25.398Z"
   },
   {
    "duration": 34,
    "start_time": "2021-12-20T19:50:47.549Z"
   },
   {
    "duration": 20,
    "start_time": "2021-12-20T19:59:12.277Z"
   },
   {
    "duration": 49,
    "start_time": "2021-12-20T20:00:21.636Z"
   },
   {
    "duration": 39,
    "start_time": "2021-12-20T20:00:49.155Z"
   },
   {
    "duration": 21,
    "start_time": "2021-12-20T20:01:50.916Z"
   },
   {
    "duration": 29,
    "start_time": "2021-12-20T20:01:54.314Z"
   },
   {
    "duration": 26,
    "start_time": "2021-12-20T20:01:58.657Z"
   },
   {
    "duration": 1950,
    "start_time": "2021-12-20T20:12:42.595Z"
   },
   {
    "duration": 16,
    "start_time": "2021-12-20T20:34:38.416Z"
   },
   {
    "duration": 17,
    "start_time": "2021-12-20T20:34:47.517Z"
   },
   {
    "duration": 1355,
    "start_time": "2021-12-20T20:35:00.736Z"
   },
   {
    "duration": 11,
    "start_time": "2021-12-20T20:35:19.173Z"
   },
   {
    "duration": 11,
    "start_time": "2021-12-20T20:35:27.038Z"
   },
   {
    "duration": 16,
    "start_time": "2021-12-20T20:38:14.859Z"
   },
   {
    "duration": 6,
    "start_time": "2021-12-20T20:39:14.419Z"
   },
   {
    "duration": 1448,
    "start_time": "2021-12-20T20:39:14.428Z"
   },
   {
    "duration": 15,
    "start_time": "2021-12-20T20:39:15.880Z"
   },
   {
    "duration": 16,
    "start_time": "2021-12-20T20:39:15.898Z"
   },
   {
    "duration": 95,
    "start_time": "2021-12-20T20:39:15.918Z"
   },
   {
    "duration": 61,
    "start_time": "2021-12-20T20:39:16.016Z"
   },
   {
    "duration": 36,
    "start_time": "2021-12-20T20:39:16.080Z"
   },
   {
    "duration": 9,
    "start_time": "2021-12-20T20:39:16.119Z"
   },
   {
    "duration": 97,
    "start_time": "2021-12-20T20:39:16.132Z"
   },
   {
    "duration": 80,
    "start_time": "2021-12-20T20:39:16.232Z"
   },
   {
    "duration": 77,
    "start_time": "2021-12-20T20:39:16.314Z"
   },
   {
    "duration": 21,
    "start_time": "2021-12-20T20:39:16.394Z"
   },
   {
    "duration": 44,
    "start_time": "2021-12-20T20:39:16.418Z"
   },
   {
    "duration": 15,
    "start_time": "2021-12-20T20:39:16.465Z"
   },
   {
    "duration": 68,
    "start_time": "2021-12-20T20:39:16.483Z"
   },
   {
    "duration": 30,
    "start_time": "2021-12-20T20:39:16.563Z"
   },
   {
    "duration": 15,
    "start_time": "2021-12-20T20:39:16.596Z"
   },
   {
    "duration": 76,
    "start_time": "2021-12-20T20:39:16.613Z"
   },
   {
    "duration": 19,
    "start_time": "2021-12-20T20:39:16.692Z"
   },
   {
    "duration": 33,
    "start_time": "2021-12-20T20:39:16.714Z"
   },
   {
    "duration": 30,
    "start_time": "2021-12-20T20:39:16.749Z"
   },
   {
    "duration": 1830,
    "start_time": "2021-12-20T20:39:16.782Z"
   },
   {
    "duration": 14,
    "start_time": "2021-12-20T20:39:18.615Z"
   },
   {
    "duration": 7,
    "start_time": "2021-12-20T20:43:08.205Z"
   },
   {
    "duration": 17,
    "start_time": "2021-12-20T20:44:12.578Z"
   },
   {
    "duration": 18,
    "start_time": "2021-12-20T20:44:35.305Z"
   },
   {
    "duration": 14,
    "start_time": "2021-12-20T20:44:41.695Z"
   },
   {
    "duration": 12,
    "start_time": "2021-12-20T20:45:10.145Z"
   },
   {
    "duration": 6,
    "start_time": "2021-12-20T20:48:25.122Z"
   },
   {
    "duration": 7,
    "start_time": "2021-12-20T20:48:33.324Z"
   },
   {
    "duration": 9,
    "start_time": "2021-12-20T20:49:03.071Z"
   },
   {
    "duration": 7,
    "start_time": "2021-12-20T20:49:16.436Z"
   },
   {
    "duration": 11,
    "start_time": "2021-12-20T21:14:20.947Z"
   },
   {
    "duration": 23,
    "start_time": "2021-12-20T21:19:22.651Z"
   },
   {
    "duration": 24,
    "start_time": "2021-12-20T21:20:05.818Z"
   },
   {
    "duration": 6,
    "start_time": "2021-12-20T21:20:31.287Z"
   },
   {
    "duration": 6,
    "start_time": "2021-12-20T21:20:59.604Z"
   },
   {
    "duration": 1420,
    "start_time": "2021-12-21T11:41:58.576Z"
   },
   {
    "duration": 570,
    "start_time": "2021-12-21T11:41:59.999Z"
   },
   {
    "duration": 13,
    "start_time": "2021-12-21T11:42:00.572Z"
   },
   {
    "duration": 25,
    "start_time": "2021-12-21T11:42:00.589Z"
   },
   {
    "duration": 96,
    "start_time": "2021-12-21T11:42:00.616Z"
   },
   {
    "duration": 59,
    "start_time": "2021-12-21T11:42:00.715Z"
   },
   {
    "duration": 38,
    "start_time": "2021-12-21T11:42:00.777Z"
   },
   {
    "duration": 10,
    "start_time": "2021-12-21T11:42:00.819Z"
   },
   {
    "duration": 75,
    "start_time": "2021-12-21T11:42:00.865Z"
   },
   {
    "duration": 56,
    "start_time": "2021-12-21T11:42:00.943Z"
   },
   {
    "duration": 69,
    "start_time": "2021-12-21T11:42:01.001Z"
   },
   {
    "duration": 20,
    "start_time": "2021-12-21T11:42:01.072Z"
   },
   {
    "duration": 15,
    "start_time": "2021-12-21T11:42:01.094Z"
   },
   {
    "duration": 19,
    "start_time": "2021-12-21T11:42:01.112Z"
   },
   {
    "duration": 73,
    "start_time": "2021-12-21T11:42:01.133Z"
   },
   {
    "duration": 29,
    "start_time": "2021-12-21T11:42:01.208Z"
   },
   {
    "duration": 34,
    "start_time": "2021-12-21T11:42:01.240Z"
   },
   {
    "duration": 32,
    "start_time": "2021-12-21T11:42:01.277Z"
   },
   {
    "duration": 16,
    "start_time": "2021-12-21T11:42:01.312Z"
   },
   {
    "duration": 45,
    "start_time": "2021-12-21T11:42:01.331Z"
   },
   {
    "duration": 19,
    "start_time": "2021-12-21T11:42:01.379Z"
   },
   {
    "duration": 1247,
    "start_time": "2021-12-21T11:42:01.401Z"
   },
   {
    "duration": 22,
    "start_time": "2021-12-21T11:42:02.650Z"
   },
   {
    "duration": 11,
    "start_time": "2021-12-21T11:42:02.675Z"
   },
   {
    "duration": 5,
    "start_time": "2021-12-21T11:49:29.116Z"
   },
   {
    "duration": 7,
    "start_time": "2021-12-21T11:49:37.600Z"
   },
   {
    "duration": 12,
    "start_time": "2021-12-21T11:50:30.381Z"
   },
   {
    "duration": 337,
    "start_time": "2021-12-21T19:54:04.907Z"
   },
   {
    "duration": 1542,
    "start_time": "2021-12-21T19:54:09.474Z"
   },
   {
    "duration": 570,
    "start_time": "2021-12-21T19:54:11.019Z"
   },
   {
    "duration": 12,
    "start_time": "2021-12-21T19:54:11.592Z"
   },
   {
    "duration": 15,
    "start_time": "2021-12-21T19:54:11.607Z"
   },
   {
    "duration": 100,
    "start_time": "2021-12-21T19:54:11.624Z"
   },
   {
    "duration": 58,
    "start_time": "2021-12-21T19:54:11.727Z"
   },
   {
    "duration": 35,
    "start_time": "2021-12-21T19:54:11.787Z"
   },
   {
    "duration": 9,
    "start_time": "2021-12-21T19:54:11.826Z"
   },
   {
    "duration": 72,
    "start_time": "2021-12-21T19:54:11.865Z"
   },
   {
    "duration": 61,
    "start_time": "2021-12-21T19:54:11.939Z"
   },
   {
    "duration": 71,
    "start_time": "2021-12-21T19:54:12.003Z"
   },
   {
    "duration": 22,
    "start_time": "2021-12-21T19:54:12.078Z"
   },
   {
    "duration": 16,
    "start_time": "2021-12-21T19:54:12.102Z"
   },
   {
    "duration": 11,
    "start_time": "2021-12-21T19:54:12.120Z"
   },
   {
    "duration": 81,
    "start_time": "2021-12-21T19:54:12.134Z"
   },
   {
    "duration": 61,
    "start_time": "2021-12-21T19:54:12.218Z"
   },
   {
    "duration": 6,
    "start_time": "2021-12-21T19:54:12.282Z"
   },
   {
    "duration": 11,
    "start_time": "2021-12-21T19:54:12.290Z"
   },
   {
    "duration": 14,
    "start_time": "2021-12-21T19:54:12.303Z"
   },
   {
    "duration": 69,
    "start_time": "2021-12-21T19:54:12.319Z"
   },
   {
    "duration": 10,
    "start_time": "2021-12-21T19:54:12.390Z"
   },
   {
    "duration": 20,
    "start_time": "2021-12-21T19:54:12.402Z"
   },
   {
    "duration": 42,
    "start_time": "2021-12-21T19:54:12.426Z"
   },
   {
    "duration": 20,
    "start_time": "2021-12-21T19:54:12.471Z"
   },
   {
    "duration": 1320,
    "start_time": "2021-12-21T19:54:12.494Z"
   },
   {
    "duration": 12,
    "start_time": "2021-12-21T19:54:13.817Z"
   },
   {
    "duration": 32,
    "start_time": "2021-12-21T19:54:13.831Z"
   },
   {
    "duration": 23,
    "start_time": "2021-12-21T19:54:13.865Z"
   },
   {
    "duration": 8730,
    "start_time": "2021-12-21T19:58:01.091Z"
   },
   {
    "duration": 5,
    "start_time": "2021-12-21T19:58:16.805Z"
   },
   {
    "duration": 531,
    "start_time": "2021-12-21T19:58:16.814Z"
   },
   {
    "duration": 13,
    "start_time": "2021-12-21T19:58:17.348Z"
   },
   {
    "duration": 40,
    "start_time": "2021-12-21T19:58:17.363Z"
   },
   {
    "duration": 71,
    "start_time": "2021-12-21T19:58:17.405Z"
   },
   {
    "duration": 41,
    "start_time": "2021-12-21T19:58:17.479Z"
   },
   {
    "duration": 54,
    "start_time": "2021-12-21T19:58:17.523Z"
   },
   {
    "duration": 8,
    "start_time": "2021-12-21T19:58:17.581Z"
   },
   {
    "duration": 90,
    "start_time": "2021-12-21T19:58:17.592Z"
   },
   {
    "duration": 43,
    "start_time": "2021-12-21T19:58:17.686Z"
   },
   {
    "duration": 74,
    "start_time": "2021-12-21T19:58:17.732Z"
   },
   {
    "duration": 14,
    "start_time": "2021-12-21T19:58:17.809Z"
   },
   {
    "duration": 43,
    "start_time": "2021-12-21T19:58:17.825Z"
   },
   {
    "duration": 15,
    "start_time": "2021-12-21T19:58:17.871Z"
   },
   {
    "duration": 65,
    "start_time": "2021-12-21T19:58:17.888Z"
   },
   {
    "duration": 33,
    "start_time": "2021-12-21T19:58:17.955Z"
   },
   {
    "duration": 10,
    "start_time": "2021-12-21T19:58:17.990Z"
   },
   {
    "duration": 36,
    "start_time": "2021-12-21T19:58:18.002Z"
   },
   {
    "duration": 27,
    "start_time": "2021-12-21T19:58:18.040Z"
   },
   {
    "duration": 37,
    "start_time": "2021-12-21T19:58:18.069Z"
   },
   {
    "duration": 9,
    "start_time": "2021-12-21T19:58:18.109Z"
   },
   {
    "duration": 43,
    "start_time": "2021-12-21T19:58:18.121Z"
   },
   {
    "duration": 19,
    "start_time": "2021-12-21T19:58:18.169Z"
   },
   {
    "duration": 45,
    "start_time": "2021-12-21T19:58:18.191Z"
   },
   {
    "duration": 1209,
    "start_time": "2021-12-21T19:58:18.239Z"
   },
   {
    "duration": 17,
    "start_time": "2021-12-21T19:58:19.450Z"
   },
   {
    "duration": 26,
    "start_time": "2021-12-21T19:58:19.469Z"
   },
   {
    "duration": 4,
    "start_time": "2021-12-21T20:08:45.080Z"
   },
   {
    "duration": 543,
    "start_time": "2021-12-21T20:08:45.087Z"
   },
   {
    "duration": 12,
    "start_time": "2021-12-21T20:08:45.633Z"
   },
   {
    "duration": 24,
    "start_time": "2021-12-21T20:08:45.648Z"
   },
   {
    "duration": 66,
    "start_time": "2021-12-21T20:08:45.675Z"
   },
   {
    "duration": 44,
    "start_time": "2021-12-21T20:08:45.764Z"
   },
   {
    "duration": 62,
    "start_time": "2021-12-21T20:08:45.811Z"
   },
   {
    "duration": 9,
    "start_time": "2021-12-21T20:08:45.876Z"
   },
   {
    "duration": 89,
    "start_time": "2021-12-21T20:08:45.889Z"
   },
   {
    "duration": 43,
    "start_time": "2021-12-21T20:08:45.981Z"
   },
   {
    "duration": 79,
    "start_time": "2021-12-21T20:08:46.027Z"
   },
   {
    "duration": 15,
    "start_time": "2021-12-21T20:08:46.109Z"
   },
   {
    "duration": 39,
    "start_time": "2021-12-21T20:08:46.127Z"
   },
   {
    "duration": 14,
    "start_time": "2021-12-21T20:08:46.169Z"
   },
   {
    "duration": 77,
    "start_time": "2021-12-21T20:08:46.186Z"
   },
   {
    "duration": 41,
    "start_time": "2021-12-21T20:08:46.266Z"
   },
   {
    "duration": 8,
    "start_time": "2021-12-21T20:08:46.310Z"
   },
   {
    "duration": 112,
    "start_time": "2021-12-21T20:08:46.321Z"
   },
   {
    "duration": 64,
    "start_time": "2021-12-21T20:08:46.436Z"
   },
   {
    "duration": 37,
    "start_time": "2021-12-21T20:08:46.503Z"
   },
   {
    "duration": 11,
    "start_time": "2021-12-21T20:08:46.543Z"
   },
   {
    "duration": 23,
    "start_time": "2021-12-21T20:08:46.556Z"
   },
   {
    "duration": 18,
    "start_time": "2021-12-21T20:08:46.581Z"
   },
   {
    "duration": 17,
    "start_time": "2021-12-21T20:08:46.602Z"
   },
   {
    "duration": 1350,
    "start_time": "2021-12-21T20:08:46.621Z"
   },
   {
    "duration": 14,
    "start_time": "2021-12-21T20:08:47.974Z"
   },
   {
    "duration": 13,
    "start_time": "2021-12-21T20:08:47.994Z"
   },
   {
    "duration": 5,
    "start_time": "2021-12-21T20:10:10.374Z"
   },
   {
    "duration": 535,
    "start_time": "2021-12-21T20:10:10.381Z"
   },
   {
    "duration": 15,
    "start_time": "2021-12-21T20:10:10.920Z"
   },
   {
    "duration": 30,
    "start_time": "2021-12-21T20:10:10.938Z"
   },
   {
    "duration": 61,
    "start_time": "2021-12-21T20:10:10.971Z"
   },
   {
    "duration": 63,
    "start_time": "2021-12-21T20:10:11.034Z"
   },
   {
    "duration": 35,
    "start_time": "2021-12-21T20:10:11.100Z"
   },
   {
    "duration": 29,
    "start_time": "2021-12-21T20:10:11.138Z"
   },
   {
    "duration": 73,
    "start_time": "2021-12-21T20:10:11.173Z"
   },
   {
    "duration": 41,
    "start_time": "2021-12-21T20:10:11.264Z"
   },
   {
    "duration": 80,
    "start_time": "2021-12-21T20:10:11.308Z"
   },
   {
    "duration": 16,
    "start_time": "2021-12-21T20:10:11.390Z"
   },
   {
    "duration": 18,
    "start_time": "2021-12-21T20:10:11.408Z"
   },
   {
    "duration": 37,
    "start_time": "2021-12-21T20:10:11.428Z"
   },
   {
    "duration": 57,
    "start_time": "2021-12-21T20:10:11.467Z"
   },
   {
    "duration": 51,
    "start_time": "2021-12-21T20:10:11.526Z"
   },
   {
    "duration": 6,
    "start_time": "2021-12-21T20:10:11.581Z"
   },
   {
    "duration": 7,
    "start_time": "2021-12-21T20:10:11.591Z"
   },
   {
    "duration": 17,
    "start_time": "2021-12-21T20:10:11.601Z"
   },
   {
    "duration": 36,
    "start_time": "2021-12-21T20:10:11.663Z"
   },
   {
    "duration": 12,
    "start_time": "2021-12-21T20:10:11.702Z"
   },
   {
    "duration": 53,
    "start_time": "2021-12-21T20:10:11.717Z"
   },
   {
    "duration": 20,
    "start_time": "2021-12-21T20:10:11.773Z"
   },
   {
    "duration": 19,
    "start_time": "2021-12-21T20:10:11.797Z"
   },
   {
    "duration": 1238,
    "start_time": "2021-12-21T20:10:11.819Z"
   },
   {
    "duration": 14,
    "start_time": "2021-12-21T20:10:13.063Z"
   },
   {
    "duration": 12,
    "start_time": "2021-12-21T20:10:13.081Z"
   }
  ],
  "kernelspec": {
   "display_name": "Python 3",
   "language": "python",
   "name": "python3"
  },
  "language_info": {
   "codemirror_mode": {
    "name": "ipython",
    "version": 3
   },
   "file_extension": ".py",
   "mimetype": "text/x-python",
   "name": "python",
   "nbconvert_exporter": "python",
   "pygments_lexer": "ipython3",
   "version": "3.8.8"
  },
  "toc": {
   "base_numbering": 1,
   "nav_menu": {},
   "number_sections": true,
   "sideBar": true,
   "skip_h1_title": true,
   "title_cell": "Table of Contents",
   "title_sidebar": "Contents",
   "toc_cell": false,
   "toc_position": {},
   "toc_section_display": true,
   "toc_window_display": false
  }
 },
 "nbformat": 4,
 "nbformat_minor": 2
}
