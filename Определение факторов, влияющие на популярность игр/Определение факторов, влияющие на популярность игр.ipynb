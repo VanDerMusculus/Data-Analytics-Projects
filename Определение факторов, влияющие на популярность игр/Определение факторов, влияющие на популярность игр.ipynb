{
 "cells": [
  {
   "cell_type": "markdown",
   "metadata": {},
   "source": [
    "# Определение факторов, влияющие на популярность игр"
   ]
  },
  {
   "cell_type": "markdown",
   "metadata": {},
   "source": [
    "Из открытых источников доступны исторические данные о продажах игр, оценки пользователей и экспертов, жанры и платформы. Нужно выявить определяющие успешность игры закономерности. Это позволит сделать ставку на потенциально популярный продукт и спланировать рекламные кампании для продвижения."
   ]
  },
  {
   "cell_type": "markdown",
   "metadata": {},
   "source": [
    "# План исследования"
   ]
  },
  {
   "cell_type": "markdown",
   "metadata": {},
   "source": [
    "- [Анализ данных](#анализ)\n",
    "- [Исследовательский анализ данных](#eda)\n",
    "- [Портрет Регионов](#портрет)\n",
    "- [Проверка гипотез](#гипотезы)\n",
    "- [Выводы](#вывод)"
   ]
  },
  {
   "cell_type": "markdown",
   "metadata": {},
   "source": [
    "# Анализ Данных <a id='анализ'></a>"
   ]
  },
  {
   "cell_type": "markdown",
   "metadata": {},
   "source": [
    "Первым делом собираюсь открыть датасэт, изучить его структуру, наличие пропусков, форматы данных. Далее собираюсь привести данные к единым форматам, изменить заголовки столбцов для облегчения доступа к информации. Заполнить пропуски при наличии таковых."
   ]
  },
  {
   "cell_type": "code",
   "execution_count": 1,
   "metadata": {},
   "outputs": [],
   "source": [
    "import pandas as pd\n",
    "import matplotlib.pyplot as plt\n",
    "from math import factorial\n",
    "import numpy as np\n",
    "from scipy import stats as st\n",
    "import math as mt"
   ]
  },
  {
   "cell_type": "code",
   "execution_count": 2,
   "metadata": {},
   "outputs": [
    {
     "data": {
      "text/html": [
       "<div>\n",
       "<style scoped>\n",
       "    .dataframe tbody tr th:only-of-type {\n",
       "        vertical-align: middle;\n",
       "    }\n",
       "\n",
       "    .dataframe tbody tr th {\n",
       "        vertical-align: top;\n",
       "    }\n",
       "\n",
       "    .dataframe thead th {\n",
       "        text-align: right;\n",
       "    }\n",
       "</style>\n",
       "<table border=\"1\" class=\"dataframe\">\n",
       "  <thead>\n",
       "    <tr style=\"text-align: right;\">\n",
       "      <th></th>\n",
       "      <th>Name</th>\n",
       "      <th>Platform</th>\n",
       "      <th>Year_of_Release</th>\n",
       "      <th>Genre</th>\n",
       "      <th>NA_sales</th>\n",
       "      <th>EU_sales</th>\n",
       "      <th>JP_sales</th>\n",
       "      <th>Other_sales</th>\n",
       "      <th>Critic_Score</th>\n",
       "      <th>User_Score</th>\n",
       "      <th>Rating</th>\n",
       "    </tr>\n",
       "  </thead>\n",
       "  <tbody>\n",
       "    <tr>\n",
       "      <th>0</th>\n",
       "      <td>Wii Sports</td>\n",
       "      <td>Wii</td>\n",
       "      <td>2006.0</td>\n",
       "      <td>Sports</td>\n",
       "      <td>41.36</td>\n",
       "      <td>28.96</td>\n",
       "      <td>3.77</td>\n",
       "      <td>8.45</td>\n",
       "      <td>76.0</td>\n",
       "      <td>8</td>\n",
       "      <td>E</td>\n",
       "    </tr>\n",
       "    <tr>\n",
       "      <th>1</th>\n",
       "      <td>Super Mario Bros.</td>\n",
       "      <td>NES</td>\n",
       "      <td>1985.0</td>\n",
       "      <td>Platform</td>\n",
       "      <td>29.08</td>\n",
       "      <td>3.58</td>\n",
       "      <td>6.81</td>\n",
       "      <td>0.77</td>\n",
       "      <td>NaN</td>\n",
       "      <td>NaN</td>\n",
       "      <td>NaN</td>\n",
       "    </tr>\n",
       "    <tr>\n",
       "      <th>2</th>\n",
       "      <td>Mario Kart Wii</td>\n",
       "      <td>Wii</td>\n",
       "      <td>2008.0</td>\n",
       "      <td>Racing</td>\n",
       "      <td>15.68</td>\n",
       "      <td>12.76</td>\n",
       "      <td>3.79</td>\n",
       "      <td>3.29</td>\n",
       "      <td>82.0</td>\n",
       "      <td>8.3</td>\n",
       "      <td>E</td>\n",
       "    </tr>\n",
       "    <tr>\n",
       "      <th>3</th>\n",
       "      <td>Wii Sports Resort</td>\n",
       "      <td>Wii</td>\n",
       "      <td>2009.0</td>\n",
       "      <td>Sports</td>\n",
       "      <td>15.61</td>\n",
       "      <td>10.93</td>\n",
       "      <td>3.28</td>\n",
       "      <td>2.95</td>\n",
       "      <td>80.0</td>\n",
       "      <td>8</td>\n",
       "      <td>E</td>\n",
       "    </tr>\n",
       "    <tr>\n",
       "      <th>4</th>\n",
       "      <td>Pokemon Red/Pokemon Blue</td>\n",
       "      <td>GB</td>\n",
       "      <td>1996.0</td>\n",
       "      <td>Role-Playing</td>\n",
       "      <td>11.27</td>\n",
       "      <td>8.89</td>\n",
       "      <td>10.22</td>\n",
       "      <td>1.00</td>\n",
       "      <td>NaN</td>\n",
       "      <td>NaN</td>\n",
       "      <td>NaN</td>\n",
       "    </tr>\n",
       "    <tr>\n",
       "      <th>...</th>\n",
       "      <td>...</td>\n",
       "      <td>...</td>\n",
       "      <td>...</td>\n",
       "      <td>...</td>\n",
       "      <td>...</td>\n",
       "      <td>...</td>\n",
       "      <td>...</td>\n",
       "      <td>...</td>\n",
       "      <td>...</td>\n",
       "      <td>...</td>\n",
       "      <td>...</td>\n",
       "    </tr>\n",
       "    <tr>\n",
       "      <th>16710</th>\n",
       "      <td>Samurai Warriors: Sanada Maru</td>\n",
       "      <td>PS3</td>\n",
       "      <td>2016.0</td>\n",
       "      <td>Action</td>\n",
       "      <td>0.00</td>\n",
       "      <td>0.00</td>\n",
       "      <td>0.01</td>\n",
       "      <td>0.00</td>\n",
       "      <td>NaN</td>\n",
       "      <td>NaN</td>\n",
       "      <td>NaN</td>\n",
       "    </tr>\n",
       "    <tr>\n",
       "      <th>16711</th>\n",
       "      <td>LMA Manager 2007</td>\n",
       "      <td>X360</td>\n",
       "      <td>2006.0</td>\n",
       "      <td>Sports</td>\n",
       "      <td>0.00</td>\n",
       "      <td>0.01</td>\n",
       "      <td>0.00</td>\n",
       "      <td>0.00</td>\n",
       "      <td>NaN</td>\n",
       "      <td>NaN</td>\n",
       "      <td>NaN</td>\n",
       "    </tr>\n",
       "    <tr>\n",
       "      <th>16712</th>\n",
       "      <td>Haitaka no Psychedelica</td>\n",
       "      <td>PSV</td>\n",
       "      <td>2016.0</td>\n",
       "      <td>Adventure</td>\n",
       "      <td>0.00</td>\n",
       "      <td>0.00</td>\n",
       "      <td>0.01</td>\n",
       "      <td>0.00</td>\n",
       "      <td>NaN</td>\n",
       "      <td>NaN</td>\n",
       "      <td>NaN</td>\n",
       "    </tr>\n",
       "    <tr>\n",
       "      <th>16713</th>\n",
       "      <td>Spirits &amp; Spells</td>\n",
       "      <td>GBA</td>\n",
       "      <td>2003.0</td>\n",
       "      <td>Platform</td>\n",
       "      <td>0.01</td>\n",
       "      <td>0.00</td>\n",
       "      <td>0.00</td>\n",
       "      <td>0.00</td>\n",
       "      <td>NaN</td>\n",
       "      <td>NaN</td>\n",
       "      <td>NaN</td>\n",
       "    </tr>\n",
       "    <tr>\n",
       "      <th>16714</th>\n",
       "      <td>Winning Post 8 2016</td>\n",
       "      <td>PSV</td>\n",
       "      <td>2016.0</td>\n",
       "      <td>Simulation</td>\n",
       "      <td>0.00</td>\n",
       "      <td>0.00</td>\n",
       "      <td>0.01</td>\n",
       "      <td>0.00</td>\n",
       "      <td>NaN</td>\n",
       "      <td>NaN</td>\n",
       "      <td>NaN</td>\n",
       "    </tr>\n",
       "  </tbody>\n",
       "</table>\n",
       "<p>16715 rows × 11 columns</p>\n",
       "</div>"
      ],
      "text/plain": [
       "                                Name Platform  Year_of_Release         Genre  \\\n",
       "0                         Wii Sports      Wii           2006.0        Sports   \n",
       "1                  Super Mario Bros.      NES           1985.0      Platform   \n",
       "2                     Mario Kart Wii      Wii           2008.0        Racing   \n",
       "3                  Wii Sports Resort      Wii           2009.0        Sports   \n",
       "4           Pokemon Red/Pokemon Blue       GB           1996.0  Role-Playing   \n",
       "...                              ...      ...              ...           ...   \n",
       "16710  Samurai Warriors: Sanada Maru      PS3           2016.0        Action   \n",
       "16711               LMA Manager 2007     X360           2006.0        Sports   \n",
       "16712        Haitaka no Psychedelica      PSV           2016.0     Adventure   \n",
       "16713               Spirits & Spells      GBA           2003.0      Platform   \n",
       "16714            Winning Post 8 2016      PSV           2016.0    Simulation   \n",
       "\n",
       "       NA_sales  EU_sales  JP_sales  Other_sales  Critic_Score User_Score  \\\n",
       "0         41.36     28.96      3.77         8.45          76.0          8   \n",
       "1         29.08      3.58      6.81         0.77           NaN        NaN   \n",
       "2         15.68     12.76      3.79         3.29          82.0        8.3   \n",
       "3         15.61     10.93      3.28         2.95          80.0          8   \n",
       "4         11.27      8.89     10.22         1.00           NaN        NaN   \n",
       "...         ...       ...       ...          ...           ...        ...   \n",
       "16710      0.00      0.00      0.01         0.00           NaN        NaN   \n",
       "16711      0.00      0.01      0.00         0.00           NaN        NaN   \n",
       "16712      0.00      0.00      0.01         0.00           NaN        NaN   \n",
       "16713      0.01      0.00      0.00         0.00           NaN        NaN   \n",
       "16714      0.00      0.00      0.01         0.00           NaN        NaN   \n",
       "\n",
       "      Rating  \n",
       "0          E  \n",
       "1        NaN  \n",
       "2          E  \n",
       "3          E  \n",
       "4        NaN  \n",
       "...      ...  \n",
       "16710    NaN  \n",
       "16711    NaN  \n",
       "16712    NaN  \n",
       "16713    NaN  \n",
       "16714    NaN  \n",
       "\n",
       "[16715 rows x 11 columns]"
      ]
     },
     "execution_count": 2,
     "metadata": {},
     "output_type": "execute_result"
    }
   ],
   "source": [
    "data = pd.read_csv('/datasets/games.csv')\n",
    "data"
   ]
  },
  {
   "cell_type": "code",
   "execution_count": 3,
   "metadata": {
    "scrolled": true
   },
   "outputs": [
    {
     "name": "stdout",
     "output_type": "stream",
     "text": [
      "<class 'pandas.core.frame.DataFrame'>\n",
      "RangeIndex: 16715 entries, 0 to 16714\n",
      "Data columns (total 11 columns):\n",
      " #   Column           Non-Null Count  Dtype  \n",
      "---  ------           --------------  -----  \n",
      " 0   Name             16713 non-null  object \n",
      " 1   Platform         16715 non-null  object \n",
      " 2   Year_of_Release  16446 non-null  float64\n",
      " 3   Genre            16713 non-null  object \n",
      " 4   NA_sales         16715 non-null  float64\n",
      " 5   EU_sales         16715 non-null  float64\n",
      " 6   JP_sales         16715 non-null  float64\n",
      " 7   Other_sales      16715 non-null  float64\n",
      " 8   Critic_Score     8137 non-null   float64\n",
      " 9   User_Score       10014 non-null  object \n",
      " 10  Rating           9949 non-null   object \n",
      "dtypes: float64(6), object(5)\n",
      "memory usage: 1.4+ MB\n"
     ]
    }
   ],
   "source": [
    "data.info()"
   ]
  },
  {
   "cell_type": "markdown",
   "metadata": {},
   "source": [
    "В датасете 11 столбцов с различными данными, которые условно можно разделить на название игры, год выпуска, жанр, продажи по регионам, оценки пользователей и критиков, а также рейтинг ESRB. Продажи представлены в млн копий, оценки пользователей по 10-бальной шкале, критиков по 100-бальной."
   ]
  },
  {
   "cell_type": "markdown",
   "metadata": {},
   "source": [
    "Необходимо привести названия столбцов к нижнему регистру. Данные в столбцах с продажами, оценкой пользователей и критиков можно оставить в формате float, тк подобного рода данные даются в формате дробных чисел. Целочисленный формат (отброс добной части или округление) может исказить общую картину. Значения tbd (to be defined) меняем на заглушку nan. Заполнение пропусков в любом столбце чревато искажением общей картины исследования, поэтому заполнять пропуски не стану. В отдельные столбцы посчитаем суммарные продажи по регионам"
   ]
  },
  {
   "cell_type": "code",
   "execution_count": 4,
   "metadata": {
    "scrolled": true
   },
   "outputs": [
    {
     "data": {
      "text/html": [
       "<div>\n",
       "<style scoped>\n",
       "    .dataframe tbody tr th:only-of-type {\n",
       "        vertical-align: middle;\n",
       "    }\n",
       "\n",
       "    .dataframe tbody tr th {\n",
       "        vertical-align: top;\n",
       "    }\n",
       "\n",
       "    .dataframe thead th {\n",
       "        text-align: right;\n",
       "    }\n",
       "</style>\n",
       "<table border=\"1\" class=\"dataframe\">\n",
       "  <thead>\n",
       "    <tr style=\"text-align: right;\">\n",
       "      <th></th>\n",
       "      <th>name</th>\n",
       "      <th>platform</th>\n",
       "      <th>year_of_release</th>\n",
       "      <th>genre</th>\n",
       "      <th>na_sales</th>\n",
       "      <th>eu_sales</th>\n",
       "      <th>jp_sales</th>\n",
       "      <th>other_sales</th>\n",
       "      <th>critic_score</th>\n",
       "      <th>user_score</th>\n",
       "      <th>rating</th>\n",
       "    </tr>\n",
       "  </thead>\n",
       "  <tbody>\n",
       "    <tr>\n",
       "      <th>0</th>\n",
       "      <td>Wii Sports</td>\n",
       "      <td>Wii</td>\n",
       "      <td>2006.0</td>\n",
       "      <td>Sports</td>\n",
       "      <td>41.36</td>\n",
       "      <td>28.96</td>\n",
       "      <td>3.77</td>\n",
       "      <td>8.45</td>\n",
       "      <td>76.0</td>\n",
       "      <td>8</td>\n",
       "      <td>E</td>\n",
       "    </tr>\n",
       "    <tr>\n",
       "      <th>1</th>\n",
       "      <td>Super Mario Bros.</td>\n",
       "      <td>NES</td>\n",
       "      <td>1985.0</td>\n",
       "      <td>Platform</td>\n",
       "      <td>29.08</td>\n",
       "      <td>3.58</td>\n",
       "      <td>6.81</td>\n",
       "      <td>0.77</td>\n",
       "      <td>NaN</td>\n",
       "      <td>NaN</td>\n",
       "      <td>NaN</td>\n",
       "    </tr>\n",
       "    <tr>\n",
       "      <th>2</th>\n",
       "      <td>Mario Kart Wii</td>\n",
       "      <td>Wii</td>\n",
       "      <td>2008.0</td>\n",
       "      <td>Racing</td>\n",
       "      <td>15.68</td>\n",
       "      <td>12.76</td>\n",
       "      <td>3.79</td>\n",
       "      <td>3.29</td>\n",
       "      <td>82.0</td>\n",
       "      <td>8.3</td>\n",
       "      <td>E</td>\n",
       "    </tr>\n",
       "    <tr>\n",
       "      <th>3</th>\n",
       "      <td>Wii Sports Resort</td>\n",
       "      <td>Wii</td>\n",
       "      <td>2009.0</td>\n",
       "      <td>Sports</td>\n",
       "      <td>15.61</td>\n",
       "      <td>10.93</td>\n",
       "      <td>3.28</td>\n",
       "      <td>2.95</td>\n",
       "      <td>80.0</td>\n",
       "      <td>8</td>\n",
       "      <td>E</td>\n",
       "    </tr>\n",
       "    <tr>\n",
       "      <th>4</th>\n",
       "      <td>Pokemon Red/Pokemon Blue</td>\n",
       "      <td>GB</td>\n",
       "      <td>1996.0</td>\n",
       "      <td>Role-Playing</td>\n",
       "      <td>11.27</td>\n",
       "      <td>8.89</td>\n",
       "      <td>10.22</td>\n",
       "      <td>1.00</td>\n",
       "      <td>NaN</td>\n",
       "      <td>NaN</td>\n",
       "      <td>NaN</td>\n",
       "    </tr>\n",
       "    <tr>\n",
       "      <th>...</th>\n",
       "      <td>...</td>\n",
       "      <td>...</td>\n",
       "      <td>...</td>\n",
       "      <td>...</td>\n",
       "      <td>...</td>\n",
       "      <td>...</td>\n",
       "      <td>...</td>\n",
       "      <td>...</td>\n",
       "      <td>...</td>\n",
       "      <td>...</td>\n",
       "      <td>...</td>\n",
       "    </tr>\n",
       "    <tr>\n",
       "      <th>16710</th>\n",
       "      <td>Samurai Warriors: Sanada Maru</td>\n",
       "      <td>PS3</td>\n",
       "      <td>2016.0</td>\n",
       "      <td>Action</td>\n",
       "      <td>0.00</td>\n",
       "      <td>0.00</td>\n",
       "      <td>0.01</td>\n",
       "      <td>0.00</td>\n",
       "      <td>NaN</td>\n",
       "      <td>NaN</td>\n",
       "      <td>NaN</td>\n",
       "    </tr>\n",
       "    <tr>\n",
       "      <th>16711</th>\n",
       "      <td>LMA Manager 2007</td>\n",
       "      <td>X360</td>\n",
       "      <td>2006.0</td>\n",
       "      <td>Sports</td>\n",
       "      <td>0.00</td>\n",
       "      <td>0.01</td>\n",
       "      <td>0.00</td>\n",
       "      <td>0.00</td>\n",
       "      <td>NaN</td>\n",
       "      <td>NaN</td>\n",
       "      <td>NaN</td>\n",
       "    </tr>\n",
       "    <tr>\n",
       "      <th>16712</th>\n",
       "      <td>Haitaka no Psychedelica</td>\n",
       "      <td>PSV</td>\n",
       "      <td>2016.0</td>\n",
       "      <td>Adventure</td>\n",
       "      <td>0.00</td>\n",
       "      <td>0.00</td>\n",
       "      <td>0.01</td>\n",
       "      <td>0.00</td>\n",
       "      <td>NaN</td>\n",
       "      <td>NaN</td>\n",
       "      <td>NaN</td>\n",
       "    </tr>\n",
       "    <tr>\n",
       "      <th>16713</th>\n",
       "      <td>Spirits &amp; Spells</td>\n",
       "      <td>GBA</td>\n",
       "      <td>2003.0</td>\n",
       "      <td>Platform</td>\n",
       "      <td>0.01</td>\n",
       "      <td>0.00</td>\n",
       "      <td>0.00</td>\n",
       "      <td>0.00</td>\n",
       "      <td>NaN</td>\n",
       "      <td>NaN</td>\n",
       "      <td>NaN</td>\n",
       "    </tr>\n",
       "    <tr>\n",
       "      <th>16714</th>\n",
       "      <td>Winning Post 8 2016</td>\n",
       "      <td>PSV</td>\n",
       "      <td>2016.0</td>\n",
       "      <td>Simulation</td>\n",
       "      <td>0.00</td>\n",
       "      <td>0.00</td>\n",
       "      <td>0.01</td>\n",
       "      <td>0.00</td>\n",
       "      <td>NaN</td>\n",
       "      <td>NaN</td>\n",
       "      <td>NaN</td>\n",
       "    </tr>\n",
       "  </tbody>\n",
       "</table>\n",
       "<p>16715 rows × 11 columns</p>\n",
       "</div>"
      ],
      "text/plain": [
       "                                name platform  year_of_release         genre  \\\n",
       "0                         Wii Sports      Wii           2006.0        Sports   \n",
       "1                  Super Mario Bros.      NES           1985.0      Platform   \n",
       "2                     Mario Kart Wii      Wii           2008.0        Racing   \n",
       "3                  Wii Sports Resort      Wii           2009.0        Sports   \n",
       "4           Pokemon Red/Pokemon Blue       GB           1996.0  Role-Playing   \n",
       "...                              ...      ...              ...           ...   \n",
       "16710  Samurai Warriors: Sanada Maru      PS3           2016.0        Action   \n",
       "16711               LMA Manager 2007     X360           2006.0        Sports   \n",
       "16712        Haitaka no Psychedelica      PSV           2016.0     Adventure   \n",
       "16713               Spirits & Spells      GBA           2003.0      Platform   \n",
       "16714            Winning Post 8 2016      PSV           2016.0    Simulation   \n",
       "\n",
       "       na_sales  eu_sales  jp_sales  other_sales  critic_score user_score  \\\n",
       "0         41.36     28.96      3.77         8.45          76.0          8   \n",
       "1         29.08      3.58      6.81         0.77           NaN        NaN   \n",
       "2         15.68     12.76      3.79         3.29          82.0        8.3   \n",
       "3         15.61     10.93      3.28         2.95          80.0          8   \n",
       "4         11.27      8.89     10.22         1.00           NaN        NaN   \n",
       "...         ...       ...       ...          ...           ...        ...   \n",
       "16710      0.00      0.00      0.01         0.00           NaN        NaN   \n",
       "16711      0.00      0.01      0.00         0.00           NaN        NaN   \n",
       "16712      0.00      0.00      0.01         0.00           NaN        NaN   \n",
       "16713      0.01      0.00      0.00         0.00           NaN        NaN   \n",
       "16714      0.00      0.00      0.01         0.00           NaN        NaN   \n",
       "\n",
       "      rating  \n",
       "0          E  \n",
       "1        NaN  \n",
       "2          E  \n",
       "3          E  \n",
       "4        NaN  \n",
       "...      ...  \n",
       "16710    NaN  \n",
       "16711    NaN  \n",
       "16712    NaN  \n",
       "16713    NaN  \n",
       "16714    NaN  \n",
       "\n",
       "[16715 rows x 11 columns]"
      ]
     },
     "execution_count": 4,
     "metadata": {},
     "output_type": "execute_result"
    }
   ],
   "source": [
    "data.columns = data.columns.str.lower()\n",
    "data"
   ]
  },
  {
   "cell_type": "code",
   "execution_count": 5,
   "metadata": {
    "scrolled": true
   },
   "outputs": [
    {
     "data": {
      "text/plain": [
       "array(['8', nan, '8.3', '8.5', '6.6', '8.4', '8.6', '7.7', '6.3', '7.4',\n",
       "       '8.2', '9', '7.9', '8.1', '8.7', '7.1', '3.4', '5.3', '4.8', '3.2',\n",
       "       '8.9', '6.4', '7.8', '7.5', '2.6', '7.2', '9.2', '7', '7.3', '4.3',\n",
       "       '7.6', '5.7', '5', '9.1', '6.5', '8.8', '6.9', '9.4', '6.8', '6.1',\n",
       "       '6.7', '5.4', '4', '4.9', '4.5', '9.3', '6.2', '4.2', '6', '3.7',\n",
       "       '4.1', '5.8', '5.6', '5.5', '4.4', '4.6', '5.9', '3.9', '3.1',\n",
       "       '2.9', '5.2', '3.3', '4.7', '5.1', '3.5', '2.5', '1.9', '3', '2.7',\n",
       "       '2.2', '2', '9.5', '2.1', '3.6', '2.8', '1.8', '3.8', '0', '1.6',\n",
       "       '9.6', '2.4', '1.7', '1.1', '0.3', '1.5', '0.7', '1.2', '2.3',\n",
       "       '0.5', '1.3', '0.2', '0.6', '1.4', '0.9', '1', '9.7'], dtype=object)"
      ]
     },
     "execution_count": 5,
     "metadata": {},
     "output_type": "execute_result"
    }
   ],
   "source": [
    "data.loc[data['user_score'] == 'tbd', 'user_score'] = float('nan')\n",
    "data['user_score'].unique()"
   ]
  },
  {
   "cell_type": "code",
   "execution_count": 6,
   "metadata": {},
   "outputs": [
    {
     "data": {
      "text/html": [
       "<div>\n",
       "<style scoped>\n",
       "    .dataframe tbody tr th:only-of-type {\n",
       "        vertical-align: middle;\n",
       "    }\n",
       "\n",
       "    .dataframe tbody tr th {\n",
       "        vertical-align: top;\n",
       "    }\n",
       "\n",
       "    .dataframe thead th {\n",
       "        text-align: right;\n",
       "    }\n",
       "</style>\n",
       "<table border=\"1\" class=\"dataframe\">\n",
       "  <thead>\n",
       "    <tr style=\"text-align: right;\">\n",
       "      <th></th>\n",
       "      <th>name</th>\n",
       "      <th>platform</th>\n",
       "      <th>year_of_release</th>\n",
       "      <th>genre</th>\n",
       "      <th>na_sales</th>\n",
       "      <th>eu_sales</th>\n",
       "      <th>jp_sales</th>\n",
       "      <th>other_sales</th>\n",
       "      <th>critic_score</th>\n",
       "      <th>user_score</th>\n",
       "      <th>rating</th>\n",
       "      <th>sales_total</th>\n",
       "    </tr>\n",
       "  </thead>\n",
       "  <tbody>\n",
       "    <tr>\n",
       "      <th>0</th>\n",
       "      <td>Wii Sports</td>\n",
       "      <td>Wii</td>\n",
       "      <td>2006.0</td>\n",
       "      <td>Sports</td>\n",
       "      <td>41.36</td>\n",
       "      <td>28.96</td>\n",
       "      <td>3.77</td>\n",
       "      <td>8.45</td>\n",
       "      <td>76.0</td>\n",
       "      <td>8</td>\n",
       "      <td>E</td>\n",
       "      <td>82.54</td>\n",
       "    </tr>\n",
       "    <tr>\n",
       "      <th>1</th>\n",
       "      <td>Super Mario Bros.</td>\n",
       "      <td>NES</td>\n",
       "      <td>1985.0</td>\n",
       "      <td>Platform</td>\n",
       "      <td>29.08</td>\n",
       "      <td>3.58</td>\n",
       "      <td>6.81</td>\n",
       "      <td>0.77</td>\n",
       "      <td>NaN</td>\n",
       "      <td>NaN</td>\n",
       "      <td>NaN</td>\n",
       "      <td>40.24</td>\n",
       "    </tr>\n",
       "    <tr>\n",
       "      <th>2</th>\n",
       "      <td>Mario Kart Wii</td>\n",
       "      <td>Wii</td>\n",
       "      <td>2008.0</td>\n",
       "      <td>Racing</td>\n",
       "      <td>15.68</td>\n",
       "      <td>12.76</td>\n",
       "      <td>3.79</td>\n",
       "      <td>3.29</td>\n",
       "      <td>82.0</td>\n",
       "      <td>8.3</td>\n",
       "      <td>E</td>\n",
       "      <td>35.52</td>\n",
       "    </tr>\n",
       "    <tr>\n",
       "      <th>3</th>\n",
       "      <td>Wii Sports Resort</td>\n",
       "      <td>Wii</td>\n",
       "      <td>2009.0</td>\n",
       "      <td>Sports</td>\n",
       "      <td>15.61</td>\n",
       "      <td>10.93</td>\n",
       "      <td>3.28</td>\n",
       "      <td>2.95</td>\n",
       "      <td>80.0</td>\n",
       "      <td>8</td>\n",
       "      <td>E</td>\n",
       "      <td>32.77</td>\n",
       "    </tr>\n",
       "    <tr>\n",
       "      <th>4</th>\n",
       "      <td>Pokemon Red/Pokemon Blue</td>\n",
       "      <td>GB</td>\n",
       "      <td>1996.0</td>\n",
       "      <td>Role-Playing</td>\n",
       "      <td>11.27</td>\n",
       "      <td>8.89</td>\n",
       "      <td>10.22</td>\n",
       "      <td>1.00</td>\n",
       "      <td>NaN</td>\n",
       "      <td>NaN</td>\n",
       "      <td>NaN</td>\n",
       "      <td>31.38</td>\n",
       "    </tr>\n",
       "    <tr>\n",
       "      <th>...</th>\n",
       "      <td>...</td>\n",
       "      <td>...</td>\n",
       "      <td>...</td>\n",
       "      <td>...</td>\n",
       "      <td>...</td>\n",
       "      <td>...</td>\n",
       "      <td>...</td>\n",
       "      <td>...</td>\n",
       "      <td>...</td>\n",
       "      <td>...</td>\n",
       "      <td>...</td>\n",
       "      <td>...</td>\n",
       "    </tr>\n",
       "    <tr>\n",
       "      <th>16710</th>\n",
       "      <td>Samurai Warriors: Sanada Maru</td>\n",
       "      <td>PS3</td>\n",
       "      <td>2016.0</td>\n",
       "      <td>Action</td>\n",
       "      <td>0.00</td>\n",
       "      <td>0.00</td>\n",
       "      <td>0.01</td>\n",
       "      <td>0.00</td>\n",
       "      <td>NaN</td>\n",
       "      <td>NaN</td>\n",
       "      <td>NaN</td>\n",
       "      <td>0.01</td>\n",
       "    </tr>\n",
       "    <tr>\n",
       "      <th>16711</th>\n",
       "      <td>LMA Manager 2007</td>\n",
       "      <td>X360</td>\n",
       "      <td>2006.0</td>\n",
       "      <td>Sports</td>\n",
       "      <td>0.00</td>\n",
       "      <td>0.01</td>\n",
       "      <td>0.00</td>\n",
       "      <td>0.00</td>\n",
       "      <td>NaN</td>\n",
       "      <td>NaN</td>\n",
       "      <td>NaN</td>\n",
       "      <td>0.01</td>\n",
       "    </tr>\n",
       "    <tr>\n",
       "      <th>16712</th>\n",
       "      <td>Haitaka no Psychedelica</td>\n",
       "      <td>PSV</td>\n",
       "      <td>2016.0</td>\n",
       "      <td>Adventure</td>\n",
       "      <td>0.00</td>\n",
       "      <td>0.00</td>\n",
       "      <td>0.01</td>\n",
       "      <td>0.00</td>\n",
       "      <td>NaN</td>\n",
       "      <td>NaN</td>\n",
       "      <td>NaN</td>\n",
       "      <td>0.01</td>\n",
       "    </tr>\n",
       "    <tr>\n",
       "      <th>16713</th>\n",
       "      <td>Spirits &amp; Spells</td>\n",
       "      <td>GBA</td>\n",
       "      <td>2003.0</td>\n",
       "      <td>Platform</td>\n",
       "      <td>0.01</td>\n",
       "      <td>0.00</td>\n",
       "      <td>0.00</td>\n",
       "      <td>0.00</td>\n",
       "      <td>NaN</td>\n",
       "      <td>NaN</td>\n",
       "      <td>NaN</td>\n",
       "      <td>0.01</td>\n",
       "    </tr>\n",
       "    <tr>\n",
       "      <th>16714</th>\n",
       "      <td>Winning Post 8 2016</td>\n",
       "      <td>PSV</td>\n",
       "      <td>2016.0</td>\n",
       "      <td>Simulation</td>\n",
       "      <td>0.00</td>\n",
       "      <td>0.00</td>\n",
       "      <td>0.01</td>\n",
       "      <td>0.00</td>\n",
       "      <td>NaN</td>\n",
       "      <td>NaN</td>\n",
       "      <td>NaN</td>\n",
       "      <td>0.01</td>\n",
       "    </tr>\n",
       "  </tbody>\n",
       "</table>\n",
       "<p>16715 rows × 12 columns</p>\n",
       "</div>"
      ],
      "text/plain": [
       "                                name platform  year_of_release         genre  \\\n",
       "0                         Wii Sports      Wii           2006.0        Sports   \n",
       "1                  Super Mario Bros.      NES           1985.0      Platform   \n",
       "2                     Mario Kart Wii      Wii           2008.0        Racing   \n",
       "3                  Wii Sports Resort      Wii           2009.0        Sports   \n",
       "4           Pokemon Red/Pokemon Blue       GB           1996.0  Role-Playing   \n",
       "...                              ...      ...              ...           ...   \n",
       "16710  Samurai Warriors: Sanada Maru      PS3           2016.0        Action   \n",
       "16711               LMA Manager 2007     X360           2006.0        Sports   \n",
       "16712        Haitaka no Psychedelica      PSV           2016.0     Adventure   \n",
       "16713               Spirits & Spells      GBA           2003.0      Platform   \n",
       "16714            Winning Post 8 2016      PSV           2016.0    Simulation   \n",
       "\n",
       "       na_sales  eu_sales  jp_sales  other_sales  critic_score user_score  \\\n",
       "0         41.36     28.96      3.77         8.45          76.0          8   \n",
       "1         29.08      3.58      6.81         0.77           NaN        NaN   \n",
       "2         15.68     12.76      3.79         3.29          82.0        8.3   \n",
       "3         15.61     10.93      3.28         2.95          80.0          8   \n",
       "4         11.27      8.89     10.22         1.00           NaN        NaN   \n",
       "...         ...       ...       ...          ...           ...        ...   \n",
       "16710      0.00      0.00      0.01         0.00           NaN        NaN   \n",
       "16711      0.00      0.01      0.00         0.00           NaN        NaN   \n",
       "16712      0.00      0.00      0.01         0.00           NaN        NaN   \n",
       "16713      0.01      0.00      0.00         0.00           NaN        NaN   \n",
       "16714      0.00      0.00      0.01         0.00           NaN        NaN   \n",
       "\n",
       "      rating  sales_total  \n",
       "0          E        82.54  \n",
       "1        NaN        40.24  \n",
       "2          E        35.52  \n",
       "3          E        32.77  \n",
       "4        NaN        31.38  \n",
       "...      ...          ...  \n",
       "16710    NaN         0.01  \n",
       "16711    NaN         0.01  \n",
       "16712    NaN         0.01  \n",
       "16713    NaN         0.01  \n",
       "16714    NaN         0.01  \n",
       "\n",
       "[16715 rows x 12 columns]"
      ]
     },
     "execution_count": 6,
     "metadata": {},
     "output_type": "execute_result"
    }
   ],
   "source": [
    "data['sales_total'] = data['eu_sales'] + data['na_sales'] + data['jp_sales'] + data['other_sales']\n",
    "data"
   ]
  },
  {
   "cell_type": "code",
   "execution_count": 7,
   "metadata": {},
   "outputs": [
    {
     "name": "stdout",
     "output_type": "stream",
     "text": [
      "<class 'pandas.core.frame.DataFrame'>\n",
      "RangeIndex: 16446 entries, 0 to 16445\n",
      "Data columns (total 12 columns):\n",
      " #   Column           Non-Null Count  Dtype  \n",
      "---  ------           --------------  -----  \n",
      " 0   name             16444 non-null  object \n",
      " 1   platform         16446 non-null  object \n",
      " 2   year_of_release  16446 non-null  int64  \n",
      " 3   genre            16444 non-null  object \n",
      " 4   na_sales         16446 non-null  float64\n",
      " 5   eu_sales         16446 non-null  float64\n",
      " 6   jp_sales         16446 non-null  float64\n",
      " 7   other_sales      16446 non-null  float64\n",
      " 8   critic_score     7983 non-null   float64\n",
      " 9   user_score       7463 non-null   object \n",
      " 10  rating           9768 non-null   object \n",
      " 11  sales_total      16446 non-null  float64\n",
      "dtypes: float64(6), int64(1), object(5)\n",
      "memory usage: 1.5+ MB\n"
     ]
    }
   ],
   "source": [
    "data = data.dropna(subset=['year_of_release']).reset_index(drop=True)\n",
    "data['year_of_release'] = pd.to_datetime(data['year_of_release'], format='%Y')\n",
    "data['year_of_release'] = pd.DatetimeIndex(data['year_of_release']).year\n",
    "data.info()"
   ]
  },
  {
   "cell_type": "code",
   "execution_count": 8,
   "metadata": {},
   "outputs": [
    {
     "name": "stdout",
     "output_type": "stream",
     "text": [
      "<class 'pandas.core.frame.DataFrame'>\n",
      "RangeIndex: 16446 entries, 0 to 16445\n",
      "Data columns (total 12 columns):\n",
      " #   Column           Non-Null Count  Dtype  \n",
      "---  ------           --------------  -----  \n",
      " 0   name             16444 non-null  object \n",
      " 1   platform         16446 non-null  object \n",
      " 2   year_of_release  16446 non-null  int64  \n",
      " 3   genre            16444 non-null  object \n",
      " 4   na_sales         16446 non-null  float64\n",
      " 5   eu_sales         16446 non-null  float64\n",
      " 6   jp_sales         16446 non-null  float64\n",
      " 7   other_sales      16446 non-null  float64\n",
      " 8   critic_score     7983 non-null   float64\n",
      " 9   user_score       7463 non-null   object \n",
      " 10  rating           16446 non-null  object \n",
      " 11  sales_total      16446 non-null  float64\n",
      "dtypes: float64(6), int64(1), object(5)\n",
      "memory usage: 1.5+ MB\n"
     ]
    }
   ],
   "source": [
    "data['rating'] = data['rating'].fillna('unknown')\n",
    "data.info()"
   ]
  },
  {
   "cell_type": "code",
   "execution_count": 9,
   "metadata": {},
   "outputs": [
    {
     "name": "stdout",
     "output_type": "stream",
     "text": [
      "<class 'pandas.core.frame.DataFrame'>\n",
      "RangeIndex: 16446 entries, 0 to 16445\n",
      "Data columns (total 12 columns):\n",
      " #   Column           Non-Null Count  Dtype  \n",
      "---  ------           --------------  -----  \n",
      " 0   name             16444 non-null  object \n",
      " 1   platform         16446 non-null  object \n",
      " 2   year_of_release  16446 non-null  int64  \n",
      " 3   genre            16444 non-null  object \n",
      " 4   na_sales         16446 non-null  float64\n",
      " 5   eu_sales         16446 non-null  float64\n",
      " 6   jp_sales         16446 non-null  float64\n",
      " 7   other_sales      16446 non-null  float64\n",
      " 8   critic_score     7983 non-null   float64\n",
      " 9   user_score       7463 non-null   float64\n",
      " 10  rating           16446 non-null  object \n",
      " 11  sales_total      16446 non-null  float64\n",
      "dtypes: float64(7), int64(1), object(4)\n",
      "memory usage: 1.5+ MB\n"
     ]
    }
   ],
   "source": [
    "data['user_score'] = data['user_score'].astype('float')\n",
    "data.info()"
   ]
  },
  {
   "cell_type": "markdown",
   "metadata": {},
   "source": [
    "В общем и целом подготовка данных завершена"
   ]
  },
  {
   "cell_type": "markdown",
   "metadata": {},
   "source": [
    "# Исследовательский анализ данных <a id='eda'></a>"
   ]
  },
  {
   "cell_type": "markdown",
   "metadata": {},
   "source": [
    "Сколько игр выпускалось в разные годы"
   ]
  },
  {
   "cell_type": "code",
   "execution_count": 10,
   "metadata": {},
   "outputs": [
    {
     "data": {
      "image/png": "[encoded data removed]",
      "text/plain": [
       "<Figure size 432x288 with 1 Axes>"
      ]
     },
     "metadata": {
      "needs_background": "light"
     },
     "output_type": "display_data"
    }
   ],
   "source": [
    "games_years = data.pivot_table(index='year_of_release', values='name', aggfunc='count')\n",
    "games_years.plot(y='name', kind='bar')\n",
    "plt.show()"
   ]
  },
  {
   "cell_type": "markdown",
   "metadata": {},
   "source": [
    "Данные за все периоды, нас понятное, дело не будут интересовать, поскольку менялись технологии производства игр, они все более усложнялись как в техническом, так и сюжетном плане. Более того, все больше совершенствуется железо для новых игр, чтобы они запускались и шли без перебоев. Опираясь на график, я бы взял период с с 2012 по 2016 годы, то есть последние 5 лет. В этот период ежегодно выпускались игры без больших перепадов по их количеству."
   ]
  },
  {
   "cell_type": "markdown",
   "metadata": {},
   "source": [
    "Продажи по платформам"
   ]
  },
  {
   "cell_type": "code",
   "execution_count": 11,
   "metadata": {},
   "outputs": [
    {
     "data": {
      "image/png": "[encoded data removed]",
      "text/plain": [
       "<Figure size 1080x360 with 1 Axes>"
      ]
     },
     "metadata": {
      "needs_background": "light"
     },
     "output_type": "display_data"
    }
   ],
   "source": [
    "top_10 = data.groupby('platform').agg({'sales_total' : 'sum'}).sort_values(by='sales_total').tail(10).index\n",
    "data.query('platform in @top_10').pivot_table(index = 'year_of_release', columns = 'platform',\n",
    "                                             values = 'sales_total', aggfunc='sum').plot(figsize = (15, 5))\n",
    "plt.show()"
   ]
  },
  {
   "cell_type": "markdown",
   "metadata": {},
   "source": [
    "По графику видно, что поддержка платформ идет длится примерно десятилетие, после чего поддержка зааканчивается, на них не пишутся игры. Исключением является PC (personal computer). По графику видно, что поддержка платформы шла и будет идти, на нее всегда пишутся игры."
   ]
  },
  {
   "cell_type": "markdown",
   "metadata": {},
   "source": [
    "Попробую точнее определить актуальный период. По скольку нас интересуют возможные платформы, на которых будут выпускаться игры, а также данные будут играть решающую роль при определении стратегии на 2017 год, то будем пользоваться данными из топ-10 платформ по продажам и выберем те платформы, где суммарные продажи превышали 1 млн копий"
   ]
  },
  {
   "cell_type": "code",
   "execution_count": 12,
   "metadata": {},
   "outputs": [
    {
     "data": {
      "text/plain": [
       "year_of_release    9.1\n",
       "dtype: float64"
      ]
     },
     "execution_count": 12,
     "metadata": {},
     "output_type": "execute_result"
    }
   ],
   "source": [
    "actual_period = data.groupby(['platform', 'year_of_release']).agg({'sales_total' : 'sum'}).query('platform in @top_10 and sales_total > 1')\n",
    "actual_period = actual_period.reset_index().groupby('platform').agg({'year_of_release' : 'count'})\n",
    "actual_period.mean()"
   ]
  },
  {
   "cell_type": "markdown",
   "metadata": {},
   "source": [
    "Значение подтверждает высказанное выше по графику гипотезу, что платформа живет примерно десятилетие. Для дальнейшего анализа я бы все равно взял период с 2012 по 2016 год, аргументируя это тем, что до 2012 года выпуск игр был чуть ли не двое выше. Падение в 2012 году может просто вызвать перекос в выводах."
   ]
  },
  {
   "cell_type": "code",
   "execution_count": 13,
   "metadata": {},
   "outputs": [
    {
     "name": "stdout",
     "output_type": "stream",
     "text": [
      "<class 'pandas.core.frame.DataFrame'>\n",
      "Int64Index: 2886 entries, 16 to 16445\n",
      "Data columns (total 12 columns):\n",
      " #   Column           Non-Null Count  Dtype  \n",
      "---  ------           --------------  -----  \n",
      " 0   name             2886 non-null   object \n",
      " 1   platform         2886 non-null   object \n",
      " 2   year_of_release  2886 non-null   int64  \n",
      " 3   genre            2886 non-null   object \n",
      " 4   na_sales         2886 non-null   float64\n",
      " 5   eu_sales         2886 non-null   float64\n",
      " 6   jp_sales         2886 non-null   float64\n",
      " 7   other_sales      2886 non-null   float64\n",
      " 8   critic_score     1312 non-null   float64\n",
      " 9   user_score       1531 non-null   float64\n",
      " 10  rating           2886 non-null   object \n",
      " 11  sales_total      2886 non-null   float64\n",
      "dtypes: float64(7), int64(1), object(4)\n",
      "memory usage: 293.1+ KB\n"
     ]
    }
   ],
   "source": [
    "data_selection = data.query('2012 <= year_of_release <=2016')\n",
    "data_selection.info()"
   ]
  },
  {
   "cell_type": "markdown",
   "metadata": {},
   "source": [
    "Платформы-лидеры по продажам"
   ]
  },
  {
   "cell_type": "code",
   "execution_count": 14,
   "metadata": {},
   "outputs": [
    {
     "data": {
      "image/png": "[encoded data removed]",
      "text/plain": [
       "<Figure size 1080x360 with 1 Axes>"
      ]
     },
     "metadata": {
      "needs_background": "light"
     },
     "output_type": "display_data"
    }
   ],
   "source": [
    "data_selection.pivot_table(index='year_of_release', columns='platform', values='sales_total', aggfunc='sum').plot(figsize=(15,5))\n",
    "plt.show()"
   ]
  },
  {
   "cell_type": "markdown",
   "metadata": {},
   "source": [
    "По графику видно, что так или иначе, все по продажам все платформы падают. Тем не менее, среди них можно выделить ряд прибыльных. Это PS4, XOne, 3DS. Я бы добавил сюда еще PC, тк там более менее стабильные продажи."
   ]
  },
  {
   "cell_type": "code",
   "execution_count": 15,
   "metadata": {},
   "outputs": [
    {
     "data": {
      "image/png": "[encoded data removed]",
      "text/plain": [
       "<Figure size 432x288 with 1 Axes>"
      ]
     },
     "metadata": {
      "needs_background": "light"
     },
     "output_type": "display_data"
    }
   ],
   "source": [
    "data_selection.boxplot(column = 'sales_total', by='platform')\n",
    "plt.ylim(0,5)\n",
    "plt.show()"
   ]
  },
  {
   "cell_type": "markdown",
   "metadata": {},
   "source": [
    "Чем шире \"ящик\", тем больше дисперсия и разброс данных. У ряда платформ как раз такая ситуация. Зато медианы примерно на одном уровне у всех платформ"
   ]
  },
  {
   "cell_type": "markdown",
   "metadata": {},
   "source": [
    "Посмотрим, как отзывы пользователей и критиков влияют на продажи на одной из платформ. Возьмем PS4. Построим диаграмму рассеяния и посчитаем корреляцию"
   ]
  },
  {
   "cell_type": "code",
   "execution_count": 16,
   "metadata": {},
   "outputs": [
    {
     "name": "stderr",
     "output_type": "stream",
     "text": [
      "/tmp/ipykernel_53/4117960655.py:1: SettingWithCopyWarning: \n",
      "A value is trying to be set on a copy of a slice from a DataFrame.\n",
      "Try using .loc[row_indexer,col_indexer] = value instead\n",
      "\n",
      "See the caveats in the documentation: https://pandas.pydata.org/pandas-docs/stable/user_guide/indexing.html#returning-a-view-versus-a-copy\n",
      "  data_selection['user_score'] = data_selection['user_score'].astype('float')\n"
     ]
    },
    {
     "data": {
      "text/plain": [
       "-0.031957110204556424"
      ]
     },
     "execution_count": 16,
     "metadata": {},
     "output_type": "execute_result"
    },
    {
     "data": {
      "image/png": "[encoded data removed]",
      "text/plain": [
       "<Figure size 432x288 with 1 Axes>"
      ]
     },
     "metadata": {
      "needs_background": "light"
     },
     "output_type": "display_data"
    }
   ],
   "source": [
    "data_selection['user_score'] = data_selection['user_score'].astype('float')\n",
    "data_selection.query('platform == \"PS4\"').plot(x='user_score', y='sales_total', kind='scatter')\n",
    "data_selection.query('platform == \"PS4\"')['user_score'].corr(data_selection['sales_total'])"
   ]
  },
  {
   "cell_type": "code",
   "execution_count": 17,
   "metadata": {},
   "outputs": [
    {
     "name": "stderr",
     "output_type": "stream",
     "text": [
      "/tmp/ipykernel_53/3950241640.py:1: SettingWithCopyWarning: \n",
      "A value is trying to be set on a copy of a slice from a DataFrame.\n",
      "Try using .loc[row_indexer,col_indexer] = value instead\n",
      "\n",
      "See the caveats in the documentation: https://pandas.pydata.org/pandas-docs/stable/user_guide/indexing.html#returning-a-view-versus-a-copy\n",
      "  data_selection['critic_score'] = data_selection['critic_score'].astype('float')\n"
     ]
    },
    {
     "data": {
      "text/plain": [
       "0.40656790206178095"
      ]
     },
     "execution_count": 17,
     "metadata": {},
     "output_type": "execute_result"
    },
    {
     "data": {
      "image/png": "[encoded data removed]",
      "text/plain": [
       "<Figure size 432x288 with 1 Axes>"
      ]
     },
     "metadata": {
      "needs_background": "light"
     },
     "output_type": "display_data"
    }
   ],
   "source": [
    "data_selection['critic_score'] = data_selection['critic_score'].astype('float')\n",
    "data_selection.query('platform == \"PS4\"').plot(x='critic_score', y='sales_total', kind='scatter')\n",
    "data_selection.query('platform == \"PS4\"')['critic_score'].corr(data_selection['sales_total'])"
   ]
  },
  {
   "cell_type": "markdown",
   "metadata": {},
   "source": [
    "По платформе PS4 можно сказать, что в целом ни отзывы критиков, ни отзывы пользователей сильно не влияют на продажи, хотя отзывы критиков влияют немного больше, чем отзывы пользователей, которые вообще не оказывают никакого влияния на продажи."
   ]
  },
  {
   "cell_type": "code",
   "execution_count": 18,
   "metadata": {},
   "outputs": [
    {
     "data": {
      "text/plain": [
       "0.3208028695360785"
      ]
     },
     "execution_count": 18,
     "metadata": {},
     "output_type": "execute_result"
    },
    {
     "data": {
      "image/png": "[encoded data removed]",
      "text/plain": [
       "<Figure size 432x288 with 1 Axes>"
      ]
     },
     "metadata": {
      "needs_background": "light"
     },
     "output_type": "display_data"
    }
   ],
   "source": [
    "data_selection.query('platform == \"3DS\"').plot(x='critic_score', y='sales_total', kind='scatter')\n",
    "data_selection.query('platform == \"3DS\"')['critic_score'].corr(data_selection['sales_total'])"
   ]
  },
  {
   "cell_type": "code",
   "execution_count": 19,
   "metadata": {},
   "outputs": [
    {
     "data": {
      "text/plain": [
       "0.19758263411038599"
      ]
     },
     "execution_count": 19,
     "metadata": {},
     "output_type": "execute_result"
    },
    {
     "data": {
      "image/png": "[encoded data removed]",
      "text/plain": [
       "<Figure size 432x288 with 1 Axes>"
      ]
     },
     "metadata": {
      "needs_background": "light"
     },
     "output_type": "display_data"
    }
   ],
   "source": [
    "data_selection.query('platform == \"3DS\"').plot(x='user_score', y='sales_total', kind='scatter')\n",
    "data_selection.query('platform == \"3DS\"')['user_score'].corr(data_selection['sales_total'])"
   ]
  },
  {
   "cell_type": "markdown",
   "metadata": {},
   "source": [
    "Платформа 3DS - отзывы критиков влияют чуть больше на продаже, чем отзывы пользователей, но в отличии от PS4 корреляция тут положительная"
   ]
  },
  {
   "cell_type": "code",
   "execution_count": 20,
   "metadata": {},
   "outputs": [
    {
     "data": {
      "text/plain": [
       "0.4169983280084017"
      ]
     },
     "execution_count": 20,
     "metadata": {},
     "output_type": "execute_result"
    },
    {
     "data": {
      "image/png": "[encoded data removed]",
      "text/plain": [
       "<Figure size 432x288 with 1 Axes>"
      ]
     },
     "metadata": {
      "needs_background": "light"
     },
     "output_type": "display_data"
    }
   ],
   "source": [
    "data_selection.query('platform == \"XOne\"').plot(x='critic_score', y='sales_total', kind='scatter')\n",
    "data_selection.query('platform == \"XOne\"')['critic_score'].corr(data_selection['sales_total'])"
   ]
  },
  {
   "cell_type": "code",
   "execution_count": 21,
   "metadata": {},
   "outputs": [
    {
     "data": {
      "text/plain": [
       "-0.06892505328279414"
      ]
     },
     "execution_count": 21,
     "metadata": {},
     "output_type": "execute_result"
    },
    {
     "data": {
      "image/png": "[encoded data removed]",
      "text/plain": [
       "<Figure size 432x288 with 1 Axes>"
      ]
     },
     "metadata": {
      "needs_background": "light"
     },
     "output_type": "display_data"
    }
   ],
   "source": [
    "data_selection.query('platform == \"XOne\"').plot(x='user_score', y='sales_total', kind='scatter')\n",
    "data_selection.query('platform == \"XOne\"')['user_score'].corr(data_selection['sales_total'])"
   ]
  },
  {
   "cell_type": "markdown",
   "metadata": {},
   "source": [
    "Платформа XOne - отзывы критиков влияют больше, чем отзывы пользователей, которые вообще не влияют фактически"
   ]
  },
  {
   "cell_type": "code",
   "execution_count": 22,
   "metadata": {},
   "outputs": [
    {
     "data": {
      "text/plain": [
       "0.23724324311567915"
      ]
     },
     "execution_count": 22,
     "metadata": {},
     "output_type": "execute_result"
    },
    {
     "data": {
      "image/png": "[encoded data removed]",
      "text/plain": [
       "<Figure size 432x288 with 1 Axes>"
      ]
     },
     "metadata": {
      "needs_background": "light"
     },
     "output_type": "display_data"
    }
   ],
   "source": [
    "data_selection.query('platform == \"PC\"').plot(x='critic_score', y='sales_total', kind='scatter')\n",
    "data_selection.query('platform == \"PC\"')['critic_score'].corr(data_selection['sales_total'])"
   ]
  },
  {
   "cell_type": "code",
   "execution_count": 23,
   "metadata": {},
   "outputs": [
    {
     "data": {
      "text/plain": [
       "-0.12186747630735577"
      ]
     },
     "execution_count": 23,
     "metadata": {},
     "output_type": "execute_result"
    },
    {
     "data": {
      "image/png": "[encoded data removed]",
      "text/plain": [
       "<Figure size 432x288 with 1 Axes>"
      ]
     },
     "metadata": {
      "needs_background": "light"
     },
     "output_type": "display_data"
    }
   ],
   "source": [
    "data_selection.query('platform == \"PC\"').plot(x='user_score', y='sales_total', kind='scatter')\n",
    "data_selection.query('platform == \"PC\"')['user_score'].corr(data_selection['sales_total'])"
   ]
  },
  {
   "cell_type": "markdown",
   "metadata": {},
   "source": [
    "Ситуация аналогична платформе XOne"
   ]
  },
  {
   "cell_type": "code",
   "execution_count": 24,
   "metadata": {},
   "outputs": [
    {
     "data": {
      "image/png": "[encoded data removed]",
      "text/plain": [
       "<Figure size 1080x360 with 1 Axes>"
      ]
     },
     "metadata": {
      "needs_background": "light"
     },
     "output_type": "display_data"
    }
   ],
   "source": [
    "data_selection.pivot_table(index='year_of_release', columns='genre', values='sales_total', aggfunc='sum').plot(figsize=(15,5))\n",
    "plt.show()"
   ]
  },
  {
   "cell_type": "markdown",
   "metadata": {},
   "source": [
    "В лидерах продаж жанры action, shooter, role playing, sports. "
   ]
  },
  {
   "cell_type": "markdown",
   "metadata": {},
   "source": [
    "# Портрет регионов <a id='портрет'></a>"
   ]
  },
  {
   "cell_type": "code",
   "execution_count": 25,
   "metadata": {},
   "outputs": [
    {
     "data": {
      "text/html": [
       "<div>\n",
       "<style scoped>\n",
       "    .dataframe tbody tr th:only-of-type {\n",
       "        vertical-align: middle;\n",
       "    }\n",
       "\n",
       "    .dataframe tbody tr th {\n",
       "        vertical-align: top;\n",
       "    }\n",
       "\n",
       "    .dataframe thead th {\n",
       "        text-align: right;\n",
       "    }\n",
       "</style>\n",
       "<table border=\"1\" class=\"dataframe\">\n",
       "  <thead>\n",
       "    <tr style=\"text-align: right;\">\n",
       "      <th></th>\n",
       "      <th>na_sales</th>\n",
       "    </tr>\n",
       "    <tr>\n",
       "      <th>platform</th>\n",
       "      <th></th>\n",
       "    </tr>\n",
       "  </thead>\n",
       "  <tbody>\n",
       "    <tr>\n",
       "      <th>X360</th>\n",
       "      <td>140.05</td>\n",
       "    </tr>\n",
       "    <tr>\n",
       "      <th>PS4</th>\n",
       "      <td>108.74</td>\n",
       "    </tr>\n",
       "    <tr>\n",
       "      <th>PS3</th>\n",
       "      <td>103.38</td>\n",
       "    </tr>\n",
       "    <tr>\n",
       "      <th>XOne</th>\n",
       "      <td>93.12</td>\n",
       "    </tr>\n",
       "    <tr>\n",
       "      <th>3DS</th>\n",
       "      <td>55.31</td>\n",
       "    </tr>\n",
       "  </tbody>\n",
       "</table>\n",
       "</div>"
      ],
      "text/plain": [
       "          na_sales\n",
       "platform          \n",
       "X360        140.05\n",
       "PS4         108.74\n",
       "PS3         103.38\n",
       "XOne         93.12\n",
       "3DS          55.31"
      ]
     },
     "execution_count": 25,
     "metadata": {},
     "output_type": "execute_result"
    },
    {
     "data": {
      "image/png": "[encoded data removed]",
      "text/plain": [
       "<Figure size 432x432 with 1 Axes>"
      ]
     },
     "metadata": {},
     "output_type": "display_data"
    }
   ],
   "source": [
    "na_region = data_selection.pivot_table(index='platform', values='na_sales', aggfunc='sum').sort_values(by='na_sales', ascending=False).head()\n",
    "na_region['na_sales'].plot(kind='pie', figsize=(6,6), autopct='%.0f%%')\n",
    "na_region"
   ]
  },
  {
   "cell_type": "code",
   "execution_count": 26,
   "metadata": {},
   "outputs": [
    {
     "data": {
      "text/html": [
       "<div>\n",
       "<style scoped>\n",
       "    .dataframe tbody tr th:only-of-type {\n",
       "        vertical-align: middle;\n",
       "    }\n",
       "\n",
       "    .dataframe tbody tr th {\n",
       "        vertical-align: top;\n",
       "    }\n",
       "\n",
       "    .dataframe thead th {\n",
       "        text-align: right;\n",
       "    }\n",
       "</style>\n",
       "<table border=\"1\" class=\"dataframe\">\n",
       "  <thead>\n",
       "    <tr style=\"text-align: right;\">\n",
       "      <th></th>\n",
       "      <th>na_sales</th>\n",
       "    </tr>\n",
       "    <tr>\n",
       "      <th>genre</th>\n",
       "      <th></th>\n",
       "    </tr>\n",
       "  </thead>\n",
       "  <tbody>\n",
       "    <tr>\n",
       "      <th>Action</th>\n",
       "      <td>177.84</td>\n",
       "    </tr>\n",
       "    <tr>\n",
       "      <th>Shooter</th>\n",
       "      <td>144.77</td>\n",
       "    </tr>\n",
       "    <tr>\n",
       "      <th>Sports</th>\n",
       "      <td>81.53</td>\n",
       "    </tr>\n",
       "    <tr>\n",
       "      <th>Role-Playing</th>\n",
       "      <td>64.00</td>\n",
       "    </tr>\n",
       "    <tr>\n",
       "      <th>Misc</th>\n",
       "      <td>38.19</td>\n",
       "    </tr>\n",
       "  </tbody>\n",
       "</table>\n",
       "</div>"
      ],
      "text/plain": [
       "              na_sales\n",
       "genre                 \n",
       "Action          177.84\n",
       "Shooter         144.77\n",
       "Sports           81.53\n",
       "Role-Playing     64.00\n",
       "Misc             38.19"
      ]
     },
     "execution_count": 26,
     "metadata": {},
     "output_type": "execute_result"
    },
    {
     "data": {
      "image/png": "[encoded data removed]",
      "text/plain": [
       "<Figure size 432x432 with 1 Axes>"
      ]
     },
     "metadata": {},
     "output_type": "display_data"
    }
   ],
   "source": [
    "na_genres = data_selection.pivot_table(index='genre', values='na_sales', aggfunc='sum').sort_values(by='na_sales', ascending=False).head()\n",
    "na_genres['na_sales'].plot(kind='pie', figsize=(6,6), autopct='%.0f%%')\n",
    "na_genres"
   ]
  },
  {
   "cell_type": "code",
   "execution_count": 27,
   "metadata": {},
   "outputs": [
    {
     "data": {
      "text/html": [
       "<div>\n",
       "<style scoped>\n",
       "    .dataframe tbody tr th:only-of-type {\n",
       "        vertical-align: middle;\n",
       "    }\n",
       "\n",
       "    .dataframe tbody tr th {\n",
       "        vertical-align: top;\n",
       "    }\n",
       "\n",
       "    .dataframe thead th {\n",
       "        text-align: right;\n",
       "    }\n",
       "</style>\n",
       "<table border=\"1\" class=\"dataframe\">\n",
       "  <thead>\n",
       "    <tr style=\"text-align: right;\">\n",
       "      <th></th>\n",
       "      <th>na_sales</th>\n",
       "    </tr>\n",
       "    <tr>\n",
       "      <th>rating</th>\n",
       "      <th></th>\n",
       "    </tr>\n",
       "  </thead>\n",
       "  <tbody>\n",
       "    <tr>\n",
       "      <th>M</th>\n",
       "      <td>231.57</td>\n",
       "    </tr>\n",
       "    <tr>\n",
       "      <th>E</th>\n",
       "      <td>114.37</td>\n",
       "    </tr>\n",
       "    <tr>\n",
       "      <th>unknown</th>\n",
       "      <td>103.31</td>\n",
       "    </tr>\n",
       "    <tr>\n",
       "      <th>E10+</th>\n",
       "      <td>75.70</td>\n",
       "    </tr>\n",
       "    <tr>\n",
       "      <th>T</th>\n",
       "      <td>66.02</td>\n",
       "    </tr>\n",
       "  </tbody>\n",
       "</table>\n",
       "</div>"
      ],
      "text/plain": [
       "         na_sales\n",
       "rating           \n",
       "M          231.57\n",
       "E          114.37\n",
       "unknown    103.31\n",
       "E10+        75.70\n",
       "T           66.02"
      ]
     },
     "execution_count": 27,
     "metadata": {},
     "output_type": "execute_result"
    },
    {
     "data": {
      "image/png": "[encoded data removed]",
      "text/plain": [
       "<Figure size 432x288 with 1 Axes>"
      ]
     },
     "metadata": {
      "needs_background": "light"
     },
     "output_type": "display_data"
    }
   ],
   "source": [
    "na_esrb = data_selection.pivot_table(index='rating', values='na_sales', aggfunc='sum').sort_values(by='na_sales', ascending=False).head()\n",
    "na_esrb.plot(kind='bar')\n",
    "na_esrb"
   ]
  },
  {
   "cell_type": "raw",
   "metadata": {},
   "source": [
    "По региону NA можно сделать следующие выводы: различия в долях продаж не такие значительные, лидером является платформа X360, с ббольшим отрывом лидируют жанры action и shooter, лидером продаж является рейтинг M"
   ]
  },
  {
   "cell_type": "code",
   "execution_count": 28,
   "metadata": {},
   "outputs": [
    {
     "data": {
      "text/html": [
       "<div>\n",
       "<style scoped>\n",
       "    .dataframe tbody tr th:only-of-type {\n",
       "        vertical-align: middle;\n",
       "    }\n",
       "\n",
       "    .dataframe tbody tr th {\n",
       "        vertical-align: top;\n",
       "    }\n",
       "\n",
       "    .dataframe thead th {\n",
       "        text-align: right;\n",
       "    }\n",
       "</style>\n",
       "<table border=\"1\" class=\"dataframe\">\n",
       "  <thead>\n",
       "    <tr style=\"text-align: right;\">\n",
       "      <th></th>\n",
       "      <th>eu_sales</th>\n",
       "    </tr>\n",
       "    <tr>\n",
       "      <th>platform</th>\n",
       "      <th></th>\n",
       "    </tr>\n",
       "  </thead>\n",
       "  <tbody>\n",
       "    <tr>\n",
       "      <th>PS4</th>\n",
       "      <td>141.09</td>\n",
       "    </tr>\n",
       "    <tr>\n",
       "      <th>PS3</th>\n",
       "      <td>106.86</td>\n",
       "    </tr>\n",
       "    <tr>\n",
       "      <th>X360</th>\n",
       "      <td>74.52</td>\n",
       "    </tr>\n",
       "    <tr>\n",
       "      <th>XOne</th>\n",
       "      <td>51.59</td>\n",
       "    </tr>\n",
       "    <tr>\n",
       "      <th>3DS</th>\n",
       "      <td>42.64</td>\n",
       "    </tr>\n",
       "  </tbody>\n",
       "</table>\n",
       "</div>"
      ],
      "text/plain": [
       "          eu_sales\n",
       "platform          \n",
       "PS4         141.09\n",
       "PS3         106.86\n",
       "X360         74.52\n",
       "XOne         51.59\n",
       "3DS          42.64"
      ]
     },
     "execution_count": 28,
     "metadata": {},
     "output_type": "execute_result"
    },
    {
     "data": {
      "image/png": "[encoded data removed]",
      "text/plain": [
       "<Figure size 432x432 with 1 Axes>"
      ]
     },
     "metadata": {},
     "output_type": "display_data"
    }
   ],
   "source": [
    "eu_region = data_selection.pivot_table(index='platform', values='eu_sales', aggfunc='sum').sort_values(by='eu_sales', ascending=False).head()\n",
    "eu_region['eu_sales'].plot(kind='pie', figsize=(6,6), autopct='%.0f%%')\n",
    "eu_region"
   ]
  },
  {
   "cell_type": "code",
   "execution_count": 29,
   "metadata": {},
   "outputs": [
    {
     "data": {
      "text/html": [
       "<div>\n",
       "<style scoped>\n",
       "    .dataframe tbody tr th:only-of-type {\n",
       "        vertical-align: middle;\n",
       "    }\n",
       "\n",
       "    .dataframe tbody tr th {\n",
       "        vertical-align: top;\n",
       "    }\n",
       "\n",
       "    .dataframe thead th {\n",
       "        text-align: right;\n",
       "    }\n",
       "</style>\n",
       "<table border=\"1\" class=\"dataframe\">\n",
       "  <thead>\n",
       "    <tr style=\"text-align: right;\">\n",
       "      <th></th>\n",
       "      <th>eu_sales</th>\n",
       "    </tr>\n",
       "    <tr>\n",
       "      <th>genre</th>\n",
       "      <th></th>\n",
       "    </tr>\n",
       "  </thead>\n",
       "  <tbody>\n",
       "    <tr>\n",
       "      <th>Action</th>\n",
       "      <td>159.34</td>\n",
       "    </tr>\n",
       "    <tr>\n",
       "      <th>Shooter</th>\n",
       "      <td>113.47</td>\n",
       "    </tr>\n",
       "    <tr>\n",
       "      <th>Sports</th>\n",
       "      <td>69.09</td>\n",
       "    </tr>\n",
       "    <tr>\n",
       "      <th>Role-Playing</th>\n",
       "      <td>48.53</td>\n",
       "    </tr>\n",
       "    <tr>\n",
       "      <th>Racing</th>\n",
       "      <td>27.29</td>\n",
       "    </tr>\n",
       "  </tbody>\n",
       "</table>\n",
       "</div>"
      ],
      "text/plain": [
       "              eu_sales\n",
       "genre                 \n",
       "Action          159.34\n",
       "Shooter         113.47\n",
       "Sports           69.09\n",
       "Role-Playing     48.53\n",
       "Racing           27.29"
      ]
     },
     "execution_count": 29,
     "metadata": {},
     "output_type": "execute_result"
    },
    {
     "data": {
      "image/png": "[encoded data removed]",
      "text/plain": [
       "<Figure size 432x432 with 1 Axes>"
      ]
     },
     "metadata": {},
     "output_type": "display_data"
    }
   ],
   "source": [
    "eu_genres = data_selection.pivot_table(index='genre', values='eu_sales', aggfunc='sum').sort_values(by='eu_sales', ascending=False).head()\n",
    "eu_genres['eu_sales'].plot(kind='pie', figsize=(6,6), autopct='%.0f%%')\n",
    "eu_genres"
   ]
  },
  {
   "cell_type": "code",
   "execution_count": 30,
   "metadata": {},
   "outputs": [
    {
     "data": {
      "text/html": [
       "<div>\n",
       "<style scoped>\n",
       "    .dataframe tbody tr th:only-of-type {\n",
       "        vertical-align: middle;\n",
       "    }\n",
       "\n",
       "    .dataframe tbody tr th {\n",
       "        vertical-align: top;\n",
       "    }\n",
       "\n",
       "    .dataframe thead th {\n",
       "        text-align: right;\n",
       "    }\n",
       "</style>\n",
       "<table border=\"1\" class=\"dataframe\">\n",
       "  <thead>\n",
       "    <tr style=\"text-align: right;\">\n",
       "      <th></th>\n",
       "      <th>eu_sales</th>\n",
       "    </tr>\n",
       "    <tr>\n",
       "      <th>rating</th>\n",
       "      <th></th>\n",
       "    </tr>\n",
       "  </thead>\n",
       "  <tbody>\n",
       "    <tr>\n",
       "      <th>M</th>\n",
       "      <td>193.96</td>\n",
       "    </tr>\n",
       "    <tr>\n",
       "      <th>E</th>\n",
       "      <td>113.03</td>\n",
       "    </tr>\n",
       "    <tr>\n",
       "      <th>unknown</th>\n",
       "      <td>91.50</td>\n",
       "    </tr>\n",
       "    <tr>\n",
       "      <th>E10+</th>\n",
       "      <td>55.37</td>\n",
       "    </tr>\n",
       "    <tr>\n",
       "      <th>T</th>\n",
       "      <td>52.96</td>\n",
       "    </tr>\n",
       "  </tbody>\n",
       "</table>\n",
       "</div>"
      ],
      "text/plain": [
       "         eu_sales\n",
       "rating           \n",
       "M          193.96\n",
       "E          113.03\n",
       "unknown     91.50\n",
       "E10+        55.37\n",
       "T           52.96"
      ]
     },
     "execution_count": 30,
     "metadata": {},
     "output_type": "execute_result"
    },
    {
     "data": {
      "image/png": "[encoded data removed]",
      "text/plain": [
       "<Figure size 432x288 with 1 Axes>"
      ]
     },
     "metadata": {
      "needs_background": "light"
     },
     "output_type": "display_data"
    }
   ],
   "source": [
    "eu_esrb = data_selection.pivot_table(index='rating', values='eu_sales', aggfunc='sum').sort_values(by='eu_sales', ascending=False).head()\n",
    "eu_esrb.plot(kind='bar')\n",
    "eu_esrb"
   ]
  },
  {
   "cell_type": "markdown",
   "metadata": {},
   "source": [
    "По региону EU можно сделать следующие выводы: различия в долях продаж не такие значительные, лидером является платформа PS4, с большим отрывом лидируют жанры action и shooter, появилась категория racing, лидером продаж является рейтинг M"
   ]
  },
  {
   "cell_type": "code",
   "execution_count": 31,
   "metadata": {},
   "outputs": [
    {
     "data": {
      "text/html": [
       "<div>\n",
       "<style scoped>\n",
       "    .dataframe tbody tr th:only-of-type {\n",
       "        vertical-align: middle;\n",
       "    }\n",
       "\n",
       "    .dataframe tbody tr th {\n",
       "        vertical-align: top;\n",
       "    }\n",
       "\n",
       "    .dataframe thead th {\n",
       "        text-align: right;\n",
       "    }\n",
       "</style>\n",
       "<table border=\"1\" class=\"dataframe\">\n",
       "  <thead>\n",
       "    <tr style=\"text-align: right;\">\n",
       "      <th></th>\n",
       "      <th>jp_sales</th>\n",
       "    </tr>\n",
       "    <tr>\n",
       "      <th>platform</th>\n",
       "      <th></th>\n",
       "    </tr>\n",
       "  </thead>\n",
       "  <tbody>\n",
       "    <tr>\n",
       "      <th>3DS</th>\n",
       "      <td>87.79</td>\n",
       "    </tr>\n",
       "    <tr>\n",
       "      <th>PS3</th>\n",
       "      <td>35.29</td>\n",
       "    </tr>\n",
       "    <tr>\n",
       "      <th>PSV</th>\n",
       "      <td>21.04</td>\n",
       "    </tr>\n",
       "    <tr>\n",
       "      <th>PS4</th>\n",
       "      <td>15.96</td>\n",
       "    </tr>\n",
       "    <tr>\n",
       "      <th>WiiU</th>\n",
       "      <td>13.01</td>\n",
       "    </tr>\n",
       "  </tbody>\n",
       "</table>\n",
       "</div>"
      ],
      "text/plain": [
       "          jp_sales\n",
       "platform          \n",
       "3DS          87.79\n",
       "PS3          35.29\n",
       "PSV          21.04\n",
       "PS4          15.96\n",
       "WiiU         13.01"
      ]
     },
     "execution_count": 31,
     "metadata": {},
     "output_type": "execute_result"
    },
    {
     "data": {
      "image/png": "[encoded data removed]",
      "text/plain": [
       "<Figure size 432x432 with 1 Axes>"
      ]
     },
     "metadata": {},
     "output_type": "display_data"
    }
   ],
   "source": [
    "jp_region = data_selection.pivot_table(index='platform', values='jp_sales', aggfunc='sum').sort_values(by='jp_sales', ascending=False).head()\n",
    "jp_region['jp_sales'].plot(kind='pie', figsize=(6,6), autopct='%.0f%%')\n",
    "jp_region"
   ]
  },
  {
   "cell_type": "code",
   "execution_count": 32,
   "metadata": {},
   "outputs": [
    {
     "data": {
      "text/html": [
       "<div>\n",
       "<style scoped>\n",
       "    .dataframe tbody tr th:only-of-type {\n",
       "        vertical-align: middle;\n",
       "    }\n",
       "\n",
       "    .dataframe tbody tr th {\n",
       "        vertical-align: top;\n",
       "    }\n",
       "\n",
       "    .dataframe thead th {\n",
       "        text-align: right;\n",
       "    }\n",
       "</style>\n",
       "<table border=\"1\" class=\"dataframe\">\n",
       "  <thead>\n",
       "    <tr style=\"text-align: right;\">\n",
       "      <th></th>\n",
       "      <th>jp_sales</th>\n",
       "    </tr>\n",
       "    <tr>\n",
       "      <th>genre</th>\n",
       "      <th></th>\n",
       "    </tr>\n",
       "  </thead>\n",
       "  <tbody>\n",
       "    <tr>\n",
       "      <th>Role-Playing</th>\n",
       "      <td>65.44</td>\n",
       "    </tr>\n",
       "    <tr>\n",
       "      <th>Action</th>\n",
       "      <td>52.80</td>\n",
       "    </tr>\n",
       "    <tr>\n",
       "      <th>Misc</th>\n",
       "      <td>12.86</td>\n",
       "    </tr>\n",
       "    <tr>\n",
       "      <th>Simulation</th>\n",
       "      <td>10.41</td>\n",
       "    </tr>\n",
       "    <tr>\n",
       "      <th>Fighting</th>\n",
       "      <td>9.44</td>\n",
       "    </tr>\n",
       "  </tbody>\n",
       "</table>\n",
       "</div>"
      ],
      "text/plain": [
       "              jp_sales\n",
       "genre                 \n",
       "Role-Playing     65.44\n",
       "Action           52.80\n",
       "Misc             12.86\n",
       "Simulation       10.41\n",
       "Fighting          9.44"
      ]
     },
     "execution_count": 32,
     "metadata": {},
     "output_type": "execute_result"
    },
    {
     "data": {
      "image/png": "[encoded data removed]",
      "text/plain": [
       "<Figure size 432x432 with 1 Axes>"
      ]
     },
     "metadata": {},
     "output_type": "display_data"
    }
   ],
   "source": [
    "jp_genres = data_selection.pivot_table(index='genre', values='jp_sales', aggfunc='sum').sort_values(by='jp_sales', ascending=False).head()\n",
    "jp_genres['jp_sales'].plot(kind='pie', figsize=(6,6), autopct='%.0f%%')\n",
    "jp_genres"
   ]
  },
  {
   "cell_type": "code",
   "execution_count": 33,
   "metadata": {},
   "outputs": [
    {
     "data": {
      "text/html": [
       "<div>\n",
       "<style scoped>\n",
       "    .dataframe tbody tr th:only-of-type {\n",
       "        vertical-align: middle;\n",
       "    }\n",
       "\n",
       "    .dataframe tbody tr th {\n",
       "        vertical-align: top;\n",
       "    }\n",
       "\n",
       "    .dataframe thead th {\n",
       "        text-align: right;\n",
       "    }\n",
       "</style>\n",
       "<table border=\"1\" class=\"dataframe\">\n",
       "  <thead>\n",
       "    <tr style=\"text-align: right;\">\n",
       "      <th></th>\n",
       "      <th>jp_sales</th>\n",
       "    </tr>\n",
       "    <tr>\n",
       "      <th>rating</th>\n",
       "      <th></th>\n",
       "    </tr>\n",
       "  </thead>\n",
       "  <tbody>\n",
       "    <tr>\n",
       "      <th>unknown</th>\n",
       "      <td>108.84</td>\n",
       "    </tr>\n",
       "    <tr>\n",
       "      <th>E</th>\n",
       "      <td>28.33</td>\n",
       "    </tr>\n",
       "    <tr>\n",
       "      <th>T</th>\n",
       "      <td>26.02</td>\n",
       "    </tr>\n",
       "    <tr>\n",
       "      <th>M</th>\n",
       "      <td>21.20</td>\n",
       "    </tr>\n",
       "    <tr>\n",
       "      <th>E10+</th>\n",
       "      <td>8.19</td>\n",
       "    </tr>\n",
       "  </tbody>\n",
       "</table>\n",
       "</div>"
      ],
      "text/plain": [
       "         jp_sales\n",
       "rating           \n",
       "unknown    108.84\n",
       "E           28.33\n",
       "T           26.02\n",
       "M           21.20\n",
       "E10+         8.19"
      ]
     },
     "execution_count": 33,
     "metadata": {},
     "output_type": "execute_result"
    },
    {
     "data": {
      "image/png": "[encoded data removed]",
      "text/plain": [
       "<Figure size 432x288 with 1 Axes>"
      ]
     },
     "metadata": {
      "needs_background": "light"
     },
     "output_type": "display_data"
    }
   ],
   "source": [
    "jp_esrb = data_selection.pivot_table(index='rating', values='jp_sales', aggfunc='sum').sort_values(by='jp_sales', ascending=False).head()\n",
    "jp_esrb.plot(kind='bar')\n",
    "jp_esrb"
   ]
  },
  {
   "cell_type": "markdown",
   "metadata": {},
   "source": [
    "Регион JP совершенно иной по имеющимся данным: с большим отрывом лидирует платформа 3DS, здесь предпочитают другой жанры игры (role playing в лидерах, action на 2 месте). По рейтингу лидирует неизвестный рейтинг, далее следует Т"
   ]
  },
  {
   "cell_type": "markdown",
   "metadata": {},
   "source": [
    "# Проверка гипотез <a id='гипотезы'></a>"
   ]
  },
  {
   "cell_type": "markdown",
   "metadata": {},
   "source": [
    "Пороговое значение alpha задаю стандартным - 5%"
   ]
  },
  {
   "cell_type": "markdown",
   "metadata": {},
   "source": [
    "Средние пользовательские оценки платформ Xbox One и PC одинаковы. Н0 - оценки одинаковы, Н1 - оценки разные"
   ]
  },
  {
   "cell_type": "code",
   "execution_count": 34,
   "metadata": {},
   "outputs": [
    {
     "name": "stdout",
     "output_type": "stream",
     "text": [
      "p-значение 0.5535080500643661\n",
      "Не получилось опровергнуть нулевую гипотезу\n"
     ]
    }
   ],
   "source": [
    "sample_xone = data_selection[data_selection['platform'] == 'XOne']['user_score'].dropna()\n",
    "sample_pc = data_selection[data_selection['platform'] == 'PC']['user_score'].dropna()\n",
    "\n",
    "alpha = 0.05\n",
    "results = st.ttest_ind(sample_xone, sample_pc)\n",
    "print('p-значение', results.pvalue)\n",
    "if results.pvalue < alpha:\n",
    "    print('Отвергаем нулевую гипотезу')\n",
    "else:\n",
    "    print('Не получилось опровергнуть нулевую гипотезу')"
   ]
  },
  {
   "cell_type": "markdown",
   "metadata": {},
   "source": [
    "Средние пользовательские рейтинги жанров Action и Sports разные. Н0 - рейтинги одинаковые, Н1 - рейтинги разные"
   ]
  },
  {
   "cell_type": "code",
   "execution_count": 35,
   "metadata": {},
   "outputs": [
    {
     "name": "stdout",
     "output_type": "stream",
     "text": [
      "p-значение 3.7163089460934874e-26\n",
      "Отвергаем нулевую гипотезу\n"
     ]
    }
   ],
   "source": [
    "sample_action = data_selection[data_selection['genre'] == 'Action']['user_score'].dropna()\n",
    "sample_sports = data_selection[data_selection['genre'] == 'Sports']['user_score'].dropna()\n",
    "\n",
    "alpha = 0.05\n",
    "results = st.ttest_ind(sample_action, sample_sports)\n",
    "print('p-значение', results.pvalue)\n",
    "if results.pvalue < alpha:\n",
    "    print('Отвергаем нулевую гипотезу')\n",
    "else:\n",
    "    print('Не получилось опровергнуть нулевую гипотезу')"
   ]
  },
  {
   "cell_type": "markdown",
   "metadata": {},
   "source": [
    "# Вывод <a id='вывод'></a>"
   ]
  },
  {
   "cell_type": "markdown",
   "metadata": {},
   "source": [
    "Для определения кампании на 2017 год решил сделать выборку за последние 5 лет - 2012-2016 гг., аргументируя это тем, что примерно десятилетие платформа живет, ее поддерживают, на нее пишут игры. Плюс ко всему в этот период нет больших перепадов показателей по продажам игр, что даст нам более менее ясную картину. В данный период выделил ряд прибыльных платформ:  PS4, XOne, 3DS. Я бы добавил сюда еще PC, тк там более менее стабильные продажи. В целом по платформам замечена тенденция, что оценки критиков больше влияют на продажи игр. Такой корреляции не нашел у пользовательских оценок. В лидерах продаж жанры action, shooter, role playing, sports. По регионам картина выглядит следующим образом: по региону NA можно сделать следующие выводы: различия в долях продаж не такие значительные, лидером является платформа X360, с ббольшим отрывом лидируют жанры action и shooter, лидером продаж является рейтинг M. По региону EU можно сделать следующие выводы: различия в долях продаж не такие значительные, лидером является платформа PS4, с большим отрывом лидируют жанры action и shooter, появилась категория racing, лидером продаж является рейтинг M. Регион JP совершенно иной по имеющимся данным: с большим отрывом лидирует платформа 3DS, здесь предпочитают другой жанры игры (role playing в лидерах, action на 2 месте). По рейтингу лидирует T. Гипотезы выше.\n",
    "Говоря о факторах, влияющих на продажи, то стит учесть при разработке кампании на 2017 год влияние оценок критиков (между ними и показателями продаж корреляция в среднем 0,3-0,5), также стоит учесть фактор жанра игры (популярными я выделил 4, они выше, другие жанры могут требовать больше ресурса приставок или компьютеров, более дорогое железо, что не по карману большом количеству пользователей). Стоит также учесть фактор игровых платформ (сейчас в ходу такие платформы как приставки серии PS3,4, XBox (One, 360)). Также стоит учитывать предпочтения пользователей в разных регионах (могут отличаться и предпочтения по платформам, и по жанрам игр)"
   ]
  }
 ],
 "metadata": {
  "ExecuteTimeLog": [
   {
    "duration": 1064,
    "start_time": "2021-12-28T17:03:06.423Z"
   },
   {
    "duration": 50,
    "start_time": "2021-12-28T17:03:47.716Z"
   },
   {
    "duration": 44,
    "start_time": "2021-12-28T17:05:03.808Z"
   },
   {
    "duration": 49,
    "start_time": "2021-12-28T17:08:21.008Z"
   },
   {
    "duration": 9,
    "start_time": "2021-12-28T17:08:58.257Z"
   },
   {
    "duration": 11,
    "start_time": "2021-12-28T17:11:08.008Z"
   },
   {
    "duration": 11,
    "start_time": "2021-12-28T17:11:39.240Z"
   },
   {
    "duration": 9,
    "start_time": "2021-12-28T17:11:57.239Z"
   },
   {
    "duration": 7,
    "start_time": "2021-12-28T17:40:07.012Z"
   },
   {
    "duration": 10,
    "start_time": "2021-12-28T17:40:34.843Z"
   },
   {
    "duration": 9346,
    "start_time": "2021-12-28T17:46:14.470Z"
   },
   {
    "duration": 10343,
    "start_time": "2021-12-28T17:46:55.995Z"
   },
   {
    "duration": 4,
    "start_time": "2021-12-28T17:47:08.124Z"
   },
   {
    "duration": 345,
    "start_time": "2021-12-28T17:51:07.666Z"
   },
   {
    "duration": 5,
    "start_time": "2021-12-28T17:51:38.464Z"
   },
   {
    "duration": 4,
    "start_time": "2021-12-28T17:51:51.589Z"
   },
   {
    "duration": 325,
    "start_time": "2021-12-28T17:52:08.159Z"
   },
   {
    "duration": 319,
    "start_time": "2021-12-28T17:53:37.061Z"
   },
   {
    "duration": 325,
    "start_time": "2021-12-28T17:54:17.090Z"
   },
   {
    "duration": 330,
    "start_time": "2021-12-28T17:54:28.307Z"
   },
   {
    "duration": 344,
    "start_time": "2021-12-28T17:55:54.810Z"
   },
   {
    "duration": 327,
    "start_time": "2021-12-28T17:56:43.211Z"
   },
   {
    "duration": 350,
    "start_time": "2021-12-28T17:56:52.371Z"
   },
   {
    "duration": 366,
    "start_time": "2021-12-28T17:58:34.589Z"
   },
   {
    "duration": 4,
    "start_time": "2021-12-28T17:58:45.671Z"
   },
   {
    "duration": 3,
    "start_time": "2021-12-28T17:59:02.005Z"
   },
   {
    "duration": 48,
    "start_time": "2021-12-28T17:59:02.010Z"
   },
   {
    "duration": 8,
    "start_time": "2021-12-28T17:59:02.060Z"
   },
   {
    "duration": 14,
    "start_time": "2021-12-28T17:59:07.959Z"
   },
   {
    "duration": 15,
    "start_time": "2021-12-28T17:59:29.723Z"
   },
   {
    "duration": 17,
    "start_time": "2021-12-28T18:02:10.339Z"
   },
   {
    "duration": 19,
    "start_time": "2021-12-28T18:07:33.427Z"
   },
   {
    "duration": 3,
    "start_time": "2021-12-28T18:07:54.074Z"
   },
   {
    "duration": 50,
    "start_time": "2021-12-28T18:07:54.079Z"
   },
   {
    "duration": 9,
    "start_time": "2021-12-28T18:07:54.131Z"
   },
   {
    "duration": 17,
    "start_time": "2021-12-28T18:07:54.141Z"
   },
   {
    "duration": 418,
    "start_time": "2021-12-28T18:12:14.685Z"
   },
   {
    "duration": 3,
    "start_time": "2021-12-28T18:12:30.922Z"
   },
   {
    "duration": 53,
    "start_time": "2021-12-28T18:12:30.927Z"
   },
   {
    "duration": 8,
    "start_time": "2021-12-28T18:12:30.982Z"
   },
   {
    "duration": 15,
    "start_time": "2021-12-28T18:12:30.992Z"
   },
   {
    "duration": 5,
    "start_time": "2021-12-28T18:13:57.977Z"
   },
   {
    "duration": 22,
    "start_time": "2021-12-28T18:15:25.640Z"
   },
   {
    "duration": 4,
    "start_time": "2021-12-28T18:15:36.244Z"
   },
   {
    "duration": 49,
    "start_time": "2021-12-28T18:15:36.250Z"
   },
   {
    "duration": 10,
    "start_time": "2021-12-28T18:15:36.301Z"
   },
   {
    "duration": 16,
    "start_time": "2021-12-28T18:15:36.313Z"
   },
   {
    "duration": 5,
    "start_time": "2021-12-28T18:16:21.602Z"
   },
   {
    "duration": 340,
    "start_time": "2021-12-28T18:17:02.506Z"
   },
   {
    "duration": 361,
    "start_time": "2021-12-28T18:18:32.767Z"
   },
   {
    "duration": 16,
    "start_time": "2021-12-28T18:18:55.834Z"
   },
   {
    "duration": 10,
    "start_time": "2021-12-28T18:19:19.074Z"
   },
   {
    "duration": 3,
    "start_time": "2021-12-28T18:19:30.230Z"
   },
   {
    "duration": 62,
    "start_time": "2021-12-28T18:19:30.235Z"
   },
   {
    "duration": 8,
    "start_time": "2021-12-28T18:19:30.299Z"
   },
   {
    "duration": 22,
    "start_time": "2021-12-28T18:19:30.309Z"
   },
   {
    "duration": 5,
    "start_time": "2021-12-28T18:24:22.069Z"
   },
   {
    "duration": 4,
    "start_time": "2021-12-28T18:25:52.838Z"
   },
   {
    "duration": 5,
    "start_time": "2021-12-28T18:26:05.719Z"
   },
   {
    "duration": 327,
    "start_time": "2021-12-28T18:27:06.742Z"
   },
   {
    "duration": 334,
    "start_time": "2021-12-28T18:27:44.140Z"
   },
   {
    "duration": 323,
    "start_time": "2021-12-28T18:28:10.868Z"
   },
   {
    "duration": 310,
    "start_time": "2021-12-28T18:28:20.870Z"
   },
   {
    "duration": 320,
    "start_time": "2021-12-28T18:28:26.362Z"
   },
   {
    "duration": 3,
    "start_time": "2021-12-28T18:28:34.094Z"
   },
   {
    "duration": 55,
    "start_time": "2021-12-28T18:28:34.099Z"
   },
   {
    "duration": 9,
    "start_time": "2021-12-28T18:28:34.156Z"
   },
   {
    "duration": 14,
    "start_time": "2021-12-28T18:28:34.167Z"
   },
   {
    "duration": 20,
    "start_time": "2021-12-28T18:28:34.182Z"
   },
   {
    "duration": 8,
    "start_time": "2021-12-28T18:29:08.011Z"
   },
   {
    "duration": 8,
    "start_time": "2021-12-28T18:29:28.856Z"
   },
   {
    "duration": 8,
    "start_time": "2021-12-28T18:29:35.337Z"
   },
   {
    "duration": 9,
    "start_time": "2021-12-28T18:30:25.289Z"
   },
   {
    "duration": 3,
    "start_time": "2021-12-28T18:30:36.113Z"
   },
   {
    "duration": 48,
    "start_time": "2021-12-28T18:30:36.118Z"
   },
   {
    "duration": 8,
    "start_time": "2021-12-28T18:30:36.168Z"
   },
   {
    "duration": 18,
    "start_time": "2021-12-28T18:30:36.177Z"
   },
   {
    "duration": 10,
    "start_time": "2021-12-28T18:30:36.197Z"
   },
   {
    "duration": 18,
    "start_time": "2021-12-28T18:33:49.472Z"
   },
   {
    "duration": 20,
    "start_time": "2021-12-28T18:34:50.305Z"
   },
   {
    "duration": 86,
    "start_time": "2021-12-28T18:50:41.977Z"
   },
   {
    "duration": 408,
    "start_time": "2021-12-28T18:51:00.878Z"
   },
   {
    "duration": 14,
    "start_time": "2021-12-28T18:51:22.569Z"
   },
   {
    "duration": 8415,
    "start_time": "2021-12-28T19:02:59.325Z"
   },
   {
    "duration": 15,
    "start_time": "2021-12-28T19:03:24.077Z"
   },
   {
    "duration": 3,
    "start_time": "2021-12-28T19:03:48.311Z"
   },
   {
    "duration": 52,
    "start_time": "2021-12-28T19:03:48.315Z"
   },
   {
    "duration": 8,
    "start_time": "2021-12-28T19:03:48.369Z"
   },
   {
    "duration": 15,
    "start_time": "2021-12-28T19:03:48.379Z"
   },
   {
    "duration": 10,
    "start_time": "2021-12-28T19:03:48.396Z"
   },
   {
    "duration": 33,
    "start_time": "2021-12-28T19:03:48.408Z"
   },
   {
    "duration": 8297,
    "start_time": "2021-12-28T19:03:48.442Z"
   },
   {
    "duration": 335,
    "start_time": "2021-12-28T19:04:20.722Z"
   },
   {
    "duration": 318,
    "start_time": "2021-12-28T19:11:32.892Z"
   },
   {
    "duration": 21,
    "start_time": "2021-12-28T19:13:53.804Z"
   },
   {
    "duration": 3,
    "start_time": "2021-12-28T19:14:02.391Z"
   },
   {
    "duration": 49,
    "start_time": "2021-12-28T19:14:02.396Z"
   },
   {
    "duration": 9,
    "start_time": "2021-12-28T19:14:02.447Z"
   },
   {
    "duration": 17,
    "start_time": "2021-12-28T19:14:02.457Z"
   },
   {
    "duration": 10,
    "start_time": "2021-12-28T19:14:02.476Z"
   },
   {
    "duration": 22,
    "start_time": "2021-12-28T19:14:02.487Z"
   },
   {
    "duration": 335,
    "start_time": "2021-12-28T19:14:02.510Z"
   },
   {
    "duration": 109,
    "start_time": "2021-12-28T19:14:02.847Z"
   },
   {
    "duration": 331,
    "start_time": "2021-12-28T19:18:10.503Z"
   },
   {
    "duration": 9,
    "start_time": "2021-12-28T19:18:24.047Z"
   },
   {
    "duration": 328,
    "start_time": "2021-12-28T19:19:30.335Z"
   },
   {
    "duration": 9,
    "start_time": "2021-12-28T19:19:42.743Z"
   },
   {
    "duration": 283,
    "start_time": "2021-12-28T19:22:30.173Z"
   },
   {
    "duration": 17,
    "start_time": "2021-12-28T19:43:48.943Z"
   },
   {
    "duration": 3,
    "start_time": "2021-12-28T19:48:17.803Z"
   },
   {
    "duration": 48,
    "start_time": "2021-12-28T19:48:17.808Z"
   },
   {
    "duration": 8,
    "start_time": "2021-12-28T19:48:17.858Z"
   },
   {
    "duration": 15,
    "start_time": "2021-12-28T19:48:17.867Z"
   },
   {
    "duration": 9,
    "start_time": "2021-12-28T19:48:17.883Z"
   },
   {
    "duration": 47,
    "start_time": "2021-12-28T19:48:17.894Z"
   },
   {
    "duration": 354,
    "start_time": "2021-12-28T19:48:17.943Z"
   },
   {
    "duration": 337,
    "start_time": "2021-12-28T19:48:18.299Z"
   },
   {
    "duration": 16,
    "start_time": "2021-12-28T19:48:18.638Z"
   },
   {
    "duration": 15,
    "start_time": "2021-12-28T19:53:13.125Z"
   },
   {
    "duration": 15,
    "start_time": "2021-12-28T20:08:43.099Z"
   },
   {
    "duration": 20,
    "start_time": "2021-12-28T20:08:50.827Z"
   },
   {
    "duration": 3,
    "start_time": "2021-12-28T20:09:00.823Z"
   },
   {
    "duration": 80,
    "start_time": "2021-12-28T20:09:00.828Z"
   },
   {
    "duration": 11,
    "start_time": "2021-12-28T20:09:00.911Z"
   },
   {
    "duration": 21,
    "start_time": "2021-12-28T20:09:00.924Z"
   },
   {
    "duration": 19,
    "start_time": "2021-12-28T20:09:00.947Z"
   },
   {
    "duration": 41,
    "start_time": "2021-12-28T20:09:00.968Z"
   },
   {
    "duration": 369,
    "start_time": "2021-12-28T20:09:01.011Z"
   },
   {
    "duration": 316,
    "start_time": "2021-12-28T20:09:01.382Z"
   },
   {
    "duration": 15,
    "start_time": "2021-12-28T20:09:01.700Z"
   },
   {
    "duration": 3,
    "start_time": "2021-12-28T20:14:28.760Z"
   },
   {
    "duration": 52,
    "start_time": "2021-12-28T20:14:28.764Z"
   },
   {
    "duration": 8,
    "start_time": "2021-12-28T20:14:28.818Z"
   },
   {
    "duration": 15,
    "start_time": "2021-12-28T20:14:28.828Z"
   },
   {
    "duration": 8,
    "start_time": "2021-12-28T20:14:28.845Z"
   },
   {
    "duration": 18,
    "start_time": "2021-12-28T20:14:28.855Z"
   },
   {
    "duration": 355,
    "start_time": "2021-12-28T20:14:28.874Z"
   },
   {
    "duration": 289,
    "start_time": "2021-12-28T20:14:29.231Z"
   },
   {
    "duration": 14,
    "start_time": "2021-12-28T20:14:29.522Z"
   },
   {
    "duration": 18,
    "start_time": "2021-12-28T20:14:59.659Z"
   },
   {
    "duration": 110,
    "start_time": "2021-12-28T20:17:21.090Z"
   },
   {
    "duration": 3,
    "start_time": "2021-12-28T20:17:30.078Z"
   },
   {
    "duration": 61,
    "start_time": "2021-12-28T20:17:30.082Z"
   },
   {
    "duration": 9,
    "start_time": "2021-12-28T20:17:30.145Z"
   },
   {
    "duration": 22,
    "start_time": "2021-12-28T20:17:30.156Z"
   },
   {
    "duration": 16,
    "start_time": "2021-12-28T20:17:30.180Z"
   },
   {
    "duration": 32,
    "start_time": "2021-12-28T20:17:30.198Z"
   },
   {
    "duration": 488,
    "start_time": "2021-12-28T20:17:30.232Z"
   },
   {
    "duration": 322,
    "start_time": "2021-12-28T20:17:30.722Z"
   },
   {
    "duration": 114,
    "start_time": "2021-12-28T20:17:31.046Z"
   },
   {
    "duration": 14,
    "start_time": "2021-12-28T20:18:18.520Z"
   },
   {
    "duration": 3,
    "start_time": "2021-12-28T20:24:14.720Z"
   },
   {
    "duration": 47,
    "start_time": "2021-12-28T20:24:14.725Z"
   },
   {
    "duration": 8,
    "start_time": "2021-12-28T20:24:14.774Z"
   },
   {
    "duration": 14,
    "start_time": "2021-12-28T20:24:14.784Z"
   },
   {
    "duration": 12,
    "start_time": "2021-12-28T20:24:14.799Z"
   },
   {
    "duration": 32,
    "start_time": "2021-12-28T20:24:14.813Z"
   },
   {
    "duration": 407,
    "start_time": "2021-12-28T20:24:14.846Z"
   },
   {
    "duration": 297,
    "start_time": "2021-12-28T20:24:15.254Z"
   },
   {
    "duration": 14,
    "start_time": "2021-12-28T20:24:15.554Z"
   },
   {
    "duration": 411,
    "start_time": "2021-12-28T20:29:51.949Z"
   },
   {
    "duration": 31,
    "start_time": "2021-12-28T20:30:03.661Z"
   },
   {
    "duration": 9,
    "start_time": "2021-12-28T20:30:26.577Z"
   },
   {
    "duration": 20,
    "start_time": "2021-12-28T20:30:36.431Z"
   },
   {
    "duration": 9,
    "start_time": "2021-12-28T20:30:44.758Z"
   },
   {
    "duration": 334,
    "start_time": "2021-12-28T20:34:02.608Z"
   },
   {
    "duration": 290,
    "start_time": "2021-12-28T20:34:12.699Z"
   },
   {
    "duration": 358,
    "start_time": "2021-12-28T20:36:02.585Z"
   },
   {
    "duration": 12,
    "start_time": "2021-12-28T20:37:15.867Z"
   },
   {
    "duration": 190,
    "start_time": "2021-12-28T20:38:17.203Z"
   },
   {
    "duration": 306,
    "start_time": "2021-12-28T20:38:29.049Z"
   },
   {
    "duration": 285,
    "start_time": "2021-12-28T20:49:54.511Z"
   },
   {
    "duration": 395,
    "start_time": "2021-12-28T21:04:00.713Z"
   },
   {
    "duration": 371,
    "start_time": "2021-12-28T21:04:30.393Z"
   },
   {
    "duration": 369,
    "start_time": "2021-12-28T21:04:40.788Z"
   },
   {
    "duration": 446,
    "start_time": "2021-12-28T21:04:54.423Z"
   },
   {
    "duration": 426,
    "start_time": "2021-12-28T21:05:08.879Z"
   },
   {
    "duration": 354,
    "start_time": "2021-12-28T21:05:42.609Z"
   },
   {
    "duration": 314,
    "start_time": "2021-12-28T21:06:59.732Z"
   },
   {
    "duration": 308,
    "start_time": "2021-12-28T21:07:16.483Z"
   },
   {
    "duration": 299,
    "start_time": "2021-12-28T21:08:08.555Z"
   },
   {
    "duration": 295,
    "start_time": "2021-12-28T21:09:40.947Z"
   },
   {
    "duration": 281,
    "start_time": "2021-12-28T21:10:14.576Z"
   },
   {
    "duration": 567,
    "start_time": "2021-12-28T21:21:25.469Z"
   },
   {
    "duration": 356,
    "start_time": "2021-12-28T21:21:40.757Z"
   },
   {
    "duration": 327,
    "start_time": "2021-12-28T21:22:14.947Z"
   },
   {
    "duration": 301,
    "start_time": "2021-12-28T21:22:39.912Z"
   },
   {
    "duration": 330,
    "start_time": "2021-12-28T21:22:52.422Z"
   },
   {
    "duration": 363,
    "start_time": "2021-12-28T21:24:30.526Z"
   },
   {
    "duration": 344,
    "start_time": "2021-12-28T21:25:16.508Z"
   },
   {
    "duration": 3,
    "start_time": "2021-12-28T21:26:11.139Z"
   },
   {
    "duration": 51,
    "start_time": "2021-12-28T21:26:11.144Z"
   },
   {
    "duration": 8,
    "start_time": "2021-12-28T21:26:11.198Z"
   },
   {
    "duration": 18,
    "start_time": "2021-12-28T21:26:11.208Z"
   },
   {
    "duration": 10,
    "start_time": "2021-12-28T21:26:11.227Z"
   },
   {
    "duration": 18,
    "start_time": "2021-12-28T21:26:11.238Z"
   },
   {
    "duration": 372,
    "start_time": "2021-12-28T21:26:11.258Z"
   },
   {
    "duration": 330,
    "start_time": "2021-12-28T21:26:11.633Z"
   },
   {
    "duration": 16,
    "start_time": "2021-12-28T21:26:11.965Z"
   },
   {
    "duration": 14,
    "start_time": "2021-12-28T21:26:11.983Z"
   },
   {
    "duration": 323,
    "start_time": "2021-12-28T21:26:11.999Z"
   },
   {
    "duration": 460,
    "start_time": "2021-12-28T21:26:12.327Z"
   },
   {
    "duration": 417,
    "start_time": "2021-12-28T21:26:12.789Z"
   },
   {
    "duration": 335,
    "start_time": "2021-12-28T21:26:13.208Z"
   },
   {
    "duration": 340,
    "start_time": "2021-12-28T21:26:13.545Z"
   },
   {
    "duration": 474,
    "start_time": "2021-12-28T21:26:33.639Z"
   },
   {
    "duration": 7,
    "start_time": "2021-12-28T21:27:03.385Z"
   },
   {
    "duration": 273,
    "start_time": "2021-12-28T21:28:17.244Z"
   },
   {
    "duration": 344,
    "start_time": "2021-12-28T21:28:49.521Z"
   },
   {
    "duration": 340,
    "start_time": "2021-12-28T21:30:14.059Z"
   },
   {
    "duration": 464,
    "start_time": "2021-12-28T21:31:27.884Z"
   },
   {
    "duration": 482,
    "start_time": "2021-12-28T21:31:47.817Z"
   },
   {
    "duration": 514,
    "start_time": "2021-12-28T21:32:19.144Z"
   },
   {
    "duration": 695,
    "start_time": "2021-12-28T21:32:44.522Z"
   },
   {
    "duration": 268,
    "start_time": "2021-12-28T21:33:05.221Z"
   },
   {
    "duration": 4,
    "start_time": "2021-12-28T21:33:07.791Z"
   },
   {
    "duration": 52,
    "start_time": "2021-12-28T21:33:07.797Z"
   },
   {
    "duration": 11,
    "start_time": "2021-12-28T21:33:07.851Z"
   },
   {
    "duration": 21,
    "start_time": "2021-12-28T21:33:07.864Z"
   },
   {
    "duration": 11,
    "start_time": "2021-12-28T21:33:07.886Z"
   },
   {
    "duration": 38,
    "start_time": "2021-12-28T21:33:07.898Z"
   },
   {
    "duration": 425,
    "start_time": "2021-12-28T21:33:07.938Z"
   },
   {
    "duration": 346,
    "start_time": "2021-12-28T21:33:08.365Z"
   },
   {
    "duration": 24,
    "start_time": "2021-12-28T21:33:08.712Z"
   },
   {
    "duration": 14,
    "start_time": "2021-12-28T21:33:08.738Z"
   },
   {
    "duration": 362,
    "start_time": "2021-12-28T21:33:08.754Z"
   },
   {
    "duration": 337,
    "start_time": "2021-12-28T21:33:09.118Z"
   },
   {
    "duration": 284,
    "start_time": "2021-12-28T21:33:09.456Z"
   },
   {
    "duration": 309,
    "start_time": "2021-12-28T21:33:09.742Z"
   },
   {
    "duration": 289,
    "start_time": "2021-12-28T21:33:10.053Z"
   },
   {
    "duration": 350,
    "start_time": "2021-12-28T21:33:10.344Z"
   },
   {
    "duration": 260,
    "start_time": "2021-12-28T21:35:32.456Z"
   },
   {
    "duration": 276,
    "start_time": "2021-12-28T21:35:38.171Z"
   },
   {
    "duration": 322,
    "start_time": "2021-12-28T21:36:26.829Z"
   },
   {
    "duration": 309,
    "start_time": "2021-12-28T21:36:35.604Z"
   },
   {
    "duration": 360,
    "start_time": "2021-12-28T21:37:50.005Z"
   },
   {
    "duration": 251,
    "start_time": "2021-12-28T21:38:04.459Z"
   },
   {
    "duration": 426,
    "start_time": "2021-12-28T21:38:15.362Z"
   },
   {
    "duration": 306,
    "start_time": "2021-12-28T21:40:09.486Z"
   },
   {
    "duration": 415,
    "start_time": "2021-12-28T21:46:20.020Z"
   },
   {
    "duration": 11,
    "start_time": "2021-12-28T21:47:37.319Z"
   },
   {
    "duration": 17,
    "start_time": "2021-12-28T21:47:55.028Z"
   },
   {
    "duration": 347,
    "start_time": "2021-12-28T21:51:57.678Z"
   },
   {
    "duration": 12,
    "start_time": "2021-12-28T21:52:08.524Z"
   },
   {
    "duration": 12,
    "start_time": "2021-12-28T21:54:27.981Z"
   },
   {
    "duration": 342,
    "start_time": "2021-12-28T21:55:01.788Z"
   },
   {
    "duration": 977,
    "start_time": "2021-12-28T21:55:35.642Z"
   },
   {
    "duration": 353,
    "start_time": "2021-12-28T21:55:44.529Z"
   },
   {
    "duration": 385,
    "start_time": "2021-12-28T21:56:54.259Z"
   },
   {
    "duration": 8728,
    "start_time": "2021-12-28T21:58:44.783Z"
   },
   {
    "duration": 90,
    "start_time": "2021-12-28T21:59:11.560Z"
   },
   {
    "duration": 94,
    "start_time": "2021-12-28T21:59:29.806Z"
   },
   {
    "duration": 163,
    "start_time": "2021-12-28T22:00:30.323Z"
   },
   {
    "duration": 355,
    "start_time": "2021-12-28T22:06:10.490Z"
   },
   {
    "duration": 8819,
    "start_time": "2021-12-28T22:06:57.092Z"
   },
   {
    "duration": 9,
    "start_time": "2021-12-28T22:07:30.671Z"
   },
   {
    "duration": 17,
    "start_time": "2021-12-28T22:07:43.091Z"
   },
   {
    "duration": 160,
    "start_time": "2021-12-28T22:12:50.744Z"
   },
   {
    "duration": 93,
    "start_time": "2021-12-28T22:17:01.243Z"
   },
   {
    "duration": 97,
    "start_time": "2021-12-28T22:17:37.042Z"
   },
   {
    "duration": 157,
    "start_time": "2021-12-28T22:18:08.579Z"
   },
   {
    "duration": 97,
    "start_time": "2021-12-28T22:20:17.142Z"
   },
   {
    "duration": 94,
    "start_time": "2021-12-28T22:20:53.227Z"
   },
   {
    "duration": 175,
    "start_time": "2021-12-28T22:21:23.836Z"
   },
   {
    "duration": 8903,
    "start_time": "2021-12-28T22:31:16.477Z"
   },
   {
    "duration": 10,
    "start_time": "2021-12-28T22:31:44.750Z"
   },
   {
    "duration": 9,
    "start_time": "2021-12-28T22:32:54.426Z"
   },
   {
    "duration": 7,
    "start_time": "2021-12-28T22:33:07.779Z"
   },
   {
    "duration": 9,
    "start_time": "2021-12-28T22:35:54.983Z"
   },
   {
    "duration": 6,
    "start_time": "2021-12-28T22:36:50.574Z"
   },
   {
    "duration": 6,
    "start_time": "2021-12-28T22:37:05.604Z"
   },
   {
    "duration": 5,
    "start_time": "2021-12-28T22:38:02.711Z"
   },
   {
    "duration": 9,
    "start_time": "2021-12-28T22:40:12.031Z"
   },
   {
    "duration": 5,
    "start_time": "2021-12-28T22:40:27.302Z"
   },
   {
    "duration": 7,
    "start_time": "2021-12-28T22:41:02.631Z"
   },
   {
    "duration": 363,
    "start_time": "2021-12-30T02:24:48.440Z"
   },
   {
    "duration": 97,
    "start_time": "2021-12-30T02:30:48.581Z"
   },
   {
    "duration": 274,
    "start_time": "2021-12-30T02:30:54.581Z"
   },
   {
    "duration": 1350,
    "start_time": "2021-12-30T16:56:02.983Z"
   },
   {
    "duration": 85,
    "start_time": "2021-12-30T16:56:04.336Z"
   },
   {
    "duration": 21,
    "start_time": "2021-12-30T16:56:04.426Z"
   },
   {
    "duration": 40,
    "start_time": "2021-12-30T16:56:04.451Z"
   },
   {
    "duration": 14,
    "start_time": "2021-12-30T16:56:04.494Z"
   },
   {
    "duration": 74,
    "start_time": "2021-12-30T16:56:04.511Z"
   },
   {
    "duration": 583,
    "start_time": "2021-12-30T16:56:04.589Z"
   },
   {
    "duration": 513,
    "start_time": "2021-12-30T16:56:05.176Z"
   },
   {
    "duration": 24,
    "start_time": "2021-12-30T16:56:05.692Z"
   },
   {
    "duration": 52,
    "start_time": "2021-12-30T16:56:05.719Z"
   },
   {
    "duration": 790,
    "start_time": "2021-12-30T16:56:05.774Z"
   },
   {
    "duration": 537,
    "start_time": "2021-12-30T16:56:06.567Z"
   },
   {
    "duration": 446,
    "start_time": "2021-12-30T16:56:07.107Z"
   },
   {
    "duration": 413,
    "start_time": "2021-12-30T16:56:07.563Z"
   },
   {
    "duration": 386,
    "start_time": "2021-12-30T16:56:07.978Z"
   },
   {
    "duration": 423,
    "start_time": "2021-12-30T16:56:08.366Z"
   },
   {
    "duration": 514,
    "start_time": "2021-12-30T16:56:08.791Z"
   },
   {
    "duration": 463,
    "start_time": "2021-12-30T16:56:09.308Z"
   },
   {
    "duration": 409,
    "start_time": "2021-12-30T16:56:09.774Z"
   },
   {
    "duration": 422,
    "start_time": "2021-12-30T16:56:10.185Z"
   },
   {
    "duration": 781,
    "start_time": "2021-12-30T16:56:10.610Z"
   },
   {
    "duration": 172,
    "start_time": "2021-12-30T16:56:11.394Z"
   },
   {
    "duration": 252,
    "start_time": "2021-12-30T16:56:11.573Z"
   },
   {
    "duration": 441,
    "start_time": "2021-12-30T16:56:11.829Z"
   },
   {
    "duration": 254,
    "start_time": "2021-12-30T16:56:12.273Z"
   },
   {
    "duration": 179,
    "start_time": "2021-12-30T16:56:12.530Z"
   },
   {
    "duration": 283,
    "start_time": "2021-12-30T16:56:12.712Z"
   },
   {
    "duration": 182,
    "start_time": "2021-12-30T16:56:12.997Z"
   },
   {
    "duration": 185,
    "start_time": "2021-12-30T16:56:13.182Z"
   },
   {
    "duration": 362,
    "start_time": "2021-12-30T16:56:13.370Z"
   },
   {
    "duration": 12,
    "start_time": "2021-12-30T16:56:13.735Z"
   },
   {
    "duration": 22,
    "start_time": "2021-12-30T16:56:13.749Z"
   },
   {
    "duration": 13,
    "start_time": "2021-12-30T16:57:39.584Z"
   },
   {
    "duration": 475,
    "start_time": "2021-12-30T17:04:16.375Z"
   },
   {
    "duration": 34,
    "start_time": "2021-12-30T17:05:44.308Z"
   },
   {
    "duration": 38,
    "start_time": "2021-12-30T17:06:12.874Z"
   },
   {
    "duration": 22,
    "start_time": "2021-12-30T17:06:23.156Z"
   },
   {
    "duration": 34,
    "start_time": "2021-12-30T17:07:26.967Z"
   },
   {
    "duration": 22,
    "start_time": "2021-12-30T17:07:47.804Z"
   },
   {
    "duration": 5,
    "start_time": "2021-12-30T17:10:55.344Z"
   },
   {
    "duration": 115,
    "start_time": "2021-12-30T17:10:55.352Z"
   },
   {
    "duration": 15,
    "start_time": "2021-12-30T17:10:55.470Z"
   },
   {
    "duration": 32,
    "start_time": "2021-12-30T17:10:55.488Z"
   },
   {
    "duration": 49,
    "start_time": "2021-12-30T17:10:55.522Z"
   },
   {
    "duration": 36,
    "start_time": "2021-12-30T17:10:55.573Z"
   },
   {
    "duration": 593,
    "start_time": "2021-12-30T17:10:55.611Z"
   },
   {
    "duration": 522,
    "start_time": "2021-12-30T17:10:56.208Z"
   },
   {
    "duration": 37,
    "start_time": "2021-12-30T17:10:56.733Z"
   },
   {
    "duration": 14,
    "start_time": "2021-12-30T17:10:56.773Z"
   },
   {
    "duration": 567,
    "start_time": "2021-12-30T17:10:56.790Z"
   },
   {
    "duration": 821,
    "start_time": "2021-12-30T17:10:57.363Z"
   },
   {
    "duration": 552,
    "start_time": "2021-12-30T17:10:58.187Z"
   },
   {
    "duration": 461,
    "start_time": "2021-12-30T17:10:58.742Z"
   },
   {
    "duration": 418,
    "start_time": "2021-12-30T17:10:59.205Z"
   },
   {
    "duration": 458,
    "start_time": "2021-12-30T17:10:59.625Z"
   },
   {
    "duration": 516,
    "start_time": "2021-12-30T17:11:00.085Z"
   },
   {
    "duration": 574,
    "start_time": "2021-12-30T17:11:00.604Z"
   },
   {
    "duration": 417,
    "start_time": "2021-12-30T17:11:01.181Z"
   },
   {
    "duration": 467,
    "start_time": "2021-12-30T17:11:01.601Z"
   },
   {
    "duration": 570,
    "start_time": "2021-12-30T17:11:02.070Z"
   },
   {
    "duration": 182,
    "start_time": "2021-12-30T17:11:02.642Z"
   },
   {
    "duration": 184,
    "start_time": "2021-12-30T17:11:02.830Z"
   },
   {
    "duration": 288,
    "start_time": "2021-12-30T17:11:03.017Z"
   },
   {
    "duration": 174,
    "start_time": "2021-12-30T17:11:03.308Z"
   },
   {
    "duration": 181,
    "start_time": "2021-12-30T17:11:03.484Z"
   },
   {
    "duration": 273,
    "start_time": "2021-12-30T17:11:03.668Z"
   },
   {
    "duration": 180,
    "start_time": "2021-12-30T17:11:03.944Z"
   },
   {
    "duration": 196,
    "start_time": "2021-12-30T17:11:04.126Z"
   },
   {
    "duration": 284,
    "start_time": "2021-12-30T17:11:04.325Z"
   },
   {
    "duration": 12,
    "start_time": "2021-12-30T17:11:04.611Z"
   },
   {
    "duration": 11,
    "start_time": "2021-12-30T17:11:04.626Z"
   },
   {
    "duration": 22,
    "start_time": "2021-12-30T17:12:58.592Z"
   },
   {
    "duration": 53,
    "start_time": "2021-12-30T17:13:07.022Z"
   },
   {
    "duration": 315,
    "start_time": "2021-12-30T17:13:55.590Z"
   },
   {
    "duration": 63,
    "start_time": "2021-12-30T17:14:00.509Z"
   },
   {
    "duration": 139,
    "start_time": "2021-12-30T17:14:18.473Z"
   },
   {
    "duration": 5,
    "start_time": "2021-12-30T17:14:29.698Z"
   },
   {
    "duration": 78,
    "start_time": "2021-12-30T17:14:29.706Z"
   },
   {
    "duration": 15,
    "start_time": "2021-12-30T17:14:29.789Z"
   },
   {
    "duration": 72,
    "start_time": "2021-12-30T17:14:29.807Z"
   },
   {
    "duration": 15,
    "start_time": "2021-12-30T17:14:29.882Z"
   },
   {
    "duration": 65,
    "start_time": "2021-12-30T17:14:29.900Z"
   },
   {
    "duration": 598,
    "start_time": "2021-12-30T17:14:29.968Z"
   },
   {
    "duration": 665,
    "start_time": "2021-12-30T17:14:30.572Z"
   },
   {
    "duration": 32,
    "start_time": "2021-12-30T17:14:31.240Z"
   },
   {
    "duration": 16,
    "start_time": "2021-12-30T17:14:31.275Z"
   },
   {
    "duration": 582,
    "start_time": "2021-12-30T17:14:31.293Z"
   },
   {
    "duration": 544,
    "start_time": "2021-12-30T17:14:31.877Z"
   },
   {
    "duration": 464,
    "start_time": "2021-12-30T17:14:32.424Z"
   },
   {
    "duration": 437,
    "start_time": "2021-12-30T17:14:32.891Z"
   },
   {
    "duration": 457,
    "start_time": "2021-12-30T17:14:33.331Z"
   },
   {
    "duration": 404,
    "start_time": "2021-12-30T17:14:33.791Z"
   },
   {
    "duration": 406,
    "start_time": "2021-12-30T17:14:34.197Z"
   },
   {
    "duration": 558,
    "start_time": "2021-12-30T17:14:34.605Z"
   },
   {
    "duration": 411,
    "start_time": "2021-12-30T17:14:35.166Z"
   },
   {
    "duration": 408,
    "start_time": "2021-12-30T17:14:35.580Z"
   },
   {
    "duration": 696,
    "start_time": "2021-12-30T17:14:35.991Z"
   },
   {
    "duration": 198,
    "start_time": "2021-12-30T17:14:36.690Z"
   },
   {
    "duration": 179,
    "start_time": "2021-12-30T17:14:36.893Z"
   },
   {
    "duration": 301,
    "start_time": "2021-12-30T17:14:37.075Z"
   },
   {
    "duration": 191,
    "start_time": "2021-12-30T17:14:37.378Z"
   },
   {
    "duration": 181,
    "start_time": "2021-12-30T17:14:37.573Z"
   },
   {
    "duration": 290,
    "start_time": "2021-12-30T17:14:37.757Z"
   },
   {
    "duration": 183,
    "start_time": "2021-12-30T17:14:38.049Z"
   },
   {
    "duration": 204,
    "start_time": "2021-12-30T17:14:38.236Z"
   },
   {
    "duration": 273,
    "start_time": "2021-12-30T17:14:38.444Z"
   },
   {
    "duration": 13,
    "start_time": "2021-12-30T17:14:38.720Z"
   },
   {
    "duration": 39,
    "start_time": "2021-12-30T17:14:38.736Z"
   },
   {
    "duration": 4,
    "start_time": "2021-12-30T17:15:16.716Z"
   },
   {
    "duration": 75,
    "start_time": "2021-12-30T17:15:16.723Z"
   },
   {
    "duration": 14,
    "start_time": "2021-12-30T17:15:16.801Z"
   },
   {
    "duration": 62,
    "start_time": "2021-12-30T17:15:16.818Z"
   },
   {
    "duration": 13,
    "start_time": "2021-12-30T17:15:16.883Z"
   },
   {
    "duration": 65,
    "start_time": "2021-12-30T17:15:16.898Z"
   },
   {
    "duration": 64,
    "start_time": "2021-12-30T17:15:16.966Z"
   },
   {
    "duration": 649,
    "start_time": "2021-12-30T17:15:17.035Z"
   },
   {
    "duration": 622,
    "start_time": "2021-12-30T17:15:17.687Z"
   },
   {
    "duration": 25,
    "start_time": "2021-12-30T17:15:18.312Z"
   },
   {
    "duration": 16,
    "start_time": "2021-12-30T17:15:18.364Z"
   },
   {
    "duration": 558,
    "start_time": "2021-12-30T17:15:18.382Z"
   },
   {
    "duration": 520,
    "start_time": "2021-12-30T17:15:18.943Z"
   },
   {
    "duration": 425,
    "start_time": "2021-12-30T17:15:19.465Z"
   },
   {
    "duration": 397,
    "start_time": "2021-12-30T17:15:19.892Z"
   },
   {
    "duration": 420,
    "start_time": "2021-12-30T17:15:20.292Z"
   },
   {
    "duration": 453,
    "start_time": "2021-12-30T17:15:20.714Z"
   },
   {
    "duration": 413,
    "start_time": "2021-12-30T17:15:21.170Z"
   },
   {
    "duration": 570,
    "start_time": "2021-12-30T17:15:21.586Z"
   },
   {
    "duration": 516,
    "start_time": "2021-12-30T17:15:22.164Z"
   },
   {
    "duration": 402,
    "start_time": "2021-12-30T17:15:22.683Z"
   },
   {
    "duration": 593,
    "start_time": "2021-12-30T17:15:23.087Z"
   },
   {
    "duration": 169,
    "start_time": "2021-12-30T17:15:23.685Z"
   },
   {
    "duration": 384,
    "start_time": "2021-12-30T17:15:23.857Z"
   },
   {
    "duration": 409,
    "start_time": "2021-12-30T17:15:24.244Z"
   },
   {
    "duration": 251,
    "start_time": "2021-12-30T17:15:24.656Z"
   },
   {
    "duration": 243,
    "start_time": "2021-12-30T17:15:24.910Z"
   },
   {
    "duration": 301,
    "start_time": "2021-12-30T17:15:25.164Z"
   },
   {
    "duration": 176,
    "start_time": "2021-12-30T17:15:25.467Z"
   },
   {
    "duration": 195,
    "start_time": "2021-12-30T17:15:25.646Z"
   },
   {
    "duration": 382,
    "start_time": "2021-12-30T17:15:25.844Z"
   },
   {
    "duration": 12,
    "start_time": "2021-12-30T17:15:26.229Z"
   },
   {
    "duration": 29,
    "start_time": "2021-12-30T17:15:26.244Z"
   },
   {
    "duration": 29,
    "start_time": "2021-12-30T17:16:25.446Z"
   },
   {
    "duration": 46,
    "start_time": "2021-12-30T17:18:23.564Z"
   },
   {
    "duration": 27,
    "start_time": "2021-12-30T17:18:28.041Z"
   },
   {
    "duration": 4,
    "start_time": "2021-12-30T17:18:38.229Z"
   },
   {
    "duration": 73,
    "start_time": "2021-12-30T17:18:38.237Z"
   },
   {
    "duration": 12,
    "start_time": "2021-12-30T17:18:38.314Z"
   },
   {
    "duration": 62,
    "start_time": "2021-12-30T17:18:38.329Z"
   },
   {
    "duration": 13,
    "start_time": "2021-12-30T17:18:38.393Z"
   },
   {
    "duration": 67,
    "start_time": "2021-12-30T17:18:38.408Z"
   },
   {
    "duration": 29,
    "start_time": "2021-12-30T17:18:38.478Z"
   },
   {
    "duration": 635,
    "start_time": "2021-12-30T17:18:38.510Z"
   },
   {
    "duration": 535,
    "start_time": "2021-12-30T17:18:39.148Z"
   },
   {
    "duration": 22,
    "start_time": "2021-12-30T17:18:39.685Z"
   },
   {
    "duration": 14,
    "start_time": "2021-12-30T17:18:39.710Z"
   },
   {
    "duration": 568,
    "start_time": "2021-12-30T17:18:39.727Z"
   },
   {
    "duration": 544,
    "start_time": "2021-12-30T17:18:40.297Z"
   },
   {
    "duration": 427,
    "start_time": "2021-12-30T17:18:40.844Z"
   },
   {
    "duration": 565,
    "start_time": "2021-12-30T17:18:41.274Z"
   },
   {
    "duration": 416,
    "start_time": "2021-12-30T17:18:41.842Z"
   },
   {
    "duration": 405,
    "start_time": "2021-12-30T17:18:42.260Z"
   },
   {
    "duration": 430,
    "start_time": "2021-12-30T17:18:42.668Z"
   },
   {
    "duration": 411,
    "start_time": "2021-12-30T17:18:43.100Z"
   },
   {
    "duration": 491,
    "start_time": "2021-12-30T17:18:43.514Z"
   },
   {
    "duration": 484,
    "start_time": "2021-12-30T17:18:44.008Z"
   },
   {
    "duration": 573,
    "start_time": "2021-12-30T17:18:44.494Z"
   },
   {
    "duration": 194,
    "start_time": "2021-12-30T17:18:45.071Z"
   },
   {
    "duration": 181,
    "start_time": "2021-12-30T17:18:45.269Z"
   },
   {
    "duration": 300,
    "start_time": "2021-12-30T17:18:45.463Z"
   },
   {
    "duration": 176,
    "start_time": "2021-12-30T17:18:45.766Z"
   },
   {
    "duration": 184,
    "start_time": "2021-12-30T17:18:45.945Z"
   },
   {
    "duration": 282,
    "start_time": "2021-12-30T17:18:46.132Z"
   },
   {
    "duration": 184,
    "start_time": "2021-12-30T17:18:46.416Z"
   },
   {
    "duration": 191,
    "start_time": "2021-12-30T17:18:46.603Z"
   },
   {
    "duration": 290,
    "start_time": "2021-12-30T17:18:46.796Z"
   },
   {
    "duration": 13,
    "start_time": "2021-12-30T17:18:47.088Z"
   },
   {
    "duration": 14,
    "start_time": "2021-12-30T17:18:47.104Z"
   },
   {
    "duration": 34,
    "start_time": "2021-12-30T17:43:31.260Z"
   },
   {
    "duration": 15,
    "start_time": "2021-12-30T17:43:36.914Z"
   },
   {
    "duration": 4,
    "start_time": "2021-12-30T17:44:22.628Z"
   },
   {
    "duration": 73,
    "start_time": "2021-12-30T17:44:22.635Z"
   },
   {
    "duration": 13,
    "start_time": "2021-12-30T17:44:22.712Z"
   },
   {
    "duration": 63,
    "start_time": "2021-12-30T17:44:22.728Z"
   },
   {
    "duration": 12,
    "start_time": "2021-12-30T17:44:22.794Z"
   },
   {
    "duration": 72,
    "start_time": "2021-12-30T17:44:22.808Z"
   },
   {
    "duration": 30,
    "start_time": "2021-12-30T17:44:22.882Z"
   },
   {
    "duration": 49,
    "start_time": "2021-12-30T17:44:22.918Z"
   },
   {
    "duration": 743,
    "start_time": "2021-12-30T17:44:22.971Z"
   },
   {
    "duration": 531,
    "start_time": "2021-12-30T17:44:23.718Z"
   },
   {
    "duration": 31,
    "start_time": "2021-12-30T17:44:24.251Z"
   },
   {
    "duration": 17,
    "start_time": "2021-12-30T17:44:24.285Z"
   },
   {
    "duration": 562,
    "start_time": "2021-12-30T17:44:24.305Z"
   },
   {
    "duration": 527,
    "start_time": "2021-12-30T17:44:24.870Z"
   },
   {
    "duration": 437,
    "start_time": "2021-12-30T17:44:25.400Z"
   },
   {
    "duration": 466,
    "start_time": "2021-12-30T17:44:25.839Z"
   },
   {
    "duration": 593,
    "start_time": "2021-12-30T17:44:26.307Z"
   },
   {
    "duration": 594,
    "start_time": "2021-12-30T17:44:26.903Z"
   },
   {
    "duration": 584,
    "start_time": "2021-12-30T17:44:27.500Z"
   },
   {
    "duration": 388,
    "start_time": "2021-12-30T17:44:28.086Z"
   },
   {
    "duration": 388,
    "start_time": "2021-12-30T17:44:28.477Z"
   },
   {
    "duration": 461,
    "start_time": "2021-12-30T17:44:28.868Z"
   },
   {
    "duration": 630,
    "start_time": "2021-12-30T17:44:29.336Z"
   },
   {
    "duration": 180,
    "start_time": "2021-12-30T17:44:29.969Z"
   },
   {
    "duration": 178,
    "start_time": "2021-12-30T17:44:30.151Z"
   },
   {
    "duration": 298,
    "start_time": "2021-12-30T17:44:30.331Z"
   },
   {
    "duration": 249,
    "start_time": "2021-12-30T17:44:30.632Z"
   },
   {
    "duration": 340,
    "start_time": "2021-12-30T17:44:30.885Z"
   },
   {
    "duration": 286,
    "start_time": "2021-12-30T17:44:31.228Z"
   },
   {
    "duration": 170,
    "start_time": "2021-12-30T17:44:31.516Z"
   },
   {
    "duration": 195,
    "start_time": "2021-12-30T17:44:31.689Z"
   },
   {
    "duration": 293,
    "start_time": "2021-12-30T17:44:31.887Z"
   },
   {
    "duration": 12,
    "start_time": "2021-12-30T17:44:32.183Z"
   },
   {
    "duration": 13,
    "start_time": "2021-12-30T17:44:32.198Z"
   },
   {
    "duration": 328,
    "start_time": "2021-12-30T17:46:12.011Z"
   },
   {
    "duration": 18,
    "start_time": "2021-12-30T17:46:19.504Z"
   },
   {
    "duration": 4,
    "start_time": "2021-12-30T17:46:27.379Z"
   },
   {
    "duration": 86,
    "start_time": "2021-12-30T17:46:27.386Z"
   },
   {
    "duration": 16,
    "start_time": "2021-12-30T17:46:27.476Z"
   },
   {
    "duration": 69,
    "start_time": "2021-12-30T17:46:27.496Z"
   },
   {
    "duration": 14,
    "start_time": "2021-12-30T17:46:27.568Z"
   },
   {
    "duration": 35,
    "start_time": "2021-12-30T17:46:27.584Z"
   },
   {
    "duration": 68,
    "start_time": "2021-12-30T17:46:27.622Z"
   },
   {
    "duration": 18,
    "start_time": "2021-12-30T17:46:27.694Z"
   },
   {
    "duration": 17,
    "start_time": "2021-12-30T17:46:27.715Z"
   },
   {
    "duration": 622,
    "start_time": "2021-12-30T17:46:27.764Z"
   },
   {
    "duration": 741,
    "start_time": "2021-12-30T17:46:28.389Z"
   },
   {
    "duration": 51,
    "start_time": "2021-12-30T17:46:29.134Z"
   },
   {
    "duration": 22,
    "start_time": "2021-12-30T17:46:29.189Z"
   },
   {
    "duration": 813,
    "start_time": "2021-12-30T17:46:29.214Z"
   },
   {
    "duration": 807,
    "start_time": "2021-12-30T17:46:30.030Z"
   },
   {
    "duration": 584,
    "start_time": "2021-12-30T17:46:30.840Z"
   },
   {
    "duration": 592,
    "start_time": "2021-12-30T17:46:31.428Z"
   },
   {
    "duration": 442,
    "start_time": "2021-12-30T17:46:32.023Z"
   },
   {
    "duration": 535,
    "start_time": "2021-12-30T17:46:32.468Z"
   },
   {
    "duration": 575,
    "start_time": "2021-12-30T17:46:33.006Z"
   },
   {
    "duration": 409,
    "start_time": "2021-12-30T17:46:33.585Z"
   },
   {
    "duration": 412,
    "start_time": "2021-12-30T17:46:33.997Z"
   },
   {
    "duration": 465,
    "start_time": "2021-12-30T17:46:34.414Z"
   },
   {
    "duration": 841,
    "start_time": "2021-12-30T17:46:34.883Z"
   },
   {
    "duration": 184,
    "start_time": "2021-12-30T17:46:35.727Z"
   },
   {
    "duration": 180,
    "start_time": "2021-12-30T17:46:35.913Z"
   },
   {
    "duration": 300,
    "start_time": "2021-12-30T17:46:36.096Z"
   },
   {
    "duration": 190,
    "start_time": "2021-12-30T17:46:36.398Z"
   },
   {
    "duration": 187,
    "start_time": "2021-12-30T17:46:36.590Z"
   },
   {
    "duration": 275,
    "start_time": "2021-12-30T17:46:36.780Z"
   },
   {
    "duration": 171,
    "start_time": "2021-12-30T17:46:37.058Z"
   },
   {
    "duration": 207,
    "start_time": "2021-12-30T17:46:37.233Z"
   },
   {
    "duration": 289,
    "start_time": "2021-12-30T17:46:37.442Z"
   },
   {
    "duration": 12,
    "start_time": "2021-12-30T17:46:37.733Z"
   },
   {
    "duration": 26,
    "start_time": "2021-12-30T17:46:37.748Z"
   },
   {
    "duration": 4,
    "start_time": "2021-12-30T17:49:56.748Z"
   },
   {
    "duration": 80,
    "start_time": "2021-12-30T17:49:56.755Z"
   },
   {
    "duration": 37,
    "start_time": "2021-12-30T17:49:56.840Z"
   },
   {
    "duration": 30,
    "start_time": "2021-12-30T17:49:56.881Z"
   },
   {
    "duration": 52,
    "start_time": "2021-12-30T17:49:56.915Z"
   },
   {
    "duration": 35,
    "start_time": "2021-12-30T17:49:56.969Z"
   },
   {
    "duration": 59,
    "start_time": "2021-12-30T17:49:57.006Z"
   },
   {
    "duration": 17,
    "start_time": "2021-12-30T17:49:57.067Z"
   },
   {
    "duration": 18,
    "start_time": "2021-12-30T17:49:57.088Z"
   },
   {
    "duration": 610,
    "start_time": "2021-12-30T17:49:57.110Z"
   },
   {
    "duration": 517,
    "start_time": "2021-12-30T17:49:57.723Z"
   },
   {
    "duration": 35,
    "start_time": "2021-12-30T17:49:58.242Z"
   },
   {
    "duration": 16,
    "start_time": "2021-12-30T17:49:58.279Z"
   },
   {
    "duration": 550,
    "start_time": "2021-12-30T17:49:58.297Z"
   },
   {
    "duration": 525,
    "start_time": "2021-12-30T17:49:58.849Z"
   },
   {
    "duration": 426,
    "start_time": "2021-12-30T17:49:59.377Z"
   },
   {
    "duration": 493,
    "start_time": "2021-12-30T17:49:59.805Z"
   },
   {
    "duration": 416,
    "start_time": "2021-12-30T17:50:00.301Z"
   },
   {
    "duration": 471,
    "start_time": "2021-12-30T17:50:00.720Z"
   },
   {
    "duration": 607,
    "start_time": "2021-12-30T17:50:01.193Z"
   },
   {
    "duration": 423,
    "start_time": "2021-12-30T17:50:01.803Z"
   },
   {
    "duration": 431,
    "start_time": "2021-12-30T17:50:02.229Z"
   },
   {
    "duration": 413,
    "start_time": "2021-12-30T17:50:02.664Z"
   },
   {
    "duration": 841,
    "start_time": "2021-12-30T17:50:03.081Z"
   },
   {
    "duration": 271,
    "start_time": "2021-12-30T17:50:03.925Z"
   },
   {
    "duration": 187,
    "start_time": "2021-12-30T17:50:04.199Z"
   },
   {
    "duration": 293,
    "start_time": "2021-12-30T17:50:04.391Z"
   },
   {
    "duration": 199,
    "start_time": "2021-12-30T17:50:04.687Z"
   },
   {
    "duration": 189,
    "start_time": "2021-12-30T17:50:04.888Z"
   },
   {
    "duration": 285,
    "start_time": "2021-12-30T17:50:05.080Z"
   },
   {
    "duration": 189,
    "start_time": "2021-12-30T17:50:05.367Z"
   },
   {
    "duration": 187,
    "start_time": "2021-12-30T17:50:05.562Z"
   },
   {
    "duration": 289,
    "start_time": "2021-12-30T17:50:05.751Z"
   },
   {
    "duration": 22,
    "start_time": "2021-12-30T17:50:06.043Z"
   },
   {
    "duration": 26,
    "start_time": "2021-12-30T17:50:06.068Z"
   },
   {
    "duration": 13,
    "start_time": "2021-12-30T17:52:56.814Z"
   },
   {
    "duration": 17,
    "start_time": "2021-12-30T17:53:18.426Z"
   },
   {
    "duration": 383,
    "start_time": "2021-12-30T18:06:30.470Z"
   },
   {
    "duration": 4,
    "start_time": "2021-12-30T18:06:51.298Z"
   },
   {
    "duration": 80,
    "start_time": "2021-12-30T18:06:51.304Z"
   },
   {
    "duration": 18,
    "start_time": "2021-12-30T18:06:51.388Z"
   },
   {
    "duration": 60,
    "start_time": "2021-12-30T18:06:51.410Z"
   },
   {
    "duration": 20,
    "start_time": "2021-12-30T18:06:51.474Z"
   },
   {
    "duration": 79,
    "start_time": "2021-12-30T18:06:51.498Z"
   },
   {
    "duration": 52,
    "start_time": "2021-12-30T18:06:51.581Z"
   },
   {
    "duration": 34,
    "start_time": "2021-12-30T18:06:51.637Z"
   },
   {
    "duration": 24,
    "start_time": "2021-12-30T18:06:51.676Z"
   },
   {
    "duration": 612,
    "start_time": "2021-12-30T18:06:51.703Z"
   },
   {
    "duration": 545,
    "start_time": "2021-12-30T18:06:52.318Z"
   },
   {
    "duration": 24,
    "start_time": "2021-12-30T18:06:52.867Z"
   },
   {
    "duration": 15,
    "start_time": "2021-12-30T18:06:52.894Z"
   },
   {
    "duration": 606,
    "start_time": "2021-12-30T18:06:52.912Z"
   },
   {
    "duration": 526,
    "start_time": "2021-12-30T18:06:53.520Z"
   },
   {
    "duration": 661,
    "start_time": "2021-12-30T18:06:54.048Z"
   },
   {
    "duration": 454,
    "start_time": "2021-12-30T18:06:54.711Z"
   },
   {
    "duration": 530,
    "start_time": "2021-12-30T18:06:55.169Z"
   },
   {
    "duration": 587,
    "start_time": "2021-12-30T18:06:55.702Z"
   },
   {
    "duration": 550,
    "start_time": "2021-12-30T18:06:56.292Z"
   },
   {
    "duration": 426,
    "start_time": "2021-12-30T18:06:56.845Z"
   },
   {
    "duration": 397,
    "start_time": "2021-12-30T18:06:57.275Z"
   },
   {
    "duration": 416,
    "start_time": "2021-12-30T18:06:57.677Z"
   },
   {
    "duration": 568,
    "start_time": "2021-12-30T18:06:58.095Z"
   },
   {
    "duration": 190,
    "start_time": "2021-12-30T18:06:58.665Z"
   },
   {
    "duration": 192,
    "start_time": "2021-12-30T18:06:58.862Z"
   },
   {
    "duration": 272,
    "start_time": "2021-12-30T18:06:59.056Z"
   },
   {
    "duration": 196,
    "start_time": "2021-12-30T18:06:59.331Z"
   },
   {
    "duration": 193,
    "start_time": "2021-12-30T18:06:59.530Z"
   },
   {
    "duration": 294,
    "start_time": "2021-12-30T18:06:59.726Z"
   },
   {
    "duration": 191,
    "start_time": "2021-12-30T18:07:00.023Z"
   },
   {
    "duration": 194,
    "start_time": "2021-12-30T18:07:00.217Z"
   },
   {
    "duration": 286,
    "start_time": "2021-12-30T18:07:00.413Z"
   },
   {
    "duration": 18,
    "start_time": "2021-12-30T18:07:00.702Z"
   },
   {
    "duration": 44,
    "start_time": "2021-12-30T18:07:00.722Z"
   },
   {
    "duration": 1172,
    "start_time": "2022-04-20T15:39:59.394Z"
   },
   {
    "duration": 64,
    "start_time": "2022-04-20T15:40:00.568Z"
   },
   {
    "duration": 16,
    "start_time": "2022-04-20T15:40:00.633Z"
   },
   {
    "duration": 29,
    "start_time": "2022-04-20T15:40:00.651Z"
   },
   {
    "duration": 22,
    "start_time": "2022-04-20T15:40:00.682Z"
   },
   {
    "duration": 31,
    "start_time": "2022-04-20T15:40:00.706Z"
   },
   {
    "duration": 41,
    "start_time": "2022-04-20T15:40:00.738Z"
   },
   {
    "duration": 17,
    "start_time": "2022-04-20T15:40:00.781Z"
   },
   {
    "duration": 16,
    "start_time": "2022-04-20T15:40:00.800Z"
   },
   {
    "duration": 335,
    "start_time": "2022-04-20T15:40:00.820Z"
   },
   {
    "duration": 297,
    "start_time": "2022-04-20T15:40:01.156Z"
   },
   {
    "duration": 18,
    "start_time": "2022-04-20T15:40:01.455Z"
   },
   {
    "duration": 23,
    "start_time": "2022-04-20T15:40:01.474Z"
   },
   {
    "duration": 300,
    "start_time": "2022-04-20T15:40:01.499Z"
   },
   {
    "duration": 237,
    "start_time": "2022-04-20T15:40:01.800Z"
   },
   {
    "duration": 169,
    "start_time": "2022-04-20T15:40:02.038Z"
   },
   {
    "duration": 172,
    "start_time": "2022-04-20T15:40:02.208Z"
   },
   {
    "duration": 160,
    "start_time": "2022-04-20T15:40:02.382Z"
   },
   {
    "duration": 156,
    "start_time": "2022-04-20T15:40:02.544Z"
   },
   {
    "duration": 236,
    "start_time": "2022-04-20T15:40:02.702Z"
   },
   {
    "duration": 156,
    "start_time": "2022-04-20T15:40:02.940Z"
   },
   {
    "duration": 153,
    "start_time": "2022-04-20T15:40:03.098Z"
   },
   {
    "duration": 156,
    "start_time": "2022-04-20T15:40:03.253Z"
   },
   {
    "duration": 306,
    "start_time": "2022-04-20T15:40:03.412Z"
   },
   {
    "duration": 134,
    "start_time": "2022-04-20T15:40:03.721Z"
   },
   {
    "duration": 124,
    "start_time": "2022-04-20T15:40:03.857Z"
   },
   {
    "duration": 149,
    "start_time": "2022-04-20T15:40:03.982Z"
   },
   {
    "duration": 124,
    "start_time": "2022-04-20T15:40:04.136Z"
   },
   {
    "duration": 133,
    "start_time": "2022-04-20T15:40:04.261Z"
   },
   {
    "duration": 158,
    "start_time": "2022-04-20T15:40:04.396Z"
   },
   {
    "duration": 204,
    "start_time": "2022-04-20T15:40:04.555Z"
   },
   {
    "duration": 133,
    "start_time": "2022-04-20T15:40:04.761Z"
   },
   {
    "duration": 153,
    "start_time": "2022-04-20T15:40:04.897Z"
   },
   {
    "duration": 9,
    "start_time": "2022-04-20T15:40:05.052Z"
   },
   {
    "duration": 13,
    "start_time": "2022-04-20T15:40:05.063Z"
   }
  ],
  "kernelspec": {
   "display_name": "Python 3",
   "language": "python",
   "name": "python3"
  },
  "language_info": {
   "codemirror_mode": {
    "name": "ipython",
    "version": 3
   },
   "file_extension": ".py",
   "mimetype": "text/x-python",
   "name": "python",
   "nbconvert_exporter": "python",
   "pygments_lexer": "ipython3",
   "version": "3.8.8"
  },
  "toc": {
   "base_numbering": 1,
   "nav_menu": {},
   "number_sections": true,
   "sideBar": true,
   "skip_h1_title": true,
   "title_cell": "Table of Contents",
   "title_sidebar": "Contents",
   "toc_cell": false,
   "toc_position": {
    "height": "calc(100% - 180px)",
    "left": "10px",
    "top": "150px",
    "width": "303px"
   },
   "toc_section_display": true,
   "toc_window_display": false
  }
 },
 "nbformat": 4,
 "nbformat_minor": 2
}
