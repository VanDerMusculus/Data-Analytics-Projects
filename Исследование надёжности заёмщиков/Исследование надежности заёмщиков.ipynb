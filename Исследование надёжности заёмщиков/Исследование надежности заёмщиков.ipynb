{
 "cells": [
  {
   "cell_type": "markdown",
   "metadata": {},
   "source": [
    "# Исследование надёжности заёмщиков\n",
    "\n",
    "Кредитный отдел банка дал задание разобраться, влияет ли семейное положение и количество детей клиента на факт погашения кредита в срок. Данные от банка — статистика о платёжеспособности клиентов."
   ]
  },
  {
   "cell_type": "markdown",
   "metadata": {},
   "source": [
    "# План работы\n",
    "\n",
    "- [Изучение входных данных](#изучение)\n",
    "- [Предобработка данных](#предобработка)\n",
    "- [Ответы на вопросы банка](#ответы)\n",
    "- [Общий вывод](#вывод)"
   ]
  },
  {
   "cell_type": "markdown",
   "metadata": {},
   "source": [
    "## Изучение входных данных <a id='изучение'></a>"
   ]
  },
  {
   "cell_type": "code",
   "execution_count": 331,
   "metadata": {},
   "outputs": [
    {
     "name": "stdout",
     "output_type": "stream",
     "text": [
      "<class 'pandas.core.frame.DataFrame'>\n",
      "RangeIndex: 21525 entries, 0 to 21524\n",
      "Data columns (total 12 columns):\n",
      " #   Column            Non-Null Count  Dtype  \n",
      "---  ------            --------------  -----  \n",
      " 0   children          21525 non-null  int64  \n",
      " 1   days_employed     19351 non-null  float64\n",
      " 2   dob_years         21525 non-null  int64  \n",
      " 3   education         21525 non-null  object \n",
      " 4   education_id      21525 non-null  int64  \n",
      " 5   family_status     21525 non-null  object \n",
      " 6   family_status_id  21525 non-null  int64  \n",
      " 7   gender            21525 non-null  object \n",
      " 8   income_type       21525 non-null  object \n",
      " 9   debt              21525 non-null  int64  \n",
      " 10  total_income      19351 non-null  float64\n",
      " 11  purpose           21525 non-null  object \n",
      "dtypes: float64(2), int64(5), object(5)\n",
      "memory usage: 2.0+ MB\n"
     ]
    }
   ],
   "source": [
    "import pandas as pd\n",
    "data = pd.read_csv('/datasets/data.csv')\n",
    "data.info()"
   ]
  },
  {
   "cell_type": "code",
   "execution_count": 332,
   "metadata": {},
   "outputs": [
    {
     "data": {
      "text/plain": [
       "education_id  education          \n",
       "0             высшее                  4718\n",
       "              ВЫСШЕЕ                   274\n",
       "              Высшее                   268\n",
       "1             среднее                13750\n",
       "              СРЕДНЕЕ                  772\n",
       "              Среднее                  711\n",
       "2             неоконченное высшее      668\n",
       "              Неоконченное высшее       47\n",
       "              НЕОКОНЧЕННОЕ ВЫСШЕЕ       29\n",
       "3             начальное                250\n",
       "              НАЧАЛЬНОЕ                 17\n",
       "              Начальное                 15\n",
       "4             ученая степень             4\n",
       "              УЧЕНАЯ СТЕПЕНЬ             1\n",
       "              Ученая степень             1\n",
       "Name: education, dtype: int64"
      ]
     },
     "execution_count": 332,
     "metadata": {},
     "output_type": "execute_result"
    }
   ],
   "source": [
    "data.groupby('education_id')['education'].value_counts()\n"
   ]
  },
  {
   "cell_type": "code",
   "execution_count": 333,
   "metadata": {},
   "outputs": [
    {
     "data": {
      "text/plain": [
       "family_status_id  family_status        \n",
       "0                 женат / замужем          12380\n",
       "1                 гражданский брак          4177\n",
       "2                 вдовец / вдова             960\n",
       "3                 в разводе                 1195\n",
       "4                 Не женат / не замужем     2813\n",
       "Name: family_status, dtype: int64"
      ]
     },
     "execution_count": 333,
     "metadata": {},
     "output_type": "execute_result"
    }
   ],
   "source": [
    "data.groupby('family_status_id')['family_status'].value_counts()\n"
   ]
  },
  {
   "cell_type": "code",
   "execution_count": 334,
   "metadata": {},
   "outputs": [
    {
     "data": {
      "text/plain": [
       "array(['покупка жилья', 'приобретение автомобиля',\n",
       "       'дополнительное образование', 'сыграть свадьбу',\n",
       "       'операции с жильем', 'образование', 'на проведение свадьбы',\n",
       "       'покупка жилья для семьи', 'покупка недвижимости',\n",
       "       'покупка коммерческой недвижимости', 'покупка жилой недвижимости',\n",
       "       'строительство собственной недвижимости', 'недвижимость',\n",
       "       'строительство недвижимости', 'на покупку подержанного автомобиля',\n",
       "       'на покупку своего автомобиля',\n",
       "       'операции с коммерческой недвижимостью',\n",
       "       'строительство жилой недвижимости', 'жилье',\n",
       "       'операции со своей недвижимостью', 'автомобили',\n",
       "       'заняться образованием', 'сделка с подержанным автомобилем',\n",
       "       'получение образования', 'автомобиль', 'свадьба',\n",
       "       'получение дополнительного образования', 'покупка своего жилья',\n",
       "       'операции с недвижимостью', 'получение высшего образования',\n",
       "       'свой автомобиль', 'сделка с автомобилем',\n",
       "       'профильное образование', 'высшее образование',\n",
       "       'покупка жилья для сдачи', 'на покупку автомобиля', 'ремонт жилью',\n",
       "       'заняться высшим образованием'], dtype=object)"
      ]
     },
     "execution_count": 334,
     "metadata": {},
     "output_type": "execute_result"
    }
   ],
   "source": [
    "data['purpose'].unique()\n"
   ]
  },
  {
   "cell_type": "code",
   "execution_count": 335,
   "metadata": {},
   "outputs": [
    {
     "data": {
      "text/plain": [
       "array([ 1,  0,  3,  2, -1,  4, 20,  5])"
      ]
     },
     "execution_count": 335,
     "metadata": {},
     "output_type": "execute_result"
    }
   ],
   "source": [
    "data['children'].unique()\n"
   ]
  },
  {
   "cell_type": "code",
   "execution_count": 336,
   "metadata": {},
   "outputs": [
    {
     "data": {
      "text/plain": [
       "array([0, 1])"
      ]
     },
     "execution_count": 336,
     "metadata": {},
     "output_type": "execute_result"
    }
   ],
   "source": [
    "data['debt'].unique()\n"
   ]
  },
  {
   "cell_type": "code",
   "execution_count": 337,
   "metadata": {},
   "outputs": [
    {
     "data": {
      "text/plain": [
       "array(['F', 'M', 'XNA'], dtype=object)"
      ]
     },
     "execution_count": 337,
     "metadata": {},
     "output_type": "execute_result"
    }
   ],
   "source": [
    "data['gender'].unique()\n"
   ]
  },
  {
   "cell_type": "code",
   "execution_count": 338,
   "metadata": {},
   "outputs": [
    {
     "data": {
      "text/plain": [
       "array(['сотрудник', 'пенсионер', 'компаньон', 'госслужащий',\n",
       "       'безработный', 'предприниматель', 'студент', 'в декрете'],\n",
       "      dtype=object)"
      ]
     },
     "execution_count": 338,
     "metadata": {},
     "output_type": "execute_result"
    }
   ],
   "source": [
    "data['income_type'].unique()"
   ]
  },
  {
   "cell_type": "markdown",
   "metadata": {},
   "source": [
    "**Вывод**"
   ]
  },
  {
   "cell_type": "markdown",
   "metadata": {},
   "source": [
    "Открыл датасет. В целом оформление датасета приемлемо, нет необходимости вносить правки в его формат (например, названия колонок). Касательно данных, сразу бросается в глаза следующее: отрицательные значения трудового стажа в днях, а также формат float у значений в этой же колонке, данные даны в часах. Далее разница в регистре у значений в колонке education. Колонка education_id, принцип распределения значений: 0 - высшее, 1 - среднее, 2 - неоконченное высшее, 3 - начальное, 4 - ученая степень.  Принцип распределения значений в family_status_id: 0 - женат/замужем, 1 - гражданский брак, 2 - вдова/вдовец, 3 - в разводе, 4 - не женат/не замужем. Total_income указаны значения в формате float. Колонка purpose: большое количество уникальных значений, которые можно свести к нескольким: недвижимость, образование, автомобиль, свадьба. Колонка children: количество детей варируется от 1 до 5, имеются значения 20 и -1, необходимо рассмотреть эти случаи. Значений в колонке debt всего два - 0 и 1 (либо есть задолженность, либо ее нет, соответсвенно). Колонка gender содержит значение XNA, потребуется замена. "
   ]
  },
  {
   "cell_type": "markdown",
   "metadata": {},
   "source": [
    "## Предобработка данных <a id='предобработка'></a>"
   ]
  },
  {
   "cell_type": "markdown",
   "metadata": {},
   "source": [
    "### Обработка пропусков"
   ]
  },
  {
   "cell_type": "code",
   "execution_count": 339,
   "metadata": {},
   "outputs": [],
   "source": [
    "data.isna().sum()\n",
    "data_nan = data[data.isna().any(1)]\n",
    "#data_nan['education_id'].unique()\n",
    "#data_nan['family_status_id'].unique()\n",
    "#data_nan['income_type'].unique()\n"
   ]
  },
  {
   "cell_type": "code",
   "execution_count": 340,
   "metadata": {},
   "outputs": [
    {
     "name": "stdout",
     "output_type": "stream",
     "text": [
      "Пропуски до: 2174\n",
      "Пропуски после: 0\n"
     ]
    }
   ],
   "source": [
    "data['days_employed'] = data['days_employed'].apply(abs)\n",
    "data.loc[data['days_employed'] > 30000, 'days_employed'] = data.loc[data['days_employed'] > 30000, 'days_employed'] / 24\n",
    "print('Пропуски до:', data['days_employed'].isna().sum())\n",
    "data.loc[data['days_employed'].isna(),'days_employed'] = data['days_employed'].median()\n",
    "print('Пропуски после:', data['days_employed'].isna().sum())\n"
   ]
  },
  {
   "cell_type": "code",
   "execution_count": 341,
   "metadata": {},
   "outputs": [
    {
     "data": {
      "text/html": [
       "<div>\n",
       "<style scoped>\n",
       "    .dataframe tbody tr th:only-of-type {\n",
       "        vertical-align: middle;\n",
       "    }\n",
       "\n",
       "    .dataframe tbody tr th {\n",
       "        vertical-align: top;\n",
       "    }\n",
       "\n",
       "    .dataframe thead th {\n",
       "        text-align: right;\n",
       "    }\n",
       "</style>\n",
       "<table border=\"1\" class=\"dataframe\">\n",
       "  <thead>\n",
       "    <tr style=\"text-align: right;\">\n",
       "      <th></th>\n",
       "      <th>children</th>\n",
       "      <th>days_employed</th>\n",
       "      <th>dob_years</th>\n",
       "      <th>education</th>\n",
       "      <th>education_id</th>\n",
       "      <th>family_status</th>\n",
       "      <th>family_status_id</th>\n",
       "      <th>gender</th>\n",
       "      <th>income_type</th>\n",
       "      <th>debt</th>\n",
       "      <th>total_income</th>\n",
       "      <th>purpose</th>\n",
       "    </tr>\n",
       "  </thead>\n",
       "  <tbody>\n",
       "    <tr>\n",
       "      <th>0</th>\n",
       "      <td>1</td>\n",
       "      <td>8437.673028</td>\n",
       "      <td>42</td>\n",
       "      <td>высшее</td>\n",
       "      <td>0</td>\n",
       "      <td>женат / замужем</td>\n",
       "      <td>0</td>\n",
       "      <td>F</td>\n",
       "      <td>сотрудник</td>\n",
       "      <td>0</td>\n",
       "      <td>253875.639453</td>\n",
       "      <td>покупка жилья</td>\n",
       "    </tr>\n",
       "    <tr>\n",
       "      <th>1</th>\n",
       "      <td>1</td>\n",
       "      <td>4024.803754</td>\n",
       "      <td>36</td>\n",
       "      <td>среднее</td>\n",
       "      <td>1</td>\n",
       "      <td>женат / замужем</td>\n",
       "      <td>0</td>\n",
       "      <td>F</td>\n",
       "      <td>сотрудник</td>\n",
       "      <td>0</td>\n",
       "      <td>112080.014102</td>\n",
       "      <td>приобретение автомобиля</td>\n",
       "    </tr>\n",
       "    <tr>\n",
       "      <th>2</th>\n",
       "      <td>0</td>\n",
       "      <td>5623.422610</td>\n",
       "      <td>33</td>\n",
       "      <td>Среднее</td>\n",
       "      <td>1</td>\n",
       "      <td>женат / замужем</td>\n",
       "      <td>0</td>\n",
       "      <td>M</td>\n",
       "      <td>сотрудник</td>\n",
       "      <td>0</td>\n",
       "      <td>145885.952297</td>\n",
       "      <td>покупка жилья</td>\n",
       "    </tr>\n",
       "    <tr>\n",
       "      <th>3</th>\n",
       "      <td>3</td>\n",
       "      <td>4124.747207</td>\n",
       "      <td>32</td>\n",
       "      <td>среднее</td>\n",
       "      <td>1</td>\n",
       "      <td>женат / замужем</td>\n",
       "      <td>0</td>\n",
       "      <td>M</td>\n",
       "      <td>сотрудник</td>\n",
       "      <td>0</td>\n",
       "      <td>267628.550329</td>\n",
       "      <td>дополнительное образование</td>\n",
       "    </tr>\n",
       "    <tr>\n",
       "      <th>4</th>\n",
       "      <td>0</td>\n",
       "      <td>14177.753002</td>\n",
       "      <td>53</td>\n",
       "      <td>среднее</td>\n",
       "      <td>1</td>\n",
       "      <td>гражданский брак</td>\n",
       "      <td>1</td>\n",
       "      <td>F</td>\n",
       "      <td>пенсионер</td>\n",
       "      <td>0</td>\n",
       "      <td>158616.077870</td>\n",
       "      <td>сыграть свадьбу</td>\n",
       "    </tr>\n",
       "    <tr>\n",
       "      <th>5</th>\n",
       "      <td>0</td>\n",
       "      <td>926.185831</td>\n",
       "      <td>27</td>\n",
       "      <td>высшее</td>\n",
       "      <td>0</td>\n",
       "      <td>гражданский брак</td>\n",
       "      <td>1</td>\n",
       "      <td>M</td>\n",
       "      <td>компаньон</td>\n",
       "      <td>0</td>\n",
       "      <td>255763.565419</td>\n",
       "      <td>покупка жилья</td>\n",
       "    </tr>\n",
       "    <tr>\n",
       "      <th>6</th>\n",
       "      <td>0</td>\n",
       "      <td>2879.202052</td>\n",
       "      <td>43</td>\n",
       "      <td>высшее</td>\n",
       "      <td>0</td>\n",
       "      <td>женат / замужем</td>\n",
       "      <td>0</td>\n",
       "      <td>F</td>\n",
       "      <td>компаньон</td>\n",
       "      <td>0</td>\n",
       "      <td>240525.971920</td>\n",
       "      <td>операции с жильем</td>\n",
       "    </tr>\n",
       "    <tr>\n",
       "      <th>7</th>\n",
       "      <td>0</td>\n",
       "      <td>152.779569</td>\n",
       "      <td>50</td>\n",
       "      <td>СРЕДНЕЕ</td>\n",
       "      <td>1</td>\n",
       "      <td>женат / замужем</td>\n",
       "      <td>0</td>\n",
       "      <td>M</td>\n",
       "      <td>сотрудник</td>\n",
       "      <td>0</td>\n",
       "      <td>135823.934197</td>\n",
       "      <td>образование</td>\n",
       "    </tr>\n",
       "    <tr>\n",
       "      <th>8</th>\n",
       "      <td>2</td>\n",
       "      <td>6929.865299</td>\n",
       "      <td>35</td>\n",
       "      <td>ВЫСШЕЕ</td>\n",
       "      <td>0</td>\n",
       "      <td>гражданский брак</td>\n",
       "      <td>1</td>\n",
       "      <td>F</td>\n",
       "      <td>сотрудник</td>\n",
       "      <td>0</td>\n",
       "      <td>95856.832424</td>\n",
       "      <td>на проведение свадьбы</td>\n",
       "    </tr>\n",
       "    <tr>\n",
       "      <th>9</th>\n",
       "      <td>0</td>\n",
       "      <td>2188.756445</td>\n",
       "      <td>41</td>\n",
       "      <td>среднее</td>\n",
       "      <td>1</td>\n",
       "      <td>женат / замужем</td>\n",
       "      <td>0</td>\n",
       "      <td>M</td>\n",
       "      <td>сотрудник</td>\n",
       "      <td>0</td>\n",
       "      <td>144425.938277</td>\n",
       "      <td>покупка жилья для семьи</td>\n",
       "    </tr>\n",
       "    <tr>\n",
       "      <th>10</th>\n",
       "      <td>2</td>\n",
       "      <td>4171.483647</td>\n",
       "      <td>36</td>\n",
       "      <td>высшее</td>\n",
       "      <td>0</td>\n",
       "      <td>женат / замужем</td>\n",
       "      <td>0</td>\n",
       "      <td>M</td>\n",
       "      <td>компаньон</td>\n",
       "      <td>0</td>\n",
       "      <td>113943.491460</td>\n",
       "      <td>покупка недвижимости</td>\n",
       "    </tr>\n",
       "    <tr>\n",
       "      <th>11</th>\n",
       "      <td>0</td>\n",
       "      <td>792.701887</td>\n",
       "      <td>40</td>\n",
       "      <td>среднее</td>\n",
       "      <td>1</td>\n",
       "      <td>женат / замужем</td>\n",
       "      <td>0</td>\n",
       "      <td>F</td>\n",
       "      <td>сотрудник</td>\n",
       "      <td>0</td>\n",
       "      <td>77069.234271</td>\n",
       "      <td>покупка коммерческой недвижимости</td>\n",
       "    </tr>\n",
       "    <tr>\n",
       "      <th>12</th>\n",
       "      <td>0</td>\n",
       "      <td>2194.220567</td>\n",
       "      <td>65</td>\n",
       "      <td>среднее</td>\n",
       "      <td>1</td>\n",
       "      <td>гражданский брак</td>\n",
       "      <td>1</td>\n",
       "      <td>M</td>\n",
       "      <td>пенсионер</td>\n",
       "      <td>0</td>\n",
       "      <td>145017.937533</td>\n",
       "      <td>сыграть свадьбу</td>\n",
       "    </tr>\n",
       "    <tr>\n",
       "      <th>13</th>\n",
       "      <td>0</td>\n",
       "      <td>1846.641941</td>\n",
       "      <td>54</td>\n",
       "      <td>неоконченное высшее</td>\n",
       "      <td>2</td>\n",
       "      <td>женат / замужем</td>\n",
       "      <td>0</td>\n",
       "      <td>F</td>\n",
       "      <td>сотрудник</td>\n",
       "      <td>0</td>\n",
       "      <td>130458.228857</td>\n",
       "      <td>приобретение автомобиля</td>\n",
       "    </tr>\n",
       "    <tr>\n",
       "      <th>14</th>\n",
       "      <td>0</td>\n",
       "      <td>1844.956182</td>\n",
       "      <td>56</td>\n",
       "      <td>высшее</td>\n",
       "      <td>0</td>\n",
       "      <td>гражданский брак</td>\n",
       "      <td>1</td>\n",
       "      <td>F</td>\n",
       "      <td>компаньон</td>\n",
       "      <td>1</td>\n",
       "      <td>165127.911772</td>\n",
       "      <td>покупка жилой недвижимости</td>\n",
       "    </tr>\n",
       "  </tbody>\n",
       "</table>\n",
       "</div>"
      ],
      "text/plain": [
       "    children  days_employed  dob_years            education  education_id  \\\n",
       "0          1    8437.673028         42               высшее             0   \n",
       "1          1    4024.803754         36              среднее             1   \n",
       "2          0    5623.422610         33              Среднее             1   \n",
       "3          3    4124.747207         32              среднее             1   \n",
       "4          0   14177.753002         53              среднее             1   \n",
       "5          0     926.185831         27               высшее             0   \n",
       "6          0    2879.202052         43               высшее             0   \n",
       "7          0     152.779569         50              СРЕДНЕЕ             1   \n",
       "8          2    6929.865299         35               ВЫСШЕЕ             0   \n",
       "9          0    2188.756445         41              среднее             1   \n",
       "10         2    4171.483647         36               высшее             0   \n",
       "11         0     792.701887         40              среднее             1   \n",
       "12         0    2194.220567         65              среднее             1   \n",
       "13         0    1846.641941         54  неоконченное высшее             2   \n",
       "14         0    1844.956182         56               высшее             0   \n",
       "\n",
       "       family_status  family_status_id gender income_type  debt  \\\n",
       "0    женат / замужем                 0      F   сотрудник     0   \n",
       "1    женат / замужем                 0      F   сотрудник     0   \n",
       "2    женат / замужем                 0      M   сотрудник     0   \n",
       "3    женат / замужем                 0      M   сотрудник     0   \n",
       "4   гражданский брак                 1      F   пенсионер     0   \n",
       "5   гражданский брак                 1      M   компаньон     0   \n",
       "6    женат / замужем                 0      F   компаньон     0   \n",
       "7    женат / замужем                 0      M   сотрудник     0   \n",
       "8   гражданский брак                 1      F   сотрудник     0   \n",
       "9    женат / замужем                 0      M   сотрудник     0   \n",
       "10   женат / замужем                 0      M   компаньон     0   \n",
       "11   женат / замужем                 0      F   сотрудник     0   \n",
       "12  гражданский брак                 1      M   пенсионер     0   \n",
       "13   женат / замужем                 0      F   сотрудник     0   \n",
       "14  гражданский брак                 1      F   компаньон     1   \n",
       "\n",
       "     total_income                            purpose  \n",
       "0   253875.639453                      покупка жилья  \n",
       "1   112080.014102            приобретение автомобиля  \n",
       "2   145885.952297                      покупка жилья  \n",
       "3   267628.550329         дополнительное образование  \n",
       "4   158616.077870                    сыграть свадьбу  \n",
       "5   255763.565419                      покупка жилья  \n",
       "6   240525.971920                  операции с жильем  \n",
       "7   135823.934197                        образование  \n",
       "8    95856.832424              на проведение свадьбы  \n",
       "9   144425.938277            покупка жилья для семьи  \n",
       "10  113943.491460               покупка недвижимости  \n",
       "11   77069.234271  покупка коммерческой недвижимости  \n",
       "12  145017.937533                    сыграть свадьбу  \n",
       "13  130458.228857            приобретение автомобиля  \n",
       "14  165127.911772         покупка жилой недвижимости  "
      ]
     },
     "execution_count": 341,
     "metadata": {},
     "output_type": "execute_result"
    }
   ],
   "source": [
    "data['total_income'] = data['total_income'].apply(abs)\n",
    "data.loc[data['total_income'].isna(),'total_income'] = data['total_income'].median()\n",
    "data.head(15)"
   ]
  },
  {
   "cell_type": "code",
   "execution_count": 342,
   "metadata": {},
   "outputs": [
    {
     "data": {
      "text/plain": [
       "0         8437.673028\n",
       "1         4024.803754\n",
       "2         5623.422610\n",
       "3         4124.747207\n",
       "4        14177.753002\n",
       "             ...     \n",
       "21520     4529.316663\n",
       "21521    14330.725172\n",
       "21522     2113.346888\n",
       "21523     3112.481705\n",
       "21524     1984.507589\n",
       "Name: days_employed, Length: 21525, dtype: float64"
      ]
     },
     "execution_count": 342,
     "metadata": {},
     "output_type": "execute_result"
    }
   ],
   "source": [
    "data['days_employed'].abs()"
   ]
  },
  {
   "cell_type": "code",
   "execution_count": 343,
   "metadata": {},
   "outputs": [
    {
     "data": {
      "text/plain": [
       "F    14237\n",
       "M     7288\n",
       "Name: gender, dtype: int64"
      ]
     },
     "execution_count": 343,
     "metadata": {},
     "output_type": "execute_result"
    }
   ],
   "source": [
    "#data['gender'].value_counts()\n",
    "data.loc[data['gender'] == 'XNA', 'gender'] = 'F'\n",
    "data['gender'].value_counts()"
   ]
  },
  {
   "cell_type": "code",
   "execution_count": 344,
   "metadata": {},
   "outputs": [
    {
     "data": {
      "text/plain": [
       "array([ 1,  0,  3,  2,  4, 20,  5])"
      ]
     },
     "execution_count": 344,
     "metadata": {},
     "output_type": "execute_result"
    }
   ],
   "source": [
    "data['children'] = data['children'].apply(abs)\n",
    "data['children'].unique()"
   ]
  },
  {
   "cell_type": "markdown",
   "metadata": {},
   "source": [
    "**Вывод**"
   ]
  },
  {
   "cell_type": "markdown",
   "metadata": {},
   "source": [
    "<div class=\"alert alert-success\">\n",
    "<b>Комментарий ревьюера:</b>\n",
    "\n",
    "А если бы мы посмотрели на долю этих значений, то смогли бы принять решение в сторону избавления от этих данных ? \n",
    "    \n",
    "</div>"
   ]
  },
  {
   "cell_type": "markdown",
   "metadata": {},
   "source": [
    "В датасете обнаружены пропуски в колонках days_unemployed, total_income (2174). Пропуск не зависит от уровня образования, хотя нет ни одной строки с пропуском, где уровень образования - Ученая степень. Пропуск также не зависит от семейного положения. Пропуск также не зависит от типа занятости, хотя пропусков нет у таких типов income_type, как студент, в декрете и безработный. Таким образом, можно заключить, что пропуски количественных значений в days_unemployed, total_income не зависит от какой-то группы заемщиков. Возможно, имеется ошибка в выгрузке данных, либо данные не указывались заемщиками. Заполнение пропусков лучше заполнять медианным значением, поскольку разброс значений довольно таки большой. Такую же процедуру выполняем с total_income. В колонке gender единственное значение XNA было заменено на самое часто встречающееся значение F"
   ]
  },
  {
   "cell_type": "markdown",
   "metadata": {},
   "source": [
    "### Замена типа данных"
   ]
  },
  {
   "cell_type": "code",
   "execution_count": 345,
   "metadata": {},
   "outputs": [
    {
     "name": "stdout",
     "output_type": "stream",
     "text": [
      "<class 'pandas.core.frame.DataFrame'>\n",
      "RangeIndex: 21525 entries, 0 to 21524\n",
      "Data columns (total 12 columns):\n",
      " #   Column            Non-Null Count  Dtype \n",
      "---  ------            --------------  ----- \n",
      " 0   children          21525 non-null  int64 \n",
      " 1   days_employed     21525 non-null  int64 \n",
      " 2   dob_years         21525 non-null  int64 \n",
      " 3   education         21525 non-null  object\n",
      " 4   education_id      21525 non-null  int64 \n",
      " 5   family_status     21525 non-null  object\n",
      " 6   family_status_id  21525 non-null  int64 \n",
      " 7   gender            21525 non-null  object\n",
      " 8   income_type       21525 non-null  object\n",
      " 9   debt              21525 non-null  int64 \n",
      " 10  total_income      21525 non-null  int64 \n",
      " 11  purpose           21525 non-null  object\n",
      "dtypes: int64(7), object(5)\n",
      "memory usage: 2.0+ MB\n"
     ]
    }
   ],
   "source": [
    "data['days_employed'] = data['days_employed'].astype('int')\n",
    "data['total_income'] = data['total_income'].astype('int')\n",
    "data.info()\n"
   ]
  },
  {
   "cell_type": "markdown",
   "metadata": {},
   "source": [
    "**Вывод**"
   ]
  },
  {
   "cell_type": "markdown",
   "metadata": {},
   "source": [
    "Для замены типа данных взял astype('int'). Теперь данные приведены в нужные форматы."
   ]
  },
  {
   "cell_type": "markdown",
   "metadata": {},
   "source": [
    "### Обработка дубликатов"
   ]
  },
  {
   "cell_type": "code",
   "execution_count": 346,
   "metadata": {
    "scrolled": true
   },
   "outputs": [
    {
     "name": "stdout",
     "output_type": "stream",
     "text": [
      "Дубликаты до: 106\n",
      "Дубликаты после: 0\n",
      "<class 'pandas.core.frame.DataFrame'>\n",
      "RangeIndex: 21419 entries, 0 to 21418\n",
      "Data columns (total 12 columns):\n",
      " #   Column            Non-Null Count  Dtype \n",
      "---  ------            --------------  ----- \n",
      " 0   children          21419 non-null  int64 \n",
      " 1   days_employed     21419 non-null  int64 \n",
      " 2   dob_years         21419 non-null  int64 \n",
      " 3   education         21419 non-null  object\n",
      " 4   education_id      21419 non-null  int64 \n",
      " 5   family_status     21419 non-null  object\n",
      " 6   family_status_id  21419 non-null  int64 \n",
      " 7   gender            21419 non-null  object\n",
      " 8   income_type       21419 non-null  object\n",
      " 9   debt              21419 non-null  int64 \n",
      " 10  total_income      21419 non-null  int64 \n",
      " 11  purpose           21419 non-null  object\n",
      "dtypes: int64(7), object(5)\n",
      "memory usage: 2.0+ MB\n"
     ]
    }
   ],
   "source": [
    "print('Дубликаты до:', data.duplicated(keep=False).sum())\n",
    "duplicated_data = data[data.duplicated(keep=False)].sort_values(by=list(data.columns))\n",
    "data = data.drop_duplicates(keep=False).reset_index(drop=True)\n",
    "print ('Дубликаты после:', data.duplicated(keep=False).sum())\n",
    "data['education'] = data['education'].str.lower()\n",
    "#data.head(15)\n",
    "data.info()"
   ]
  },
  {
   "cell_type": "markdown",
   "metadata": {},
   "source": [
    "**Вывод**"
   ]
  },
  {
   "cell_type": "markdown",
   "metadata": {},
   "source": [
    "Имеются полные дубликаты, следует их сбросить. Есть неявные дубликаты в колонке education, появляющие из-за разницы регистра. Решение - задать нижний регистр для всех значений колонки."
   ]
  },
  {
   "cell_type": "markdown",
   "metadata": {},
   "source": [
    "### Лемматизация"
   ]
  },
  {
   "cell_type": "code",
   "execution_count": 347,
   "metadata": {
    "scrolled": true
   },
   "outputs": [
    {
     "data": {
      "text/plain": [
       "Counter({'покупка': 10,\n",
       "         ' ': 96,\n",
       "         'жилье': 7,\n",
       "         'приобретение': 1,\n",
       "         'автомобиль': 9,\n",
       "         'дополнительный': 2,\n",
       "         'образование': 9,\n",
       "         'сыграть': 1,\n",
       "         'свадьба': 3,\n",
       "         'операция': 4,\n",
       "         'с': 5,\n",
       "         'на': 4,\n",
       "         'проведение': 1,\n",
       "         'для': 2,\n",
       "         'семья': 1,\n",
       "         'недвижимость': 10,\n",
       "         'коммерческий': 2,\n",
       "         'жилой': 2,\n",
       "         'строительство': 3,\n",
       "         'собственный': 1,\n",
       "         'подержать': 2,\n",
       "         'свой': 4,\n",
       "         'со': 1,\n",
       "         'заниматься': 2,\n",
       "         'сделка': 2,\n",
       "         'получение': 3,\n",
       "         'высокий': 3,\n",
       "         'профильный': 1,\n",
       "         'сдача': 1,\n",
       "         'ремонт': 1,\n",
       "         '\\n': 1})"
      ]
     },
     "execution_count": 347,
     "metadata": {},
     "output_type": "execute_result"
    }
   ],
   "source": [
    "purpose_words = data['purpose'].unique()\n",
    "purpose = ' '.join(purpose_words)\n",
    "from pymystem3 import Mystem\n",
    "m = Mystem()\n",
    "lemmas = m.lemmatize(purpose)\n",
    "from collections import Counter\n",
    "Counter(lemmas)"
   ]
  },
  {
   "cell_type": "code",
   "execution_count": 348,
   "metadata": {},
   "outputs": [
    {
     "data": {
      "text/plain": [
       "недвижимость    10790\n",
       "автомобиль       4301\n",
       "образование      4006\n",
       "свадьба          2322\n",
       "Name: category, dtype: int64"
      ]
     },
     "execution_count": 348,
     "metadata": {},
     "output_type": "execute_result"
    }
   ],
   "source": [
    "def categorize(value):\n",
    "    cell = m.lemmatize(value)\n",
    "    if 'автомобиль' in cell:\n",
    "        return 'автомобиль'\n",
    "    if 'образование' in cell:\n",
    "        return 'образование'\n",
    "    if 'недвижимость' in cell:\n",
    "        return 'недвижимость'\n",
    "    if 'жилье' in cell:\n",
    "        return 'недвижимость'\n",
    "    if 'свадьба' in cell:\n",
    "        return 'свадьба'\n",
    "    return 'прочее'\n",
    "\n",
    "data['category'] = data['purpose'].apply(categorize)\n",
    "#data.head(10)\n",
    "data['category'].value_counts()"
   ]
  },
  {
   "cell_type": "markdown",
   "metadata": {},
   "source": [
    "**Вывод**"
   ]
  },
  {
   "cell_type": "markdown",
   "metadata": {},
   "source": [
    "В колонке purpose по результатам лемматизации датафрейма выяснилось, что самыми повторяющимися значениями являются: жилье, недвижимость, автомобиль, образовани и свадьба. Жилье и недвижимотсь можно объединить в одну категорию. Соответственно, у нас 4 категории целей на кредитование. "
   ]
  },
  {
   "cell_type": "markdown",
   "metadata": {},
   "source": [
    "### Категоризация данных"
   ]
  },
  {
   "cell_type": "code",
   "execution_count": 349,
   "metadata": {},
   "outputs": [
    {
     "data": {
      "text/html": [
       "<div>\n",
       "<style scoped>\n",
       "    .dataframe tbody tr th:only-of-type {\n",
       "        vertical-align: middle;\n",
       "    }\n",
       "\n",
       "    .dataframe tbody tr th {\n",
       "        vertical-align: top;\n",
       "    }\n",
       "\n",
       "    .dataframe thead th {\n",
       "        text-align: right;\n",
       "    }\n",
       "</style>\n",
       "<table border=\"1\" class=\"dataframe\">\n",
       "  <thead>\n",
       "    <tr style=\"text-align: right;\">\n",
       "      <th></th>\n",
       "      <th>children</th>\n",
       "      <th>days_employed</th>\n",
       "      <th>dob_years</th>\n",
       "      <th>education_id</th>\n",
       "      <th>family_status_id</th>\n",
       "      <th>gender</th>\n",
       "      <th>income_type</th>\n",
       "      <th>debt</th>\n",
       "      <th>total_income</th>\n",
       "      <th>category</th>\n",
       "    </tr>\n",
       "  </thead>\n",
       "  <tbody>\n",
       "    <tr>\n",
       "      <th>0</th>\n",
       "      <td>1</td>\n",
       "      <td>8437</td>\n",
       "      <td>42</td>\n",
       "      <td>0</td>\n",
       "      <td>0</td>\n",
       "      <td>F</td>\n",
       "      <td>сотрудник</td>\n",
       "      <td>0</td>\n",
       "      <td>253875</td>\n",
       "      <td>недвижимость</td>\n",
       "    </tr>\n",
       "    <tr>\n",
       "      <th>1</th>\n",
       "      <td>1</td>\n",
       "      <td>4024</td>\n",
       "      <td>36</td>\n",
       "      <td>1</td>\n",
       "      <td>0</td>\n",
       "      <td>F</td>\n",
       "      <td>сотрудник</td>\n",
       "      <td>0</td>\n",
       "      <td>112080</td>\n",
       "      <td>автомобиль</td>\n",
       "    </tr>\n",
       "    <tr>\n",
       "      <th>2</th>\n",
       "      <td>0</td>\n",
       "      <td>5623</td>\n",
       "      <td>33</td>\n",
       "      <td>1</td>\n",
       "      <td>0</td>\n",
       "      <td>M</td>\n",
       "      <td>сотрудник</td>\n",
       "      <td>0</td>\n",
       "      <td>145885</td>\n",
       "      <td>недвижимость</td>\n",
       "    </tr>\n",
       "    <tr>\n",
       "      <th>3</th>\n",
       "      <td>3</td>\n",
       "      <td>4124</td>\n",
       "      <td>32</td>\n",
       "      <td>1</td>\n",
       "      <td>0</td>\n",
       "      <td>M</td>\n",
       "      <td>сотрудник</td>\n",
       "      <td>0</td>\n",
       "      <td>267628</td>\n",
       "      <td>образование</td>\n",
       "    </tr>\n",
       "    <tr>\n",
       "      <th>4</th>\n",
       "      <td>0</td>\n",
       "      <td>14177</td>\n",
       "      <td>53</td>\n",
       "      <td>1</td>\n",
       "      <td>1</td>\n",
       "      <td>F</td>\n",
       "      <td>пенсионер</td>\n",
       "      <td>0</td>\n",
       "      <td>158616</td>\n",
       "      <td>свадьба</td>\n",
       "    </tr>\n",
       "    <tr>\n",
       "      <th>...</th>\n",
       "      <td>...</td>\n",
       "      <td>...</td>\n",
       "      <td>...</td>\n",
       "      <td>...</td>\n",
       "      <td>...</td>\n",
       "      <td>...</td>\n",
       "      <td>...</td>\n",
       "      <td>...</td>\n",
       "      <td>...</td>\n",
       "      <td>...</td>\n",
       "    </tr>\n",
       "    <tr>\n",
       "      <th>21414</th>\n",
       "      <td>1</td>\n",
       "      <td>4529</td>\n",
       "      <td>43</td>\n",
       "      <td>1</td>\n",
       "      <td>1</td>\n",
       "      <td>F</td>\n",
       "      <td>компаньон</td>\n",
       "      <td>0</td>\n",
       "      <td>224791</td>\n",
       "      <td>недвижимость</td>\n",
       "    </tr>\n",
       "    <tr>\n",
       "      <th>21415</th>\n",
       "      <td>0</td>\n",
       "      <td>14330</td>\n",
       "      <td>67</td>\n",
       "      <td>1</td>\n",
       "      <td>0</td>\n",
       "      <td>F</td>\n",
       "      <td>пенсионер</td>\n",
       "      <td>0</td>\n",
       "      <td>155999</td>\n",
       "      <td>автомобиль</td>\n",
       "    </tr>\n",
       "    <tr>\n",
       "      <th>21416</th>\n",
       "      <td>1</td>\n",
       "      <td>2113</td>\n",
       "      <td>38</td>\n",
       "      <td>1</td>\n",
       "      <td>1</td>\n",
       "      <td>M</td>\n",
       "      <td>сотрудник</td>\n",
       "      <td>1</td>\n",
       "      <td>89672</td>\n",
       "      <td>недвижимость</td>\n",
       "    </tr>\n",
       "    <tr>\n",
       "      <th>21417</th>\n",
       "      <td>3</td>\n",
       "      <td>3112</td>\n",
       "      <td>38</td>\n",
       "      <td>1</td>\n",
       "      <td>0</td>\n",
       "      <td>M</td>\n",
       "      <td>сотрудник</td>\n",
       "      <td>1</td>\n",
       "      <td>244093</td>\n",
       "      <td>автомобиль</td>\n",
       "    </tr>\n",
       "    <tr>\n",
       "      <th>21418</th>\n",
       "      <td>2</td>\n",
       "      <td>1984</td>\n",
       "      <td>40</td>\n",
       "      <td>1</td>\n",
       "      <td>0</td>\n",
       "      <td>F</td>\n",
       "      <td>сотрудник</td>\n",
       "      <td>0</td>\n",
       "      <td>82047</td>\n",
       "      <td>автомобиль</td>\n",
       "    </tr>\n",
       "  </tbody>\n",
       "</table>\n",
       "<p>21419 rows × 10 columns</p>\n",
       "</div>"
      ],
      "text/plain": [
       "       children  days_employed  dob_years  education_id  family_status_id  \\\n",
       "0             1           8437         42             0                 0   \n",
       "1             1           4024         36             1                 0   \n",
       "2             0           5623         33             1                 0   \n",
       "3             3           4124         32             1                 0   \n",
       "4             0          14177         53             1                 1   \n",
       "...         ...            ...        ...           ...               ...   \n",
       "21414         1           4529         43             1                 1   \n",
       "21415         0          14330         67             1                 0   \n",
       "21416         1           2113         38             1                 1   \n",
       "21417         3           3112         38             1                 0   \n",
       "21418         2           1984         40             1                 0   \n",
       "\n",
       "      gender income_type  debt  total_income      category  \n",
       "0          F   сотрудник     0        253875  недвижимость  \n",
       "1          F   сотрудник     0        112080    автомобиль  \n",
       "2          M   сотрудник     0        145885  недвижимость  \n",
       "3          M   сотрудник     0        267628   образование  \n",
       "4          F   пенсионер     0        158616       свадьба  \n",
       "...      ...         ...   ...           ...           ...  \n",
       "21414      F   компаньон     0        224791  недвижимость  \n",
       "21415      F   пенсионер     0        155999    автомобиль  \n",
       "21416      M   сотрудник     1         89672  недвижимость  \n",
       "21417      M   сотрудник     1        244093    автомобиль  \n",
       "21418      F   сотрудник     0         82047    автомобиль  \n",
       "\n",
       "[21419 rows x 10 columns]"
      ]
     },
     "execution_count": 349,
     "metadata": {},
     "output_type": "execute_result"
    }
   ],
   "source": [
    "#data.head(10)\n",
    "data_numbers = data[['children', 'days_employed', 'dob_years', 'education_id', 'family_status_id', 'gender', 'income_type', 'debt', 'total_income', 'category']]\n",
    "data_numbers"
   ]
  },
  {
   "cell_type": "code",
   "execution_count": 350,
   "metadata": {},
   "outputs": [
    {
     "data": {
      "text/html": [
       "<div>\n",
       "<style scoped>\n",
       "    .dataframe tbody tr th:only-of-type {\n",
       "        vertical-align: middle;\n",
       "    }\n",
       "\n",
       "    .dataframe tbody tr th {\n",
       "        vertical-align: top;\n",
       "    }\n",
       "\n",
       "    .dataframe thead th {\n",
       "        text-align: right;\n",
       "    }\n",
       "</style>\n",
       "<table border=\"1\" class=\"dataframe\">\n",
       "  <thead>\n",
       "    <tr style=\"text-align: right;\">\n",
       "      <th></th>\n",
       "      <th>education_id</th>\n",
       "      <th>education</th>\n",
       "    </tr>\n",
       "  </thead>\n",
       "  <tbody>\n",
       "    <tr>\n",
       "      <th>0</th>\n",
       "      <td>0</td>\n",
       "      <td>высшее</td>\n",
       "    </tr>\n",
       "    <tr>\n",
       "      <th>1</th>\n",
       "      <td>1</td>\n",
       "      <td>среднее</td>\n",
       "    </tr>\n",
       "    <tr>\n",
       "      <th>2</th>\n",
       "      <td>2</td>\n",
       "      <td>неоконченное высшее</td>\n",
       "    </tr>\n",
       "    <tr>\n",
       "      <th>3</th>\n",
       "      <td>3</td>\n",
       "      <td>начальное</td>\n",
       "    </tr>\n",
       "    <tr>\n",
       "      <th>4</th>\n",
       "      <td>4</td>\n",
       "      <td>ученая степень</td>\n",
       "    </tr>\n",
       "  </tbody>\n",
       "</table>\n",
       "</div>"
      ],
      "text/plain": [
       "   education_id            education\n",
       "0             0               высшее\n",
       "1             1              среднее\n",
       "2             2  неоконченное высшее\n",
       "3             3            начальное\n",
       "4             4       ученая степень"
      ]
     },
     "execution_count": 350,
     "metadata": {},
     "output_type": "execute_result"
    }
   ],
   "source": [
    "data_dict_education = data[['education_id', 'education']]\n",
    "data_dict_education = data_dict_education.drop_duplicates().reset_index(drop=True)\n",
    "data_dict_education"
   ]
  },
  {
   "cell_type": "code",
   "execution_count": 351,
   "metadata": {},
   "outputs": [
    {
     "data": {
      "text/html": [
       "<div>\n",
       "<style scoped>\n",
       "    .dataframe tbody tr th:only-of-type {\n",
       "        vertical-align: middle;\n",
       "    }\n",
       "\n",
       "    .dataframe tbody tr th {\n",
       "        vertical-align: top;\n",
       "    }\n",
       "\n",
       "    .dataframe thead th {\n",
       "        text-align: right;\n",
       "    }\n",
       "</style>\n",
       "<table border=\"1\" class=\"dataframe\">\n",
       "  <thead>\n",
       "    <tr style=\"text-align: right;\">\n",
       "      <th></th>\n",
       "      <th>family_status_id</th>\n",
       "      <th>family_status</th>\n",
       "    </tr>\n",
       "  </thead>\n",
       "  <tbody>\n",
       "    <tr>\n",
       "      <th>0</th>\n",
       "      <td>0</td>\n",
       "      <td>женат / замужем</td>\n",
       "    </tr>\n",
       "    <tr>\n",
       "      <th>1</th>\n",
       "      <td>1</td>\n",
       "      <td>гражданский брак</td>\n",
       "    </tr>\n",
       "    <tr>\n",
       "      <th>2</th>\n",
       "      <td>2</td>\n",
       "      <td>вдовец / вдова</td>\n",
       "    </tr>\n",
       "    <tr>\n",
       "      <th>3</th>\n",
       "      <td>3</td>\n",
       "      <td>в разводе</td>\n",
       "    </tr>\n",
       "    <tr>\n",
       "      <th>4</th>\n",
       "      <td>4</td>\n",
       "      <td>Не женат / не замужем</td>\n",
       "    </tr>\n",
       "  </tbody>\n",
       "</table>\n",
       "</div>"
      ],
      "text/plain": [
       "   family_status_id          family_status\n",
       "0                 0        женат / замужем\n",
       "1                 1       гражданский брак\n",
       "2                 2         вдовец / вдова\n",
       "3                 3              в разводе\n",
       "4                 4  Не женат / не замужем"
      ]
     },
     "execution_count": 351,
     "metadata": {},
     "output_type": "execute_result"
    }
   ],
   "source": [
    "data_dict_family = data[['family_status_id', 'family_status']]\n",
    "data_dict_family = data_dict_family.drop_duplicates().reset_index(drop=True)\n",
    "data_dict_family"
   ]
  },
  {
   "cell_type": "markdown",
   "metadata": {},
   "source": [
    "Вывод"
   ]
  },
  {
   "cell_type": "markdown",
   "metadata": {},
   "source": [
    "Категоризацию данных сделал следующую: в отдельные словари выделены колонки с образованием и семейным положением. Наличие дополнительных данных в датафрейме усложняет его изучение. В общем датафрейме лучше оставить только одну колонку с информацией об образовании и семейном положении - id. Пояснение к id лучше вынести в отдельные словари. "
   ]
  },
  {
   "cell_type": "markdown",
   "metadata": {},
   "source": [
    "## Ответы на вопросы банка <a id='ответы'></a>"
   ]
  },
  {
   "cell_type": "markdown",
   "metadata": {},
   "source": [
    "- Есть ли зависимость между наличием детей и возвратом кредита в срок?"
   ]
  },
  {
   "cell_type": "code",
   "execution_count": 352,
   "metadata": {},
   "outputs": [
    {
     "name": "stderr",
     "output_type": "stream",
     "text": [
      "/tmp/ipykernel_36/3473691670.py:7: SettingWithCopyWarning: \n",
      "A value is trying to be set on a copy of a slice from a DataFrame.\n",
      "Try using .loc[row_indexer,col_indexer] = value instead\n",
      "\n",
      "See the caveats in the documentation: https://pandas.pydata.org/pandas-docs/stable/user_guide/indexing.html#returning-a-view-versus-a-copy\n",
      "  return_credit['y_n_children'] = return_credit['children'].apply(children_group)\n"
     ]
    },
    {
     "data": {
      "text/html": [
       "<div>\n",
       "<style scoped>\n",
       "    .dataframe tbody tr th:only-of-type {\n",
       "        vertical-align: middle;\n",
       "    }\n",
       "\n",
       "    .dataframe tbody tr th {\n",
       "        vertical-align: top;\n",
       "    }\n",
       "\n",
       "    .dataframe thead th {\n",
       "        text-align: right;\n",
       "    }\n",
       "</style>\n",
       "<table border=\"1\" class=\"dataframe\">\n",
       "  <thead>\n",
       "    <tr style=\"text-align: right;\">\n",
       "      <th></th>\n",
       "      <th>children</th>\n",
       "      <th>debt</th>\n",
       "      <th>y_n_children</th>\n",
       "    </tr>\n",
       "  </thead>\n",
       "  <tbody>\n",
       "    <tr>\n",
       "      <th>0</th>\n",
       "      <td>1</td>\n",
       "      <td>0</td>\n",
       "      <td>есть дети</td>\n",
       "    </tr>\n",
       "    <tr>\n",
       "      <th>1</th>\n",
       "      <td>1</td>\n",
       "      <td>0</td>\n",
       "      <td>есть дети</td>\n",
       "    </tr>\n",
       "    <tr>\n",
       "      <th>2</th>\n",
       "      <td>0</td>\n",
       "      <td>0</td>\n",
       "      <td>нет детей</td>\n",
       "    </tr>\n",
       "    <tr>\n",
       "      <th>3</th>\n",
       "      <td>3</td>\n",
       "      <td>0</td>\n",
       "      <td>есть дети</td>\n",
       "    </tr>\n",
       "    <tr>\n",
       "      <th>4</th>\n",
       "      <td>0</td>\n",
       "      <td>0</td>\n",
       "      <td>нет детей</td>\n",
       "    </tr>\n",
       "  </tbody>\n",
       "</table>\n",
       "</div>"
      ],
      "text/plain": [
       "   children  debt y_n_children\n",
       "0         1     0    есть дети\n",
       "1         1     0    есть дети\n",
       "2         0     0    нет детей\n",
       "3         3     0    есть дети\n",
       "4         0     0    нет детей"
      ]
     },
     "execution_count": 352,
     "metadata": {},
     "output_type": "execute_result"
    }
   ],
   "source": [
    "return_credit = data[['children', 'debt']]\n",
    "def children_group (value):\n",
    "    if value == 0:\n",
    "        return 'нет детей'\n",
    "    else:\n",
    "        return 'есть дети'\n",
    "return_credit['y_n_children'] = return_credit['children'].apply(children_group)\n",
    "return_credit.head()"
   ]
  },
  {
   "cell_type": "code",
   "execution_count": 353,
   "metadata": {},
   "outputs": [
    {
     "name": "stdout",
     "output_type": "stream",
     "text": [
      "Доля есть дети и возврат: 31.2%\n",
      "Доля есть дети и невозврат: 3.2%\n",
      "Доля нет детей и возврат: 60.7%\n",
      "Доля нет детей и невозврат: 5.0%\n"
     ]
    }
   ],
   "source": [
    "def print_conversion_children_debt (children_list, debt):\n",
    "    children_debt_func = return_credit[(return_credit['y_n_children'] == children_list) & (return_credit['debt'] == debt)]\n",
    "    conversion = children_debt_func['debt'].count() / return_credit['debt'].count()\n",
    "    debt_dict = {0: 'возврат', 1: 'невозврат'}\n",
    "    print(f'Доля {children_list} и {debt_dict[debt]}: {conversion:.1%}')\n",
    "\n",
    "children_list = return_credit['y_n_children'].unique()\n",
    "debt = [0, 1]\n",
    "for x in children_list:\n",
    "    for y in debt:\n",
    "        print_conversion_children_debt(x, y)"
   ]
  },
  {
   "cell_type": "markdown",
   "metadata": {},
   "source": [
    "**Вывод**"
   ]
  },
  {
   "cell_type": "markdown",
   "metadata": {},
   "source": [
    "По результатам вычислений, можно сделать вывод, что примерно 61% заемщиков не имеют детей и возвращают кредит в срок, при этом 31% заемщиков даже несмотря на наличие детей, все равно возвращают кредит в срок. Как таковой зависимости между наличием детей и возврата кредита в срок - нет. Люди, за исключением малой доли заемщиков, возвращают кредит в срок независимо от того, есть ли дети или их нет"
   ]
  },
  {
   "cell_type": "code",
   "execution_count": 354,
   "metadata": {
    "scrolled": false
   },
   "outputs": [
    {
     "data": {
      "text/html": [
       "<div>\n",
       "<style scoped>\n",
       "    .dataframe tbody tr th:only-of-type {\n",
       "        vertical-align: middle;\n",
       "    }\n",
       "\n",
       "    .dataframe tbody tr th {\n",
       "        vertical-align: top;\n",
       "    }\n",
       "\n",
       "    .dataframe thead th {\n",
       "        text-align: right;\n",
       "    }\n",
       "</style>\n",
       "<table border=\"1\" class=\"dataframe\">\n",
       "  <thead>\n",
       "    <tr style=\"text-align: right;\">\n",
       "      <th></th>\n",
       "      <th>debt</th>\n",
       "    </tr>\n",
       "    <tr>\n",
       "      <th>children</th>\n",
       "      <th></th>\n",
       "    </tr>\n",
       "  </thead>\n",
       "  <tbody>\n",
       "    <tr>\n",
       "      <th>0</th>\n",
       "      <td>7.56</td>\n",
       "    </tr>\n",
       "    <tr>\n",
       "      <th>1</th>\n",
       "      <td>9.18</td>\n",
       "    </tr>\n",
       "    <tr>\n",
       "      <th>2</th>\n",
       "      <td>9.47</td>\n",
       "    </tr>\n",
       "    <tr>\n",
       "      <th>3</th>\n",
       "      <td>8.18</td>\n",
       "    </tr>\n",
       "    <tr>\n",
       "      <th>4</th>\n",
       "      <td>9.76</td>\n",
       "    </tr>\n",
       "    <tr>\n",
       "      <th>5</th>\n",
       "      <td>0.00</td>\n",
       "    </tr>\n",
       "    <tr>\n",
       "      <th>20</th>\n",
       "      <td>10.53</td>\n",
       "    </tr>\n",
       "  </tbody>\n",
       "</table>\n",
       "</div>"
      ],
      "text/plain": [
       "           debt\n",
       "children       \n",
       "0          7.56\n",
       "1          9.18\n",
       "2          9.47\n",
       "3          8.18\n",
       "4          9.76\n",
       "5          0.00\n",
       "20        10.53"
      ]
     },
     "execution_count": 354,
     "metadata": {},
     "output_type": "execute_result"
    }
   ],
   "source": [
    "data.pivot_table(\n",
    "    index='children',\n",
    "    values='debt'\n",
    ").round(4) * 100"
   ]
  },
  {
   "cell_type": "markdown",
   "metadata": {},
   "source": [
    "- Есть ли зависимость между семейным положением и возвратом кредита в срок?"
   ]
  },
  {
   "cell_type": "code",
   "execution_count": 356,
   "metadata": {},
   "outputs": [
    {
     "name": "stdout",
     "output_type": "stream",
     "text": [
      "Доля женат/замужем и возврат: 53.1%\n",
      "Доля женат/замужем и невозврат: 4.3%\n",
      "Доля гражданский брак и возврат: 17.6%\n",
      "Доля гражданский брак и невозврат: 1.8%\n",
      "Доля вдовец/вдова и возврат: 4.2%\n",
      "Доля вдовец/вдова и невозврат: 0.3%\n",
      "Доля в разводе и возврат: 5.2%\n",
      "Доля в разводе и невозврат: 0.4%\n",
      "Доля не женат/не замужем и возврат: 11.8%\n",
      "Доля не женат/не замужем и невозврат: 1.3%\n"
     ]
    }
   ],
   "source": [
    "family_status_return_debt = data[['family_status_id', 'debt']]\n",
    "def print_conversion_family_debt (family_list, debt):\n",
    "    family_debt_func = family_status_return_debt[(family_status_return_debt['family_status_id'] == family_list) & (family_status_return_debt['debt'] == debt)]\n",
    "    conversion = family_debt_func['debt'].count() / family_status_return_debt['debt'].count()\n",
    "    debt_dict = {0: 'возврат', 1: 'невозврат'}\n",
    "    family_list_dict = {0:'женат/замужем', 1:'гражданский брак', 2:'вдовец/вдова', 3:'в разводе', 4:'не женат/не замужем'}\n",
    "    print(f'Доля {family_list_dict[family_list]} и {debt_dict[debt]}: {conversion:.1%}')\n",
    "\n",
    "family_list = family_status_return_debt['family_status_id'].unique()\n",
    "debt = [0, 1]\n",
    "for x in family_list:\n",
    "    for y in debt:\n",
    "        print_conversion_family_debt(x, y)"
   ]
  },
  {
   "cell_type": "code",
   "execution_count": 357,
   "metadata": {},
   "outputs": [
    {
     "data": {
      "text/html": [
       "<div>\n",
       "<style scoped>\n",
       "    .dataframe tbody tr th:only-of-type {\n",
       "        vertical-align: middle;\n",
       "    }\n",
       "\n",
       "    .dataframe tbody tr th {\n",
       "        vertical-align: top;\n",
       "    }\n",
       "\n",
       "    .dataframe thead th {\n",
       "        text-align: right;\n",
       "    }\n",
       "</style>\n",
       "<table border=\"1\" class=\"dataframe\">\n",
       "  <thead>\n",
       "    <tr style=\"text-align: right;\">\n",
       "      <th></th>\n",
       "      <th>debt</th>\n",
       "    </tr>\n",
       "    <tr>\n",
       "      <th>family_status</th>\n",
       "      <th></th>\n",
       "    </tr>\n",
       "  </thead>\n",
       "  <tbody>\n",
       "    <tr>\n",
       "      <th>Не женат / не замужем</th>\n",
       "      <td>9.76</td>\n",
       "    </tr>\n",
       "    <tr>\n",
       "      <th>в разводе</th>\n",
       "      <td>7.11</td>\n",
       "    </tr>\n",
       "    <tr>\n",
       "      <th>вдовец / вдова</th>\n",
       "      <td>6.58</td>\n",
       "    </tr>\n",
       "    <tr>\n",
       "      <th>гражданский брак</th>\n",
       "      <td>9.35</td>\n",
       "    </tr>\n",
       "    <tr>\n",
       "      <th>женат / замужем</th>\n",
       "      <td>7.56</td>\n",
       "    </tr>\n",
       "  </tbody>\n",
       "</table>\n",
       "</div>"
      ],
      "text/plain": [
       "                       debt\n",
       "family_status              \n",
       "Не женат / не замужем  9.76\n",
       "в разводе              7.11\n",
       "вдовец / вдова         6.58\n",
       "гражданский брак       9.35\n",
       "женат / замужем        7.56"
      ]
     },
     "execution_count": 357,
     "metadata": {},
     "output_type": "execute_result"
    }
   ],
   "source": [
    "data.pivot_table(\n",
    "    index='family_status',\n",
    "    values='debt'\n",
    ").round(4) * 100"
   ]
  },
  {
   "cell_type": "markdown",
   "metadata": {},
   "source": [
    "**Вывод**"
   ]
  },
  {
   "cell_type": "markdown",
   "metadata": {},
   "source": [
    "Среди общего числа заемщиков, большая доля тех, кто находятся в статусе \"женат/замужем\", а также тех, кто находятся в гражданском браке"
   ]
  },
  {
   "cell_type": "markdown",
   "metadata": {},
   "source": [
    "- Есть ли зависимость между уровнем дохода и возвратом кредита в срок?"
   ]
  },
  {
   "cell_type": "code",
   "execution_count": 358,
   "metadata": {
    "scrolled": true
   },
   "outputs": [
    {
     "name": "stderr",
     "output_type": "stream",
     "text": [
      "/tmp/ipykernel_36/1182469301.py:12: SettingWithCopyWarning: \n",
      "A value is trying to be set on a copy of a slice from a DataFrame.\n",
      "Try using .loc[row_indexer,col_indexer] = value instead\n",
      "\n",
      "See the caveats in the documentation: https://pandas.pydata.org/pandas-docs/stable/user_guide/indexing.html#returning-a-view-versus-a-copy\n",
      "  income['income_group'] = income['total_income'].apply(income_group)\n"
     ]
    }
   ],
   "source": [
    "income = data[['total_income', 'debt']]\n",
    "def income_group (value):\n",
    "    if value <= 30000:\n",
    "        return 'бедность'\n",
    "    if value <= 60000:\n",
    "        return 'средний достаток'\n",
    "    if value <= 90000:\n",
    "        return 'состоятельные'\n",
    "    if value <= 150000:\n",
    "        return 'богаты'\n",
    "    return 'сверхбогатый'\n",
    "income['income_group'] = income['total_income'].apply(income_group)"
   ]
  },
  {
   "cell_type": "code",
   "execution_count": 361,
   "metadata": {},
   "outputs": [
    {
     "name": "stdout",
     "output_type": "stream",
     "text": [
      "Доля сверхбогатый и возврат: 39.49%\n",
      "Доля сверхбогатый и невозврат: 3.39%\n",
      "Доля богаты и возврат: 37.98%\n",
      "Доля богаты и невозврат: 3.52%\n",
      "Доля состоятельные и возврат: 10.87%\n",
      "Доля состоятельные и невозврат: 0.99%\n",
      "Доля средний достаток и возврат: 3.44%\n",
      "Доля средний достаток и невозврат: 0.22%\n",
      "Доля бедность и возврат: 0.09%\n",
      "Доля бедность и невозврат: 0.01%\n"
     ]
    }
   ],
   "source": [
    "def print_conversion_income_debt (income_list, debt):\n",
    "    income_debt_func = income[(income['income_group'] == income_list) & (income['debt'] == debt)]\n",
    "    conversion = income_debt_func['debt'].count() / income['debt'].count()\n",
    "    debt_dict = {0: 'возврат', 1: 'невозврат'}\n",
    "    print(f'Доля {income_list} и {debt_dict[debt]}: {conversion:.2%}')\n",
    "\n",
    "income_list = ['сверхбогатый', 'богаты', 'состоятельные', 'средний достаток',\n",
    "       'бедность']\n",
    "debt = [0, 1]\n",
    "for x in income_list:\n",
    "    for y in debt:\n",
    "        print_conversion_income_debt(x, y)"
   ]
  },
  {
   "cell_type": "code",
   "execution_count": 362,
   "metadata": {},
   "outputs": [
    {
     "data": {
      "text/html": [
       "<div>\n",
       "<style scoped>\n",
       "    .dataframe tbody tr th:only-of-type {\n",
       "        vertical-align: middle;\n",
       "    }\n",
       "\n",
       "    .dataframe tbody tr th {\n",
       "        vertical-align: top;\n",
       "    }\n",
       "\n",
       "    .dataframe thead th {\n",
       "        text-align: right;\n",
       "    }\n",
       "</style>\n",
       "<table border=\"1\" class=\"dataframe\">\n",
       "  <thead>\n",
       "    <tr style=\"text-align: right;\">\n",
       "      <th></th>\n",
       "      <th>debt</th>\n",
       "    </tr>\n",
       "    <tr>\n",
       "      <th>income_group</th>\n",
       "      <th></th>\n",
       "    </tr>\n",
       "  </thead>\n",
       "  <tbody>\n",
       "    <tr>\n",
       "      <th>бедность</th>\n",
       "      <td>9.09</td>\n",
       "    </tr>\n",
       "    <tr>\n",
       "      <th>богаты</th>\n",
       "      <td>8.47</td>\n",
       "    </tr>\n",
       "    <tr>\n",
       "      <th>сверхбогатый</th>\n",
       "      <td>7.91</td>\n",
       "    </tr>\n",
       "    <tr>\n",
       "      <th>состоятельные</th>\n",
       "      <td>8.38</td>\n",
       "    </tr>\n",
       "    <tr>\n",
       "      <th>средний достаток</th>\n",
       "      <td>5.99</td>\n",
       "    </tr>\n",
       "  </tbody>\n",
       "</table>\n",
       "</div>"
      ],
      "text/plain": [
       "                  debt\n",
       "income_group          \n",
       "бедность          9.09\n",
       "богаты            8.47\n",
       "сверхбогатый      7.91\n",
       "состоятельные     8.38\n",
       "средний достаток  5.99"
      ]
     },
     "execution_count": 362,
     "metadata": {},
     "output_type": "execute_result"
    }
   ],
   "source": [
    "income.pivot_table(\n",
    "    index='income_group',\n",
    "    values='debt'\n",
    ").round(4) * 100"
   ]
  },
  {
   "cell_type": "markdown",
   "metadata": {},
   "source": [
    "**Вывод**"
   ]
  },
  {
   "cell_type": "markdown",
   "metadata": {},
   "source": [
    "Для облегчения задачи разделим заемщиков по их доходам на несколько категорий. Чем состоятельнее человек - тем больше у него есть возможностей взять кредит и успешно его вернуть"
   ]
  },
  {
   "cell_type": "markdown",
   "metadata": {},
   "source": [
    "- Как разные цели кредита влияют на его возврат в срок?"
   ]
  },
  {
   "cell_type": "code",
   "execution_count": 363,
   "metadata": {},
   "outputs": [
    {
     "name": "stdout",
     "output_type": "stream",
     "text": [
      "Доля недвижимость и возврат: 46.7%\n",
      "Доля недвижимость и невозврат: 3.7%\n",
      "Доля автомобиль и возврат: 18.2%\n",
      "Доля автомобиль и невозврат: 1.9%\n",
      "Доля образование и возврат: 17.0%\n",
      "Доля образование и невозврат: 1.7%\n",
      "Доля свадьба и возврат: 10.0%\n",
      "Доля свадьба и невозврат: 0.9%\n"
     ]
    }
   ],
   "source": [
    "purpose = data[['category', 'debt']]\n",
    "def print_conversion_purpose_debt (category, debt):\n",
    "    purpose_debt_func = purpose[(purpose['category'] == category) & (purpose['debt'] == debt)]\n",
    "    conversion = purpose_debt_func['debt'].count() / purpose['debt'].count()\n",
    "    debt_dict = {0: 'возврат', 1: 'невозврат'}\n",
    "    print(f'Доля {category} и {debt_dict[debt]}: {conversion:.1%}')\n",
    "\n",
    "category = ['недвижимость', 'автомобиль', 'образование', 'свадьба']\n",
    "debt = [0, 1]\n",
    "for x in category:\n",
    "    for y in debt:\n",
    "        print_conversion_purpose_debt(x, y)"
   ]
  },
  {
   "cell_type": "code",
   "execution_count": 364,
   "metadata": {},
   "outputs": [
    {
     "data": {
      "text/html": [
       "<div>\n",
       "<style scoped>\n",
       "    .dataframe tbody tr th:only-of-type {\n",
       "        vertical-align: middle;\n",
       "    }\n",
       "\n",
       "    .dataframe tbody tr th {\n",
       "        vertical-align: top;\n",
       "    }\n",
       "\n",
       "    .dataframe thead th {\n",
       "        text-align: right;\n",
       "    }\n",
       "</style>\n",
       "<table border=\"1\" class=\"dataframe\">\n",
       "  <thead>\n",
       "    <tr style=\"text-align: right;\">\n",
       "      <th></th>\n",
       "      <th>debt</th>\n",
       "    </tr>\n",
       "    <tr>\n",
       "      <th>category</th>\n",
       "      <th></th>\n",
       "    </tr>\n",
       "  </thead>\n",
       "  <tbody>\n",
       "    <tr>\n",
       "      <th>автомобиль</th>\n",
       "      <td>9.37</td>\n",
       "    </tr>\n",
       "    <tr>\n",
       "      <th>недвижимость</th>\n",
       "      <td>7.25</td>\n",
       "    </tr>\n",
       "    <tr>\n",
       "      <th>образование</th>\n",
       "      <td>9.24</td>\n",
       "    </tr>\n",
       "    <tr>\n",
       "      <th>свадьба</th>\n",
       "      <td>8.01</td>\n",
       "    </tr>\n",
       "  </tbody>\n",
       "</table>\n",
       "</div>"
      ],
      "text/plain": [
       "              debt\n",
       "category          \n",
       "автомобиль    9.37\n",
       "недвижимость  7.25\n",
       "образование   9.24\n",
       "свадьба       8.01"
      ]
     },
     "execution_count": 364,
     "metadata": {},
     "output_type": "execute_result"
    }
   ],
   "source": [
    "data.pivot_table(\n",
    "    index='category',\n",
    "    values='debt'\n",
    ").round(4) * 100"
   ]
  },
  {
   "cell_type": "markdown",
   "metadata": {},
   "source": [
    "**Вывод**"
   ]
  },
  {
   "cell_type": "markdown",
   "metadata": {},
   "source": [
    "Заемщики в большинстве своем берут кредиты на недвижимость и успешно их возвращают"
   ]
  },
  {
   "cell_type": "markdown",
   "metadata": {},
   "source": [
    "## Общий вывод <a id='вывод'></a>"
   ]
  },
  {
   "cell_type": "markdown",
   "metadata": {},
   "source": [
    "Мною была изучена информация в датафрейме, совершены необходимые манипуляции с данными, для облегчения чтения данных и корректной работы с датафреймом. Далее были выполнены задания по обработанному датафрейму, выводы вместе с расчетами находятся после каждого вопроса."
   ]
  }
 ],
 "metadata": {
  "ExecuteTimeLog": [
   {
    "duration": 441,
    "start_time": "2021-11-20T08:20:10.860Z"
   },
   {
    "duration": 434,
    "start_time": "2021-11-20T08:20:22.656Z"
   },
   {
    "duration": 857,
    "start_time": "2021-11-20T08:22:09.071Z"
   },
   {
    "duration": 76,
    "start_time": "2021-11-20T08:29:11.924Z"
   },
   {
    "duration": 14,
    "start_time": "2021-11-20T08:35:18.677Z"
   },
   {
    "duration": 7,
    "start_time": "2021-11-20T08:51:11.652Z"
   },
   {
    "duration": 19,
    "start_time": "2021-11-20T08:57:28.775Z"
   },
   {
    "duration": 19,
    "start_time": "2021-11-20T08:57:56.636Z"
   },
   {
    "duration": 19,
    "start_time": "2021-11-20T08:58:39.041Z"
   },
   {
    "duration": 7,
    "start_time": "2021-11-20T08:59:04.692Z"
   },
   {
    "duration": 38,
    "start_time": "2021-11-20T08:59:51.172Z"
   },
   {
    "duration": 73,
    "start_time": "2021-11-20T09:00:39.520Z"
   },
   {
    "duration": 91,
    "start_time": "2021-11-20T09:04:15.906Z"
   },
   {
    "duration": 488,
    "start_time": "2021-11-20T09:04:37.372Z"
   },
   {
    "duration": 74,
    "start_time": "2021-11-20T09:05:23.203Z"
   },
   {
    "duration": 74,
    "start_time": "2021-11-20T09:08:12.419Z"
   },
   {
    "duration": 76,
    "start_time": "2021-11-20T09:10:00.394Z"
   },
   {
    "duration": 65,
    "start_time": "2021-11-20T09:11:24.646Z"
   },
   {
    "duration": 39,
    "start_time": "2021-11-20T09:11:51.707Z"
   },
   {
    "duration": 20,
    "start_time": "2021-11-20T09:13:47.985Z"
   },
   {
    "duration": 19,
    "start_time": "2021-11-20T09:14:16.552Z"
   },
   {
    "duration": 9,
    "start_time": "2021-11-20T09:22:54.024Z"
   },
   {
    "duration": 8,
    "start_time": "2021-11-20T09:23:15.535Z"
   },
   {
    "duration": 13,
    "start_time": "2021-11-20T09:24:00.794Z"
   },
   {
    "duration": 13,
    "start_time": "2021-11-20T09:28:09.141Z"
   },
   {
    "duration": 65,
    "start_time": "2021-11-20T09:29:36.666Z"
   },
   {
    "duration": 61,
    "start_time": "2021-11-20T09:32:48.731Z"
   },
   {
    "duration": 64,
    "start_time": "2021-11-20T09:34:47.701Z"
   },
   {
    "duration": 72,
    "start_time": "2021-11-20T09:35:47.732Z"
   },
   {
    "duration": 375,
    "start_time": "2021-11-20T09:57:00.162Z"
   },
   {
    "duration": 679,
    "start_time": "2021-11-20T09:57:50.217Z"
   },
   {
    "duration": 15,
    "start_time": "2021-11-20T09:58:23.064Z"
   },
   {
    "duration": 90,
    "start_time": "2021-11-20T10:18:16.056Z"
   },
   {
    "duration": 82,
    "start_time": "2021-11-20T10:18:35.887Z"
   },
   {
    "duration": 71,
    "start_time": "2021-11-20T10:18:53.079Z"
   },
   {
    "duration": 75,
    "start_time": "2021-11-20T10:25:01.231Z"
   },
   {
    "duration": 413,
    "start_time": "2021-11-20T10:28:52.422Z"
   },
   {
    "duration": 40,
    "start_time": "2021-11-20T10:34:14.807Z"
   },
   {
    "duration": 27,
    "start_time": "2021-11-20T10:34:39.994Z"
   },
   {
    "duration": 14,
    "start_time": "2021-11-20T10:36:58.509Z"
   },
   {
    "duration": 14,
    "start_time": "2021-11-20T10:37:10.085Z"
   },
   {
    "duration": 15,
    "start_time": "2021-11-20T10:39:06.906Z"
   },
   {
    "duration": 14,
    "start_time": "2021-11-20T10:40:05.194Z"
   },
   {
    "duration": 79,
    "start_time": "2021-11-20T10:40:56.360Z"
   },
   {
    "duration": 81,
    "start_time": "2021-11-20T10:41:17.938Z"
   },
   {
    "duration": 82,
    "start_time": "2021-11-20T10:53:38.132Z"
   },
   {
    "duration": 23,
    "start_time": "2021-11-20T10:59:14.535Z"
   },
   {
    "duration": 3305,
    "start_time": "2021-11-20T11:01:22.955Z"
   },
   {
    "duration": 25,
    "start_time": "2021-11-20T11:02:09.576Z"
   },
   {
    "duration": 11353,
    "start_time": "2021-11-20T11:07:15.872Z"
   },
   {
    "duration": 46,
    "start_time": "2021-11-20T11:07:42.020Z"
   },
   {
    "duration": 30,
    "start_time": "2021-11-20T11:08:08.636Z"
   },
   {
    "duration": 28,
    "start_time": "2021-11-20T11:08:49.463Z"
   },
   {
    "duration": 23,
    "start_time": "2021-11-20T11:09:43.746Z"
   },
   {
    "duration": 83,
    "start_time": "2021-11-20T11:10:11.969Z"
   },
   {
    "duration": 71,
    "start_time": "2021-11-20T11:10:30.008Z"
   },
   {
    "duration": 23,
    "start_time": "2021-11-20T11:10:48.030Z"
   },
   {
    "duration": 38,
    "start_time": "2021-11-20T11:11:01.148Z"
   },
   {
    "duration": 33,
    "start_time": "2021-11-20T11:17:40.292Z"
   },
   {
    "duration": 27,
    "start_time": "2021-11-20T11:17:55.885Z"
   },
   {
    "duration": 38,
    "start_time": "2021-11-20T11:20:04.823Z"
   },
   {
    "duration": 31,
    "start_time": "2021-11-20T11:44:58.353Z"
   },
   {
    "duration": 50,
    "start_time": "2021-11-20T11:45:10.800Z"
   },
   {
    "duration": 53,
    "start_time": "2021-11-20T11:46:01.336Z"
   },
   {
    "duration": 22,
    "start_time": "2021-11-20T11:51:55.267Z"
   },
   {
    "duration": 18,
    "start_time": "2021-11-20T12:40:31.963Z"
   },
   {
    "duration": 22,
    "start_time": "2021-11-20T12:47:21.197Z"
   },
   {
    "duration": 49,
    "start_time": "2021-11-20T12:49:11.549Z"
   },
   {
    "duration": 64,
    "start_time": "2021-11-20T12:53:21.391Z"
   },
   {
    "duration": 107,
    "start_time": "2021-11-20T13:01:11.876Z"
   },
   {
    "duration": 104,
    "start_time": "2021-11-20T13:01:47.842Z"
   },
   {
    "duration": 82,
    "start_time": "2021-11-20T13:01:47.961Z"
   },
   {
    "duration": 28,
    "start_time": "2021-11-20T13:01:48.060Z"
   },
   {
    "duration": 123,
    "start_time": "2021-11-20T13:01:48.091Z"
   },
   {
    "duration": 412,
    "start_time": "2021-11-20T13:04:15.526Z"
   },
   {
    "duration": 65,
    "start_time": "2021-11-20T13:04:25.255Z"
   },
   {
    "duration": 55,
    "start_time": "2021-11-20T13:04:57.386Z"
   },
   {
    "duration": 51,
    "start_time": "2021-11-20T13:10:11.107Z"
   },
   {
    "duration": 26,
    "start_time": "2021-11-20T13:10:36.263Z"
   },
   {
    "duration": 61,
    "start_time": "2021-11-20T13:13:54.874Z"
   },
   {
    "duration": 28,
    "start_time": "2021-11-20T13:14:34.260Z"
   },
   {
    "duration": 52,
    "start_time": "2021-11-20T13:15:12.117Z"
   },
   {
    "duration": 65,
    "start_time": "2021-11-20T13:27:42.730Z"
   },
   {
    "duration": 59,
    "start_time": "2021-11-20T13:31:05.774Z"
   },
   {
    "duration": 67,
    "start_time": "2021-11-20T13:31:52.743Z"
   },
   {
    "duration": 48,
    "start_time": "2021-11-20T13:32:54.010Z"
   },
   {
    "duration": 49,
    "start_time": "2021-11-20T13:33:03.686Z"
   },
   {
    "duration": 446,
    "start_time": "2021-11-20T13:33:15.520Z"
   },
   {
    "duration": 580,
    "start_time": "2021-11-20T13:33:27.929Z"
   },
   {
    "duration": 52,
    "start_time": "2021-11-20T13:33:39.081Z"
   },
   {
    "duration": 62,
    "start_time": "2021-11-20T13:37:05.620Z"
   },
   {
    "duration": 64,
    "start_time": "2021-11-20T13:40:49.689Z"
   },
   {
    "duration": 125,
    "start_time": "2021-11-20T13:41:40.968Z"
   },
   {
    "duration": 83,
    "start_time": "2021-11-20T13:41:50.024Z"
   },
   {
    "duration": 74,
    "start_time": "2021-11-20T13:42:03.706Z"
   },
   {
    "duration": 53,
    "start_time": "2021-11-20T13:42:03.783Z"
   },
   {
    "duration": 38,
    "start_time": "2021-11-20T13:42:03.839Z"
   },
   {
    "duration": 99,
    "start_time": "2021-11-20T13:42:03.880Z"
   },
   {
    "duration": 22,
    "start_time": "2021-11-20T13:43:16.662Z"
   },
   {
    "duration": 70,
    "start_time": "2021-11-20T13:43:33.775Z"
   },
   {
    "duration": 59,
    "start_time": "2021-11-20T13:43:33.848Z"
   },
   {
    "duration": 19,
    "start_time": "2021-11-20T13:43:33.910Z"
   },
   {
    "duration": 41,
    "start_time": "2021-11-20T13:43:33.931Z"
   },
   {
    "duration": 37,
    "start_time": "2021-11-20T13:44:43.773Z"
   },
   {
    "duration": 77,
    "start_time": "2021-11-20T13:45:32.530Z"
   },
   {
    "duration": 85,
    "start_time": "2021-11-20T13:45:57.044Z"
   },
   {
    "duration": 79,
    "start_time": "2021-11-20T13:47:15.795Z"
   },
   {
    "duration": 92,
    "start_time": "2021-11-20T13:47:24.581Z"
   },
   {
    "duration": 413,
    "start_time": "2021-11-20T13:58:16.101Z"
   },
   {
    "duration": 7,
    "start_time": "2021-11-20T14:01:47.932Z"
   },
   {
    "duration": 6,
    "start_time": "2021-11-20T14:02:06.752Z"
   },
   {
    "duration": 8,
    "start_time": "2021-11-20T14:02:14.368Z"
   },
   {
    "duration": 7,
    "start_time": "2021-11-20T14:03:57.950Z"
   },
   {
    "duration": 11,
    "start_time": "2021-11-20T14:04:33.870Z"
   },
   {
    "duration": 7,
    "start_time": "2021-11-20T14:04:44.245Z"
   },
   {
    "duration": 972,
    "start_time": "2021-11-20T14:06:00.565Z"
   },
   {
    "duration": 928,
    "start_time": "2021-11-20T14:07:24.604Z"
   },
   {
    "duration": 5230,
    "start_time": "2021-11-20T14:31:59.895Z"
   },
   {
    "duration": 4845,
    "start_time": "2021-11-20T14:32:41.048Z"
   },
   {
    "duration": 5151,
    "start_time": "2021-11-20T14:32:54.424Z"
   },
   {
    "duration": 4982,
    "start_time": "2021-11-20T14:33:02.389Z"
   },
   {
    "duration": 191,
    "start_time": "2021-11-20T14:33:23.653Z"
   },
   {
    "duration": 924,
    "start_time": "2021-11-20T14:33:37.243Z"
   },
   {
    "duration": 5477,
    "start_time": "2021-11-20T14:34:51.990Z"
   },
   {
    "duration": 5495,
    "start_time": "2021-11-20T14:35:52.546Z"
   },
   {
    "duration": 21,
    "start_time": "2021-11-20T14:43:40.555Z"
   },
   {
    "duration": 74,
    "start_time": "2021-11-20T14:44:11.448Z"
   },
   {
    "duration": 65,
    "start_time": "2021-11-20T14:44:11.524Z"
   },
   {
    "duration": 17,
    "start_time": "2021-11-20T14:44:11.592Z"
   },
   {
    "duration": 118,
    "start_time": "2021-11-20T14:44:11.611Z"
   },
   {
    "duration": 4902,
    "start_time": "2021-11-20T14:44:11.731Z"
   },
   {
    "duration": 34,
    "start_time": "2021-11-20T14:44:16.636Z"
   },
   {
    "duration": 72,
    "start_time": "2021-11-20T14:44:51.478Z"
   },
   {
    "duration": 52,
    "start_time": "2021-11-20T14:44:51.553Z"
   },
   {
    "duration": 18,
    "start_time": "2021-11-20T14:44:51.608Z"
   },
   {
    "duration": 137,
    "start_time": "2021-11-20T14:44:51.628Z"
   },
   {
    "duration": 5146,
    "start_time": "2021-11-20T14:44:51.767Z"
   },
   {
    "duration": 19,
    "start_time": "2021-11-20T14:44:56.916Z"
   },
   {
    "duration": 7,
    "start_time": "2021-11-20T14:47:12.013Z"
   },
   {
    "duration": 19,
    "start_time": "2021-11-20T14:50:20.880Z"
   },
   {
    "duration": 14,
    "start_time": "2021-11-20T14:50:37.318Z"
   },
   {
    "duration": 73,
    "start_time": "2021-11-20T14:55:26.665Z"
   },
   {
    "duration": 25,
    "start_time": "2021-11-20T14:55:26.741Z"
   },
   {
    "duration": 12,
    "start_time": "2021-11-20T14:55:26.769Z"
   },
   {
    "duration": 7,
    "start_time": "2021-11-20T14:55:26.783Z"
   },
   {
    "duration": 6,
    "start_time": "2021-11-20T14:55:26.792Z"
   },
   {
    "duration": 6,
    "start_time": "2021-11-20T14:55:26.801Z"
   },
   {
    "duration": 51,
    "start_time": "2021-11-20T14:55:26.809Z"
   },
   {
    "duration": 6,
    "start_time": "2021-11-20T14:55:26.863Z"
   },
   {
    "duration": 11,
    "start_time": "2021-11-20T14:55:26.873Z"
   },
   {
    "duration": 18,
    "start_time": "2021-11-20T14:55:26.886Z"
   },
   {
    "duration": 68,
    "start_time": "2021-11-20T14:55:26.906Z"
   },
   {
    "duration": 19,
    "start_time": "2021-11-20T14:55:26.976Z"
   },
   {
    "duration": 122,
    "start_time": "2021-11-20T14:55:26.998Z"
   },
   {
    "duration": 951,
    "start_time": "2021-11-20T14:55:27.122Z"
   },
   {
    "duration": 4220,
    "start_time": "2021-11-20T14:55:28.076Z"
   },
   {
    "duration": 7,
    "start_time": "2021-11-20T14:55:32.298Z"
   },
   {
    "duration": 23,
    "start_time": "2021-11-20T14:56:26.534Z"
   },
   {
    "duration": 11,
    "start_time": "2021-11-20T15:00:42.284Z"
   },
   {
    "duration": 19,
    "start_time": "2021-11-20T15:02:12.350Z"
   },
   {
    "duration": 79,
    "start_time": "2021-11-20T15:03:11.387Z"
   },
   {
    "duration": 12,
    "start_time": "2021-11-20T15:03:11.469Z"
   },
   {
    "duration": 14,
    "start_time": "2021-11-20T15:03:11.485Z"
   },
   {
    "duration": 7,
    "start_time": "2021-11-20T15:03:11.502Z"
   },
   {
    "duration": 15,
    "start_time": "2021-11-20T15:03:11.511Z"
   },
   {
    "duration": 36,
    "start_time": "2021-11-20T15:03:11.528Z"
   },
   {
    "duration": 10,
    "start_time": "2021-11-20T15:03:11.566Z"
   },
   {
    "duration": 10,
    "start_time": "2021-11-20T15:03:11.579Z"
   },
   {
    "duration": 19,
    "start_time": "2021-11-20T15:03:11.594Z"
   },
   {
    "duration": 58,
    "start_time": "2021-11-20T15:03:11.616Z"
   },
   {
    "duration": 30,
    "start_time": "2021-11-20T15:03:11.676Z"
   },
   {
    "duration": 14,
    "start_time": "2021-11-20T15:03:11.708Z"
   },
   {
    "duration": 22,
    "start_time": "2021-11-20T15:03:11.760Z"
   },
   {
    "duration": 131,
    "start_time": "2021-11-20T15:03:11.785Z"
   },
   {
    "duration": 1052,
    "start_time": "2021-11-20T15:03:11.919Z"
   },
   {
    "duration": 74,
    "start_time": "2021-11-20T15:04:50.978Z"
   },
   {
    "duration": 13,
    "start_time": "2021-11-20T15:04:51.055Z"
   },
   {
    "duration": 12,
    "start_time": "2021-11-20T15:04:51.072Z"
   },
   {
    "duration": 14,
    "start_time": "2021-11-20T15:04:51.087Z"
   },
   {
    "duration": 12,
    "start_time": "2021-11-20T15:04:51.104Z"
   },
   {
    "duration": 43,
    "start_time": "2021-11-20T15:04:51.118Z"
   },
   {
    "duration": 10,
    "start_time": "2021-11-20T15:04:51.164Z"
   },
   {
    "duration": 10,
    "start_time": "2021-11-20T15:04:51.178Z"
   },
   {
    "duration": 18,
    "start_time": "2021-11-20T15:04:51.191Z"
   },
   {
    "duration": 66,
    "start_time": "2021-11-20T15:04:51.211Z"
   },
   {
    "duration": 32,
    "start_time": "2021-11-20T15:04:51.280Z"
   },
   {
    "duration": 15,
    "start_time": "2021-11-20T15:04:51.314Z"
   },
   {
    "duration": 45,
    "start_time": "2021-11-20T15:04:51.331Z"
   },
   {
    "duration": 132,
    "start_time": "2021-11-20T15:04:51.378Z"
   },
   {
    "duration": 980,
    "start_time": "2021-11-20T15:04:51.512Z"
   },
   {
    "duration": 4038,
    "start_time": "2021-11-20T15:04:52.495Z"
   },
   {
    "duration": 33,
    "start_time": "2021-11-20T15:04:56.535Z"
   },
   {
    "duration": 29,
    "start_time": "2021-11-20T15:16:24.331Z"
   },
   {
    "duration": 24,
    "start_time": "2021-11-20T15:17:44.120Z"
   },
   {
    "duration": 34,
    "start_time": "2021-11-20T15:18:24.711Z"
   },
   {
    "duration": 27,
    "start_time": "2021-11-20T15:19:36.554Z"
   },
   {
    "duration": 8,
    "start_time": "2021-11-20T15:20:12.830Z"
   },
   {
    "duration": 18,
    "start_time": "2021-11-20T15:21:29.078Z"
   },
   {
    "duration": 19,
    "start_time": "2021-11-20T15:22:05.303Z"
   },
   {
    "duration": 23,
    "start_time": "2021-11-20T15:22:58.190Z"
   },
   {
    "duration": 25,
    "start_time": "2021-11-20T15:23:28.239Z"
   },
   {
    "duration": 23,
    "start_time": "2021-11-20T15:26:10.107Z"
   },
   {
    "duration": 15,
    "start_time": "2021-11-20T15:26:31.426Z"
   },
   {
    "duration": 17,
    "start_time": "2021-11-20T15:26:37.411Z"
   },
   {
    "duration": 462,
    "start_time": "2021-11-20T15:27:34.878Z"
   },
   {
    "duration": 6,
    "start_time": "2021-11-20T15:27:42.121Z"
   },
   {
    "duration": 22,
    "start_time": "2021-11-20T15:28:29.856Z"
   },
   {
    "duration": 35,
    "start_time": "2021-11-20T15:29:35.028Z"
   },
   {
    "duration": 8,
    "start_time": "2021-11-20T15:30:32.406Z"
   },
   {
    "duration": 6,
    "start_time": "2021-11-20T15:30:41.417Z"
   },
   {
    "duration": 7,
    "start_time": "2021-11-20T15:30:49.427Z"
   },
   {
    "duration": 26,
    "start_time": "2021-11-20T15:35:10.364Z"
   },
   {
    "duration": 26,
    "start_time": "2021-11-20T15:35:22.009Z"
   },
   {
    "duration": 94,
    "start_time": "2021-11-20T15:35:28.917Z"
   },
   {
    "duration": 16,
    "start_time": "2021-11-20T15:35:29.015Z"
   },
   {
    "duration": 30,
    "start_time": "2021-11-20T15:35:29.035Z"
   },
   {
    "duration": 7,
    "start_time": "2021-11-20T15:35:29.068Z"
   },
   {
    "duration": 9,
    "start_time": "2021-11-20T15:35:29.078Z"
   },
   {
    "duration": 12,
    "start_time": "2021-11-20T15:35:29.089Z"
   },
   {
    "duration": 8,
    "start_time": "2021-11-20T15:35:29.104Z"
   },
   {
    "duration": 47,
    "start_time": "2021-11-20T15:35:29.114Z"
   },
   {
    "duration": 19,
    "start_time": "2021-11-20T15:35:29.165Z"
   },
   {
    "duration": 23,
    "start_time": "2021-11-20T15:35:29.187Z"
   },
   {
    "duration": 60,
    "start_time": "2021-11-20T15:35:29.213Z"
   },
   {
    "duration": 15,
    "start_time": "2021-11-20T15:35:29.276Z"
   },
   {
    "duration": 21,
    "start_time": "2021-11-20T15:35:29.293Z"
   },
   {
    "duration": 142,
    "start_time": "2021-11-20T15:35:29.317Z"
   },
   {
    "duration": 991,
    "start_time": "2021-11-20T15:35:29.461Z"
   },
   {
    "duration": 4354,
    "start_time": "2021-11-20T15:35:30.455Z"
   },
   {
    "duration": 30,
    "start_time": "2021-11-20T15:35:34.812Z"
   },
   {
    "duration": 19,
    "start_time": "2021-11-20T15:35:34.859Z"
   },
   {
    "duration": 15,
    "start_time": "2021-11-20T15:35:34.880Z"
   },
   {
    "duration": 389,
    "start_time": "2021-11-20T15:42:45.612Z"
   },
   {
    "duration": 397,
    "start_time": "2021-11-20T15:43:09.789Z"
   },
   {
    "duration": 421,
    "start_time": "2021-11-20T15:43:25.000Z"
   },
   {
    "duration": 6,
    "start_time": "2021-11-20T15:43:33.830Z"
   },
   {
    "duration": 13,
    "start_time": "2021-11-20T15:43:49.716Z"
   },
   {
    "duration": 16,
    "start_time": "2021-11-20T15:44:21.595Z"
   },
   {
    "duration": 14,
    "start_time": "2021-11-20T15:45:41.015Z"
   },
   {
    "duration": 12,
    "start_time": "2021-11-20T15:48:29.329Z"
   },
   {
    "duration": 11,
    "start_time": "2021-11-20T15:48:41.849Z"
   },
   {
    "duration": 11,
    "start_time": "2021-11-20T15:48:53.088Z"
   },
   {
    "duration": 19,
    "start_time": "2021-11-20T15:49:56.775Z"
   },
   {
    "duration": 15,
    "start_time": "2021-11-20T15:54:52.069Z"
   },
   {
    "duration": 74,
    "start_time": "2021-11-20T15:55:02.072Z"
   },
   {
    "duration": 19,
    "start_time": "2021-11-20T15:55:02.149Z"
   },
   {
    "duration": 12,
    "start_time": "2021-11-20T15:55:02.171Z"
   },
   {
    "duration": 7,
    "start_time": "2021-11-20T15:55:02.185Z"
   },
   {
    "duration": 10,
    "start_time": "2021-11-20T15:55:02.195Z"
   },
   {
    "duration": 53,
    "start_time": "2021-11-20T15:55:02.208Z"
   },
   {
    "duration": 7,
    "start_time": "2021-11-20T15:55:02.263Z"
   },
   {
    "duration": 11,
    "start_time": "2021-11-20T15:55:02.273Z"
   },
   {
    "duration": 21,
    "start_time": "2021-11-20T15:55:02.287Z"
   },
   {
    "duration": 60,
    "start_time": "2021-11-20T15:55:02.311Z"
   },
   {
    "duration": 45,
    "start_time": "2021-11-20T15:55:02.373Z"
   },
   {
    "duration": 14,
    "start_time": "2021-11-20T15:55:02.421Z"
   },
   {
    "duration": 29,
    "start_time": "2021-11-20T15:55:02.437Z"
   },
   {
    "duration": 22,
    "start_time": "2021-11-20T15:55:02.468Z"
   },
   {
    "duration": 126,
    "start_time": "2021-11-20T15:55:02.492Z"
   },
   {
    "duration": 1006,
    "start_time": "2021-11-20T15:55:02.620Z"
   },
   {
    "duration": 4218,
    "start_time": "2021-11-20T15:55:03.628Z"
   },
   {
    "duration": 55,
    "start_time": "2021-11-20T15:55:07.849Z"
   },
   {
    "duration": 26,
    "start_time": "2021-11-20T15:55:07.907Z"
   },
   {
    "duration": 42,
    "start_time": "2021-11-20T15:55:07.937Z"
   },
   {
    "duration": 16,
    "start_time": "2021-11-20T15:55:07.981Z"
   },
   {
    "duration": 17,
    "start_time": "2021-11-20T15:58:42.214Z"
   },
   {
    "duration": 10,
    "start_time": "2021-11-20T16:00:32.497Z"
   },
   {
    "duration": 17,
    "start_time": "2021-11-20T16:01:48.980Z"
   },
   {
    "duration": 11,
    "start_time": "2021-11-20T16:02:36.512Z"
   },
   {
    "duration": 12,
    "start_time": "2021-11-20T16:03:38.196Z"
   },
   {
    "duration": 16,
    "start_time": "2021-11-20T16:03:46.464Z"
   },
   {
    "duration": 464,
    "start_time": "2021-11-20T16:04:32.366Z"
   },
   {
    "duration": 15,
    "start_time": "2021-11-20T16:05:29.212Z"
   },
   {
    "duration": 132,
    "start_time": "2021-11-20T16:06:12.911Z"
   },
   {
    "duration": 12,
    "start_time": "2021-11-20T16:08:55.776Z"
   },
   {
    "duration": 11,
    "start_time": "2021-11-20T16:11:13.658Z"
   },
   {
    "duration": 10,
    "start_time": "2021-11-20T16:12:40.262Z"
   },
   {
    "duration": 11,
    "start_time": "2021-11-20T16:13:45.963Z"
   },
   {
    "duration": 15,
    "start_time": "2021-11-20T16:13:57.888Z"
   },
   {
    "duration": 11,
    "start_time": "2021-11-20T16:14:15.494Z"
   },
   {
    "duration": 29,
    "start_time": "2021-11-20T16:18:57.301Z"
   },
   {
    "duration": 23,
    "start_time": "2021-11-20T16:20:04.610Z"
   },
   {
    "duration": 22,
    "start_time": "2021-11-20T16:20:43.322Z"
   },
   {
    "duration": 17,
    "start_time": "2021-11-20T16:31:07.897Z"
   },
   {
    "duration": 384,
    "start_time": "2021-11-20T16:58:26.139Z"
   },
   {
    "duration": 405,
    "start_time": "2021-11-20T16:59:29.836Z"
   },
   {
    "duration": 13,
    "start_time": "2021-11-20T17:00:40.200Z"
   },
   {
    "duration": 13,
    "start_time": "2021-11-20T17:02:49.648Z"
   },
   {
    "duration": 10,
    "start_time": "2021-11-20T17:04:49.227Z"
   },
   {
    "duration": 16,
    "start_time": "2021-11-20T17:05:14.250Z"
   },
   {
    "duration": 31,
    "start_time": "2021-11-20T17:06:17.304Z"
   },
   {
    "duration": 50,
    "start_time": "2021-11-20T17:07:11.103Z"
   },
   {
    "duration": 51,
    "start_time": "2021-11-20T17:07:49.067Z"
   },
   {
    "duration": 94,
    "start_time": "2021-11-20T17:08:18.537Z"
   },
   {
    "duration": 17,
    "start_time": "2021-11-20T17:17:23.596Z"
   },
   {
    "duration": 19,
    "start_time": "2021-11-20T17:21:00.967Z"
   },
   {
    "duration": 18,
    "start_time": "2021-11-20T17:21:40.199Z"
   },
   {
    "duration": 20,
    "start_time": "2021-11-20T17:22:29.036Z"
   },
   {
    "duration": 18,
    "start_time": "2021-11-20T17:23:31.330Z"
   },
   {
    "duration": 18,
    "start_time": "2021-11-20T17:23:43.616Z"
   },
   {
    "duration": 24,
    "start_time": "2021-11-20T17:24:51.015Z"
   },
   {
    "duration": 8,
    "start_time": "2021-11-20T17:29:25.856Z"
   },
   {
    "duration": 6,
    "start_time": "2021-11-20T17:30:48.961Z"
   },
   {
    "duration": 6,
    "start_time": "2021-11-20T17:31:10.282Z"
   },
   {
    "duration": 7,
    "start_time": "2021-11-20T17:31:28.293Z"
   },
   {
    "duration": 17,
    "start_time": "2021-11-20T17:36:01.708Z"
   },
   {
    "duration": 28,
    "start_time": "2021-11-20T17:43:27.837Z"
   },
   {
    "duration": 21,
    "start_time": "2021-11-20T17:44:52.387Z"
   },
   {
    "duration": 17,
    "start_time": "2021-11-20T17:48:53.758Z"
   },
   {
    "duration": 11,
    "start_time": "2021-11-20T17:49:49.196Z"
   },
   {
    "duration": 152,
    "start_time": "2021-11-20T17:51:17.052Z"
   },
   {
    "duration": 13,
    "start_time": "2021-11-20T17:51:29.055Z"
   },
   {
    "duration": 16,
    "start_time": "2021-11-20T17:52:05.991Z"
   },
   {
    "duration": 24,
    "start_time": "2021-11-20T17:52:33.060Z"
   },
   {
    "duration": 29,
    "start_time": "2021-11-20T17:53:08.024Z"
   },
   {
    "duration": 37,
    "start_time": "2021-11-20T17:53:45.276Z"
   },
   {
    "duration": 32,
    "start_time": "2021-11-20T17:55:33.721Z"
   },
   {
    "duration": 15,
    "start_time": "2021-11-20T17:57:20.388Z"
   },
   {
    "duration": 21,
    "start_time": "2021-11-20T17:59:28.095Z"
   },
   {
    "duration": 15,
    "start_time": "2021-11-20T18:00:17.780Z"
   },
   {
    "duration": 17,
    "start_time": "2021-11-20T18:01:18.969Z"
   },
   {
    "duration": 29,
    "start_time": "2021-11-20T18:02:47.959Z"
   },
   {
    "duration": 28,
    "start_time": "2021-11-20T18:03:26.209Z"
   },
   {
    "duration": 578,
    "start_time": "2021-11-21T00:23:56.749Z"
   },
   {
    "duration": 12,
    "start_time": "2021-11-21T00:23:57.328Z"
   },
   {
    "duration": 7,
    "start_time": "2021-11-21T00:23:57.342Z"
   },
   {
    "duration": 4,
    "start_time": "2021-11-21T00:23:57.351Z"
   },
   {
    "duration": 4,
    "start_time": "2021-11-21T00:23:57.356Z"
   },
   {
    "duration": 27,
    "start_time": "2021-11-21T00:23:57.361Z"
   },
   {
    "duration": 10,
    "start_time": "2021-11-21T00:23:57.390Z"
   },
   {
    "duration": 10,
    "start_time": "2021-11-21T00:23:57.401Z"
   },
   {
    "duration": 14,
    "start_time": "2021-11-21T00:23:57.413Z"
   },
   {
    "duration": 14,
    "start_time": "2021-11-21T00:23:57.429Z"
   },
   {
    "duration": 18,
    "start_time": "2021-11-21T00:23:57.444Z"
   },
   {
    "duration": 24,
    "start_time": "2021-11-21T00:23:57.463Z"
   },
   {
    "duration": 7,
    "start_time": "2021-11-21T00:23:57.489Z"
   },
   {
    "duration": 12,
    "start_time": "2021-11-21T00:23:57.498Z"
   },
   {
    "duration": 58,
    "start_time": "2021-11-21T00:23:57.511Z"
   },
   {
    "duration": 629,
    "start_time": "2021-11-21T00:23:57.570Z"
   },
   {
    "duration": 2496,
    "start_time": "2021-11-21T00:23:58.201Z"
   },
   {
    "duration": 17,
    "start_time": "2021-11-21T00:24:00.698Z"
   },
   {
    "duration": 10,
    "start_time": "2021-11-21T00:24:00.716Z"
   },
   {
    "duration": 9,
    "start_time": "2021-11-21T00:24:00.727Z"
   },
   {
    "duration": 13,
    "start_time": "2021-11-21T00:24:00.737Z"
   },
   {
    "duration": 52,
    "start_time": "2021-11-21T00:24:00.751Z"
   },
   {
    "duration": 9,
    "start_time": "2021-11-21T00:24:00.805Z"
   },
   {
    "duration": 22,
    "start_time": "2021-11-21T00:24:00.816Z"
   },
   {
    "duration": 18,
    "start_time": "2021-11-21T00:24:00.840Z"
   },
   {
    "duration": 39,
    "start_time": "2021-11-21T00:24:00.859Z"
   },
   {
    "duration": 19,
    "start_time": "2021-11-21T00:24:00.901Z"
   },
   {
    "duration": 127,
    "start_time": "2021-11-21T00:24:00.921Z"
   },
   {
    "duration": 5,
    "start_time": "2021-11-21T00:25:48.237Z"
   },
   {
    "duration": 7,
    "start_time": "2021-11-21T00:27:38.660Z"
   },
   {
    "duration": 17,
    "start_time": "2021-11-21T00:28:06.056Z"
   },
   {
    "duration": 13,
    "start_time": "2021-11-21T00:28:31.250Z"
   },
   {
    "duration": 14,
    "start_time": "2021-11-21T00:29:47.550Z"
   },
   {
    "duration": 385,
    "start_time": "2021-11-21T06:59:21.571Z"
   },
   {
    "duration": 853,
    "start_time": "2021-11-21T06:59:34.655Z"
   },
   {
    "duration": 21,
    "start_time": "2021-11-21T06:59:35.511Z"
   },
   {
    "duration": 11,
    "start_time": "2021-11-21T06:59:35.535Z"
   },
   {
    "duration": 7,
    "start_time": "2021-11-21T06:59:35.569Z"
   },
   {
    "duration": 6,
    "start_time": "2021-11-21T06:59:35.578Z"
   },
   {
    "duration": 9,
    "start_time": "2021-11-21T06:59:35.586Z"
   },
   {
    "duration": 9,
    "start_time": "2021-11-21T06:59:35.597Z"
   },
   {
    "duration": 9,
    "start_time": "2021-11-21T06:59:35.609Z"
   },
   {
    "duration": 19,
    "start_time": "2021-11-21T06:59:35.672Z"
   },
   {
    "duration": 27,
    "start_time": "2021-11-21T06:59:35.694Z"
   },
   {
    "duration": 63,
    "start_time": "2021-11-21T06:59:35.724Z"
   },
   {
    "duration": 7,
    "start_time": "2021-11-21T06:59:35.789Z"
   },
   {
    "duration": 16,
    "start_time": "2021-11-21T06:59:35.798Z"
   },
   {
    "duration": 20,
    "start_time": "2021-11-21T06:59:35.816Z"
   },
   {
    "duration": 20,
    "start_time": "2021-11-21T06:59:35.867Z"
   },
   {
    "duration": 133,
    "start_time": "2021-11-21T06:59:35.889Z"
   },
   {
    "duration": 953,
    "start_time": "2021-11-21T06:59:36.025Z"
   },
   {
    "duration": 3617,
    "start_time": "2021-11-21T06:59:36.980Z"
   },
   {
    "duration": 30,
    "start_time": "2021-11-21T06:59:40.599Z"
   },
   {
    "duration": 39,
    "start_time": "2021-11-21T06:59:40.631Z"
   },
   {
    "duration": 16,
    "start_time": "2021-11-21T06:59:40.672Z"
   },
   {
    "duration": 25,
    "start_time": "2021-11-21T06:59:40.690Z"
   },
   {
    "duration": 59,
    "start_time": "2021-11-21T06:59:40.717Z"
   },
   {
    "duration": 44,
    "start_time": "2021-11-21T06:59:40.779Z"
   },
   {
    "duration": 47,
    "start_time": "2021-11-21T06:59:40.826Z"
   },
   {
    "duration": 18,
    "start_time": "2021-11-21T06:59:40.876Z"
   },
   {
    "duration": 41,
    "start_time": "2021-11-21T06:59:40.899Z"
   },
   {
    "duration": 54,
    "start_time": "2021-11-21T06:59:40.942Z"
   },
   {
    "duration": 27,
    "start_time": "2021-11-21T06:59:40.998Z"
   },
   {
    "duration": 59,
    "start_time": "2021-11-21T06:59:41.027Z"
   },
   {
    "duration": 358,
    "start_time": "2021-11-21T07:00:39.440Z"
   },
   {
    "duration": 74,
    "start_time": "2021-11-21T07:01:01.325Z"
   },
   {
    "duration": 12,
    "start_time": "2021-11-21T07:01:01.402Z"
   },
   {
    "duration": 16,
    "start_time": "2021-11-21T07:01:01.417Z"
   },
   {
    "duration": 35,
    "start_time": "2021-11-21T07:01:01.436Z"
   },
   {
    "duration": 9,
    "start_time": "2021-11-21T07:01:01.474Z"
   },
   {
    "duration": 17,
    "start_time": "2021-11-21T07:01:01.486Z"
   },
   {
    "duration": 13,
    "start_time": "2021-11-21T07:01:01.505Z"
   },
   {
    "duration": 45,
    "start_time": "2021-11-21T07:01:01.523Z"
   },
   {
    "duration": 21,
    "start_time": "2021-11-21T07:01:01.573Z"
   },
   {
    "duration": 31,
    "start_time": "2021-11-21T07:01:01.597Z"
   },
   {
    "duration": 72,
    "start_time": "2021-11-21T07:01:01.631Z"
   },
   {
    "duration": 8,
    "start_time": "2021-11-21T07:01:01.705Z"
   },
   {
    "duration": 25,
    "start_time": "2021-11-21T07:01:01.716Z"
   },
   {
    "duration": 14,
    "start_time": "2021-11-21T07:01:01.768Z"
   },
   {
    "duration": 28,
    "start_time": "2021-11-21T07:01:01.785Z"
   },
   {
    "duration": 139,
    "start_time": "2021-11-21T07:01:01.816Z"
   },
   {
    "duration": 1246,
    "start_time": "2021-11-21T07:01:01.958Z"
   },
   {
    "duration": 3878,
    "start_time": "2021-11-21T07:01:03.207Z"
   },
   {
    "duration": 31,
    "start_time": "2021-11-21T07:01:07.087Z"
   },
   {
    "duration": 49,
    "start_time": "2021-11-21T07:01:07.121Z"
   },
   {
    "duration": 22,
    "start_time": "2021-11-21T07:01:07.174Z"
   },
   {
    "duration": 30,
    "start_time": "2021-11-21T07:01:07.199Z"
   },
   {
    "duration": 50,
    "start_time": "2021-11-21T07:01:07.234Z"
   },
   {
    "duration": 47,
    "start_time": "2021-11-21T07:01:07.287Z"
   },
   {
    "duration": 51,
    "start_time": "2021-11-21T07:01:07.336Z"
   },
   {
    "duration": 17,
    "start_time": "2021-11-21T07:01:07.390Z"
   },
   {
    "duration": 61,
    "start_time": "2021-11-21T07:01:07.410Z"
   },
   {
    "duration": 33,
    "start_time": "2021-11-21T07:01:07.474Z"
   },
   {
    "duration": 510,
    "start_time": "2021-11-21T07:01:07.510Z"
   },
   {
    "duration": -74,
    "start_time": "2021-11-21T07:01:08.096Z"
   },
   {
    "duration": -76,
    "start_time": "2021-11-21T07:01:08.099Z"
   },
   {
    "duration": 24,
    "start_time": "2021-11-21T07:01:56.652Z"
   },
   {
    "duration": 22,
    "start_time": "2021-11-21T07:02:49.707Z"
   },
   {
    "duration": 131,
    "start_time": "2021-11-21T07:06:21.359Z"
   },
   {
    "duration": 16,
    "start_time": "2021-11-21T07:06:21.494Z"
   },
   {
    "duration": 16,
    "start_time": "2021-11-21T07:06:21.515Z"
   },
   {
    "duration": 39,
    "start_time": "2021-11-21T07:06:21.535Z"
   },
   {
    "duration": 12,
    "start_time": "2021-11-21T07:06:21.577Z"
   },
   {
    "duration": 7,
    "start_time": "2021-11-21T07:06:21.593Z"
   },
   {
    "duration": 9,
    "start_time": "2021-11-21T07:06:21.603Z"
   },
   {
    "duration": 48,
    "start_time": "2021-11-21T07:06:21.619Z"
   },
   {
    "duration": 20,
    "start_time": "2021-11-21T07:06:21.672Z"
   },
   {
    "duration": 25,
    "start_time": "2021-11-21T07:06:21.695Z"
   },
   {
    "duration": 68,
    "start_time": "2021-11-21T07:06:21.723Z"
   },
   {
    "duration": 7,
    "start_time": "2021-11-21T07:06:21.793Z"
   },
   {
    "duration": 17,
    "start_time": "2021-11-21T07:06:21.802Z"
   },
   {
    "duration": 50,
    "start_time": "2021-11-21T07:06:21.821Z"
   },
   {
    "duration": 19,
    "start_time": "2021-11-21T07:06:21.873Z"
   },
   {
    "duration": 136,
    "start_time": "2021-11-21T07:06:21.895Z"
   },
   {
    "duration": 981,
    "start_time": "2021-11-21T07:06:22.034Z"
   },
   {
    "duration": 3935,
    "start_time": "2021-11-21T07:06:23.018Z"
   },
   {
    "duration": 37,
    "start_time": "2021-11-21T07:06:26.955Z"
   },
   {
    "duration": 19,
    "start_time": "2021-11-21T07:06:26.994Z"
   },
   {
    "duration": 16,
    "start_time": "2021-11-21T07:06:27.016Z"
   },
   {
    "duration": 26,
    "start_time": "2021-11-21T07:06:27.067Z"
   },
   {
    "duration": 25,
    "start_time": "2021-11-21T07:06:27.100Z"
   },
   {
    "duration": 75,
    "start_time": "2021-11-21T07:06:27.128Z"
   },
   {
    "duration": 23,
    "start_time": "2021-11-21T07:06:27.206Z"
   },
   {
    "duration": 43,
    "start_time": "2021-11-21T07:06:27.232Z"
   },
   {
    "duration": 34,
    "start_time": "2021-11-21T07:06:27.278Z"
   },
   {
    "duration": 65,
    "start_time": "2021-11-21T07:06:27.314Z"
   },
   {
    "duration": 25,
    "start_time": "2021-11-21T07:06:27.382Z"
   },
   {
    "duration": 63,
    "start_time": "2021-11-21T07:06:27.410Z"
   },
   {
    "duration": 34,
    "start_time": "2021-11-21T07:06:27.475Z"
   },
   {
    "duration": 23,
    "start_time": "2021-11-21T07:06:27.512Z"
   },
   {
    "duration": 610,
    "start_time": "2022-04-20T06:43:48.209Z"
   },
   {
    "duration": 187,
    "start_time": "2022-04-20T06:44:41.712Z"
   },
   {
    "duration": 165,
    "start_time": "2022-04-20T06:44:47.032Z"
   },
   {
    "duration": 185,
    "start_time": "2022-04-20T06:45:00.003Z"
   },
   {
    "duration": 21,
    "start_time": "2022-04-20T06:45:18.986Z"
   },
   {
    "duration": 18,
    "start_time": "2022-04-20T06:45:49.565Z"
   },
   {
    "duration": 80,
    "start_time": "2022-04-20T06:46:13.606Z"
   },
   {
    "duration": 137,
    "start_time": "2022-04-20T06:46:25.834Z"
   },
   {
    "duration": 63,
    "start_time": "2022-04-20T06:46:38.400Z"
   },
   {
    "duration": 162,
    "start_time": "2022-04-20T06:46:50.090Z"
   },
   {
    "duration": 103,
    "start_time": "2022-04-20T06:48:24.882Z"
   },
   {
    "duration": 93,
    "start_time": "2022-04-20T06:50:50.919Z"
   },
   {
    "duration": 93,
    "start_time": "2022-04-20T06:52:47.650Z"
   },
   {
    "duration": 20,
    "start_time": "2022-04-20T06:54:07.709Z"
   },
   {
    "duration": 100,
    "start_time": "2022-04-20T07:14:00.022Z"
   },
   {
    "duration": 37,
    "start_time": "2022-04-20T07:14:00.125Z"
   },
   {
    "duration": 15,
    "start_time": "2022-04-20T07:14:00.164Z"
   },
   {
    "duration": 10,
    "start_time": "2022-04-20T07:14:00.182Z"
   },
   {
    "duration": 8,
    "start_time": "2022-04-20T07:14:00.195Z"
   },
   {
    "duration": 55,
    "start_time": "2022-04-20T07:14:00.206Z"
   },
   {
    "duration": 9,
    "start_time": "2022-04-20T07:14:00.264Z"
   },
   {
    "duration": 8,
    "start_time": "2022-04-20T07:14:00.276Z"
   },
   {
    "duration": 19,
    "start_time": "2022-04-20T07:14:00.286Z"
   },
   {
    "duration": 53,
    "start_time": "2022-04-20T07:14:00.309Z"
   },
   {
    "duration": 31,
    "start_time": "2022-04-20T07:14:00.368Z"
   },
   {
    "duration": 9,
    "start_time": "2022-04-20T07:14:00.402Z"
   },
   {
    "duration": 52,
    "start_time": "2022-04-20T07:14:00.413Z"
   },
   {
    "duration": 15,
    "start_time": "2022-04-20T07:14:00.468Z"
   },
   {
    "duration": 28,
    "start_time": "2022-04-20T07:14:00.485Z"
   },
   {
    "duration": 224,
    "start_time": "2022-04-20T07:14:00.515Z"
   },
   {
    "duration": 1023,
    "start_time": "2022-04-20T07:14:00.742Z"
   },
   {
    "duration": 4252,
    "start_time": "2022-04-20T07:14:01.768Z"
   },
   {
    "duration": 51,
    "start_time": "2022-04-20T07:14:06.022Z"
   },
   {
    "duration": 18,
    "start_time": "2022-04-20T07:14:06.075Z"
   },
   {
    "duration": 18,
    "start_time": "2022-04-20T07:14:06.095Z"
   },
   {
    "duration": 50,
    "start_time": "2022-04-20T07:14:06.115Z"
   },
   {
    "duration": 22,
    "start_time": "2022-04-20T07:14:06.167Z"
   },
   {
    "duration": 62,
    "start_time": "2022-04-20T07:14:06.192Z"
   },
   {
    "duration": 28,
    "start_time": "2022-04-20T07:14:06.256Z"
   },
   {
    "duration": 23,
    "start_time": "2022-04-20T07:14:06.287Z"
   },
   {
    "duration": 55,
    "start_time": "2022-04-20T07:14:06.312Z"
   },
   {
    "duration": 29,
    "start_time": "2022-04-20T07:14:06.372Z"
   },
   {
    "duration": 67,
    "start_time": "2022-04-20T07:14:06.404Z"
   },
   {
    "duration": 28,
    "start_time": "2022-04-20T07:14:06.473Z"
   },
   {
    "duration": 26,
    "start_time": "2022-04-20T07:14:06.503Z"
   },
   {
    "duration": 44,
    "start_time": "2022-04-20T07:14:06.531Z"
   },
   {
    "duration": 8,
    "start_time": "2022-04-20T07:16:38.339Z"
   },
   {
    "duration": 8,
    "start_time": "2022-04-20T07:16:43.711Z"
   },
   {
    "duration": 6,
    "start_time": "2022-04-20T07:17:09.101Z"
   },
   {
    "duration": 26,
    "start_time": "2022-04-20T07:21:07.891Z"
   },
   {
    "duration": 9,
    "start_time": "2022-04-20T07:24:12.294Z"
   },
   {
    "duration": 8,
    "start_time": "2022-04-20T07:24:56.332Z"
   },
   {
    "duration": 20,
    "start_time": "2022-04-20T07:26:29.511Z"
   },
   {
    "duration": 15,
    "start_time": "2022-04-20T07:29:46.442Z"
   },
   {
    "duration": 16,
    "start_time": "2022-04-20T07:30:01.002Z"
   },
   {
    "duration": 16,
    "start_time": "2022-04-20T07:31:19.014Z"
   },
   {
    "duration": 20,
    "start_time": "2022-04-20T07:33:10.208Z"
   },
   {
    "duration": 136,
    "start_time": "2022-04-20T07:40:11.378Z"
   },
   {
    "duration": 31,
    "start_time": "2022-04-20T07:40:31.284Z"
   },
   {
    "duration": 97,
    "start_time": "2022-04-20T07:43:38.100Z"
   },
   {
    "duration": 187,
    "start_time": "2022-04-20T07:43:45.416Z"
   },
   {
    "duration": 35,
    "start_time": "2022-04-20T07:43:50.448Z"
   },
   {
    "duration": 36,
    "start_time": "2022-04-20T07:48:30.285Z"
   },
   {
    "duration": 13,
    "start_time": "2022-04-20T07:49:23.568Z"
   },
   {
    "duration": 6,
    "start_time": "2022-04-20T07:49:35.253Z"
   },
   {
    "duration": 36,
    "start_time": "2022-04-20T07:50:43.211Z"
   },
   {
    "duration": 109,
    "start_time": "2022-04-20T08:01:05.667Z"
   },
   {
    "duration": 15,
    "start_time": "2022-04-20T08:01:05.780Z"
   },
   {
    "duration": 15,
    "start_time": "2022-04-20T08:01:05.798Z"
   },
   {
    "duration": 44,
    "start_time": "2022-04-20T08:01:05.816Z"
   },
   {
    "duration": 19,
    "start_time": "2022-04-20T08:01:05.863Z"
   },
   {
    "duration": 9,
    "start_time": "2022-04-20T08:01:05.884Z"
   },
   {
    "duration": 9,
    "start_time": "2022-04-20T08:01:05.895Z"
   },
   {
    "duration": 10,
    "start_time": "2022-04-20T08:01:05.906Z"
   },
   {
    "duration": 27,
    "start_time": "2022-04-20T08:01:05.957Z"
   },
   {
    "duration": 19,
    "start_time": "2022-04-20T08:01:05.987Z"
   },
   {
    "duration": 67,
    "start_time": "2022-04-20T08:01:06.008Z"
   },
   {
    "duration": 9,
    "start_time": "2022-04-20T08:01:06.077Z"
   },
   {
    "duration": 21,
    "start_time": "2022-04-20T08:01:06.088Z"
   },
   {
    "duration": 57,
    "start_time": "2022-04-20T08:01:06.115Z"
   },
   {
    "duration": 43,
    "start_time": "2022-04-20T08:01:06.175Z"
   },
   {
    "duration": 213,
    "start_time": "2022-04-20T08:01:06.221Z"
   },
   {
    "duration": 1090,
    "start_time": "2022-04-20T08:01:06.436Z"
   },
   {
    "duration": 4774,
    "start_time": "2022-04-20T08:01:07.529Z"
   },
   {
    "duration": 30,
    "start_time": "2022-04-20T08:01:12.305Z"
   },
   {
    "duration": 41,
    "start_time": "2022-04-20T08:01:12.337Z"
   },
   {
    "duration": 27,
    "start_time": "2022-04-20T08:01:12.381Z"
   },
   {
    "duration": 49,
    "start_time": "2022-04-20T08:01:12.411Z"
   },
   {
    "duration": 27,
    "start_time": "2022-04-20T08:01:12.465Z"
   },
   {
    "duration": 72,
    "start_time": "2022-04-20T08:01:12.495Z"
   },
   {
    "duration": 25,
    "start_time": "2022-04-20T08:01:12.569Z"
   },
   {
    "duration": 27,
    "start_time": "2022-04-20T08:01:12.597Z"
   },
   {
    "duration": 65,
    "start_time": "2022-04-20T08:01:12.626Z"
   },
   {
    "duration": 32,
    "start_time": "2022-04-20T08:01:12.694Z"
   },
   {
    "duration": 41,
    "start_time": "2022-04-20T08:01:12.751Z"
   },
   {
    "duration": 73,
    "start_time": "2022-04-20T08:01:12.795Z"
   },
   {
    "duration": 42,
    "start_time": "2022-04-20T08:01:12.871Z"
   },
   {
    "duration": 11,
    "start_time": "2022-04-20T08:03:40.038Z"
   },
   {
    "duration": 10,
    "start_time": "2022-04-20T08:04:35.207Z"
   },
   {
    "duration": 18,
    "start_time": "2022-04-20T08:04:44.961Z"
   },
   {
    "duration": 42,
    "start_time": "2022-04-20T08:07:58.463Z"
   },
   {
    "duration": 56,
    "start_time": "2022-04-20T08:08:34.114Z"
   },
   {
    "duration": 27,
    "start_time": "2022-04-20T08:20:18.871Z"
   },
   {
    "duration": 38,
    "start_time": "2022-04-20T09:10:22.013Z"
   },
   {
    "duration": 56,
    "start_time": "2022-04-20T09:14:14.356Z"
   },
   {
    "duration": 52,
    "start_time": "2022-04-20T09:15:49.645Z"
   },
   {
    "duration": 126,
    "start_time": "2022-04-20T09:15:53.106Z"
   },
   {
    "duration": 38,
    "start_time": "2022-04-20T09:18:34.519Z"
   },
   {
    "duration": 52,
    "start_time": "2022-04-20T09:21:13.742Z"
   },
   {
    "duration": 38,
    "start_time": "2022-04-20T09:21:41.838Z"
   },
   {
    "duration": 121,
    "start_time": "2022-04-20T09:22:24.739Z"
   },
   {
    "duration": 14,
    "start_time": "2022-04-20T09:22:24.863Z"
   },
   {
    "duration": 22,
    "start_time": "2022-04-20T09:22:24.879Z"
   },
   {
    "duration": 13,
    "start_time": "2022-04-20T09:22:24.904Z"
   },
   {
    "duration": 7,
    "start_time": "2022-04-20T09:22:24.919Z"
   },
   {
    "duration": 10,
    "start_time": "2022-04-20T09:22:24.959Z"
   },
   {
    "duration": 17,
    "start_time": "2022-04-20T09:22:24.974Z"
   },
   {
    "duration": 14,
    "start_time": "2022-04-20T09:22:24.993Z"
   },
   {
    "duration": 20,
    "start_time": "2022-04-20T09:22:25.009Z"
   },
   {
    "duration": 44,
    "start_time": "2022-04-20T09:22:25.033Z"
   },
   {
    "duration": 55,
    "start_time": "2022-04-20T09:22:25.079Z"
   },
   {
    "duration": 9,
    "start_time": "2022-04-20T09:22:25.136Z"
   },
   {
    "duration": 34,
    "start_time": "2022-04-20T09:22:25.151Z"
   },
   {
    "duration": 26,
    "start_time": "2022-04-20T09:22:25.187Z"
   },
   {
    "duration": 27,
    "start_time": "2022-04-20T09:22:25.215Z"
   },
   {
    "duration": 145,
    "start_time": "2022-04-20T09:22:25.245Z"
   },
   {
    "duration": 1077,
    "start_time": "2022-04-20T09:22:25.392Z"
   },
   {
    "duration": 4606,
    "start_time": "2022-04-20T09:22:26.471Z"
   },
   {
    "duration": 28,
    "start_time": "2022-04-20T09:22:31.084Z"
   },
   {
    "duration": 18,
    "start_time": "2022-04-20T09:22:31.114Z"
   },
   {
    "duration": 45,
    "start_time": "2022-04-20T09:22:31.134Z"
   },
   {
    "duration": 30,
    "start_time": "2022-04-20T09:22:31.182Z"
   },
   {
    "duration": 53,
    "start_time": "2022-04-20T09:22:31.215Z"
   },
   {
    "duration": 48,
    "start_time": "2022-04-20T09:22:31.274Z"
   },
   {
    "duration": 43,
    "start_time": "2022-04-20T09:22:31.324Z"
   },
   {
    "duration": 21,
    "start_time": "2022-04-20T09:22:31.371Z"
   },
   {
    "duration": 58,
    "start_time": "2022-04-20T09:22:31.395Z"
   },
   {
    "duration": 45,
    "start_time": "2022-04-20T09:22:31.463Z"
   },
   {
    "duration": 52,
    "start_time": "2022-04-20T09:22:31.511Z"
   },
   {
    "duration": 0,
    "start_time": "2022-04-20T09:22:31.567Z"
   },
   {
    "duration": 0,
    "start_time": "2022-04-20T09:22:31.569Z"
   },
   {
    "duration": 0,
    "start_time": "2022-04-20T09:22:31.571Z"
   },
   {
    "duration": 118,
    "start_time": "2022-04-20T09:23:29.105Z"
   },
   {
    "duration": 45,
    "start_time": "2022-04-20T09:23:29.225Z"
   },
   {
    "duration": 17,
    "start_time": "2022-04-20T09:23:29.272Z"
   },
   {
    "duration": 8,
    "start_time": "2022-04-20T09:23:29.292Z"
   },
   {
    "duration": 6,
    "start_time": "2022-04-20T09:23:29.302Z"
   },
   {
    "duration": 15,
    "start_time": "2022-04-20T09:23:29.311Z"
   },
   {
    "duration": 10,
    "start_time": "2022-04-20T09:23:29.328Z"
   },
   {
    "duration": 17,
    "start_time": "2022-04-20T09:23:29.341Z"
   },
   {
    "duration": 39,
    "start_time": "2022-04-20T09:23:29.360Z"
   },
   {
    "duration": 18,
    "start_time": "2022-04-20T09:23:29.402Z"
   },
   {
    "duration": 34,
    "start_time": "2022-04-20T09:23:29.451Z"
   },
   {
    "duration": 16,
    "start_time": "2022-04-20T09:23:29.487Z"
   },
   {
    "duration": 17,
    "start_time": "2022-04-20T09:23:29.505Z"
   },
   {
    "duration": 48,
    "start_time": "2022-04-20T09:23:29.524Z"
   },
   {
    "duration": 26,
    "start_time": "2022-04-20T09:23:29.576Z"
   },
   {
    "duration": 138,
    "start_time": "2022-04-20T09:23:29.604Z"
   },
   {
    "duration": 1237,
    "start_time": "2022-04-20T09:23:29.745Z"
   },
   {
    "duration": 4553,
    "start_time": "2022-04-20T09:23:30.989Z"
   },
   {
    "duration": 43,
    "start_time": "2022-04-20T09:23:35.544Z"
   },
   {
    "duration": 19,
    "start_time": "2022-04-20T09:23:35.589Z"
   },
   {
    "duration": 55,
    "start_time": "2022-04-20T09:23:35.610Z"
   },
   {
    "duration": 26,
    "start_time": "2022-04-20T09:23:35.669Z"
   },
   {
    "duration": 22,
    "start_time": "2022-04-20T09:23:35.697Z"
   },
   {
    "duration": 74,
    "start_time": "2022-04-20T09:23:35.722Z"
   },
   {
    "duration": 23,
    "start_time": "2022-04-20T09:23:35.798Z"
   },
   {
    "duration": 33,
    "start_time": "2022-04-20T09:23:35.823Z"
   },
   {
    "duration": 52,
    "start_time": "2022-04-20T09:23:35.861Z"
   },
   {
    "duration": 61,
    "start_time": "2022-04-20T09:23:35.917Z"
   },
   {
    "duration": 24,
    "start_time": "2022-04-20T09:23:35.981Z"
   },
   {
    "duration": 0,
    "start_time": "2022-04-20T09:23:36.008Z"
   },
   {
    "duration": 0,
    "start_time": "2022-04-20T09:23:36.010Z"
   },
   {
    "duration": 0,
    "start_time": "2022-04-20T09:23:36.012Z"
   },
   {
    "duration": 110,
    "start_time": "2022-04-20T09:24:32.574Z"
   },
   {
    "duration": 13,
    "start_time": "2022-04-20T09:24:32.687Z"
   },
   {
    "duration": 19,
    "start_time": "2022-04-20T09:24:32.702Z"
   },
   {
    "duration": 39,
    "start_time": "2022-04-20T09:24:32.724Z"
   },
   {
    "duration": 24,
    "start_time": "2022-04-20T09:24:32.766Z"
   },
   {
    "duration": 9,
    "start_time": "2022-04-20T09:24:32.793Z"
   },
   {
    "duration": 8,
    "start_time": "2022-04-20T09:24:32.805Z"
   },
   {
    "duration": 9,
    "start_time": "2022-04-20T09:24:32.816Z"
   },
   {
    "duration": 30,
    "start_time": "2022-04-20T09:24:32.856Z"
   },
   {
    "duration": 20,
    "start_time": "2022-04-20T09:24:32.889Z"
   },
   {
    "duration": 71,
    "start_time": "2022-04-20T09:24:32.912Z"
   },
   {
    "duration": 11,
    "start_time": "2022-04-20T09:24:32.986Z"
   },
   {
    "duration": 15,
    "start_time": "2022-04-20T09:24:32.999Z"
   },
   {
    "duration": 48,
    "start_time": "2022-04-20T09:24:33.018Z"
   },
   {
    "duration": 41,
    "start_time": "2022-04-20T09:24:33.068Z"
   },
   {
    "duration": 126,
    "start_time": "2022-04-20T09:24:33.111Z"
   },
   {
    "duration": 1078,
    "start_time": "2022-04-20T09:24:33.239Z"
   },
   {
    "duration": 4480,
    "start_time": "2022-04-20T09:24:34.320Z"
   },
   {
    "duration": 27,
    "start_time": "2022-04-20T09:24:38.802Z"
   },
   {
    "duration": 48,
    "start_time": "2022-04-20T09:24:38.831Z"
   },
   {
    "duration": 17,
    "start_time": "2022-04-20T09:24:38.882Z"
   },
   {
    "duration": 20,
    "start_time": "2022-04-20T09:24:38.901Z"
   },
   {
    "duration": 59,
    "start_time": "2022-04-20T09:24:38.923Z"
   },
   {
    "duration": 39,
    "start_time": "2022-04-20T09:24:38.984Z"
   },
   {
    "duration": 46,
    "start_time": "2022-04-20T09:24:39.025Z"
   },
   {
    "duration": 17,
    "start_time": "2022-04-20T09:24:39.078Z"
   },
   {
    "duration": 30,
    "start_time": "2022-04-20T09:24:39.097Z"
   },
   {
    "duration": 59,
    "start_time": "2022-04-20T09:24:39.129Z"
   },
   {
    "duration": 45,
    "start_time": "2022-04-20T09:24:39.190Z"
   },
   {
    "duration": 0,
    "start_time": "2022-04-20T09:24:39.237Z"
   },
   {
    "duration": 0,
    "start_time": "2022-04-20T09:24:39.238Z"
   },
   {
    "duration": 0,
    "start_time": "2022-04-20T09:24:39.239Z"
   },
   {
    "duration": 17,
    "start_time": "2022-04-20T09:26:47.533Z"
   },
   {
    "duration": 14,
    "start_time": "2022-04-20T09:27:25.806Z"
   },
   {
    "duration": 16,
    "start_time": "2022-04-20T09:27:33.282Z"
   },
   {
    "duration": 6,
    "start_time": "2022-04-20T09:28:38.702Z"
   },
   {
    "duration": 9,
    "start_time": "2022-04-20T09:28:47.376Z"
   },
   {
    "duration": 97,
    "start_time": "2022-04-20T09:29:13.500Z"
   },
   {
    "duration": 13,
    "start_time": "2022-04-20T09:29:13.600Z"
   },
   {
    "duration": 48,
    "start_time": "2022-04-20T09:29:13.615Z"
   },
   {
    "duration": 13,
    "start_time": "2022-04-20T09:29:13.666Z"
   },
   {
    "duration": 20,
    "start_time": "2022-04-20T09:29:13.684Z"
   },
   {
    "duration": 23,
    "start_time": "2022-04-20T09:29:13.706Z"
   },
   {
    "duration": 50,
    "start_time": "2022-04-20T09:29:13.731Z"
   },
   {
    "duration": 15,
    "start_time": "2022-04-20T09:29:13.783Z"
   },
   {
    "duration": 45,
    "start_time": "2022-04-20T09:29:13.800Z"
   },
   {
    "duration": 21,
    "start_time": "2022-04-20T09:29:13.851Z"
   },
   {
    "duration": 70,
    "start_time": "2022-04-20T09:29:13.875Z"
   },
   {
    "duration": 9,
    "start_time": "2022-04-20T09:29:13.947Z"
   },
   {
    "duration": 43,
    "start_time": "2022-04-20T09:29:13.958Z"
   },
   {
    "duration": 21,
    "start_time": "2022-04-20T09:29:14.003Z"
   },
   {
    "duration": 46,
    "start_time": "2022-04-20T09:29:14.026Z"
   },
   {
    "duration": 133,
    "start_time": "2022-04-20T09:29:14.075Z"
   },
   {
    "duration": 1062,
    "start_time": "2022-04-20T09:29:14.210Z"
   },
   {
    "duration": 4060,
    "start_time": "2022-04-20T09:29:15.275Z"
   },
   {
    "duration": 50,
    "start_time": "2022-04-20T09:29:19.337Z"
   },
   {
    "duration": 18,
    "start_time": "2022-04-20T09:29:19.389Z"
   },
   {
    "duration": 17,
    "start_time": "2022-04-20T09:29:19.409Z"
   },
   {
    "duration": 45,
    "start_time": "2022-04-20T09:29:19.428Z"
   },
   {
    "duration": 30,
    "start_time": "2022-04-20T09:29:19.476Z"
   },
   {
    "duration": 55,
    "start_time": "2022-04-20T09:29:19.509Z"
   },
   {
    "duration": 26,
    "start_time": "2022-04-20T09:29:19.567Z"
   },
   {
    "duration": 17,
    "start_time": "2022-04-20T09:29:19.595Z"
   },
   {
    "duration": 65,
    "start_time": "2022-04-20T09:29:19.614Z"
   },
   {
    "duration": 29,
    "start_time": "2022-04-20T09:29:19.684Z"
   },
   {
    "duration": 8,
    "start_time": "2022-04-20T09:29:19.715Z"
   },
   {
    "duration": 62,
    "start_time": "2022-04-20T09:29:19.725Z"
   },
   {
    "duration": 36,
    "start_time": "2022-04-20T09:29:19.789Z"
   },
   {
    "duration": 35,
    "start_time": "2022-04-20T09:29:19.828Z"
   },
   {
    "duration": 17,
    "start_time": "2022-04-20T09:30:00.828Z"
   },
   {
    "duration": 12,
    "start_time": "2022-04-20T09:31:35.834Z"
   },
   {
    "duration": 12,
    "start_time": "2022-04-20T09:31:53.390Z"
   },
   {
    "duration": 86,
    "start_time": "2022-04-20T09:32:11.491Z"
   },
   {
    "duration": 79,
    "start_time": "2022-04-20T09:32:49.732Z"
   },
   {
    "duration": 38,
    "start_time": "2022-04-20T09:33:19.802Z"
   },
   {
    "duration": 47,
    "start_time": "2022-04-20T09:33:57.473Z"
   },
   {
    "duration": 18,
    "start_time": "2022-04-20T09:36:51.119Z"
   },
   {
    "duration": 20,
    "start_time": "2022-04-20T09:37:45.139Z"
   },
   {
    "duration": 10,
    "start_time": "2022-04-20T09:38:13.112Z"
   },
   {
    "duration": 19,
    "start_time": "2022-04-20T09:38:47.974Z"
   },
   {
    "duration": 12,
    "start_time": "2022-04-20T09:38:57.129Z"
   },
   {
    "duration": 9,
    "start_time": "2022-04-20T09:39:14.140Z"
   },
   {
    "duration": 95,
    "start_time": "2022-04-20T09:39:47.683Z"
   },
   {
    "duration": 19,
    "start_time": "2022-04-20T09:39:47.783Z"
   },
   {
    "duration": 33,
    "start_time": "2022-04-20T09:39:47.805Z"
   },
   {
    "duration": 23,
    "start_time": "2022-04-20T09:39:47.841Z"
   },
   {
    "duration": 32,
    "start_time": "2022-04-20T09:39:47.869Z"
   },
   {
    "duration": 28,
    "start_time": "2022-04-20T09:39:47.903Z"
   },
   {
    "duration": 53,
    "start_time": "2022-04-20T09:39:47.934Z"
   },
   {
    "duration": 31,
    "start_time": "2022-04-20T09:39:47.989Z"
   },
   {
    "duration": 75,
    "start_time": "2022-04-20T09:39:48.023Z"
   },
   {
    "duration": 19,
    "start_time": "2022-04-20T09:39:48.105Z"
   },
   {
    "duration": 72,
    "start_time": "2022-04-20T09:39:48.127Z"
   },
   {
    "duration": 34,
    "start_time": "2022-04-20T09:39:48.202Z"
   },
   {
    "duration": 78,
    "start_time": "2022-04-20T09:39:48.239Z"
   },
   {
    "duration": 27,
    "start_time": "2022-04-20T09:39:48.319Z"
   },
   {
    "duration": 70,
    "start_time": "2022-04-20T09:39:48.349Z"
   },
   {
    "duration": 130,
    "start_time": "2022-04-20T09:39:48.421Z"
   },
   {
    "duration": 1365,
    "start_time": "2022-04-20T09:39:48.556Z"
   },
   {
    "duration": 4554,
    "start_time": "2022-04-20T09:39:49.925Z"
   },
   {
    "duration": 33,
    "start_time": "2022-04-20T09:39:54.482Z"
   },
   {
    "duration": 37,
    "start_time": "2022-04-20T09:39:54.517Z"
   },
   {
    "duration": 25,
    "start_time": "2022-04-20T09:39:54.561Z"
   },
   {
    "duration": 33,
    "start_time": "2022-04-20T09:39:54.593Z"
   },
   {
    "duration": 53,
    "start_time": "2022-04-20T09:39:54.629Z"
   },
   {
    "duration": 53,
    "start_time": "2022-04-20T09:39:54.684Z"
   },
   {
    "duration": 39,
    "start_time": "2022-04-20T09:39:54.741Z"
   },
   {
    "duration": 51,
    "start_time": "2022-04-20T09:39:54.786Z"
   },
   {
    "duration": 48,
    "start_time": "2022-04-20T09:39:54.841Z"
   },
   {
    "duration": 54,
    "start_time": "2022-04-20T09:39:54.896Z"
   },
   {
    "duration": 19,
    "start_time": "2022-04-20T09:39:54.953Z"
   },
   {
    "duration": 47,
    "start_time": "2022-04-20T09:39:54.976Z"
   },
   {
    "duration": 0,
    "start_time": "2022-04-20T09:39:55.026Z"
   },
   {
    "duration": 0,
    "start_time": "2022-04-20T09:39:55.029Z"
   },
   {
    "duration": 1,
    "start_time": "2022-04-20T09:39:55.030Z"
   },
   {
    "duration": 25,
    "start_time": "2022-04-20T09:40:08.226Z"
   },
   {
    "duration": 15,
    "start_time": "2022-04-20T09:41:21.980Z"
   },
   {
    "duration": 6,
    "start_time": "2022-04-20T09:44:54.148Z"
   },
   {
    "duration": 26,
    "start_time": "2022-04-20T09:46:26.214Z"
   },
   {
    "duration": 16,
    "start_time": "2022-04-20T09:46:40.305Z"
   },
   {
    "duration": 143,
    "start_time": "2022-04-20T09:47:23.294Z"
   },
   {
    "duration": 27,
    "start_time": "2022-04-20T09:47:23.456Z"
   },
   {
    "duration": 39,
    "start_time": "2022-04-20T09:47:23.486Z"
   },
   {
    "duration": 8,
    "start_time": "2022-04-20T09:47:23.528Z"
   },
   {
    "duration": 10,
    "start_time": "2022-04-20T09:47:23.538Z"
   },
   {
    "duration": 45,
    "start_time": "2022-04-20T09:47:23.560Z"
   },
   {
    "duration": 12,
    "start_time": "2022-04-20T09:47:23.608Z"
   },
   {
    "duration": 10,
    "start_time": "2022-04-20T09:47:23.623Z"
   },
   {
    "duration": 20,
    "start_time": "2022-04-20T09:47:23.635Z"
   },
   {
    "duration": 66,
    "start_time": "2022-04-20T09:47:23.660Z"
   },
   {
    "duration": 53,
    "start_time": "2022-04-20T09:47:23.729Z"
   },
   {
    "duration": 14,
    "start_time": "2022-04-20T09:47:23.785Z"
   },
   {
    "duration": 33,
    "start_time": "2022-04-20T09:47:23.802Z"
   },
   {
    "duration": 18,
    "start_time": "2022-04-20T09:47:23.837Z"
   },
   {
    "duration": 40,
    "start_time": "2022-04-20T09:47:23.858Z"
   },
   {
    "duration": 178,
    "start_time": "2022-04-20T09:47:23.901Z"
   },
   {
    "duration": 1505,
    "start_time": "2022-04-20T09:47:24.087Z"
   },
   {
    "duration": 5514,
    "start_time": "2022-04-20T09:47:25.597Z"
   },
   {
    "duration": 28,
    "start_time": "2022-04-20T09:47:31.114Z"
   },
   {
    "duration": 49,
    "start_time": "2022-04-20T09:47:31.144Z"
   },
   {
    "duration": 34,
    "start_time": "2022-04-20T09:47:31.198Z"
   },
   {
    "duration": 39,
    "start_time": "2022-04-20T09:47:31.236Z"
   },
   {
    "duration": 79,
    "start_time": "2022-04-20T09:47:31.278Z"
   },
   {
    "duration": 65,
    "start_time": "2022-04-20T09:47:31.360Z"
   },
   {
    "duration": 45,
    "start_time": "2022-04-20T09:47:31.428Z"
   },
   {
    "duration": 45,
    "start_time": "2022-04-20T09:47:31.479Z"
   },
   {
    "duration": 47,
    "start_time": "2022-04-20T09:47:31.527Z"
   },
   {
    "duration": 72,
    "start_time": "2022-04-20T09:47:31.584Z"
   },
   {
    "duration": 11,
    "start_time": "2022-04-20T09:47:31.659Z"
   },
   {
    "duration": 43,
    "start_time": "2022-04-20T09:47:31.675Z"
   },
   {
    "duration": 0,
    "start_time": "2022-04-20T09:47:31.721Z"
   },
   {
    "duration": 0,
    "start_time": "2022-04-20T09:47:31.723Z"
   },
   {
    "duration": 0,
    "start_time": "2022-04-20T09:47:31.726Z"
   },
   {
    "duration": 24,
    "start_time": "2022-04-20T09:48:53.580Z"
   },
   {
    "duration": 6,
    "start_time": "2022-04-20T09:49:16.241Z"
   },
   {
    "duration": 65,
    "start_time": "2022-04-20T09:49:35.651Z"
   },
   {
    "duration": 19,
    "start_time": "2022-04-20T09:49:46.888Z"
   },
   {
    "duration": 19,
    "start_time": "2022-04-20T09:56:52.994Z"
   },
   {
    "duration": 56,
    "start_time": "2022-04-20T09:58:04.578Z"
   },
   {
    "duration": 57,
    "start_time": "2022-04-20T09:58:38.553Z"
   },
   {
    "duration": 92309,
    "start_time": "2022-04-20T10:02:48.667Z"
   },
   {
    "duration": 27,
    "start_time": "2022-04-20T10:04:27.988Z"
   },
   {
    "duration": 19,
    "start_time": "2022-04-20T10:07:09.787Z"
   },
   {
    "duration": 31,
    "start_time": "2022-04-20T10:07:36.734Z"
   },
   {
    "duration": 27,
    "start_time": "2022-04-20T10:07:49.696Z"
   },
   {
    "duration": 12,
    "start_time": "2022-04-20T10:20:02.683Z"
   },
   {
    "duration": 25,
    "start_time": "2022-04-20T10:20:44.210Z"
   },
   {
    "duration": 21,
    "start_time": "2022-04-20T10:20:54.989Z"
   },
   {
    "duration": 24,
    "start_time": "2022-04-20T10:22:38.838Z"
   },
   {
    "duration": 23,
    "start_time": "2022-04-20T10:22:48.137Z"
   },
   {
    "duration": 31,
    "start_time": "2022-04-20T10:23:07.355Z"
   },
   {
    "duration": 145,
    "start_time": "2022-04-20T10:23:48.353Z"
   },
   {
    "duration": 44,
    "start_time": "2022-04-20T10:23:48.512Z"
   },
   {
    "duration": 47,
    "start_time": "2022-04-20T10:23:48.559Z"
   },
   {
    "duration": 8,
    "start_time": "2022-04-20T10:23:48.610Z"
   },
   {
    "duration": 7,
    "start_time": "2022-04-20T10:23:48.619Z"
   },
   {
    "duration": 7,
    "start_time": "2022-04-20T10:23:48.628Z"
   },
   {
    "duration": 24,
    "start_time": "2022-04-20T10:23:48.637Z"
   },
   {
    "duration": 23,
    "start_time": "2022-04-20T10:23:48.666Z"
   },
   {
    "duration": 21,
    "start_time": "2022-04-20T10:23:48.691Z"
   },
   {
    "duration": 18,
    "start_time": "2022-04-20T10:23:48.717Z"
   },
   {
    "duration": 57,
    "start_time": "2022-04-20T10:23:48.737Z"
   },
   {
    "duration": 8,
    "start_time": "2022-04-20T10:23:48.798Z"
   },
   {
    "duration": 15,
    "start_time": "2022-04-20T10:23:48.809Z"
   },
   {
    "duration": 28,
    "start_time": "2022-04-20T10:23:48.854Z"
   },
   {
    "duration": 22,
    "start_time": "2022-04-20T10:23:48.884Z"
   },
   {
    "duration": 166,
    "start_time": "2022-04-20T10:23:48.909Z"
   },
   {
    "duration": 1076,
    "start_time": "2022-04-20T10:23:49.078Z"
   },
   {
    "duration": 4165,
    "start_time": "2022-04-20T10:23:50.159Z"
   },
   {
    "duration": 48,
    "start_time": "2022-04-20T10:23:54.327Z"
   },
   {
    "duration": 20,
    "start_time": "2022-04-20T10:23:54.380Z"
   },
   {
    "duration": 16,
    "start_time": "2022-04-20T10:23:54.402Z"
   },
   {
    "duration": 44,
    "start_time": "2022-04-20T10:23:54.420Z"
   },
   {
    "duration": 38,
    "start_time": "2022-04-20T10:23:54.467Z"
   },
   {
    "duration": 22,
    "start_time": "2022-04-20T10:23:54.507Z"
   },
   {
    "duration": 60,
    "start_time": "2022-04-20T10:23:54.532Z"
   },
   {
    "duration": 28,
    "start_time": "2022-04-20T10:23:54.595Z"
   },
   {
    "duration": 49,
    "start_time": "2022-04-20T10:23:54.625Z"
   },
   {
    "duration": 33,
    "start_time": "2022-04-20T10:23:54.679Z"
   },
   {
    "duration": 43,
    "start_time": "2022-04-20T10:23:54.715Z"
   },
   {
    "duration": 64,
    "start_time": "2022-04-20T10:23:54.760Z"
   },
   {
    "duration": 70,
    "start_time": "2022-04-20T10:23:54.827Z"
   },
   {
    "duration": 33,
    "start_time": "2022-04-20T10:23:54.900Z"
   },
   {
    "duration": 53,
    "start_time": "2022-04-20T10:23:54.935Z"
   },
   {
    "duration": 24,
    "start_time": "2022-04-20T10:23:54.990Z"
   }
  ],
  "kernelspec": {
   "display_name": "Python 3 (ipykernel)",
   "language": "python",
   "name": "python3"
  },
  "language_info": {
   "codemirror_mode": {
    "name": "ipython",
    "version": 3
   },
   "file_extension": ".py",
   "mimetype": "text/x-python",
   "name": "python",
   "nbconvert_exporter": "python",
   "pygments_lexer": "ipython3",
   "version": "3.9.7"
  },
  "toc": {
   "base_numbering": 1,
   "nav_menu": {},
   "number_sections": true,
   "sideBar": true,
   "skip_h1_title": true,
   "title_cell": "Table of Contents",
   "title_sidebar": "Contents",
   "toc_cell": false,
   "toc_position": {
    "height": "calc(100% - 180px)",
    "left": "10px",
    "top": "150px",
    "width": "192.188px"
   },
   "toc_section_display": true,
   "toc_window_display": true
  }
 },
 "nbformat": 4,
 "nbformat_minor": 2
}
